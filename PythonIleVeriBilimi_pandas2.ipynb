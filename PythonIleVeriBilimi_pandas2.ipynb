{
 "cells": [
  {
   "cell_type": "markdown",
   "metadata": {
    "colab_type": "text",
    "id": "LuhuBj0qaVJt"
   },
   "source": [
    "Bu derste amacımız araçların çeşitli özellikleri ve fiyatını içeren bir veri kümesi üzerinden özellikler arasındaki ilişkileri incelemek. Veri içerisinde Nan değerler içeriyor. Önce Nan değerlerden kurtulmak için bazı işlemler yapacağız (silme veya yerine değer atama). Daha sonra veri normalizasyonuna örnek göreceğiz. Bunu takiben özellikler arasında ilişkileri incelemek için sık kullanılan bazı yöntemleri ele alacağız.\n",
    "\n",
    "Kaynak: https://www.coursera.org/learn/data-analysis-with-python"
   ]
  },
  {
   "cell_type": "code",
   "execution_count": 0,
   "metadata": {
    "colab": {},
    "colab_type": "code",
    "id": "n-QdPClcTO3e"
   },
   "outputs": [],
   "source": [
    "import pandas as pd\n",
    "import numpy as np"
   ]
  },
  {
   "cell_type": "markdown",
   "metadata": {
    "colab_type": "text",
    "id": "Htk3hZ1zaQq-"
   },
   "source": [
    "# Verinin yüklenmesi ve ilk inceleme"
   ]
  },
  {
   "cell_type": "markdown",
   "metadata": {
    "colab_type": "text",
    "id": "VlV1mZsfSpFj"
   },
   "source": [
    "Veri hakkında bilgi için bakınız: https://archive.ics.uci.edu/ml/machine-learning-databases/autos/  veya http://archive.ics.uci.edu/ml/datasets/automobile\n",
    "Kolon isimleri ve anlamları:\n",
    "https://archive.ics.uci.edu/ml/machine-learning-databases/autos/imports-85.names\n",
    "\n",
    "Symboling: risk faktörü (3 riskli, -3 güvenli), normalized-losses: araca yılda yapılan harcama, curb-weight: yüklü bir aracın ağırlığı, bore: silindir çapı, stroke: piston hareketiyle ilgili bir büyüklük, compression ratio: yakıtın püskürtülürken ne kadar sıkıştırıldığıyla ilgili bir büyüklük"
   ]
  },
  {
   "cell_type": "markdown",
   "metadata": {
    "colab_type": "text",
    "id": "yVUxnTqaxHjn"
   },
   "source": [
    "Okutacağımız veri tablosu, ilk satırında kolon isimlerini taşımıyor, bu sebeple hiç başlık bilgisi olmadığını belirterek (header = None) okutalım:"
   ]
  },
  {
   "cell_type": "code",
   "execution_count": 0,
   "metadata": {
    "colab": {},
    "colab_type": "code",
    "id": "VB31XBgFVwJv"
   },
   "outputs": [],
   "source": [
    "#İlk satırında kolon isimleri içermeyen verinin okunması \n",
    "data = pd.read_csv('https://archive.ics.uci.edu/ml/machine-learning-databases/autos/imports-85.data', header = None)\n",
    "#data = pd.read_csv('../veri/arabaFiyati/imports-85.data', header = None)"
   ]
  },
  {
   "cell_type": "markdown",
   "metadata": {
    "colab_type": "text",
    "id": "aDeNF0FfxHjv"
   },
   "source": [
    "Kolon isimlerini veriyi açıklayan bilgiler içerisinde tanımlandığı şekliyle atayalım:"
   ]
  },
  {
   "cell_type": "code",
   "execution_count": 0,
   "metadata": {
    "colab": {},
    "colab_type": "code",
    "id": "Y3p6zrCWxHjx"
   },
   "outputs": [],
   "source": [
    "#Veri tanım dosyalarında belirtilen kolonların atanması\n",
    "cols = ['symboling','normalized-losses','make','fuel-type','aspiration',\n",
    "        'num-of-doors','body-style','drive-wheels','engine-location',\n",
    "        'wheel-base','length','width', 'height', 'curb-weight','engine-type',\n",
    "        'num-of-cylinders','engine-size','fuel-system','bore','stroke',\n",
    "        'compression-ratio','horsepower','peak-rpm','city-mpg','highway-mpg',\n",
    "       'price']\n",
    "data.columns = cols"
   ]
  },
  {
   "cell_type": "markdown",
   "metadata": {
    "colab_type": "text",
    "id": "CS2CU7ElYBp-"
   },
   "source": [
    "İlk olarak veriye göz atmak faydalı olacağı için şu metodlarla elde edilen çıktıları inceleyiniz:\n",
    "\n",
    "\n",
    "*   data.head()\n",
    "*   data.describe()\n",
    "*   data.info()\n"
   ]
  },
  {
   "cell_type": "code",
   "execution_count": 4,
   "metadata": {
    "colab": {
     "base_uri": "https://localhost:8080/",
     "height": 774
    },
    "colab_type": "code",
    "executionInfo": {
     "elapsed": 1316,
     "status": "ok",
     "timestamp": 1575050308639,
     "user": {
      "displayName": "Barış Bozkurt",
      "photoUrl": "https://lh3.googleusercontent.com/a-/AAuE7mAdwaPUM3cQ3cUO9jZZ-QMeyRr9RU_6iP1RfFeg=s64",
      "userId": "04066217430702805158"
     },
     "user_tz": -180
    },
    "id": "2OchRJIGdHuV",
    "outputId": "b29b204c-558e-4fb2-c3f6-65a3fcd4c81b"
   },
   "outputs": [
    {
     "data": {
      "text/html": [
       "<div>\n",
       "<style scoped>\n",
       "    .dataframe tbody tr th:only-of-type {\n",
       "        vertical-align: middle;\n",
       "    }\n",
       "\n",
       "    .dataframe tbody tr th {\n",
       "        vertical-align: top;\n",
       "    }\n",
       "\n",
       "    .dataframe thead th {\n",
       "        text-align: right;\n",
       "    }\n",
       "</style>\n",
       "<table border=\"1\" class=\"dataframe\">\n",
       "  <thead>\n",
       "    <tr style=\"text-align: right;\">\n",
       "      <th></th>\n",
       "      <th>symboling</th>\n",
       "      <th>normalized-losses</th>\n",
       "      <th>make</th>\n",
       "      <th>fuel-type</th>\n",
       "      <th>aspiration</th>\n",
       "      <th>num-of-doors</th>\n",
       "      <th>body-style</th>\n",
       "      <th>drive-wheels</th>\n",
       "      <th>engine-location</th>\n",
       "      <th>wheel-base</th>\n",
       "      <th>length</th>\n",
       "      <th>width</th>\n",
       "      <th>height</th>\n",
       "      <th>curb-weight</th>\n",
       "      <th>engine-type</th>\n",
       "      <th>num-of-cylinders</th>\n",
       "      <th>engine-size</th>\n",
       "      <th>fuel-system</th>\n",
       "      <th>bore</th>\n",
       "      <th>stroke</th>\n",
       "      <th>compression-ratio</th>\n",
       "      <th>horsepower</th>\n",
       "      <th>peak-rpm</th>\n",
       "      <th>city-mpg</th>\n",
       "      <th>highway-mpg</th>\n",
       "      <th>price</th>\n",
       "    </tr>\n",
       "  </thead>\n",
       "  <tbody>\n",
       "    <tr>\n",
       "      <th>0</th>\n",
       "      <td>3</td>\n",
       "      <td>?</td>\n",
       "      <td>alfa-romero</td>\n",
       "      <td>gas</td>\n",
       "      <td>std</td>\n",
       "      <td>two</td>\n",
       "      <td>convertible</td>\n",
       "      <td>rwd</td>\n",
       "      <td>front</td>\n",
       "      <td>88.6</td>\n",
       "      <td>168.8</td>\n",
       "      <td>64.1</td>\n",
       "      <td>48.8</td>\n",
       "      <td>2548</td>\n",
       "      <td>dohc</td>\n",
       "      <td>four</td>\n",
       "      <td>130</td>\n",
       "      <td>mpfi</td>\n",
       "      <td>3.47</td>\n",
       "      <td>2.68</td>\n",
       "      <td>9.0</td>\n",
       "      <td>111</td>\n",
       "      <td>5000</td>\n",
       "      <td>21</td>\n",
       "      <td>27</td>\n",
       "      <td>13495</td>\n",
       "    </tr>\n",
       "    <tr>\n",
       "      <th>1</th>\n",
       "      <td>3</td>\n",
       "      <td>?</td>\n",
       "      <td>alfa-romero</td>\n",
       "      <td>gas</td>\n",
       "      <td>std</td>\n",
       "      <td>two</td>\n",
       "      <td>convertible</td>\n",
       "      <td>rwd</td>\n",
       "      <td>front</td>\n",
       "      <td>88.6</td>\n",
       "      <td>168.8</td>\n",
       "      <td>64.1</td>\n",
       "      <td>48.8</td>\n",
       "      <td>2548</td>\n",
       "      <td>dohc</td>\n",
       "      <td>four</td>\n",
       "      <td>130</td>\n",
       "      <td>mpfi</td>\n",
       "      <td>3.47</td>\n",
       "      <td>2.68</td>\n",
       "      <td>9.0</td>\n",
       "      <td>111</td>\n",
       "      <td>5000</td>\n",
       "      <td>21</td>\n",
       "      <td>27</td>\n",
       "      <td>16500</td>\n",
       "    </tr>\n",
       "    <tr>\n",
       "      <th>2</th>\n",
       "      <td>1</td>\n",
       "      <td>?</td>\n",
       "      <td>alfa-romero</td>\n",
       "      <td>gas</td>\n",
       "      <td>std</td>\n",
       "      <td>two</td>\n",
       "      <td>hatchback</td>\n",
       "      <td>rwd</td>\n",
       "      <td>front</td>\n",
       "      <td>94.5</td>\n",
       "      <td>171.2</td>\n",
       "      <td>65.5</td>\n",
       "      <td>52.4</td>\n",
       "      <td>2823</td>\n",
       "      <td>ohcv</td>\n",
       "      <td>six</td>\n",
       "      <td>152</td>\n",
       "      <td>mpfi</td>\n",
       "      <td>2.68</td>\n",
       "      <td>3.47</td>\n",
       "      <td>9.0</td>\n",
       "      <td>154</td>\n",
       "      <td>5000</td>\n",
       "      <td>19</td>\n",
       "      <td>26</td>\n",
       "      <td>16500</td>\n",
       "    </tr>\n",
       "    <tr>\n",
       "      <th>3</th>\n",
       "      <td>2</td>\n",
       "      <td>164</td>\n",
       "      <td>audi</td>\n",
       "      <td>gas</td>\n",
       "      <td>std</td>\n",
       "      <td>four</td>\n",
       "      <td>sedan</td>\n",
       "      <td>fwd</td>\n",
       "      <td>front</td>\n",
       "      <td>99.8</td>\n",
       "      <td>176.6</td>\n",
       "      <td>66.2</td>\n",
       "      <td>54.3</td>\n",
       "      <td>2337</td>\n",
       "      <td>ohc</td>\n",
       "      <td>four</td>\n",
       "      <td>109</td>\n",
       "      <td>mpfi</td>\n",
       "      <td>3.19</td>\n",
       "      <td>3.40</td>\n",
       "      <td>10.0</td>\n",
       "      <td>102</td>\n",
       "      <td>5500</td>\n",
       "      <td>24</td>\n",
       "      <td>30</td>\n",
       "      <td>13950</td>\n",
       "    </tr>\n",
       "    <tr>\n",
       "      <th>4</th>\n",
       "      <td>2</td>\n",
       "      <td>164</td>\n",
       "      <td>audi</td>\n",
       "      <td>gas</td>\n",
       "      <td>std</td>\n",
       "      <td>four</td>\n",
       "      <td>sedan</td>\n",
       "      <td>4wd</td>\n",
       "      <td>front</td>\n",
       "      <td>99.4</td>\n",
       "      <td>176.6</td>\n",
       "      <td>66.4</td>\n",
       "      <td>54.3</td>\n",
       "      <td>2824</td>\n",
       "      <td>ohc</td>\n",
       "      <td>five</td>\n",
       "      <td>136</td>\n",
       "      <td>mpfi</td>\n",
       "      <td>3.19</td>\n",
       "      <td>3.40</td>\n",
       "      <td>8.0</td>\n",
       "      <td>115</td>\n",
       "      <td>5500</td>\n",
       "      <td>18</td>\n",
       "      <td>22</td>\n",
       "      <td>17450</td>\n",
       "    </tr>\n",
       "    <tr>\n",
       "      <th>5</th>\n",
       "      <td>2</td>\n",
       "      <td>?</td>\n",
       "      <td>audi</td>\n",
       "      <td>gas</td>\n",
       "      <td>std</td>\n",
       "      <td>two</td>\n",
       "      <td>sedan</td>\n",
       "      <td>fwd</td>\n",
       "      <td>front</td>\n",
       "      <td>99.8</td>\n",
       "      <td>177.3</td>\n",
       "      <td>66.3</td>\n",
       "      <td>53.1</td>\n",
       "      <td>2507</td>\n",
       "      <td>ohc</td>\n",
       "      <td>five</td>\n",
       "      <td>136</td>\n",
       "      <td>mpfi</td>\n",
       "      <td>3.19</td>\n",
       "      <td>3.40</td>\n",
       "      <td>8.5</td>\n",
       "      <td>110</td>\n",
       "      <td>5500</td>\n",
       "      <td>19</td>\n",
       "      <td>25</td>\n",
       "      <td>15250</td>\n",
       "    </tr>\n",
       "    <tr>\n",
       "      <th>6</th>\n",
       "      <td>1</td>\n",
       "      <td>158</td>\n",
       "      <td>audi</td>\n",
       "      <td>gas</td>\n",
       "      <td>std</td>\n",
       "      <td>four</td>\n",
       "      <td>sedan</td>\n",
       "      <td>fwd</td>\n",
       "      <td>front</td>\n",
       "      <td>105.8</td>\n",
       "      <td>192.7</td>\n",
       "      <td>71.4</td>\n",
       "      <td>55.7</td>\n",
       "      <td>2844</td>\n",
       "      <td>ohc</td>\n",
       "      <td>five</td>\n",
       "      <td>136</td>\n",
       "      <td>mpfi</td>\n",
       "      <td>3.19</td>\n",
       "      <td>3.40</td>\n",
       "      <td>8.5</td>\n",
       "      <td>110</td>\n",
       "      <td>5500</td>\n",
       "      <td>19</td>\n",
       "      <td>25</td>\n",
       "      <td>17710</td>\n",
       "    </tr>\n",
       "    <tr>\n",
       "      <th>7</th>\n",
       "      <td>1</td>\n",
       "      <td>?</td>\n",
       "      <td>audi</td>\n",
       "      <td>gas</td>\n",
       "      <td>std</td>\n",
       "      <td>four</td>\n",
       "      <td>wagon</td>\n",
       "      <td>fwd</td>\n",
       "      <td>front</td>\n",
       "      <td>105.8</td>\n",
       "      <td>192.7</td>\n",
       "      <td>71.4</td>\n",
       "      <td>55.7</td>\n",
       "      <td>2954</td>\n",
       "      <td>ohc</td>\n",
       "      <td>five</td>\n",
       "      <td>136</td>\n",
       "      <td>mpfi</td>\n",
       "      <td>3.19</td>\n",
       "      <td>3.40</td>\n",
       "      <td>8.5</td>\n",
       "      <td>110</td>\n",
       "      <td>5500</td>\n",
       "      <td>19</td>\n",
       "      <td>25</td>\n",
       "      <td>18920</td>\n",
       "    </tr>\n",
       "    <tr>\n",
       "      <th>8</th>\n",
       "      <td>1</td>\n",
       "      <td>158</td>\n",
       "      <td>audi</td>\n",
       "      <td>gas</td>\n",
       "      <td>turbo</td>\n",
       "      <td>four</td>\n",
       "      <td>sedan</td>\n",
       "      <td>fwd</td>\n",
       "      <td>front</td>\n",
       "      <td>105.8</td>\n",
       "      <td>192.7</td>\n",
       "      <td>71.4</td>\n",
       "      <td>55.9</td>\n",
       "      <td>3086</td>\n",
       "      <td>ohc</td>\n",
       "      <td>five</td>\n",
       "      <td>131</td>\n",
       "      <td>mpfi</td>\n",
       "      <td>3.13</td>\n",
       "      <td>3.40</td>\n",
       "      <td>8.3</td>\n",
       "      <td>140</td>\n",
       "      <td>5500</td>\n",
       "      <td>17</td>\n",
       "      <td>20</td>\n",
       "      <td>23875</td>\n",
       "    </tr>\n",
       "    <tr>\n",
       "      <th>9</th>\n",
       "      <td>0</td>\n",
       "      <td>?</td>\n",
       "      <td>audi</td>\n",
       "      <td>gas</td>\n",
       "      <td>turbo</td>\n",
       "      <td>two</td>\n",
       "      <td>hatchback</td>\n",
       "      <td>4wd</td>\n",
       "      <td>front</td>\n",
       "      <td>99.5</td>\n",
       "      <td>178.2</td>\n",
       "      <td>67.9</td>\n",
       "      <td>52.0</td>\n",
       "      <td>3053</td>\n",
       "      <td>ohc</td>\n",
       "      <td>five</td>\n",
       "      <td>131</td>\n",
       "      <td>mpfi</td>\n",
       "      <td>3.13</td>\n",
       "      <td>3.40</td>\n",
       "      <td>7.0</td>\n",
       "      <td>160</td>\n",
       "      <td>5500</td>\n",
       "      <td>16</td>\n",
       "      <td>22</td>\n",
       "      <td>?</td>\n",
       "    </tr>\n",
       "    <tr>\n",
       "      <th>10</th>\n",
       "      <td>2</td>\n",
       "      <td>192</td>\n",
       "      <td>bmw</td>\n",
       "      <td>gas</td>\n",
       "      <td>std</td>\n",
       "      <td>two</td>\n",
       "      <td>sedan</td>\n",
       "      <td>rwd</td>\n",
       "      <td>front</td>\n",
       "      <td>101.2</td>\n",
       "      <td>176.8</td>\n",
       "      <td>64.8</td>\n",
       "      <td>54.3</td>\n",
       "      <td>2395</td>\n",
       "      <td>ohc</td>\n",
       "      <td>four</td>\n",
       "      <td>108</td>\n",
       "      <td>mpfi</td>\n",
       "      <td>3.50</td>\n",
       "      <td>2.80</td>\n",
       "      <td>8.8</td>\n",
       "      <td>101</td>\n",
       "      <td>5800</td>\n",
       "      <td>23</td>\n",
       "      <td>29</td>\n",
       "      <td>16430</td>\n",
       "    </tr>\n",
       "    <tr>\n",
       "      <th>11</th>\n",
       "      <td>0</td>\n",
       "      <td>192</td>\n",
       "      <td>bmw</td>\n",
       "      <td>gas</td>\n",
       "      <td>std</td>\n",
       "      <td>four</td>\n",
       "      <td>sedan</td>\n",
       "      <td>rwd</td>\n",
       "      <td>front</td>\n",
       "      <td>101.2</td>\n",
       "      <td>176.8</td>\n",
       "      <td>64.8</td>\n",
       "      <td>54.3</td>\n",
       "      <td>2395</td>\n",
       "      <td>ohc</td>\n",
       "      <td>four</td>\n",
       "      <td>108</td>\n",
       "      <td>mpfi</td>\n",
       "      <td>3.50</td>\n",
       "      <td>2.80</td>\n",
       "      <td>8.8</td>\n",
       "      <td>101</td>\n",
       "      <td>5800</td>\n",
       "      <td>23</td>\n",
       "      <td>29</td>\n",
       "      <td>16925</td>\n",
       "    </tr>\n",
       "    <tr>\n",
       "      <th>12</th>\n",
       "      <td>0</td>\n",
       "      <td>188</td>\n",
       "      <td>bmw</td>\n",
       "      <td>gas</td>\n",
       "      <td>std</td>\n",
       "      <td>two</td>\n",
       "      <td>sedan</td>\n",
       "      <td>rwd</td>\n",
       "      <td>front</td>\n",
       "      <td>101.2</td>\n",
       "      <td>176.8</td>\n",
       "      <td>64.8</td>\n",
       "      <td>54.3</td>\n",
       "      <td>2710</td>\n",
       "      <td>ohc</td>\n",
       "      <td>six</td>\n",
       "      <td>164</td>\n",
       "      <td>mpfi</td>\n",
       "      <td>3.31</td>\n",
       "      <td>3.19</td>\n",
       "      <td>9.0</td>\n",
       "      <td>121</td>\n",
       "      <td>4250</td>\n",
       "      <td>21</td>\n",
       "      <td>28</td>\n",
       "      <td>20970</td>\n",
       "    </tr>\n",
       "    <tr>\n",
       "      <th>13</th>\n",
       "      <td>0</td>\n",
       "      <td>188</td>\n",
       "      <td>bmw</td>\n",
       "      <td>gas</td>\n",
       "      <td>std</td>\n",
       "      <td>four</td>\n",
       "      <td>sedan</td>\n",
       "      <td>rwd</td>\n",
       "      <td>front</td>\n",
       "      <td>101.2</td>\n",
       "      <td>176.8</td>\n",
       "      <td>64.8</td>\n",
       "      <td>54.3</td>\n",
       "      <td>2765</td>\n",
       "      <td>ohc</td>\n",
       "      <td>six</td>\n",
       "      <td>164</td>\n",
       "      <td>mpfi</td>\n",
       "      <td>3.31</td>\n",
       "      <td>3.19</td>\n",
       "      <td>9.0</td>\n",
       "      <td>121</td>\n",
       "      <td>4250</td>\n",
       "      <td>21</td>\n",
       "      <td>28</td>\n",
       "      <td>21105</td>\n",
       "    </tr>\n",
       "    <tr>\n",
       "      <th>14</th>\n",
       "      <td>1</td>\n",
       "      <td>?</td>\n",
       "      <td>bmw</td>\n",
       "      <td>gas</td>\n",
       "      <td>std</td>\n",
       "      <td>four</td>\n",
       "      <td>sedan</td>\n",
       "      <td>rwd</td>\n",
       "      <td>front</td>\n",
       "      <td>103.5</td>\n",
       "      <td>189.0</td>\n",
       "      <td>66.9</td>\n",
       "      <td>55.7</td>\n",
       "      <td>3055</td>\n",
       "      <td>ohc</td>\n",
       "      <td>six</td>\n",
       "      <td>164</td>\n",
       "      <td>mpfi</td>\n",
       "      <td>3.31</td>\n",
       "      <td>3.19</td>\n",
       "      <td>9.0</td>\n",
       "      <td>121</td>\n",
       "      <td>4250</td>\n",
       "      <td>20</td>\n",
       "      <td>25</td>\n",
       "      <td>24565</td>\n",
       "    </tr>\n",
       "    <tr>\n",
       "      <th>15</th>\n",
       "      <td>0</td>\n",
       "      <td>?</td>\n",
       "      <td>bmw</td>\n",
       "      <td>gas</td>\n",
       "      <td>std</td>\n",
       "      <td>four</td>\n",
       "      <td>sedan</td>\n",
       "      <td>rwd</td>\n",
       "      <td>front</td>\n",
       "      <td>103.5</td>\n",
       "      <td>189.0</td>\n",
       "      <td>66.9</td>\n",
       "      <td>55.7</td>\n",
       "      <td>3230</td>\n",
       "      <td>ohc</td>\n",
       "      <td>six</td>\n",
       "      <td>209</td>\n",
       "      <td>mpfi</td>\n",
       "      <td>3.62</td>\n",
       "      <td>3.39</td>\n",
       "      <td>8.0</td>\n",
       "      <td>182</td>\n",
       "      <td>5400</td>\n",
       "      <td>16</td>\n",
       "      <td>22</td>\n",
       "      <td>30760</td>\n",
       "    </tr>\n",
       "    <tr>\n",
       "      <th>16</th>\n",
       "      <td>0</td>\n",
       "      <td>?</td>\n",
       "      <td>bmw</td>\n",
       "      <td>gas</td>\n",
       "      <td>std</td>\n",
       "      <td>two</td>\n",
       "      <td>sedan</td>\n",
       "      <td>rwd</td>\n",
       "      <td>front</td>\n",
       "      <td>103.5</td>\n",
       "      <td>193.8</td>\n",
       "      <td>67.9</td>\n",
       "      <td>53.7</td>\n",
       "      <td>3380</td>\n",
       "      <td>ohc</td>\n",
       "      <td>six</td>\n",
       "      <td>209</td>\n",
       "      <td>mpfi</td>\n",
       "      <td>3.62</td>\n",
       "      <td>3.39</td>\n",
       "      <td>8.0</td>\n",
       "      <td>182</td>\n",
       "      <td>5400</td>\n",
       "      <td>16</td>\n",
       "      <td>22</td>\n",
       "      <td>41315</td>\n",
       "    </tr>\n",
       "    <tr>\n",
       "      <th>17</th>\n",
       "      <td>0</td>\n",
       "      <td>?</td>\n",
       "      <td>bmw</td>\n",
       "      <td>gas</td>\n",
       "      <td>std</td>\n",
       "      <td>four</td>\n",
       "      <td>sedan</td>\n",
       "      <td>rwd</td>\n",
       "      <td>front</td>\n",
       "      <td>110.0</td>\n",
       "      <td>197.0</td>\n",
       "      <td>70.9</td>\n",
       "      <td>56.3</td>\n",
       "      <td>3505</td>\n",
       "      <td>ohc</td>\n",
       "      <td>six</td>\n",
       "      <td>209</td>\n",
       "      <td>mpfi</td>\n",
       "      <td>3.62</td>\n",
       "      <td>3.39</td>\n",
       "      <td>8.0</td>\n",
       "      <td>182</td>\n",
       "      <td>5400</td>\n",
       "      <td>15</td>\n",
       "      <td>20</td>\n",
       "      <td>36880</td>\n",
       "    </tr>\n",
       "    <tr>\n",
       "      <th>18</th>\n",
       "      <td>2</td>\n",
       "      <td>121</td>\n",
       "      <td>chevrolet</td>\n",
       "      <td>gas</td>\n",
       "      <td>std</td>\n",
       "      <td>two</td>\n",
       "      <td>hatchback</td>\n",
       "      <td>fwd</td>\n",
       "      <td>front</td>\n",
       "      <td>88.4</td>\n",
       "      <td>141.1</td>\n",
       "      <td>60.3</td>\n",
       "      <td>53.2</td>\n",
       "      <td>1488</td>\n",
       "      <td>l</td>\n",
       "      <td>three</td>\n",
       "      <td>61</td>\n",
       "      <td>2bbl</td>\n",
       "      <td>2.91</td>\n",
       "      <td>3.03</td>\n",
       "      <td>9.5</td>\n",
       "      <td>48</td>\n",
       "      <td>5100</td>\n",
       "      <td>47</td>\n",
       "      <td>53</td>\n",
       "      <td>5151</td>\n",
       "    </tr>\n",
       "    <tr>\n",
       "      <th>19</th>\n",
       "      <td>1</td>\n",
       "      <td>98</td>\n",
       "      <td>chevrolet</td>\n",
       "      <td>gas</td>\n",
       "      <td>std</td>\n",
       "      <td>two</td>\n",
       "      <td>hatchback</td>\n",
       "      <td>fwd</td>\n",
       "      <td>front</td>\n",
       "      <td>94.5</td>\n",
       "      <td>155.9</td>\n",
       "      <td>63.6</td>\n",
       "      <td>52.0</td>\n",
       "      <td>1874</td>\n",
       "      <td>ohc</td>\n",
       "      <td>four</td>\n",
       "      <td>90</td>\n",
       "      <td>2bbl</td>\n",
       "      <td>3.03</td>\n",
       "      <td>3.11</td>\n",
       "      <td>9.6</td>\n",
       "      <td>70</td>\n",
       "      <td>5400</td>\n",
       "      <td>38</td>\n",
       "      <td>43</td>\n",
       "      <td>6295</td>\n",
       "    </tr>\n",
       "  </tbody>\n",
       "</table>\n",
       "</div>"
      ],
      "text/plain": [
       "    symboling normalized-losses         make  ... city-mpg highway-mpg  price\n",
       "0           3                 ?  alfa-romero  ...       21          27  13495\n",
       "1           3                 ?  alfa-romero  ...       21          27  16500\n",
       "2           1                 ?  alfa-romero  ...       19          26  16500\n",
       "3           2               164         audi  ...       24          30  13950\n",
       "4           2               164         audi  ...       18          22  17450\n",
       "5           2                 ?         audi  ...       19          25  15250\n",
       "6           1               158         audi  ...       19          25  17710\n",
       "7           1                 ?         audi  ...       19          25  18920\n",
       "8           1               158         audi  ...       17          20  23875\n",
       "9           0                 ?         audi  ...       16          22      ?\n",
       "10          2               192          bmw  ...       23          29  16430\n",
       "11          0               192          bmw  ...       23          29  16925\n",
       "12          0               188          bmw  ...       21          28  20970\n",
       "13          0               188          bmw  ...       21          28  21105\n",
       "14          1                 ?          bmw  ...       20          25  24565\n",
       "15          0                 ?          bmw  ...       16          22  30760\n",
       "16          0                 ?          bmw  ...       16          22  41315\n",
       "17          0                 ?          bmw  ...       15          20  36880\n",
       "18          2               121    chevrolet  ...       47          53   5151\n",
       "19          1                98    chevrolet  ...       38          43   6295\n",
       "\n",
       "[20 rows x 26 columns]"
      ]
     },
     "execution_count": 4,
     "metadata": {
      "tags": []
     },
     "output_type": "execute_result"
    }
   ],
   "source": [
    "data.head(20)"
   ]
  },
  {
   "cell_type": "markdown",
   "metadata": {
    "colab_type": "text",
    "id": "HwjpJte90PHq"
   },
   "source": [
    "**Gözlem:** NaN değerler ? ile temsil edilmiş. Price içerisinde de NaN değer var (örnek: 9 endeksli satır)"
   ]
  },
  {
   "cell_type": "code",
   "execution_count": 6,
   "metadata": {
    "colab": {
     "base_uri": "https://localhost:8080/",
     "height": 297
    },
    "colab_type": "code",
    "executionInfo": {
     "elapsed": 659,
     "status": "ok",
     "timestamp": 1575050357587,
     "user": {
      "displayName": "Barış Bozkurt",
      "photoUrl": "https://lh3.googleusercontent.com/a-/AAuE7mAdwaPUM3cQ3cUO9jZZ-QMeyRr9RU_6iP1RfFeg=s64",
      "userId": "04066217430702805158"
     },
     "user_tz": -180
    },
    "id": "42MhsW2JWwlO",
    "outputId": "5d4226e0-3d79-4739-f71a-3b9d856cf31d"
   },
   "outputs": [
    {
     "data": {
      "text/html": [
       "<div>\n",
       "<style scoped>\n",
       "    .dataframe tbody tr th:only-of-type {\n",
       "        vertical-align: middle;\n",
       "    }\n",
       "\n",
       "    .dataframe tbody tr th {\n",
       "        vertical-align: top;\n",
       "    }\n",
       "\n",
       "    .dataframe thead th {\n",
       "        text-align: right;\n",
       "    }\n",
       "</style>\n",
       "<table border=\"1\" class=\"dataframe\">\n",
       "  <thead>\n",
       "    <tr style=\"text-align: right;\">\n",
       "      <th></th>\n",
       "      <th>symboling</th>\n",
       "      <th>wheel-base</th>\n",
       "      <th>length</th>\n",
       "      <th>width</th>\n",
       "      <th>height</th>\n",
       "      <th>curb-weight</th>\n",
       "      <th>engine-size</th>\n",
       "      <th>compression-ratio</th>\n",
       "      <th>city-mpg</th>\n",
       "      <th>highway-mpg</th>\n",
       "    </tr>\n",
       "  </thead>\n",
       "  <tbody>\n",
       "    <tr>\n",
       "      <th>count</th>\n",
       "      <td>205.00</td>\n",
       "      <td>205.00</td>\n",
       "      <td>205.00</td>\n",
       "      <td>205.00</td>\n",
       "      <td>205.00</td>\n",
       "      <td>205.00</td>\n",
       "      <td>205.00</td>\n",
       "      <td>205.00</td>\n",
       "      <td>205.00</td>\n",
       "      <td>205.00</td>\n",
       "    </tr>\n",
       "    <tr>\n",
       "      <th>mean</th>\n",
       "      <td>0.83</td>\n",
       "      <td>98.76</td>\n",
       "      <td>174.05</td>\n",
       "      <td>65.91</td>\n",
       "      <td>53.72</td>\n",
       "      <td>2555.57</td>\n",
       "      <td>126.91</td>\n",
       "      <td>10.14</td>\n",
       "      <td>25.22</td>\n",
       "      <td>30.75</td>\n",
       "    </tr>\n",
       "    <tr>\n",
       "      <th>std</th>\n",
       "      <td>1.25</td>\n",
       "      <td>6.02</td>\n",
       "      <td>12.34</td>\n",
       "      <td>2.15</td>\n",
       "      <td>2.44</td>\n",
       "      <td>520.68</td>\n",
       "      <td>41.64</td>\n",
       "      <td>3.97</td>\n",
       "      <td>6.54</td>\n",
       "      <td>6.89</td>\n",
       "    </tr>\n",
       "    <tr>\n",
       "      <th>min</th>\n",
       "      <td>-2.00</td>\n",
       "      <td>86.60</td>\n",
       "      <td>141.10</td>\n",
       "      <td>60.30</td>\n",
       "      <td>47.80</td>\n",
       "      <td>1488.00</td>\n",
       "      <td>61.00</td>\n",
       "      <td>7.00</td>\n",
       "      <td>13.00</td>\n",
       "      <td>16.00</td>\n",
       "    </tr>\n",
       "    <tr>\n",
       "      <th>25%</th>\n",
       "      <td>0.00</td>\n",
       "      <td>94.50</td>\n",
       "      <td>166.30</td>\n",
       "      <td>64.10</td>\n",
       "      <td>52.00</td>\n",
       "      <td>2145.00</td>\n",
       "      <td>97.00</td>\n",
       "      <td>8.60</td>\n",
       "      <td>19.00</td>\n",
       "      <td>25.00</td>\n",
       "    </tr>\n",
       "    <tr>\n",
       "      <th>50%</th>\n",
       "      <td>1.00</td>\n",
       "      <td>97.00</td>\n",
       "      <td>173.20</td>\n",
       "      <td>65.50</td>\n",
       "      <td>54.10</td>\n",
       "      <td>2414.00</td>\n",
       "      <td>120.00</td>\n",
       "      <td>9.00</td>\n",
       "      <td>24.00</td>\n",
       "      <td>30.00</td>\n",
       "    </tr>\n",
       "    <tr>\n",
       "      <th>75%</th>\n",
       "      <td>2.00</td>\n",
       "      <td>102.40</td>\n",
       "      <td>183.10</td>\n",
       "      <td>66.90</td>\n",
       "      <td>55.50</td>\n",
       "      <td>2935.00</td>\n",
       "      <td>141.00</td>\n",
       "      <td>9.40</td>\n",
       "      <td>30.00</td>\n",
       "      <td>34.00</td>\n",
       "    </tr>\n",
       "    <tr>\n",
       "      <th>max</th>\n",
       "      <td>3.00</td>\n",
       "      <td>120.90</td>\n",
       "      <td>208.10</td>\n",
       "      <td>72.30</td>\n",
       "      <td>59.80</td>\n",
       "      <td>4066.00</td>\n",
       "      <td>326.00</td>\n",
       "      <td>23.00</td>\n",
       "      <td>49.00</td>\n",
       "      <td>54.00</td>\n",
       "    </tr>\n",
       "  </tbody>\n",
       "</table>\n",
       "</div>"
      ],
      "text/plain": [
       "       symboling  wheel-base  length  ...  compression-ratio  city-mpg  highway-mpg\n",
       "count     205.00      205.00  205.00  ...             205.00    205.00       205.00\n",
       "mean        0.83       98.76  174.05  ...              10.14     25.22        30.75\n",
       "std         1.25        6.02   12.34  ...               3.97      6.54         6.89\n",
       "min        -2.00       86.60  141.10  ...               7.00     13.00        16.00\n",
       "25%         0.00       94.50  166.30  ...               8.60     19.00        25.00\n",
       "50%         1.00       97.00  173.20  ...               9.00     24.00        30.00\n",
       "75%         2.00      102.40  183.10  ...               9.40     30.00        34.00\n",
       "max         3.00      120.90  208.10  ...              23.00     49.00        54.00\n",
       "\n",
       "[8 rows x 10 columns]"
      ]
     },
     "execution_count": 6,
     "metadata": {
      "tags": []
     },
     "output_type": "execute_result"
    }
   ],
   "source": [
    "round(data.describe(),2)#her özelliğin hangi aralıklarda değerleri olduğunu incelemek için faydalı, sayısal değerler içeren özellikler için değerleri verecektir"
   ]
  },
  {
   "cell_type": "markdown",
   "metadata": {
    "colab_type": "text",
    "id": "bf-jxl46e028"
   },
   "source": [
    "**Gözlemler:** araba genişliği 60.30-72.30 arasında olup çok az değişen, standartlaşmış bir değer gibi görünüyor. Yükseklik de benzer durumda. Değerlerin çoğunun standart sapması ortalama değere göre düşük "
   ]
  },
  {
   "cell_type": "code",
   "execution_count": 7,
   "metadata": {
    "colab": {
     "base_uri": "https://localhost:8080/",
     "height": 444
    },
    "colab_type": "code",
    "executionInfo": {
     "elapsed": 694,
     "status": "ok",
     "timestamp": 1575050396461,
     "user": {
      "displayName": "Barış Bozkurt",
      "photoUrl": "https://lh3.googleusercontent.com/a-/AAuE7mAdwaPUM3cQ3cUO9jZZ-QMeyRr9RU_6iP1RfFeg=s64",
      "userId": "04066217430702805158"
     },
     "user_tz": -180
    },
    "id": "otB_uFbyZk4U",
    "outputId": "87ed7ba7-db30-4d45-ac4f-6ae45ab65985"
   },
   "outputs": [
    {
     "data": {
      "text/html": [
       "<div>\n",
       "<style scoped>\n",
       "    .dataframe tbody tr th:only-of-type {\n",
       "        vertical-align: middle;\n",
       "    }\n",
       "\n",
       "    .dataframe tbody tr th {\n",
       "        vertical-align: top;\n",
       "    }\n",
       "\n",
       "    .dataframe thead th {\n",
       "        text-align: right;\n",
       "    }\n",
       "</style>\n",
       "<table border=\"1\" class=\"dataframe\">\n",
       "  <thead>\n",
       "    <tr style=\"text-align: right;\">\n",
       "      <th></th>\n",
       "      <th>symboling</th>\n",
       "      <th>normalized-losses</th>\n",
       "      <th>make</th>\n",
       "      <th>fuel-type</th>\n",
       "      <th>aspiration</th>\n",
       "      <th>num-of-doors</th>\n",
       "      <th>body-style</th>\n",
       "      <th>drive-wheels</th>\n",
       "      <th>engine-location</th>\n",
       "      <th>wheel-base</th>\n",
       "      <th>length</th>\n",
       "      <th>width</th>\n",
       "      <th>height</th>\n",
       "      <th>curb-weight</th>\n",
       "      <th>engine-type</th>\n",
       "      <th>num-of-cylinders</th>\n",
       "      <th>engine-size</th>\n",
       "      <th>fuel-system</th>\n",
       "      <th>bore</th>\n",
       "      <th>stroke</th>\n",
       "      <th>compression-ratio</th>\n",
       "      <th>horsepower</th>\n",
       "      <th>peak-rpm</th>\n",
       "      <th>city-mpg</th>\n",
       "      <th>highway-mpg</th>\n",
       "      <th>price</th>\n",
       "    </tr>\n",
       "  </thead>\n",
       "  <tbody>\n",
       "    <tr>\n",
       "      <th>count</th>\n",
       "      <td>205.00</td>\n",
       "      <td>205</td>\n",
       "      <td>205</td>\n",
       "      <td>205</td>\n",
       "      <td>205</td>\n",
       "      <td>205</td>\n",
       "      <td>205</td>\n",
       "      <td>205</td>\n",
       "      <td>205</td>\n",
       "      <td>205.00</td>\n",
       "      <td>205.00</td>\n",
       "      <td>205.00</td>\n",
       "      <td>205.00</td>\n",
       "      <td>205.00</td>\n",
       "      <td>205</td>\n",
       "      <td>205</td>\n",
       "      <td>205.00</td>\n",
       "      <td>205</td>\n",
       "      <td>205</td>\n",
       "      <td>205</td>\n",
       "      <td>205.00</td>\n",
       "      <td>205</td>\n",
       "      <td>205</td>\n",
       "      <td>205.00</td>\n",
       "      <td>205.00</td>\n",
       "      <td>205</td>\n",
       "    </tr>\n",
       "    <tr>\n",
       "      <th>unique</th>\n",
       "      <td>NaN</td>\n",
       "      <td>52</td>\n",
       "      <td>22</td>\n",
       "      <td>2</td>\n",
       "      <td>2</td>\n",
       "      <td>3</td>\n",
       "      <td>5</td>\n",
       "      <td>3</td>\n",
       "      <td>2</td>\n",
       "      <td>NaN</td>\n",
       "      <td>NaN</td>\n",
       "      <td>NaN</td>\n",
       "      <td>NaN</td>\n",
       "      <td>NaN</td>\n",
       "      <td>7</td>\n",
       "      <td>7</td>\n",
       "      <td>NaN</td>\n",
       "      <td>8</td>\n",
       "      <td>39</td>\n",
       "      <td>37</td>\n",
       "      <td>NaN</td>\n",
       "      <td>60</td>\n",
       "      <td>24</td>\n",
       "      <td>NaN</td>\n",
       "      <td>NaN</td>\n",
       "      <td>187</td>\n",
       "    </tr>\n",
       "    <tr>\n",
       "      <th>top</th>\n",
       "      <td>NaN</td>\n",
       "      <td>?</td>\n",
       "      <td>toyota</td>\n",
       "      <td>gas</td>\n",
       "      <td>std</td>\n",
       "      <td>four</td>\n",
       "      <td>sedan</td>\n",
       "      <td>fwd</td>\n",
       "      <td>front</td>\n",
       "      <td>NaN</td>\n",
       "      <td>NaN</td>\n",
       "      <td>NaN</td>\n",
       "      <td>NaN</td>\n",
       "      <td>NaN</td>\n",
       "      <td>ohc</td>\n",
       "      <td>four</td>\n",
       "      <td>NaN</td>\n",
       "      <td>mpfi</td>\n",
       "      <td>3.62</td>\n",
       "      <td>3.40</td>\n",
       "      <td>NaN</td>\n",
       "      <td>68</td>\n",
       "      <td>5500</td>\n",
       "      <td>NaN</td>\n",
       "      <td>NaN</td>\n",
       "      <td>?</td>\n",
       "    </tr>\n",
       "    <tr>\n",
       "      <th>freq</th>\n",
       "      <td>NaN</td>\n",
       "      <td>41</td>\n",
       "      <td>32</td>\n",
       "      <td>185</td>\n",
       "      <td>168</td>\n",
       "      <td>114</td>\n",
       "      <td>96</td>\n",
       "      <td>120</td>\n",
       "      <td>202</td>\n",
       "      <td>NaN</td>\n",
       "      <td>NaN</td>\n",
       "      <td>NaN</td>\n",
       "      <td>NaN</td>\n",
       "      <td>NaN</td>\n",
       "      <td>148</td>\n",
       "      <td>159</td>\n",
       "      <td>NaN</td>\n",
       "      <td>94</td>\n",
       "      <td>23</td>\n",
       "      <td>20</td>\n",
       "      <td>NaN</td>\n",
       "      <td>19</td>\n",
       "      <td>37</td>\n",
       "      <td>NaN</td>\n",
       "      <td>NaN</td>\n",
       "      <td>4</td>\n",
       "    </tr>\n",
       "    <tr>\n",
       "      <th>mean</th>\n",
       "      <td>0.83</td>\n",
       "      <td>NaN</td>\n",
       "      <td>NaN</td>\n",
       "      <td>NaN</td>\n",
       "      <td>NaN</td>\n",
       "      <td>NaN</td>\n",
       "      <td>NaN</td>\n",
       "      <td>NaN</td>\n",
       "      <td>NaN</td>\n",
       "      <td>98.76</td>\n",
       "      <td>174.05</td>\n",
       "      <td>65.91</td>\n",
       "      <td>53.72</td>\n",
       "      <td>2555.57</td>\n",
       "      <td>NaN</td>\n",
       "      <td>NaN</td>\n",
       "      <td>126.91</td>\n",
       "      <td>NaN</td>\n",
       "      <td>NaN</td>\n",
       "      <td>NaN</td>\n",
       "      <td>10.14</td>\n",
       "      <td>NaN</td>\n",
       "      <td>NaN</td>\n",
       "      <td>25.22</td>\n",
       "      <td>30.75</td>\n",
       "      <td>NaN</td>\n",
       "    </tr>\n",
       "    <tr>\n",
       "      <th>std</th>\n",
       "      <td>1.25</td>\n",
       "      <td>NaN</td>\n",
       "      <td>NaN</td>\n",
       "      <td>NaN</td>\n",
       "      <td>NaN</td>\n",
       "      <td>NaN</td>\n",
       "      <td>NaN</td>\n",
       "      <td>NaN</td>\n",
       "      <td>NaN</td>\n",
       "      <td>6.02</td>\n",
       "      <td>12.34</td>\n",
       "      <td>2.15</td>\n",
       "      <td>2.44</td>\n",
       "      <td>520.68</td>\n",
       "      <td>NaN</td>\n",
       "      <td>NaN</td>\n",
       "      <td>41.64</td>\n",
       "      <td>NaN</td>\n",
       "      <td>NaN</td>\n",
       "      <td>NaN</td>\n",
       "      <td>3.97</td>\n",
       "      <td>NaN</td>\n",
       "      <td>NaN</td>\n",
       "      <td>6.54</td>\n",
       "      <td>6.89</td>\n",
       "      <td>NaN</td>\n",
       "    </tr>\n",
       "    <tr>\n",
       "      <th>min</th>\n",
       "      <td>-2.00</td>\n",
       "      <td>NaN</td>\n",
       "      <td>NaN</td>\n",
       "      <td>NaN</td>\n",
       "      <td>NaN</td>\n",
       "      <td>NaN</td>\n",
       "      <td>NaN</td>\n",
       "      <td>NaN</td>\n",
       "      <td>NaN</td>\n",
       "      <td>86.60</td>\n",
       "      <td>141.10</td>\n",
       "      <td>60.30</td>\n",
       "      <td>47.80</td>\n",
       "      <td>1488.00</td>\n",
       "      <td>NaN</td>\n",
       "      <td>NaN</td>\n",
       "      <td>61.00</td>\n",
       "      <td>NaN</td>\n",
       "      <td>NaN</td>\n",
       "      <td>NaN</td>\n",
       "      <td>7.00</td>\n",
       "      <td>NaN</td>\n",
       "      <td>NaN</td>\n",
       "      <td>13.00</td>\n",
       "      <td>16.00</td>\n",
       "      <td>NaN</td>\n",
       "    </tr>\n",
       "    <tr>\n",
       "      <th>25%</th>\n",
       "      <td>0.00</td>\n",
       "      <td>NaN</td>\n",
       "      <td>NaN</td>\n",
       "      <td>NaN</td>\n",
       "      <td>NaN</td>\n",
       "      <td>NaN</td>\n",
       "      <td>NaN</td>\n",
       "      <td>NaN</td>\n",
       "      <td>NaN</td>\n",
       "      <td>94.50</td>\n",
       "      <td>166.30</td>\n",
       "      <td>64.10</td>\n",
       "      <td>52.00</td>\n",
       "      <td>2145.00</td>\n",
       "      <td>NaN</td>\n",
       "      <td>NaN</td>\n",
       "      <td>97.00</td>\n",
       "      <td>NaN</td>\n",
       "      <td>NaN</td>\n",
       "      <td>NaN</td>\n",
       "      <td>8.60</td>\n",
       "      <td>NaN</td>\n",
       "      <td>NaN</td>\n",
       "      <td>19.00</td>\n",
       "      <td>25.00</td>\n",
       "      <td>NaN</td>\n",
       "    </tr>\n",
       "    <tr>\n",
       "      <th>50%</th>\n",
       "      <td>1.00</td>\n",
       "      <td>NaN</td>\n",
       "      <td>NaN</td>\n",
       "      <td>NaN</td>\n",
       "      <td>NaN</td>\n",
       "      <td>NaN</td>\n",
       "      <td>NaN</td>\n",
       "      <td>NaN</td>\n",
       "      <td>NaN</td>\n",
       "      <td>97.00</td>\n",
       "      <td>173.20</td>\n",
       "      <td>65.50</td>\n",
       "      <td>54.10</td>\n",
       "      <td>2414.00</td>\n",
       "      <td>NaN</td>\n",
       "      <td>NaN</td>\n",
       "      <td>120.00</td>\n",
       "      <td>NaN</td>\n",
       "      <td>NaN</td>\n",
       "      <td>NaN</td>\n",
       "      <td>9.00</td>\n",
       "      <td>NaN</td>\n",
       "      <td>NaN</td>\n",
       "      <td>24.00</td>\n",
       "      <td>30.00</td>\n",
       "      <td>NaN</td>\n",
       "    </tr>\n",
       "    <tr>\n",
       "      <th>75%</th>\n",
       "      <td>2.00</td>\n",
       "      <td>NaN</td>\n",
       "      <td>NaN</td>\n",
       "      <td>NaN</td>\n",
       "      <td>NaN</td>\n",
       "      <td>NaN</td>\n",
       "      <td>NaN</td>\n",
       "      <td>NaN</td>\n",
       "      <td>NaN</td>\n",
       "      <td>102.40</td>\n",
       "      <td>183.10</td>\n",
       "      <td>66.90</td>\n",
       "      <td>55.50</td>\n",
       "      <td>2935.00</td>\n",
       "      <td>NaN</td>\n",
       "      <td>NaN</td>\n",
       "      <td>141.00</td>\n",
       "      <td>NaN</td>\n",
       "      <td>NaN</td>\n",
       "      <td>NaN</td>\n",
       "      <td>9.40</td>\n",
       "      <td>NaN</td>\n",
       "      <td>NaN</td>\n",
       "      <td>30.00</td>\n",
       "      <td>34.00</td>\n",
       "      <td>NaN</td>\n",
       "    </tr>\n",
       "    <tr>\n",
       "      <th>max</th>\n",
       "      <td>3.00</td>\n",
       "      <td>NaN</td>\n",
       "      <td>NaN</td>\n",
       "      <td>NaN</td>\n",
       "      <td>NaN</td>\n",
       "      <td>NaN</td>\n",
       "      <td>NaN</td>\n",
       "      <td>NaN</td>\n",
       "      <td>NaN</td>\n",
       "      <td>120.90</td>\n",
       "      <td>208.10</td>\n",
       "      <td>72.30</td>\n",
       "      <td>59.80</td>\n",
       "      <td>4066.00</td>\n",
       "      <td>NaN</td>\n",
       "      <td>NaN</td>\n",
       "      <td>326.00</td>\n",
       "      <td>NaN</td>\n",
       "      <td>NaN</td>\n",
       "      <td>NaN</td>\n",
       "      <td>23.00</td>\n",
       "      <td>NaN</td>\n",
       "      <td>NaN</td>\n",
       "      <td>49.00</td>\n",
       "      <td>54.00</td>\n",
       "      <td>NaN</td>\n",
       "    </tr>\n",
       "  </tbody>\n",
       "</table>\n",
       "</div>"
      ],
      "text/plain": [
       "        symboling normalized-losses    make  ... city-mpg highway-mpg price\n",
       "count      205.00               205     205  ...   205.00      205.00   205\n",
       "unique        NaN                52      22  ...      NaN         NaN   187\n",
       "top           NaN                 ?  toyota  ...      NaN         NaN     ?\n",
       "freq          NaN                41      32  ...      NaN         NaN     4\n",
       "mean         0.83               NaN     NaN  ...    25.22       30.75   NaN\n",
       "std          1.25               NaN     NaN  ...     6.54        6.89   NaN\n",
       "min         -2.00               NaN     NaN  ...    13.00       16.00   NaN\n",
       "25%          0.00               NaN     NaN  ...    19.00       25.00   NaN\n",
       "50%          1.00               NaN     NaN  ...    24.00       30.00   NaN\n",
       "75%          2.00               NaN     NaN  ...    30.00       34.00   NaN\n",
       "max          3.00               NaN     NaN  ...    49.00       54.00   NaN\n",
       "\n",
       "[11 rows x 26 columns]"
      ]
     },
     "execution_count": 7,
     "metadata": {
      "tags": []
     },
     "output_type": "execute_result"
    }
   ],
   "source": [
    "round(data.describe(include='all'),2)#değerleri sayısal olmayan özellikleri içerecek şekilde işletebiliriz"
   ]
  },
  {
   "cell_type": "markdown",
   "metadata": {
    "colab_type": "text",
    "id": "IAr8dzIUgfEb"
   },
   "source": [
    "**Gözlemler:** kategorik öğeler içeren çok sayıda kolon var, istatistiksel değerleri NaN olarak gösterilmiş. Bazı kolonda en sık gözlenen değerin(top) frekansı toplam veri sayısına üçte birinden az, bu özellikler çeşitlilik içeriyor olabilir. Bazı özelliklerde ise (örneğin engine-location) verinin neredeyse tümünde (202/205) aynı değeri almış(front). Bu veri pek çeşitlilik içermiyor."
   ]
  },
  {
   "cell_type": "markdown",
   "metadata": {
    "colab_type": "text",
    "id": "scaxEQTaaKyj"
   },
   "source": [
    "# Veri temizleme ve düzenleme"
   ]
  },
  {
   "cell_type": "markdown",
   "metadata": {
    "colab_type": "text",
    "id": "GyG-E-V4bf3K"
   },
   "source": [
    "İlk olarak eksik verilerle ne yapacağımıza karar vermemiz lazım. Eksik veriler için farklı stratejiler uygulanabilir:\n",
    "*   1) veri satırı (örneği) silme [verinin bol olduğu durum]\n",
    "*   2) eksik değere o kolondaki ortalama değeri atama [verinin az, verideki standart sapmanın düşük olduğu durum]\n",
    "*   3) eksik değere o kolonda en sık geçen değeri atama [kategorik veriler için uygun]"
   ]
  },
  {
   "cell_type": "markdown",
   "metadata": {
    "colab_type": "text",
    "id": "pM6rFoM9ye2Z"
   },
   "source": [
    "## Nan değerlerin düzenlenmesi"
   ]
  },
  {
   "cell_type": "markdown",
   "metadata": {
    "colab_type": "text",
    "id": "pLdhkjhjzxJZ"
   },
   "source": [
    "NaN(np.nan) değerler için uygulayabileceğimiz hazır fonksiyonlar var, öncelikle ilgili ifadeleri NaN(np.nan) ile değiştirme işlemlerini yapabiliriz. Bu veri içerisinde ? olarak temsil edilmişler"
   ]
  },
  {
   "cell_type": "code",
   "execution_count": 0,
   "metadata": {
    "colab": {},
    "colab_type": "code",
    "id": "T5GG_3BYxRb1"
   },
   "outputs": [],
   "source": [
    "data.replace({'?': np.nan}, inplace = True)"
   ]
  },
  {
   "cell_type": "markdown",
   "metadata": {
    "colab_type": "text",
    "id": "Q4bsW9hf39Kk"
   },
   "source": [
    "İçinde NaN olan kolonları bulalım. Önce kolon bazında yapacağımız kontrolün çıktısına bakalım"
   ]
  },
  {
   "cell_type": "code",
   "execution_count": 9,
   "metadata": {
    "colab": {
     "base_uri": "https://localhost:8080/",
     "height": 476
    },
    "colab_type": "code",
    "executionInfo": {
     "elapsed": 712,
     "status": "ok",
     "timestamp": 1575050534052,
     "user": {
      "displayName": "Barış Bozkurt",
      "photoUrl": "https://lh3.googleusercontent.com/a-/AAuE7mAdwaPUM3cQ3cUO9jZZ-QMeyRr9RU_6iP1RfFeg=s64",
      "userId": "04066217430702805158"
     },
     "user_tz": -180
    },
    "id": "PSCVzWeXmJ0E",
    "outputId": "f9b140f4-9133-4cc9-d410-3852d9330a06"
   },
   "outputs": [
    {
     "data": {
      "text/plain": [
       "symboling            False\n",
       "normalized-losses     True\n",
       "make                 False\n",
       "fuel-type            False\n",
       "aspiration           False\n",
       "num-of-doors          True\n",
       "body-style           False\n",
       "drive-wheels         False\n",
       "engine-location      False\n",
       "wheel-base           False\n",
       "length               False\n",
       "width                False\n",
       "height               False\n",
       "curb-weight          False\n",
       "engine-type          False\n",
       "num-of-cylinders     False\n",
       "engine-size          False\n",
       "fuel-system          False\n",
       "bore                  True\n",
       "stroke                True\n",
       "compression-ratio    False\n",
       "horsepower            True\n",
       "peak-rpm              True\n",
       "city-mpg             False\n",
       "highway-mpg          False\n",
       "price                 True\n",
       "dtype: bool"
      ]
     },
     "execution_count": 9,
     "metadata": {
      "tags": []
     },
     "output_type": "execute_result"
    }
   ],
   "source": [
    "data.isnull().any()"
   ]
  },
  {
   "cell_type": "markdown",
   "metadata": {
    "colab_type": "text",
    "id": "920IbVHwxHkm"
   },
   "source": [
    "Bu çıktıyı \"boolean mask\" olarak kullanabiliriz"
   ]
  },
  {
   "cell_type": "code",
   "execution_count": 10,
   "metadata": {
    "colab": {
     "base_uri": "https://localhost:8080/",
     "height": 68
    },
    "colab_type": "code",
    "executionInfo": {
     "elapsed": 816,
     "status": "ok",
     "timestamp": 1575050564296,
     "user": {
      "displayName": "Barış Bozkurt",
      "photoUrl": "https://lh3.googleusercontent.com/a-/AAuE7mAdwaPUM3cQ3cUO9jZZ-QMeyRr9RU_6iP1RfFeg=s64",
      "userId": "04066217430702805158"
     },
     "user_tz": -180
    },
    "id": "Tb84yPx-3SVj",
    "outputId": "3075a966-a730-4cfc-fc48-538975e3fabf"
   },
   "outputs": [
    {
     "data": {
      "text/plain": [
       "Index(['normalized-losses', 'num-of-doors', 'bore', 'stroke', 'horsepower',\n",
       "       'peak-rpm', 'price'],\n",
       "      dtype='object')"
      ]
     },
     "execution_count": 10,
     "metadata": {
      "tags": []
     },
     "output_type": "execute_result"
    }
   ],
   "source": [
    "NaN_icerenler = data.columns[data.isnull().any()]#.any(): bir seride en az bir doğru var ise doğru, hepsi yanlış ise yanlış döndürür\n",
    "NaN_icerenler"
   ]
  },
  {
   "cell_type": "markdown",
   "metadata": {
    "colab_type": "text",
    "id": "B9mJP_yLYbk8"
   },
   "source": [
    "Herhangi bir kolonda kaç adet NaN değeri var? Örnek olarak \"price\" kolonuna bakalım"
   ]
  },
  {
   "cell_type": "code",
   "execution_count": 11,
   "metadata": {
    "colab": {
     "base_uri": "https://localhost:8080/",
     "height": 68
    },
    "colab_type": "code",
    "executionInfo": {
     "elapsed": 750,
     "status": "ok",
     "timestamp": 1575050577818,
     "user": {
      "displayName": "Barış Bozkurt",
      "photoUrl": "https://lh3.googleusercontent.com/a-/AAuE7mAdwaPUM3cQ3cUO9jZZ-QMeyRr9RU_6iP1RfFeg=s64",
      "userId": "04066217430702805158"
     },
     "user_tz": -180
    },
    "id": "Z2bHewghYR5m",
    "outputId": "7f70fbea-8bbc-49cf-e7db-51c37c877fd6"
   },
   "outputs": [
    {
     "data": {
      "text/plain": [
       "False    201\n",
       "True       4\n",
       "Name: price, dtype: int64"
      ]
     },
     "execution_count": 11,
     "metadata": {
      "tags": []
     },
     "output_type": "execute_result"
    }
   ],
   "source": [
    "data['price'].isnull().value_counts()"
   ]
  },
  {
   "cell_type": "markdown",
   "metadata": {
    "colab_type": "text",
    "id": "QOJ0dL3rc-L1"
   },
   "source": [
    "**Nan değerlerine uygulayabileceğimiz işlemler:**\n",
    "\n",
    "**1) İlgili satırı silme**\n",
    "Price kolonu içerisinde NaN değeri alan satırları silelim. Çünkü price bizim için ana hedef verisi, ona gürültü eklememek iyi olur."
   ]
  },
  {
   "cell_type": "code",
   "execution_count": 13,
   "metadata": {
    "colab": {
     "base_uri": "https://localhost:8080/",
     "height": 51
    },
    "colab_type": "code",
    "executionInfo": {
     "elapsed": 845,
     "status": "ok",
     "timestamp": 1575050676532,
     "user": {
      "displayName": "Barış Bozkurt",
      "photoUrl": "https://lh3.googleusercontent.com/a-/AAuE7mAdwaPUM3cQ3cUO9jZZ-QMeyRr9RU_6iP1RfFeg=s64",
      "userId": "04066217430702805158"
     },
     "user_tz": -180
    },
    "id": "_CUrsZoRaO0J",
    "outputId": "5399b207-6cc7-4fab-ec4f-c9bb7beb10a6"
   },
   "outputs": [
    {
     "name": "stdout",
     "output_type": "stream",
     "text": [
      "Silme işlemi öncesinde boyutlar (201, 26)\n",
      "Silme işlemi sonrasında boyutlar (201, 26)\n"
     ]
    }
   ],
   "source": [
    "print(\"Silme işlemi öncesinde boyutlar\",data.shape)\n",
    "data.dropna(subset = ['price'], axis = 0, inplace = True)# axis = 0: satır, axis = 1: kolon\n",
    "print(\"Silme işlemi sonrasında boyutlar\",data.shape)"
   ]
  },
  {
   "cell_type": "markdown",
   "metadata": {
    "colab_type": "text",
    "id": "CvACVz5fifhN"
   },
   "source": [
    "Diğer NaN içeren kolonları inceleyelim"
   ]
  },
  {
   "cell_type": "code",
   "execution_count": 14,
   "metadata": {
    "colab": {
     "base_uri": "https://localhost:8080/",
     "height": 204
    },
    "colab_type": "code",
    "executionInfo": {
     "elapsed": 775,
     "status": "ok",
     "timestamp": 1575050682250,
     "user": {
      "displayName": "Barış Bozkurt",
      "photoUrl": "https://lh3.googleusercontent.com/a-/AAuE7mAdwaPUM3cQ3cUO9jZZ-QMeyRr9RU_6iP1RfFeg=s64",
      "userId": "04066217430702805158"
     },
     "user_tz": -180
    },
    "id": "ry4-e4MLjTkz",
    "outputId": "2813f6b2-210f-4afe-9cc6-da7c082aaee5"
   },
   "outputs": [
    {
     "name": "stdout",
     "output_type": "stream",
     "text": [
      "<class 'pandas.core.frame.DataFrame'>\n",
      "Int64Index: 201 entries, 0 to 204\n",
      "Data columns (total 6 columns):\n",
      "normalized-losses    164 non-null object\n",
      "num-of-doors         199 non-null object\n",
      "bore                 197 non-null object\n",
      "stroke               197 non-null object\n",
      "horsepower           199 non-null object\n",
      "peak-rpm             199 non-null object\n",
      "dtypes: object(6)\n",
      "memory usage: 11.0+ KB\n"
     ]
    }
   ],
   "source": [
    "NaN_iceren_kolonlar = data.columns[data.isnull().any()]\n",
    "data[NaN_iceren_kolonlar].info()"
   ]
  },
  {
   "cell_type": "markdown",
   "metadata": {
    "colab_type": "text",
    "id": "BoXP1Sb6jYm5"
   },
   "source": [
    "**Gözlem:** sayısal değerlerle ifade edilmesi uygun olan veriler string olarak depolanmış, öncelikle sayısal değerlere dönüştürmeliyiz. num-of-doors'u ayrıca ele almalıyız, öncelikle onun içerdiği değerlerin neler olduğuna bakabiliriz"
   ]
  },
  {
   "cell_type": "code",
   "execution_count": 15,
   "metadata": {
    "colab": {
     "base_uri": "https://localhost:8080/",
     "height": 68
    },
    "colab_type": "code",
    "executionInfo": {
     "elapsed": 842,
     "status": "ok",
     "timestamp": 1575050894769,
     "user": {
      "displayName": "Barış Bozkurt",
      "photoUrl": "https://lh3.googleusercontent.com/a-/AAuE7mAdwaPUM3cQ3cUO9jZZ-QMeyRr9RU_6iP1RfFeg=s64",
      "userId": "04066217430702805158"
     },
     "user_tz": -180
    },
    "id": "1RhmWkptmiRR",
    "outputId": "f4c799d4-03a0-4656-e43b-b0efb810f3e3"
   },
   "outputs": [
    {
     "data": {
      "text/plain": [
       "four    113\n",
       "two      86\n",
       "Name: num-of-doors, dtype: int64"
      ]
     },
     "execution_count": 15,
     "metadata": {
      "tags": []
     },
     "output_type": "execute_result"
    }
   ],
   "source": [
    "data['num-of-doors'].value_counts()"
   ]
  },
  {
   "cell_type": "markdown",
   "metadata": {
    "colab_type": "text",
    "id": "CBXNfwuMm2cn"
   },
   "source": [
    "\"Unique\" değerlerin 2 tane olduğunu görüyoruz: \"two\" ve \"four\". Bu iki değeri de sayıya dönüştürecek opsiyon ekleyerek dönüşüm fonksiyonu yazabiliriz"
   ]
  },
  {
   "cell_type": "code",
   "execution_count": 0,
   "metadata": {
    "colab": {},
    "colab_type": "code",
    "id": "LdbeaTIajsbU"
   },
   "outputs": [],
   "source": [
    "#NaN değerler dışındakileri sayıya dönüştüren bir fonksiyon yazıp verilere uygulayalım\n",
    "def sayiya_donusturucu(s):\n",
    "  if s == np.nan:\n",
    "    return s\n",
    "  elif isinstance(s,str):\n",
    "    if s.strip() == 'two':\n",
    "      return 2\n",
    "    elif s.strip() == 'four':\n",
    "      return 4\n",
    "    else:\n",
    "      return float(s)\n",
    "  else:\n",
    "    return s\n",
    "  \n",
    "for kolon in NaN_iceren_kolonlar:\n",
    "  data[kolon] = data[kolon].apply(sayiya_donusturucu)\n"
   ]
  },
  {
   "cell_type": "markdown",
   "metadata": {
    "colab_type": "text",
    "id": "E73moh22n2_2"
   },
   "source": [
    "Dönüştürme sonrası verilerin dağılımına bakalım. Amacımız NaN değerleri ne yapacağımızıa karar vermek"
   ]
  },
  {
   "cell_type": "code",
   "execution_count": 18,
   "metadata": {
    "colab": {
     "base_uri": "https://localhost:8080/",
     "height": 297
    },
    "colab_type": "code",
    "executionInfo": {
     "elapsed": 1074,
     "status": "ok",
     "timestamp": 1575050919908,
     "user": {
      "displayName": "Barış Bozkurt",
      "photoUrl": "https://lh3.googleusercontent.com/a-/AAuE7mAdwaPUM3cQ3cUO9jZZ-QMeyRr9RU_6iP1RfFeg=s64",
      "userId": "04066217430702805158"
     },
     "user_tz": -180
    },
    "id": "XhTF9j5pie1d",
    "outputId": "b3d885c0-c110-4cef-d876-05527539218f"
   },
   "outputs": [
    {
     "data": {
      "text/html": [
       "<div>\n",
       "<style scoped>\n",
       "    .dataframe tbody tr th:only-of-type {\n",
       "        vertical-align: middle;\n",
       "    }\n",
       "\n",
       "    .dataframe tbody tr th {\n",
       "        vertical-align: top;\n",
       "    }\n",
       "\n",
       "    .dataframe thead th {\n",
       "        text-align: right;\n",
       "    }\n",
       "</style>\n",
       "<table border=\"1\" class=\"dataframe\">\n",
       "  <thead>\n",
       "    <tr style=\"text-align: right;\">\n",
       "      <th></th>\n",
       "      <th>normalized-losses</th>\n",
       "      <th>num-of-doors</th>\n",
       "      <th>bore</th>\n",
       "      <th>stroke</th>\n",
       "      <th>horsepower</th>\n",
       "      <th>peak-rpm</th>\n",
       "    </tr>\n",
       "  </thead>\n",
       "  <tbody>\n",
       "    <tr>\n",
       "      <th>count</th>\n",
       "      <td>164.000000</td>\n",
       "      <td>199.000000</td>\n",
       "      <td>197.000000</td>\n",
       "      <td>197.000000</td>\n",
       "      <td>199.000000</td>\n",
       "      <td>199.000000</td>\n",
       "    </tr>\n",
       "    <tr>\n",
       "      <th>mean</th>\n",
       "      <td>122.000000</td>\n",
       "      <td>3.135678</td>\n",
       "      <td>3.330711</td>\n",
       "      <td>3.256904</td>\n",
       "      <td>103.396985</td>\n",
       "      <td>5117.587940</td>\n",
       "    </tr>\n",
       "    <tr>\n",
       "      <th>std</th>\n",
       "      <td>35.442168</td>\n",
       "      <td>0.993252</td>\n",
       "      <td>0.270793</td>\n",
       "      <td>0.319256</td>\n",
       "      <td>37.553843</td>\n",
       "      <td>480.521824</td>\n",
       "    </tr>\n",
       "    <tr>\n",
       "      <th>min</th>\n",
       "      <td>65.000000</td>\n",
       "      <td>2.000000</td>\n",
       "      <td>2.540000</td>\n",
       "      <td>2.070000</td>\n",
       "      <td>48.000000</td>\n",
       "      <td>4150.000000</td>\n",
       "    </tr>\n",
       "    <tr>\n",
       "      <th>25%</th>\n",
       "      <td>94.000000</td>\n",
       "      <td>2.000000</td>\n",
       "      <td>3.150000</td>\n",
       "      <td>3.110000</td>\n",
       "      <td>70.000000</td>\n",
       "      <td>4800.000000</td>\n",
       "    </tr>\n",
       "    <tr>\n",
       "      <th>50%</th>\n",
       "      <td>115.000000</td>\n",
       "      <td>4.000000</td>\n",
       "      <td>3.310000</td>\n",
       "      <td>3.290000</td>\n",
       "      <td>95.000000</td>\n",
       "      <td>5200.000000</td>\n",
       "    </tr>\n",
       "    <tr>\n",
       "      <th>75%</th>\n",
       "      <td>150.000000</td>\n",
       "      <td>4.000000</td>\n",
       "      <td>3.590000</td>\n",
       "      <td>3.410000</td>\n",
       "      <td>116.000000</td>\n",
       "      <td>5500.000000</td>\n",
       "    </tr>\n",
       "    <tr>\n",
       "      <th>max</th>\n",
       "      <td>256.000000</td>\n",
       "      <td>4.000000</td>\n",
       "      <td>3.940000</td>\n",
       "      <td>4.170000</td>\n",
       "      <td>262.000000</td>\n",
       "      <td>6600.000000</td>\n",
       "    </tr>\n",
       "  </tbody>\n",
       "</table>\n",
       "</div>"
      ],
      "text/plain": [
       "       normalized-losses  num-of-doors  ...  horsepower     peak-rpm\n",
       "count         164.000000    199.000000  ...  199.000000   199.000000\n",
       "mean          122.000000      3.135678  ...  103.396985  5117.587940\n",
       "std            35.442168      0.993252  ...   37.553843   480.521824\n",
       "min            65.000000      2.000000  ...   48.000000  4150.000000\n",
       "25%            94.000000      2.000000  ...   70.000000  4800.000000\n",
       "50%           115.000000      4.000000  ...   95.000000  5200.000000\n",
       "75%           150.000000      4.000000  ...  116.000000  5500.000000\n",
       "max           256.000000      4.000000  ...  262.000000  6600.000000\n",
       "\n",
       "[8 rows x 6 columns]"
      ]
     },
     "execution_count": 18,
     "metadata": {
      "tags": []
     },
     "output_type": "execute_result"
    }
   ],
   "source": [
    "data[NaN_iceren_kolonlar].describe()"
   ]
  },
  {
   "cell_type": "markdown",
   "metadata": {
    "colab_type": "text",
    "id": "Hs6GamXEoA9b"
   },
   "source": [
    "**Gözlem:** Bore std değeri ortalama değere göre düşük ve bu özellik 2.54 ile 3.94 arasında bir değer alıyor. NaN olan Bore değerlerini ortalamaya eşleyebiliriz. Önce bore'un  NaN değeri aldığı satırları görelim"
   ]
  },
  {
   "cell_type": "code",
   "execution_count": 19,
   "metadata": {
    "colab": {
     "base_uri": "https://localhost:8080/",
     "height": 227
    },
    "colab_type": "code",
    "executionInfo": {
     "elapsed": 1010,
     "status": "ok",
     "timestamp": 1575050969914,
     "user": {
      "displayName": "Barış Bozkurt",
      "photoUrl": "https://lh3.googleusercontent.com/a-/AAuE7mAdwaPUM3cQ3cUO9jZZ-QMeyRr9RU_6iP1RfFeg=s64",
      "userId": "04066217430702805158"
     },
     "user_tz": -180
    },
    "id": "oVbaB-bOpbfb",
    "outputId": "ad5aa486-79ca-430f-d35d-297f9c26afc8"
   },
   "outputs": [
    {
     "data": {
      "text/html": [
       "<div>\n",
       "<style scoped>\n",
       "    .dataframe tbody tr th:only-of-type {\n",
       "        vertical-align: middle;\n",
       "    }\n",
       "\n",
       "    .dataframe tbody tr th {\n",
       "        vertical-align: top;\n",
       "    }\n",
       "\n",
       "    .dataframe thead th {\n",
       "        text-align: right;\n",
       "    }\n",
       "</style>\n",
       "<table border=\"1\" class=\"dataframe\">\n",
       "  <thead>\n",
       "    <tr style=\"text-align: right;\">\n",
       "      <th></th>\n",
       "      <th>symboling</th>\n",
       "      <th>normalized-losses</th>\n",
       "      <th>make</th>\n",
       "      <th>fuel-type</th>\n",
       "      <th>aspiration</th>\n",
       "      <th>num-of-doors</th>\n",
       "      <th>body-style</th>\n",
       "      <th>drive-wheels</th>\n",
       "      <th>engine-location</th>\n",
       "      <th>wheel-base</th>\n",
       "      <th>length</th>\n",
       "      <th>width</th>\n",
       "      <th>height</th>\n",
       "      <th>curb-weight</th>\n",
       "      <th>engine-type</th>\n",
       "      <th>num-of-cylinders</th>\n",
       "      <th>engine-size</th>\n",
       "      <th>fuel-system</th>\n",
       "      <th>bore</th>\n",
       "      <th>stroke</th>\n",
       "      <th>compression-ratio</th>\n",
       "      <th>horsepower</th>\n",
       "      <th>peak-rpm</th>\n",
       "      <th>city-mpg</th>\n",
       "      <th>highway-mpg</th>\n",
       "      <th>price</th>\n",
       "    </tr>\n",
       "  </thead>\n",
       "  <tbody>\n",
       "    <tr>\n",
       "      <th>55</th>\n",
       "      <td>3</td>\n",
       "      <td>150.0</td>\n",
       "      <td>mazda</td>\n",
       "      <td>gas</td>\n",
       "      <td>std</td>\n",
       "      <td>2.0</td>\n",
       "      <td>hatchback</td>\n",
       "      <td>rwd</td>\n",
       "      <td>front</td>\n",
       "      <td>95.3</td>\n",
       "      <td>169.0</td>\n",
       "      <td>65.7</td>\n",
       "      <td>49.6</td>\n",
       "      <td>2380</td>\n",
       "      <td>rotor</td>\n",
       "      <td>two</td>\n",
       "      <td>70</td>\n",
       "      <td>4bbl</td>\n",
       "      <td>NaN</td>\n",
       "      <td>NaN</td>\n",
       "      <td>9.4</td>\n",
       "      <td>101.0</td>\n",
       "      <td>6000.0</td>\n",
       "      <td>17</td>\n",
       "      <td>23</td>\n",
       "      <td>10945</td>\n",
       "    </tr>\n",
       "    <tr>\n",
       "      <th>56</th>\n",
       "      <td>3</td>\n",
       "      <td>150.0</td>\n",
       "      <td>mazda</td>\n",
       "      <td>gas</td>\n",
       "      <td>std</td>\n",
       "      <td>2.0</td>\n",
       "      <td>hatchback</td>\n",
       "      <td>rwd</td>\n",
       "      <td>front</td>\n",
       "      <td>95.3</td>\n",
       "      <td>169.0</td>\n",
       "      <td>65.7</td>\n",
       "      <td>49.6</td>\n",
       "      <td>2380</td>\n",
       "      <td>rotor</td>\n",
       "      <td>two</td>\n",
       "      <td>70</td>\n",
       "      <td>4bbl</td>\n",
       "      <td>NaN</td>\n",
       "      <td>NaN</td>\n",
       "      <td>9.4</td>\n",
       "      <td>101.0</td>\n",
       "      <td>6000.0</td>\n",
       "      <td>17</td>\n",
       "      <td>23</td>\n",
       "      <td>11845</td>\n",
       "    </tr>\n",
       "    <tr>\n",
       "      <th>57</th>\n",
       "      <td>3</td>\n",
       "      <td>150.0</td>\n",
       "      <td>mazda</td>\n",
       "      <td>gas</td>\n",
       "      <td>std</td>\n",
       "      <td>2.0</td>\n",
       "      <td>hatchback</td>\n",
       "      <td>rwd</td>\n",
       "      <td>front</td>\n",
       "      <td>95.3</td>\n",
       "      <td>169.0</td>\n",
       "      <td>65.7</td>\n",
       "      <td>49.6</td>\n",
       "      <td>2385</td>\n",
       "      <td>rotor</td>\n",
       "      <td>two</td>\n",
       "      <td>70</td>\n",
       "      <td>4bbl</td>\n",
       "      <td>NaN</td>\n",
       "      <td>NaN</td>\n",
       "      <td>9.4</td>\n",
       "      <td>101.0</td>\n",
       "      <td>6000.0</td>\n",
       "      <td>17</td>\n",
       "      <td>23</td>\n",
       "      <td>13645</td>\n",
       "    </tr>\n",
       "    <tr>\n",
       "      <th>58</th>\n",
       "      <td>3</td>\n",
       "      <td>150.0</td>\n",
       "      <td>mazda</td>\n",
       "      <td>gas</td>\n",
       "      <td>std</td>\n",
       "      <td>2.0</td>\n",
       "      <td>hatchback</td>\n",
       "      <td>rwd</td>\n",
       "      <td>front</td>\n",
       "      <td>95.3</td>\n",
       "      <td>169.0</td>\n",
       "      <td>65.7</td>\n",
       "      <td>49.6</td>\n",
       "      <td>2500</td>\n",
       "      <td>rotor</td>\n",
       "      <td>two</td>\n",
       "      <td>80</td>\n",
       "      <td>mpfi</td>\n",
       "      <td>NaN</td>\n",
       "      <td>NaN</td>\n",
       "      <td>9.4</td>\n",
       "      <td>135.0</td>\n",
       "      <td>6000.0</td>\n",
       "      <td>16</td>\n",
       "      <td>23</td>\n",
       "      <td>15645</td>\n",
       "    </tr>\n",
       "  </tbody>\n",
       "</table>\n",
       "</div>"
      ],
      "text/plain": [
       "    symboling  normalized-losses   make  ... city-mpg highway-mpg  price\n",
       "55          3              150.0  mazda  ...       17          23  10945\n",
       "56          3              150.0  mazda  ...       17          23  11845\n",
       "57          3              150.0  mazda  ...       17          23  13645\n",
       "58          3              150.0  mazda  ...       16          23  15645\n",
       "\n",
       "[4 rows x 26 columns]"
      ]
     },
     "execution_count": 19,
     "metadata": {
      "tags": []
     },
     "output_type": "execute_result"
    }
   ],
   "source": [
    "nan_endeksler = data['bore'].isnull()\n",
    "data[nan_endeksler]"
   ]
  },
  {
   "cell_type": "markdown",
   "metadata": {
    "colab_type": "text",
    "id": "LxY7S6iGu_5a"
   },
   "source": [
    "**2) NaN değeri ortalama değere eşleme**"
   ]
  },
  {
   "cell_type": "code",
   "execution_count": 0,
   "metadata": {
    "colab": {},
    "colab_type": "code",
    "id": "chf93spdoV1l"
   },
   "outputs": [],
   "source": [
    "data['bore'].replace(np.nan,data['bore'].mean(),inplace = True)"
   ]
  },
  {
   "cell_type": "markdown",
   "metadata": {
    "colab_type": "text",
    "id": "9ZRhI1P3p0kO"
   },
   "source": [
    "\"stroke\" ve \"normalized-losses\" için de durum benzer, onların da NaN değerlerini ortalama değeriyle değiştirelim"
   ]
  },
  {
   "cell_type": "code",
   "execution_count": 0,
   "metadata": {
    "colab": {},
    "colab_type": "code",
    "id": "WEJjT1XIp60b"
   },
   "outputs": [],
   "source": [
    "data['stroke'].replace(np.nan,data['stroke'].mean(),inplace = True)\n",
    "data['normalized-losses'].replace(np.nan,data['normalized-losses'].mean(),inplace = True)\n"
   ]
  },
  {
   "cell_type": "markdown",
   "metadata": {
    "colab_type": "text",
    "id": "VVcXtmcjqaKZ"
   },
   "source": [
    "**3) NaN değeri en sık kullanılan değere eşleme**\n",
    "\n",
    "\n",
    "Araç kapı sayısı için ortalama değer kullanmak yanlış olur, en sık kullanılan değere eşleyebiliriz"
   ]
  },
  {
   "cell_type": "code",
   "execution_count": 22,
   "metadata": {
    "colab": {
     "base_uri": "https://localhost:8080/",
     "height": 165
    },
    "colab_type": "code",
    "executionInfo": {
     "elapsed": 770,
     "status": "ok",
     "timestamp": 1575051011783,
     "user": {
      "displayName": "Barış Bozkurt",
      "photoUrl": "https://lh3.googleusercontent.com/a-/AAuE7mAdwaPUM3cQ3cUO9jZZ-QMeyRr9RU_6iP1RfFeg=s64",
      "userId": "04066217430702805158"
     },
     "user_tz": -180
    },
    "id": "SVrFINX3qfit",
    "outputId": "ad8d5615-27c3-4d52-a959-71cfe59a73df"
   },
   "outputs": [
    {
     "data": {
      "text/html": [
       "<div>\n",
       "<style scoped>\n",
       "    .dataframe tbody tr th:only-of-type {\n",
       "        vertical-align: middle;\n",
       "    }\n",
       "\n",
       "    .dataframe tbody tr th {\n",
       "        vertical-align: top;\n",
       "    }\n",
       "\n",
       "    .dataframe thead th {\n",
       "        text-align: right;\n",
       "    }\n",
       "</style>\n",
       "<table border=\"1\" class=\"dataframe\">\n",
       "  <thead>\n",
       "    <tr style=\"text-align: right;\">\n",
       "      <th></th>\n",
       "      <th>symboling</th>\n",
       "      <th>normalized-losses</th>\n",
       "      <th>make</th>\n",
       "      <th>fuel-type</th>\n",
       "      <th>aspiration</th>\n",
       "      <th>num-of-doors</th>\n",
       "      <th>body-style</th>\n",
       "      <th>drive-wheels</th>\n",
       "      <th>engine-location</th>\n",
       "      <th>wheel-base</th>\n",
       "      <th>length</th>\n",
       "      <th>width</th>\n",
       "      <th>height</th>\n",
       "      <th>curb-weight</th>\n",
       "      <th>engine-type</th>\n",
       "      <th>num-of-cylinders</th>\n",
       "      <th>engine-size</th>\n",
       "      <th>fuel-system</th>\n",
       "      <th>bore</th>\n",
       "      <th>stroke</th>\n",
       "      <th>compression-ratio</th>\n",
       "      <th>horsepower</th>\n",
       "      <th>peak-rpm</th>\n",
       "      <th>city-mpg</th>\n",
       "      <th>highway-mpg</th>\n",
       "      <th>price</th>\n",
       "    </tr>\n",
       "  </thead>\n",
       "  <tbody>\n",
       "    <tr>\n",
       "      <th>27</th>\n",
       "      <td>1</td>\n",
       "      <td>148.0</td>\n",
       "      <td>dodge</td>\n",
       "      <td>gas</td>\n",
       "      <td>turbo</td>\n",
       "      <td>4.0</td>\n",
       "      <td>sedan</td>\n",
       "      <td>fwd</td>\n",
       "      <td>front</td>\n",
       "      <td>93.7</td>\n",
       "      <td>157.3</td>\n",
       "      <td>63.8</td>\n",
       "      <td>50.6</td>\n",
       "      <td>2191</td>\n",
       "      <td>ohc</td>\n",
       "      <td>four</td>\n",
       "      <td>98</td>\n",
       "      <td>mpfi</td>\n",
       "      <td>3.03</td>\n",
       "      <td>3.39</td>\n",
       "      <td>7.6</td>\n",
       "      <td>102.0</td>\n",
       "      <td>5500.0</td>\n",
       "      <td>24</td>\n",
       "      <td>30</td>\n",
       "      <td>8558</td>\n",
       "    </tr>\n",
       "    <tr>\n",
       "      <th>63</th>\n",
       "      <td>0</td>\n",
       "      <td>122.0</td>\n",
       "      <td>mazda</td>\n",
       "      <td>diesel</td>\n",
       "      <td>std</td>\n",
       "      <td>4.0</td>\n",
       "      <td>sedan</td>\n",
       "      <td>fwd</td>\n",
       "      <td>front</td>\n",
       "      <td>98.8</td>\n",
       "      <td>177.8</td>\n",
       "      <td>66.5</td>\n",
       "      <td>55.5</td>\n",
       "      <td>2443</td>\n",
       "      <td>ohc</td>\n",
       "      <td>four</td>\n",
       "      <td>122</td>\n",
       "      <td>idi</td>\n",
       "      <td>3.39</td>\n",
       "      <td>3.39</td>\n",
       "      <td>22.7</td>\n",
       "      <td>64.0</td>\n",
       "      <td>4650.0</td>\n",
       "      <td>36</td>\n",
       "      <td>42</td>\n",
       "      <td>10795</td>\n",
       "    </tr>\n",
       "  </tbody>\n",
       "</table>\n",
       "</div>"
      ],
      "text/plain": [
       "    symboling  normalized-losses   make  ... city-mpg highway-mpg  price\n",
       "27          1              148.0  dodge  ...       24          30   8558\n",
       "63          0              122.0  mazda  ...       36          42  10795\n",
       "\n",
       "[2 rows x 26 columns]"
      ]
     },
     "execution_count": 22,
     "metadata": {
      "tags": []
     },
     "output_type": "execute_result"
    }
   ],
   "source": [
    "nan_endeksler = data['num-of-doors'].isnull()\n",
    "data['num-of-doors'].replace(np.nan,data['num-of-doors'].median(),inplace = True)\n",
    "data[nan_endeksler]"
   ]
  },
  {
   "cell_type": "code",
   "execution_count": 23,
   "metadata": {
    "colab": {
     "base_uri": "https://localhost:8080/",
     "height": 351
    },
    "colab_type": "code",
    "executionInfo": {
     "elapsed": 928,
     "status": "ok",
     "timestamp": 1575051032042,
     "user": {
      "displayName": "Barış Bozkurt",
      "photoUrl": "https://lh3.googleusercontent.com/a-/AAuE7mAdwaPUM3cQ3cUO9jZZ-QMeyRr9RU_6iP1RfFeg=s64",
      "userId": "04066217430702805158"
     },
     "user_tz": -180
    },
    "id": "i80mIjiosY6s",
    "outputId": "54ab827d-e8f9-4936-e5f8-cec1a762badf"
   },
   "outputs": [
    {
     "data": {
      "text/html": [
       "<div>\n",
       "<style scoped>\n",
       "    .dataframe tbody tr th:only-of-type {\n",
       "        vertical-align: middle;\n",
       "    }\n",
       "\n",
       "    .dataframe tbody tr th {\n",
       "        vertical-align: top;\n",
       "    }\n",
       "\n",
       "    .dataframe thead th {\n",
       "        text-align: right;\n",
       "    }\n",
       "</style>\n",
       "<table border=\"1\" class=\"dataframe\">\n",
       "  <thead>\n",
       "    <tr style=\"text-align: right;\">\n",
       "      <th></th>\n",
       "      <th>symboling</th>\n",
       "      <th>normalized-losses</th>\n",
       "      <th>num-of-doors</th>\n",
       "      <th>wheel-base</th>\n",
       "      <th>length</th>\n",
       "      <th>width</th>\n",
       "      <th>height</th>\n",
       "      <th>curb-weight</th>\n",
       "      <th>engine-size</th>\n",
       "      <th>bore</th>\n",
       "      <th>stroke</th>\n",
       "      <th>compression-ratio</th>\n",
       "      <th>horsepower</th>\n",
       "      <th>peak-rpm</th>\n",
       "      <th>city-mpg</th>\n",
       "      <th>highway-mpg</th>\n",
       "    </tr>\n",
       "  </thead>\n",
       "  <tbody>\n",
       "    <tr>\n",
       "      <th>count</th>\n",
       "      <td>201.00</td>\n",
       "      <td>201.0</td>\n",
       "      <td>201.00</td>\n",
       "      <td>201.00</td>\n",
       "      <td>201.00</td>\n",
       "      <td>201.00</td>\n",
       "      <td>201.00</td>\n",
       "      <td>201.00</td>\n",
       "      <td>201.00</td>\n",
       "      <td>201.00</td>\n",
       "      <td>201.00</td>\n",
       "      <td>201.00</td>\n",
       "      <td>199.00</td>\n",
       "      <td>199.00</td>\n",
       "      <td>201.00</td>\n",
       "      <td>201.00</td>\n",
       "    </tr>\n",
       "    <tr>\n",
       "      <th>mean</th>\n",
       "      <td>0.84</td>\n",
       "      <td>122.0</td>\n",
       "      <td>3.14</td>\n",
       "      <td>98.80</td>\n",
       "      <td>174.20</td>\n",
       "      <td>65.89</td>\n",
       "      <td>53.77</td>\n",
       "      <td>2555.67</td>\n",
       "      <td>126.88</td>\n",
       "      <td>3.33</td>\n",
       "      <td>3.26</td>\n",
       "      <td>10.16</td>\n",
       "      <td>103.40</td>\n",
       "      <td>5117.59</td>\n",
       "      <td>25.18</td>\n",
       "      <td>30.69</td>\n",
       "    </tr>\n",
       "    <tr>\n",
       "      <th>std</th>\n",
       "      <td>1.25</td>\n",
       "      <td>32.0</td>\n",
       "      <td>0.99</td>\n",
       "      <td>6.07</td>\n",
       "      <td>12.32</td>\n",
       "      <td>2.10</td>\n",
       "      <td>2.45</td>\n",
       "      <td>517.30</td>\n",
       "      <td>41.55</td>\n",
       "      <td>0.27</td>\n",
       "      <td>0.32</td>\n",
       "      <td>4.00</td>\n",
       "      <td>37.55</td>\n",
       "      <td>480.52</td>\n",
       "      <td>6.42</td>\n",
       "      <td>6.82</td>\n",
       "    </tr>\n",
       "    <tr>\n",
       "      <th>min</th>\n",
       "      <td>-2.00</td>\n",
       "      <td>65.0</td>\n",
       "      <td>2.00</td>\n",
       "      <td>86.60</td>\n",
       "      <td>141.10</td>\n",
       "      <td>60.30</td>\n",
       "      <td>47.80</td>\n",
       "      <td>1488.00</td>\n",
       "      <td>61.00</td>\n",
       "      <td>2.54</td>\n",
       "      <td>2.07</td>\n",
       "      <td>7.00</td>\n",
       "      <td>48.00</td>\n",
       "      <td>4150.00</td>\n",
       "      <td>13.00</td>\n",
       "      <td>16.00</td>\n",
       "    </tr>\n",
       "    <tr>\n",
       "      <th>25%</th>\n",
       "      <td>0.00</td>\n",
       "      <td>101.0</td>\n",
       "      <td>2.00</td>\n",
       "      <td>94.50</td>\n",
       "      <td>166.80</td>\n",
       "      <td>64.10</td>\n",
       "      <td>52.00</td>\n",
       "      <td>2169.00</td>\n",
       "      <td>98.00</td>\n",
       "      <td>3.15</td>\n",
       "      <td>3.11</td>\n",
       "      <td>8.60</td>\n",
       "      <td>70.00</td>\n",
       "      <td>4800.00</td>\n",
       "      <td>19.00</td>\n",
       "      <td>25.00</td>\n",
       "    </tr>\n",
       "    <tr>\n",
       "      <th>50%</th>\n",
       "      <td>1.00</td>\n",
       "      <td>122.0</td>\n",
       "      <td>4.00</td>\n",
       "      <td>97.00</td>\n",
       "      <td>173.20</td>\n",
       "      <td>65.50</td>\n",
       "      <td>54.10</td>\n",
       "      <td>2414.00</td>\n",
       "      <td>120.00</td>\n",
       "      <td>3.31</td>\n",
       "      <td>3.29</td>\n",
       "      <td>9.00</td>\n",
       "      <td>95.00</td>\n",
       "      <td>5200.00</td>\n",
       "      <td>24.00</td>\n",
       "      <td>30.00</td>\n",
       "    </tr>\n",
       "    <tr>\n",
       "      <th>75%</th>\n",
       "      <td>2.00</td>\n",
       "      <td>137.0</td>\n",
       "      <td>4.00</td>\n",
       "      <td>102.40</td>\n",
       "      <td>183.50</td>\n",
       "      <td>66.60</td>\n",
       "      <td>55.50</td>\n",
       "      <td>2926.00</td>\n",
       "      <td>141.00</td>\n",
       "      <td>3.58</td>\n",
       "      <td>3.41</td>\n",
       "      <td>9.40</td>\n",
       "      <td>116.00</td>\n",
       "      <td>5500.00</td>\n",
       "      <td>30.00</td>\n",
       "      <td>34.00</td>\n",
       "    </tr>\n",
       "    <tr>\n",
       "      <th>max</th>\n",
       "      <td>3.00</td>\n",
       "      <td>256.0</td>\n",
       "      <td>4.00</td>\n",
       "      <td>120.90</td>\n",
       "      <td>208.10</td>\n",
       "      <td>72.00</td>\n",
       "      <td>59.80</td>\n",
       "      <td>4066.00</td>\n",
       "      <td>326.00</td>\n",
       "      <td>3.94</td>\n",
       "      <td>4.17</td>\n",
       "      <td>23.00</td>\n",
       "      <td>262.00</td>\n",
       "      <td>6600.00</td>\n",
       "      <td>49.00</td>\n",
       "      <td>54.00</td>\n",
       "    </tr>\n",
       "  </tbody>\n",
       "</table>\n",
       "</div>"
      ],
      "text/plain": [
       "       symboling  normalized-losses  ...  city-mpg  highway-mpg\n",
       "count     201.00              201.0  ...    201.00       201.00\n",
       "mean        0.84              122.0  ...     25.18        30.69\n",
       "std         1.25               32.0  ...      6.42         6.82\n",
       "min        -2.00               65.0  ...     13.00        16.00\n",
       "25%         0.00              101.0  ...     19.00        25.00\n",
       "50%         1.00              122.0  ...     24.00        30.00\n",
       "75%         2.00              137.0  ...     30.00        34.00\n",
       "max         3.00              256.0  ...     49.00        54.00\n",
       "\n",
       "[8 rows x 16 columns]"
      ]
     },
     "execution_count": 23,
     "metadata": {
      "tags": []
     },
     "output_type": "execute_result"
    }
   ],
   "source": [
    "round(data.describe(),2)"
   ]
  },
  {
   "cell_type": "markdown",
   "metadata": {
    "colab_type": "text",
    "id": "cGKOx3dYtmhI"
   },
   "source": [
    "NaN içeren diğer (kalan) kolonlar"
   ]
  },
  {
   "cell_type": "code",
   "execution_count": 24,
   "metadata": {
    "colab": {
     "base_uri": "https://localhost:8080/",
     "height": 34
    },
    "colab_type": "code",
    "executionInfo": {
     "elapsed": 670,
     "status": "ok",
     "timestamp": 1575051037925,
     "user": {
      "displayName": "Barış Bozkurt",
      "photoUrl": "https://lh3.googleusercontent.com/a-/AAuE7mAdwaPUM3cQ3cUO9jZZ-QMeyRr9RU_6iP1RfFeg=s64",
      "userId": "04066217430702805158"
     },
     "user_tz": -180
    },
    "id": "2KZXCJritrip",
    "outputId": "ec029cfd-6849-480c-9c93-0b4d1e56e20a"
   },
   "outputs": [
    {
     "data": {
      "text/plain": [
       "Index(['horsepower', 'peak-rpm'], dtype='object')"
      ]
     },
     "execution_count": 24,
     "metadata": {
      "tags": []
     },
     "output_type": "execute_result"
    }
   ],
   "source": [
    "NaN_iceren_kolonlar = data.columns[data.isnull().any()]\n",
    "NaN_iceren_kolonlar"
   ]
  },
  {
   "cell_type": "markdown",
   "metadata": {
    "colab_type": "text",
    "id": "CsPAHV5_tvM7"
   },
   "source": [
    "Bu iki özellik için Nan sayısı 2 ile sınırlı, bunların bulunduğu satırları atarak temizleme işimizi tamamlayabiliriz"
   ]
  },
  {
   "cell_type": "code",
   "execution_count": 25,
   "metadata": {
    "colab": {
     "base_uri": "https://localhost:8080/",
     "height": 51
    },
    "colab_type": "code",
    "executionInfo": {
     "elapsed": 706,
     "status": "ok",
     "timestamp": 1575051050012,
     "user": {
      "displayName": "Barış Bozkurt",
      "photoUrl": "https://lh3.googleusercontent.com/a-/AAuE7mAdwaPUM3cQ3cUO9jZZ-QMeyRr9RU_6iP1RfFeg=s64",
      "userId": "04066217430702805158"
     },
     "user_tz": -180
    },
    "id": "sVtEpvLut3Xj",
    "outputId": "0caa769b-b0e2-4a0a-e357-a5d0c20d6a3f"
   },
   "outputs": [
    {
     "name": "stdout",
     "output_type": "stream",
     "text": [
      "Silme işlemi öncesinde boyutlar (201, 26)\n",
      "Silme işlemi sonrasında boyutlar (199, 26)\n"
     ]
    }
   ],
   "source": [
    "print(\"Silme işlemi öncesinde boyutlar\",data.shape)\n",
    "for ozellik in NaN_iceren_kolonlar:\n",
    "  data.dropna(subset = [ozellik], axis = 0, inplace = True)\n",
    "print(\"Silme işlemi sonrasında boyutlar\",data.shape)"
   ]
  },
  {
   "cell_type": "markdown",
   "metadata": {
    "colab_type": "text",
    "id": "1rXl0mwQuSHQ"
   },
   "source": [
    "Başka Nan içeren özellik kalmamış olmalı"
   ]
  },
  {
   "cell_type": "code",
   "execution_count": 27,
   "metadata": {
    "colab": {
     "base_uri": "https://localhost:8080/",
     "height": 34
    },
    "colab_type": "code",
    "executionInfo": {
     "elapsed": 659,
     "status": "ok",
     "timestamp": 1575051084296,
     "user": {
      "displayName": "Barış Bozkurt",
      "photoUrl": "https://lh3.googleusercontent.com/a-/AAuE7mAdwaPUM3cQ3cUO9jZZ-QMeyRr9RU_6iP1RfFeg=s64",
      "userId": "04066217430702805158"
     },
     "user_tz": -180
    },
    "id": "qq9VQNnsuWC5",
    "outputId": "808eefaf-f929-4fb4-d74f-8a071397b01c"
   },
   "outputs": [
    {
     "data": {
      "text/plain": [
       "0"
      ]
     },
     "execution_count": 27,
     "metadata": {
      "tags": []
     },
     "output_type": "execute_result"
    }
   ],
   "source": [
    "data.isnull().sum().sum()"
   ]
  },
  {
   "cell_type": "markdown",
   "metadata": {
    "colab_type": "text",
    "id": "JhSyITfrvB7a"
   },
   "source": [
    "## Kolon verilerine uygulanan dönüştürme işlemleri"
   ]
  },
  {
   "cell_type": "markdown",
   "metadata": {
    "colab_type": "text",
    "id": "pRCAXIxEvJx_"
   },
   "source": [
    "mpg: \"miles per galon\" içeren özellikleri(city-mpg, highway-mpg) 100 kilometrede harcanan litre'ye dönüştürmek istebiliriz"
   ]
  },
  {
   "cell_type": "code",
   "execution_count": 28,
   "metadata": {
    "colab": {
     "base_uri": "https://localhost:8080/",
     "height": 199
    },
    "colab_type": "code",
    "executionInfo": {
     "elapsed": 704,
     "status": "ok",
     "timestamp": 1575051100212,
     "user": {
      "displayName": "Barış Bozkurt",
      "photoUrl": "https://lh3.googleusercontent.com/a-/AAuE7mAdwaPUM3cQ3cUO9jZZ-QMeyRr9RU_6iP1RfFeg=s64",
      "userId": "04066217430702805158"
     },
     "user_tz": -180
    },
    "id": "MU0kL8H4wFEh",
    "outputId": "0faef7bd-a913-4da3-adf5-6422ba483c4a"
   },
   "outputs": [
    {
     "data": {
      "text/html": [
       "<div>\n",
       "<style scoped>\n",
       "    .dataframe tbody tr th:only-of-type {\n",
       "        vertical-align: middle;\n",
       "    }\n",
       "\n",
       "    .dataframe tbody tr th {\n",
       "        vertical-align: top;\n",
       "    }\n",
       "\n",
       "    .dataframe thead th {\n",
       "        text-align: right;\n",
       "    }\n",
       "</style>\n",
       "<table border=\"1\" class=\"dataframe\">\n",
       "  <thead>\n",
       "    <tr style=\"text-align: right;\">\n",
       "      <th></th>\n",
       "      <th>symboling</th>\n",
       "      <th>normalized-losses</th>\n",
       "      <th>make</th>\n",
       "      <th>fuel-type</th>\n",
       "      <th>aspiration</th>\n",
       "      <th>num-of-doors</th>\n",
       "      <th>body-style</th>\n",
       "      <th>drive-wheels</th>\n",
       "      <th>engine-location</th>\n",
       "      <th>wheel-base</th>\n",
       "      <th>length</th>\n",
       "      <th>width</th>\n",
       "      <th>height</th>\n",
       "      <th>curb-weight</th>\n",
       "      <th>engine-type</th>\n",
       "      <th>num-of-cylinders</th>\n",
       "      <th>engine-size</th>\n",
       "      <th>fuel-system</th>\n",
       "      <th>bore</th>\n",
       "      <th>stroke</th>\n",
       "      <th>compression-ratio</th>\n",
       "      <th>horsepower</th>\n",
       "      <th>peak-rpm</th>\n",
       "      <th>city-mpg</th>\n",
       "      <th>highway-mpg</th>\n",
       "      <th>price</th>\n",
       "    </tr>\n",
       "  </thead>\n",
       "  <tbody>\n",
       "    <tr>\n",
       "      <th>0</th>\n",
       "      <td>3</td>\n",
       "      <td>122.0</td>\n",
       "      <td>alfa-romero</td>\n",
       "      <td>gas</td>\n",
       "      <td>std</td>\n",
       "      <td>2.0</td>\n",
       "      <td>convertible</td>\n",
       "      <td>rwd</td>\n",
       "      <td>front</td>\n",
       "      <td>88.6</td>\n",
       "      <td>168.8</td>\n",
       "      <td>64.1</td>\n",
       "      <td>48.8</td>\n",
       "      <td>2548</td>\n",
       "      <td>dohc</td>\n",
       "      <td>four</td>\n",
       "      <td>130</td>\n",
       "      <td>mpfi</td>\n",
       "      <td>3.47</td>\n",
       "      <td>2.68</td>\n",
       "      <td>9.0</td>\n",
       "      <td>111.0</td>\n",
       "      <td>5000.0</td>\n",
       "      <td>21</td>\n",
       "      <td>27</td>\n",
       "      <td>13495</td>\n",
       "    </tr>\n",
       "    <tr>\n",
       "      <th>1</th>\n",
       "      <td>3</td>\n",
       "      <td>122.0</td>\n",
       "      <td>alfa-romero</td>\n",
       "      <td>gas</td>\n",
       "      <td>std</td>\n",
       "      <td>2.0</td>\n",
       "      <td>convertible</td>\n",
       "      <td>rwd</td>\n",
       "      <td>front</td>\n",
       "      <td>88.6</td>\n",
       "      <td>168.8</td>\n",
       "      <td>64.1</td>\n",
       "      <td>48.8</td>\n",
       "      <td>2548</td>\n",
       "      <td>dohc</td>\n",
       "      <td>four</td>\n",
       "      <td>130</td>\n",
       "      <td>mpfi</td>\n",
       "      <td>3.47</td>\n",
       "      <td>2.68</td>\n",
       "      <td>9.0</td>\n",
       "      <td>111.0</td>\n",
       "      <td>5000.0</td>\n",
       "      <td>21</td>\n",
       "      <td>27</td>\n",
       "      <td>16500</td>\n",
       "    </tr>\n",
       "  </tbody>\n",
       "</table>\n",
       "</div>"
      ],
      "text/plain": [
       "   symboling  normalized-losses         make  ... city-mpg highway-mpg  price\n",
       "0          3              122.0  alfa-romero  ...       21          27  13495\n",
       "1          3              122.0  alfa-romero  ...       21          27  16500\n",
       "\n",
       "[2 rows x 26 columns]"
      ]
     },
     "execution_count": 28,
     "metadata": {
      "tags": []
     },
     "output_type": "execute_result"
    }
   ],
   "source": [
    "data.head(2)"
   ]
  },
  {
   "cell_type": "code",
   "execution_count": 29,
   "metadata": {
    "colab": {
     "base_uri": "https://localhost:8080/",
     "height": 199
    },
    "colab_type": "code",
    "executionInfo": {
     "elapsed": 740,
     "status": "ok",
     "timestamp": 1575051104108,
     "user": {
      "displayName": "Barış Bozkurt",
      "photoUrl": "https://lh3.googleusercontent.com/a-/AAuE7mAdwaPUM3cQ3cUO9jZZ-QMeyRr9RU_6iP1RfFeg=s64",
      "userId": "04066217430702805158"
     },
     "user_tz": -180
    },
    "id": "l1ZDcZo2veZg",
    "outputId": "29c561c1-3db4-48d0-8a00-09e5491d1277"
   },
   "outputs": [
    {
     "data": {
      "text/html": [
       "<div>\n",
       "<style scoped>\n",
       "    .dataframe tbody tr th:only-of-type {\n",
       "        vertical-align: middle;\n",
       "    }\n",
       "\n",
       "    .dataframe tbody tr th {\n",
       "        vertical-align: top;\n",
       "    }\n",
       "\n",
       "    .dataframe thead th {\n",
       "        text-align: right;\n",
       "    }\n",
       "</style>\n",
       "<table border=\"1\" class=\"dataframe\">\n",
       "  <thead>\n",
       "    <tr style=\"text-align: right;\">\n",
       "      <th></th>\n",
       "      <th>symboling</th>\n",
       "      <th>normalized-losses</th>\n",
       "      <th>make</th>\n",
       "      <th>fuel-type</th>\n",
       "      <th>aspiration</th>\n",
       "      <th>num-of-doors</th>\n",
       "      <th>body-style</th>\n",
       "      <th>drive-wheels</th>\n",
       "      <th>engine-location</th>\n",
       "      <th>wheel-base</th>\n",
       "      <th>length</th>\n",
       "      <th>width</th>\n",
       "      <th>height</th>\n",
       "      <th>curb-weight</th>\n",
       "      <th>engine-type</th>\n",
       "      <th>num-of-cylinders</th>\n",
       "      <th>engine-size</th>\n",
       "      <th>fuel-system</th>\n",
       "      <th>bore</th>\n",
       "      <th>stroke</th>\n",
       "      <th>compression-ratio</th>\n",
       "      <th>horsepower</th>\n",
       "      <th>peak-rpm</th>\n",
       "      <th>city-L/100km</th>\n",
       "      <th>highway-L/100km</th>\n",
       "      <th>price</th>\n",
       "    </tr>\n",
       "  </thead>\n",
       "  <tbody>\n",
       "    <tr>\n",
       "      <th>0</th>\n",
       "      <td>3</td>\n",
       "      <td>122.0</td>\n",
       "      <td>alfa-romero</td>\n",
       "      <td>gas</td>\n",
       "      <td>std</td>\n",
       "      <td>2.0</td>\n",
       "      <td>convertible</td>\n",
       "      <td>rwd</td>\n",
       "      <td>front</td>\n",
       "      <td>88.6</td>\n",
       "      <td>168.8</td>\n",
       "      <td>64.1</td>\n",
       "      <td>48.8</td>\n",
       "      <td>2548</td>\n",
       "      <td>dohc</td>\n",
       "      <td>four</td>\n",
       "      <td>130</td>\n",
       "      <td>mpfi</td>\n",
       "      <td>3.47</td>\n",
       "      <td>2.68</td>\n",
       "      <td>9.0</td>\n",
       "      <td>111.0</td>\n",
       "      <td>5000.0</td>\n",
       "      <td>11.190476</td>\n",
       "      <td>8.703704</td>\n",
       "      <td>13495</td>\n",
       "    </tr>\n",
       "    <tr>\n",
       "      <th>1</th>\n",
       "      <td>3</td>\n",
       "      <td>122.0</td>\n",
       "      <td>alfa-romero</td>\n",
       "      <td>gas</td>\n",
       "      <td>std</td>\n",
       "      <td>2.0</td>\n",
       "      <td>convertible</td>\n",
       "      <td>rwd</td>\n",
       "      <td>front</td>\n",
       "      <td>88.6</td>\n",
       "      <td>168.8</td>\n",
       "      <td>64.1</td>\n",
       "      <td>48.8</td>\n",
       "      <td>2548</td>\n",
       "      <td>dohc</td>\n",
       "      <td>four</td>\n",
       "      <td>130</td>\n",
       "      <td>mpfi</td>\n",
       "      <td>3.47</td>\n",
       "      <td>2.68</td>\n",
       "      <td>9.0</td>\n",
       "      <td>111.0</td>\n",
       "      <td>5000.0</td>\n",
       "      <td>11.190476</td>\n",
       "      <td>8.703704</td>\n",
       "      <td>16500</td>\n",
       "    </tr>\n",
       "  </tbody>\n",
       "</table>\n",
       "</div>"
      ],
      "text/plain": [
       "   symboling  normalized-losses  ... highway-L/100km  price\n",
       "0          3              122.0  ...        8.703704  13495\n",
       "1          3              122.0  ...        8.703704  16500\n",
       "\n",
       "[2 rows x 26 columns]"
      ]
     },
     "execution_count": 29,
     "metadata": {
      "tags": []
     },
     "output_type": "execute_result"
    }
   ],
   "source": [
    "data['city-mpg']= 235 / data['city-mpg']\n",
    "data.rename(columns = {'city-mpg':'city-L/100km'},inplace=True)\n",
    "data['highway-mpg']= 235 / data['highway-mpg']\n",
    "data.rename(columns = {'highway-mpg':'highway-L/100km'},inplace=True)\n",
    "data.head(2)"
   ]
  },
  {
   "cell_type": "markdown",
   "metadata": {
    "colab_type": "text",
    "id": "M0pCKn_rwwiI"
   },
   "source": [
    "Veri türlerimizi kontrol edelim"
   ]
  },
  {
   "cell_type": "code",
   "execution_count": 30,
   "metadata": {
    "colab": {
     "base_uri": "https://localhost:8080/",
     "height": 476
    },
    "colab_type": "code",
    "executionInfo": {
     "elapsed": 649,
     "status": "ok",
     "timestamp": 1575051111779,
     "user": {
      "displayName": "Barış Bozkurt",
      "photoUrl": "https://lh3.googleusercontent.com/a-/AAuE7mAdwaPUM3cQ3cUO9jZZ-QMeyRr9RU_6iP1RfFeg=s64",
      "userId": "04066217430702805158"
     },
     "user_tz": -180
    },
    "id": "veOVyMpQwzYV",
    "outputId": "858ff28d-8132-442a-9283-05cae81888af"
   },
   "outputs": [
    {
     "data": {
      "text/plain": [
       "symboling              int64\n",
       "normalized-losses    float64\n",
       "make                  object\n",
       "fuel-type             object\n",
       "aspiration            object\n",
       "num-of-doors         float64\n",
       "body-style            object\n",
       "drive-wheels          object\n",
       "engine-location       object\n",
       "wheel-base           float64\n",
       "length               float64\n",
       "width                float64\n",
       "height               float64\n",
       "curb-weight            int64\n",
       "engine-type           object\n",
       "num-of-cylinders      object\n",
       "engine-size            int64\n",
       "fuel-system           object\n",
       "bore                 float64\n",
       "stroke               float64\n",
       "compression-ratio    float64\n",
       "horsepower           float64\n",
       "peak-rpm             float64\n",
       "city-L/100km         float64\n",
       "highway-L/100km      float64\n",
       "price                 object\n",
       "dtype: object"
      ]
     },
     "execution_count": 30,
     "metadata": {
      "tags": []
     },
     "output_type": "execute_result"
    }
   ],
   "source": [
    "data.dtypes"
   ]
  },
  {
   "cell_type": "markdown",
   "metadata": {
    "colab_type": "text",
    "id": "WfyjfDUVxXOV"
   },
   "source": [
    "Silindir sayısı tam sayı olsa daha doğru, hangi değerlerin kullanıldığına bakalım"
   ]
  },
  {
   "cell_type": "code",
   "execution_count": 31,
   "metadata": {
    "colab": {
     "base_uri": "https://localhost:8080/",
     "height": 153
    },
    "colab_type": "code",
    "executionInfo": {
     "elapsed": 763,
     "status": "ok",
     "timestamp": 1575051120596,
     "user": {
      "displayName": "Barış Bozkurt",
      "photoUrl": "https://lh3.googleusercontent.com/a-/AAuE7mAdwaPUM3cQ3cUO9jZZ-QMeyRr9RU_6iP1RfFeg=s64",
      "userId": "04066217430702805158"
     },
     "user_tz": -180
    },
    "id": "LZSpuEaUxMtd",
    "outputId": "0522067c-e00e-44fc-a033-705a9f163044"
   },
   "outputs": [
    {
     "data": {
      "text/plain": [
       "four      155\n",
       "six        24\n",
       "five       10\n",
       "two         4\n",
       "eight       4\n",
       "twelve      1\n",
       "three       1\n",
       "Name: num-of-cylinders, dtype: int64"
      ]
     },
     "execution_count": 31,
     "metadata": {
      "tags": []
     },
     "output_type": "execute_result"
    }
   ],
   "source": [
    "data[\"num-of-cylinders\"].value_counts()"
   ]
  },
  {
   "cell_type": "code",
   "execution_count": 33,
   "metadata": {
    "colab": {
     "base_uri": "https://localhost:8080/",
     "height": 153
    },
    "colab_type": "code",
    "executionInfo": {
     "elapsed": 672,
     "status": "ok",
     "timestamp": 1575051133554,
     "user": {
      "displayName": "Barış Bozkurt",
      "photoUrl": "https://lh3.googleusercontent.com/a-/AAuE7mAdwaPUM3cQ3cUO9jZZ-QMeyRr9RU_6iP1RfFeg=s64",
      "userId": "04066217430702805158"
     },
     "user_tz": -180
    },
    "id": "u8EbMZ_0xhUL",
    "outputId": "9f2255a9-a48a-4cfd-e870-3d157f293563"
   },
   "outputs": [
    {
     "data": {
      "text/plain": [
       "4     155\n",
       "6      24\n",
       "5      10\n",
       "8       4\n",
       "2       4\n",
       "12      1\n",
       "3       1\n",
       "Name: num-of-cylinders, dtype: int64"
      ]
     },
     "execution_count": 33,
     "metadata": {
      "tags": []
     },
     "output_type": "execute_result"
    }
   ],
   "source": [
    "#Sayı dönüştürücümüzü değiştirerek kullanalım\n",
    "def sayiya_donusturucu2(s):\n",
    "  if s == np.nan:\n",
    "    return s\n",
    "  elif isinstance(s,str):\n",
    "    if s.strip() == 'two':\n",
    "      return 2\n",
    "    elif s.strip() == 'three':\n",
    "      return 3\n",
    "    elif s.strip() == 'four':\n",
    "      return 4\n",
    "    elif s.strip() == 'five':\n",
    "      return 5\n",
    "    elif s.strip() == 'six':\n",
    "      return 6\n",
    "    elif s.strip() == 'eight':\n",
    "      return 8\n",
    "    elif s.strip() == 'twelve':\n",
    "      return 12\n",
    "    else:\n",
    "      return float(s)\n",
    "  else:\n",
    "    return s\n",
    "  \n",
    "\n",
    "data[\"num-of-cylinders\"] = data[\"num-of-cylinders\"].apply(sayiya_donusturucu2)\n",
    "data[\"num-of-cylinders\"] = data[\"num-of-cylinders\"].astype(\"int\")\n",
    "data[\"num-of-cylinders\"].value_counts()"
   ]
  },
  {
   "cell_type": "markdown",
   "metadata": {
    "colab_type": "text",
    "id": "_I2lmhu52-k1"
   },
   "source": [
    "## Normalizasyon\n",
    "\n",
    "Ozellikleri makine öğrenmesi süreçlerinde kullanırken her bir özelliğin hangi oranda modele katıldığı önemli bir bilgidir. Bu bilginin yorumlanmasını kolaylaştıran işlemlerden birisidir. Bunun için önce özelliklerin normalize edilmesi, katkılarının birbiriyle karşılaştırılabilir büyüklüklere getirilmelidir. Ayrıca bu işlemin model eğitim sürecini kolaylaştırdığı da bilinmektedir. Örnek olması açısından length width height özelliklerini normalize edelim"
   ]
  },
  {
   "cell_type": "markdown",
   "metadata": {
    "colab_type": "text",
    "id": "QNNh3YJ-47tZ"
   },
   "source": [
    "Öncelikler bu kolonlardaki verilere örnek satırlar görelim"
   ]
  },
  {
   "cell_type": "code",
   "execution_count": 34,
   "metadata": {
    "colab": {
     "base_uri": "https://localhost:8080/",
     "height": 204
    },
    "colab_type": "code",
    "executionInfo": {
     "elapsed": 769,
     "status": "ok",
     "timestamp": 1575051162225,
     "user": {
      "displayName": "Barış Bozkurt",
      "photoUrl": "https://lh3.googleusercontent.com/a-/AAuE7mAdwaPUM3cQ3cUO9jZZ-QMeyRr9RU_6iP1RfFeg=s64",
      "userId": "04066217430702805158"
     },
     "user_tz": -180
    },
    "id": "TU6ImyJc5AzA",
    "outputId": "18c2c24c-9874-4ae3-e153-9555ac83e8dc"
   },
   "outputs": [
    {
     "data": {
      "text/html": [
       "<div>\n",
       "<style scoped>\n",
       "    .dataframe tbody tr th:only-of-type {\n",
       "        vertical-align: middle;\n",
       "    }\n",
       "\n",
       "    .dataframe tbody tr th {\n",
       "        vertical-align: top;\n",
       "    }\n",
       "\n",
       "    .dataframe thead th {\n",
       "        text-align: right;\n",
       "    }\n",
       "</style>\n",
       "<table border=\"1\" class=\"dataframe\">\n",
       "  <thead>\n",
       "    <tr style=\"text-align: right;\">\n",
       "      <th></th>\n",
       "      <th>length</th>\n",
       "      <th>width</th>\n",
       "      <th>height</th>\n",
       "    </tr>\n",
       "  </thead>\n",
       "  <tbody>\n",
       "    <tr>\n",
       "      <th>0</th>\n",
       "      <td>168.8</td>\n",
       "      <td>64.1</td>\n",
       "      <td>48.8</td>\n",
       "    </tr>\n",
       "    <tr>\n",
       "      <th>1</th>\n",
       "      <td>168.8</td>\n",
       "      <td>64.1</td>\n",
       "      <td>48.8</td>\n",
       "    </tr>\n",
       "    <tr>\n",
       "      <th>2</th>\n",
       "      <td>171.2</td>\n",
       "      <td>65.5</td>\n",
       "      <td>52.4</td>\n",
       "    </tr>\n",
       "    <tr>\n",
       "      <th>3</th>\n",
       "      <td>176.6</td>\n",
       "      <td>66.2</td>\n",
       "      <td>54.3</td>\n",
       "    </tr>\n",
       "    <tr>\n",
       "      <th>4</th>\n",
       "      <td>176.6</td>\n",
       "      <td>66.4</td>\n",
       "      <td>54.3</td>\n",
       "    </tr>\n",
       "  </tbody>\n",
       "</table>\n",
       "</div>"
      ],
      "text/plain": [
       "   length  width  height\n",
       "0   168.8   64.1    48.8\n",
       "1   168.8   64.1    48.8\n",
       "2   171.2   65.5    52.4\n",
       "3   176.6   66.2    54.3\n",
       "4   176.6   66.4    54.3"
      ]
     },
     "execution_count": 34,
     "metadata": {
      "tags": []
     },
     "output_type": "execute_result"
    }
   ],
   "source": [
    "data[['length','width','height']].head()"
   ]
  },
  {
   "cell_type": "markdown",
   "metadata": {
    "colab_type": "text",
    "id": "cPihBHsj4CGy"
   },
   "source": [
    "Opsiyon 1) max değere bölerek değerleri 0-1 arasına normalize etmek"
   ]
  },
  {
   "cell_type": "code",
   "execution_count": 0,
   "metadata": {
    "colab": {},
    "colab_type": "code",
    "id": "n9hod--w4LKi"
   },
   "outputs": [],
   "source": [
    "data['length'] = data['length']/data['length'].max()"
   ]
  },
  {
   "cell_type": "markdown",
   "metadata": {
    "colab_type": "text",
    "id": "M5nRy6B54g_2"
   },
   "source": [
    "Opsiyon 2) Dinamik aralıkla(max-min) normalize etmek"
   ]
  },
  {
   "cell_type": "code",
   "execution_count": 0,
   "metadata": {
    "colab": {},
    "colab_type": "code",
    "id": "yO5YHESp4nIT"
   },
   "outputs": [],
   "source": [
    "data['width'] = (data['width']-data['width'].min())/(data['width'].max()-data['width'].min())"
   ]
  },
  {
   "cell_type": "markdown",
   "metadata": {
    "colab_type": "text",
    "id": "fWivfBYs5JoH"
   },
   "source": [
    "Opsiyon3) Z-score: ortalama değeri çıkartıp standart sapmaya bölmek"
   ]
  },
  {
   "cell_type": "code",
   "execution_count": 0,
   "metadata": {
    "colab": {},
    "colab_type": "code",
    "id": "l7-IMYRu5P4j"
   },
   "outputs": [],
   "source": [
    "data['height'] = (data['height']-data['height'].mean())/data['height'].std()"
   ]
  },
  {
   "cell_type": "markdown",
   "metadata": {
    "colab_type": "text",
    "id": "B6WtcREn5b0S"
   },
   "source": [
    "Değerlerin baş kısmına tekrar bakarsak"
   ]
  },
  {
   "cell_type": "code",
   "execution_count": 38,
   "metadata": {
    "colab": {
     "base_uri": "https://localhost:8080/",
     "height": 204
    },
    "colab_type": "code",
    "executionInfo": {
     "elapsed": 695,
     "status": "ok",
     "timestamp": 1575051196964,
     "user": {
      "displayName": "Barış Bozkurt",
      "photoUrl": "https://lh3.googleusercontent.com/a-/AAuE7mAdwaPUM3cQ3cUO9jZZ-QMeyRr9RU_6iP1RfFeg=s64",
      "userId": "04066217430702805158"
     },
     "user_tz": -180
    },
    "id": "juyVfI5a5fHd",
    "outputId": "44790d34-7bdb-4873-f864-7a365345011a"
   },
   "outputs": [
    {
     "data": {
      "text/html": [
       "<div>\n",
       "<style scoped>\n",
       "    .dataframe tbody tr th:only-of-type {\n",
       "        vertical-align: middle;\n",
       "    }\n",
       "\n",
       "    .dataframe tbody tr th {\n",
       "        vertical-align: top;\n",
       "    }\n",
       "\n",
       "    .dataframe thead th {\n",
       "        text-align: right;\n",
       "    }\n",
       "</style>\n",
       "<table border=\"1\" class=\"dataframe\">\n",
       "  <thead>\n",
       "    <tr style=\"text-align: right;\">\n",
       "      <th></th>\n",
       "      <th>length</th>\n",
       "      <th>width</th>\n",
       "      <th>height</th>\n",
       "    </tr>\n",
       "  </thead>\n",
       "  <tbody>\n",
       "    <tr>\n",
       "      <th>0</th>\n",
       "      <td>0.811148</td>\n",
       "      <td>0.324786</td>\n",
       "      <td>-2.033429</td>\n",
       "    </tr>\n",
       "    <tr>\n",
       "      <th>1</th>\n",
       "      <td>0.811148</td>\n",
       "      <td>0.324786</td>\n",
       "      <td>-2.033429</td>\n",
       "    </tr>\n",
       "    <tr>\n",
       "      <th>2</th>\n",
       "      <td>0.822681</td>\n",
       "      <td>0.444444</td>\n",
       "      <td>-0.562263</td>\n",
       "    </tr>\n",
       "    <tr>\n",
       "      <th>3</th>\n",
       "      <td>0.848630</td>\n",
       "      <td>0.504274</td>\n",
       "      <td>0.214186</td>\n",
       "    </tr>\n",
       "    <tr>\n",
       "      <th>4</th>\n",
       "      <td>0.848630</td>\n",
       "      <td>0.521368</td>\n",
       "      <td>0.214186</td>\n",
       "    </tr>\n",
       "  </tbody>\n",
       "</table>\n",
       "</div>"
      ],
      "text/plain": [
       "     length     width    height\n",
       "0  0.811148  0.324786 -2.033429\n",
       "1  0.811148  0.324786 -2.033429\n",
       "2  0.822681  0.444444 -0.562263\n",
       "3  0.848630  0.504274  0.214186\n",
       "4  0.848630  0.521368  0.214186"
      ]
     },
     "execution_count": 38,
     "metadata": {
      "tags": []
     },
     "output_type": "execute_result"
    }
   ],
   "source": [
    "data[['length','width','height']].head()"
   ]
  },
  {
   "cell_type": "markdown",
   "metadata": {
    "colab_type": "text",
    "id": "5Jes0_HG5_PP"
   },
   "source": [
    "## \"Binning\" / kategorizasyon\n",
    "\n",
    "Bazen de sayısal değerlerden yola çıkarak alt kategoriler oluşturmak isteyebiliriz. Örnek: fiyat bilgisinden yola çıkarak fiyat kategorileri oluşturup kullanmak isteyebiliriz: low, mid, high. Bunun için önce bu kategorilerin sınırlarını tanımlamalıyız. Bunun için de öncelikle verinin dağılımına bakmak isteyebiliriz"
   ]
  },
  {
   "cell_type": "code",
   "execution_count": 39,
   "metadata": {
    "colab": {
     "base_uri": "https://localhost:8080/",
     "height": 102
    },
    "colab_type": "code",
    "executionInfo": {
     "elapsed": 679,
     "status": "ok",
     "timestamp": 1575051213457,
     "user": {
      "displayName": "Barış Bozkurt",
      "photoUrl": "https://lh3.googleusercontent.com/a-/AAuE7mAdwaPUM3cQ3cUO9jZZ-QMeyRr9RU_6iP1RfFeg=s64",
      "userId": "04066217430702805158"
     },
     "user_tz": -180
    },
    "id": "due3AhDecRHE",
    "outputId": "9c3c76f5-157c-4198-b168-6b572d445e8f"
   },
   "outputs": [
    {
     "data": {
      "text/plain": [
       "count      199\n",
       "unique     184\n",
       "top       5572\n",
       "freq         2\n",
       "Name: price, dtype: object"
      ]
     },
     "execution_count": 39,
     "metadata": {
      "tags": []
     },
     "output_type": "execute_result"
    }
   ],
   "source": [
    "data['price'].describe()"
   ]
  },
  {
   "cell_type": "markdown",
   "metadata": {
    "colab_type": "text",
    "id": "ft2JIfcQd7QQ"
   },
   "source": [
    "Fiyat string olarak tutuluyor, önce tam sayı değerlere çevirelim"
   ]
  },
  {
   "cell_type": "code",
   "execution_count": 40,
   "metadata": {
    "colab": {
     "base_uri": "https://localhost:8080/",
     "height": 170
    },
    "colab_type": "code",
    "executionInfo": {
     "elapsed": 774,
     "status": "ok",
     "timestamp": 1575051225615,
     "user": {
      "displayName": "Barış Bozkurt",
      "photoUrl": "https://lh3.googleusercontent.com/a-/AAuE7mAdwaPUM3cQ3cUO9jZZ-QMeyRr9RU_6iP1RfFeg=s64",
      "userId": "04066217430702805158"
     },
     "user_tz": -180
    },
    "id": "Uw4jjie8d6Fx",
    "outputId": "2a3d6038-66ca-40fa-d385-0ec3c1063590"
   },
   "outputs": [
    {
     "data": {
      "text/plain": [
       "count      199.000000\n",
       "mean     13243.432161\n",
       "std       7978.707609\n",
       "min       5118.000000\n",
       "25%       7775.000000\n",
       "50%      10345.000000\n",
       "75%      16501.500000\n",
       "max      45400.000000\n",
       "Name: price, dtype: float64"
      ]
     },
     "execution_count": 40,
     "metadata": {
      "tags": []
     },
     "output_type": "execute_result"
    }
   ],
   "source": [
    "data['price'] = data['price'].astype(int)\n",
    "data['price'].describe()"
   ]
  },
  {
   "cell_type": "markdown",
   "metadata": {
    "colab_type": "text",
    "id": "EZdSROXBegxX"
   },
   "source": [
    "Kategori sınırlarını eşit aralıklı tanımlayabiliriz: max-min arasında birbirinden eşit uzaklıkta kategori_sayisi+1 değer oluşturalım "
   ]
  },
  {
   "cell_type": "code",
   "execution_count": 41,
   "metadata": {
    "colab": {
     "base_uri": "https://localhost:8080/",
     "height": 34
    },
    "colab_type": "code",
    "executionInfo": {
     "elapsed": 764,
     "status": "ok",
     "timestamp": 1575051252747,
     "user": {
      "displayName": "Barış Bozkurt",
      "photoUrl": "https://lh3.googleusercontent.com/a-/AAuE7mAdwaPUM3cQ3cUO9jZZ-QMeyRr9RU_6iP1RfFeg=s64",
      "userId": "04066217430702805158"
     },
     "user_tz": -180
    },
    "id": "gns7Nlbh6PEe",
    "outputId": "d386d37c-cf07-453c-8c60-088106a04195"
   },
   "outputs": [
    {
     "name": "stdout",
     "output_type": "stream",
     "text": [
      "[ 5118.         18545.33333333 31972.66666667 45400.        ]\n"
     ]
    }
   ],
   "source": [
    "bins = np.linspace(data['price'].min(), data['price'].max(),4)#start, stop, nums\n",
    "print(bins)"
   ]
  },
  {
   "cell_type": "code",
   "execution_count": 0,
   "metadata": {
    "colab": {},
    "colab_type": "code",
    "id": "OCwgs-nr6u-Y"
   },
   "outputs": [],
   "source": [
    "kategoriler = ['low','mid','high']\n",
    "#yeni bir kolon yaratıp bu kategorik verileri oluşturup yerleştirebiliriz\n",
    "data['price-category'] = pd.cut(data['price'], bins, labels = kategoriler, include_lowest = True)"
   ]
  },
  {
   "cell_type": "code",
   "execution_count": 44,
   "metadata": {
    "colab": {
     "base_uri": "https://localhost:8080/",
     "height": 359
    },
    "colab_type": "code",
    "executionInfo": {
     "elapsed": 674,
     "status": "ok",
     "timestamp": 1575051278660,
     "user": {
      "displayName": "Barış Bozkurt",
      "photoUrl": "https://lh3.googleusercontent.com/a-/AAuE7mAdwaPUM3cQ3cUO9jZZ-QMeyRr9RU_6iP1RfFeg=s64",
      "userId": "04066217430702805158"
     },
     "user_tz": -180
    },
    "id": "xtbZhvSR7zOS",
    "outputId": "a4083d07-c584-4f60-aaea-9781f803741f"
   },
   "outputs": [
    {
     "data": {
      "text/html": [
       "<div>\n",
       "<style scoped>\n",
       "    .dataframe tbody tr th:only-of-type {\n",
       "        vertical-align: middle;\n",
       "    }\n",
       "\n",
       "    .dataframe tbody tr th {\n",
       "        vertical-align: top;\n",
       "    }\n",
       "\n",
       "    .dataframe thead th {\n",
       "        text-align: right;\n",
       "    }\n",
       "</style>\n",
       "<table border=\"1\" class=\"dataframe\">\n",
       "  <thead>\n",
       "    <tr style=\"text-align: right;\">\n",
       "      <th></th>\n",
       "      <th>price</th>\n",
       "      <th>price-category</th>\n",
       "    </tr>\n",
       "  </thead>\n",
       "  <tbody>\n",
       "    <tr>\n",
       "      <th>0</th>\n",
       "      <td>13495</td>\n",
       "      <td>low</td>\n",
       "    </tr>\n",
       "    <tr>\n",
       "      <th>1</th>\n",
       "      <td>16500</td>\n",
       "      <td>low</td>\n",
       "    </tr>\n",
       "    <tr>\n",
       "      <th>2</th>\n",
       "      <td>16500</td>\n",
       "      <td>low</td>\n",
       "    </tr>\n",
       "    <tr>\n",
       "      <th>3</th>\n",
       "      <td>13950</td>\n",
       "      <td>low</td>\n",
       "    </tr>\n",
       "    <tr>\n",
       "      <th>4</th>\n",
       "      <td>17450</td>\n",
       "      <td>low</td>\n",
       "    </tr>\n",
       "    <tr>\n",
       "      <th>5</th>\n",
       "      <td>15250</td>\n",
       "      <td>low</td>\n",
       "    </tr>\n",
       "    <tr>\n",
       "      <th>6</th>\n",
       "      <td>17710</td>\n",
       "      <td>low</td>\n",
       "    </tr>\n",
       "    <tr>\n",
       "      <th>7</th>\n",
       "      <td>18920</td>\n",
       "      <td>mid</td>\n",
       "    </tr>\n",
       "    <tr>\n",
       "      <th>8</th>\n",
       "      <td>23875</td>\n",
       "      <td>mid</td>\n",
       "    </tr>\n",
       "    <tr>\n",
       "      <th>10</th>\n",
       "      <td>16430</td>\n",
       "      <td>low</td>\n",
       "    </tr>\n",
       "  </tbody>\n",
       "</table>\n",
       "</div>"
      ],
      "text/plain": [
       "    price price-category\n",
       "0   13495            low\n",
       "1   16500            low\n",
       "2   16500            low\n",
       "3   13950            low\n",
       "4   17450            low\n",
       "5   15250            low\n",
       "6   17710            low\n",
       "7   18920            mid\n",
       "8   23875            mid\n",
       "10  16430            low"
      ]
     },
     "execution_count": 44,
     "metadata": {
      "tags": []
     },
     "output_type": "execute_result"
    }
   ],
   "source": [
    "data[['price','price-category']].head(10)"
   ]
  },
  {
   "cell_type": "markdown",
   "metadata": {
    "colab_type": "text",
    "id": "V_DkOfO98P20"
   },
   "source": [
    "**Kategorik verinin sayıya dönüştürülmesi**\n",
    "\n",
    "Bunun için de çeşitli opsiyonlar bulunmakta. Bunlardan birisi \"One hot encoding\": Örneğin \"fuel-type\" özelliği iki tür değer alabiliyor: \"gas\" ve \"diesel\". Bu özellik yerine, içine 0 veya 1 değeri alan \"gas\" ve \"diesel\" kolonları oluşturmak isteyebiliriz. Burada 1: var, 0: yok anlamı taşıyacak"
   ]
  },
  {
   "cell_type": "code",
   "execution_count": 46,
   "metadata": {
    "colab": {
     "base_uri": "https://localhost:8080/",
     "height": 68
    },
    "colab_type": "code",
    "executionInfo": {
     "elapsed": 1655,
     "status": "ok",
     "timestamp": 1575051308308,
     "user": {
      "displayName": "Barış Bozkurt",
      "photoUrl": "https://lh3.googleusercontent.com/a-/AAuE7mAdwaPUM3cQ3cUO9jZZ-QMeyRr9RU_6iP1RfFeg=s64",
      "userId": "04066217430702805158"
     },
     "user_tz": -180
    },
    "id": "S9dKI3Ba8tZj",
    "outputId": "9efdebc3-3e38-44d9-c6b0-b155c49c3ea4"
   },
   "outputs": [
    {
     "data": {
      "text/plain": [
       "gas       179\n",
       "diesel     20\n",
       "Name: fuel-type, dtype: int64"
      ]
     },
     "execution_count": 46,
     "metadata": {
      "tags": []
     },
     "output_type": "execute_result"
    }
   ],
   "source": [
    "data[\"fuel-type\"].value_counts()"
   ]
  },
  {
   "cell_type": "code",
   "execution_count": 0,
   "metadata": {
    "colab": {},
    "colab_type": "code",
    "id": "goWd1M4-8-8o"
   },
   "outputs": [],
   "source": [
    "data = pd.concat([data,pd.get_dummies(data['fuel-type'])], axis = 1)#get_dummies: one-hot encoding ile yeni kolonlar oluşturup 0 ve 1 değerleri yerleştirir"
   ]
  },
  {
   "cell_type": "markdown",
   "metadata": {
    "colab_type": "text",
    "id": "_-k5g-SvxHnK"
   },
   "source": [
    "İki adet yeni kolon oluşturuldu"
   ]
  },
  {
   "cell_type": "code",
   "execution_count": 48,
   "metadata": {
    "colab": {
     "base_uri": "https://localhost:8080/",
     "height": 136
    },
    "colab_type": "code",
    "executionInfo": {
     "elapsed": 717,
     "status": "ok",
     "timestamp": 1575051332496,
     "user": {
      "displayName": "Barış Bozkurt",
      "photoUrl": "https://lh3.googleusercontent.com/a-/AAuE7mAdwaPUM3cQ3cUO9jZZ-QMeyRr9RU_6iP1RfFeg=s64",
      "userId": "04066217430702805158"
     },
     "user_tz": -180
    },
    "id": "paOghM2AxHnW",
    "outputId": "d58a12a9-f137-44cb-a545-8ee475ea12c1"
   },
   "outputs": [
    {
     "data": {
      "text/plain": [
       "Index(['symboling', 'normalized-losses', 'make', 'fuel-type', 'aspiration',\n",
       "       'num-of-doors', 'body-style', 'drive-wheels', 'engine-location',\n",
       "       'wheel-base', 'length', 'width', 'height', 'curb-weight', 'engine-type',\n",
       "       'num-of-cylinders', 'engine-size', 'fuel-system', 'bore', 'stroke',\n",
       "       'compression-ratio', 'horsepower', 'peak-rpm', 'city-L/100km',\n",
       "       'highway-L/100km', 'price', 'price-category', 'diesel', 'gas'],\n",
       "      dtype='object')"
      ]
     },
     "execution_count": 48,
     "metadata": {
      "tags": []
     },
     "output_type": "execute_result"
    }
   ],
   "source": [
    "data.columns"
   ]
  },
  {
   "cell_type": "code",
   "execution_count": 49,
   "metadata": {
    "colab": {
     "base_uri": "https://localhost:8080/",
     "height": 309
    },
    "colab_type": "code",
    "executionInfo": {
     "elapsed": 700,
     "status": "ok",
     "timestamp": 1575051336547,
     "user": {
      "displayName": "Barış Bozkurt",
      "photoUrl": "https://lh3.googleusercontent.com/a-/AAuE7mAdwaPUM3cQ3cUO9jZZ-QMeyRr9RU_6iP1RfFeg=s64",
      "userId": "04066217430702805158"
     },
     "user_tz": -180
    },
    "id": "TV40JXlX9UCY",
    "outputId": "727b69ba-319e-4c07-bd6d-02884f565020"
   },
   "outputs": [
    {
     "data": {
      "text/html": [
       "<div>\n",
       "<style scoped>\n",
       "    .dataframe tbody tr th:only-of-type {\n",
       "        vertical-align: middle;\n",
       "    }\n",
       "\n",
       "    .dataframe tbody tr th {\n",
       "        vertical-align: top;\n",
       "    }\n",
       "\n",
       "    .dataframe thead th {\n",
       "        text-align: right;\n",
       "    }\n",
       "</style>\n",
       "<table border=\"1\" class=\"dataframe\">\n",
       "  <thead>\n",
       "    <tr style=\"text-align: right;\">\n",
       "      <th></th>\n",
       "      <th>symboling</th>\n",
       "      <th>normalized-losses</th>\n",
       "      <th>make</th>\n",
       "      <th>fuel-type</th>\n",
       "      <th>aspiration</th>\n",
       "      <th>num-of-doors</th>\n",
       "      <th>body-style</th>\n",
       "      <th>drive-wheels</th>\n",
       "      <th>engine-location</th>\n",
       "      <th>wheel-base</th>\n",
       "      <th>length</th>\n",
       "      <th>width</th>\n",
       "      <th>height</th>\n",
       "      <th>curb-weight</th>\n",
       "      <th>engine-type</th>\n",
       "      <th>num-of-cylinders</th>\n",
       "      <th>engine-size</th>\n",
       "      <th>fuel-system</th>\n",
       "      <th>bore</th>\n",
       "      <th>stroke</th>\n",
       "      <th>compression-ratio</th>\n",
       "      <th>horsepower</th>\n",
       "      <th>peak-rpm</th>\n",
       "      <th>city-L/100km</th>\n",
       "      <th>highway-L/100km</th>\n",
       "      <th>price</th>\n",
       "      <th>price-category</th>\n",
       "      <th>diesel</th>\n",
       "      <th>gas</th>\n",
       "    </tr>\n",
       "  </thead>\n",
       "  <tbody>\n",
       "    <tr>\n",
       "      <th>0</th>\n",
       "      <td>3</td>\n",
       "      <td>122.0</td>\n",
       "      <td>alfa-romero</td>\n",
       "      <td>gas</td>\n",
       "      <td>std</td>\n",
       "      <td>2.0</td>\n",
       "      <td>convertible</td>\n",
       "      <td>rwd</td>\n",
       "      <td>front</td>\n",
       "      <td>88.6</td>\n",
       "      <td>0.811148</td>\n",
       "      <td>0.324786</td>\n",
       "      <td>-2.033429</td>\n",
       "      <td>2548</td>\n",
       "      <td>dohc</td>\n",
       "      <td>4</td>\n",
       "      <td>130</td>\n",
       "      <td>mpfi</td>\n",
       "      <td>3.47</td>\n",
       "      <td>2.68</td>\n",
       "      <td>9.0</td>\n",
       "      <td>111.0</td>\n",
       "      <td>5000.0</td>\n",
       "      <td>11.190476</td>\n",
       "      <td>8.703704</td>\n",
       "      <td>13495</td>\n",
       "      <td>low</td>\n",
       "      <td>0</td>\n",
       "      <td>1</td>\n",
       "    </tr>\n",
       "    <tr>\n",
       "      <th>1</th>\n",
       "      <td>3</td>\n",
       "      <td>122.0</td>\n",
       "      <td>alfa-romero</td>\n",
       "      <td>gas</td>\n",
       "      <td>std</td>\n",
       "      <td>2.0</td>\n",
       "      <td>convertible</td>\n",
       "      <td>rwd</td>\n",
       "      <td>front</td>\n",
       "      <td>88.6</td>\n",
       "      <td>0.811148</td>\n",
       "      <td>0.324786</td>\n",
       "      <td>-2.033429</td>\n",
       "      <td>2548</td>\n",
       "      <td>dohc</td>\n",
       "      <td>4</td>\n",
       "      <td>130</td>\n",
       "      <td>mpfi</td>\n",
       "      <td>3.47</td>\n",
       "      <td>2.68</td>\n",
       "      <td>9.0</td>\n",
       "      <td>111.0</td>\n",
       "      <td>5000.0</td>\n",
       "      <td>11.190476</td>\n",
       "      <td>8.703704</td>\n",
       "      <td>16500</td>\n",
       "      <td>low</td>\n",
       "      <td>0</td>\n",
       "      <td>1</td>\n",
       "    </tr>\n",
       "    <tr>\n",
       "      <th>2</th>\n",
       "      <td>1</td>\n",
       "      <td>122.0</td>\n",
       "      <td>alfa-romero</td>\n",
       "      <td>gas</td>\n",
       "      <td>std</td>\n",
       "      <td>2.0</td>\n",
       "      <td>hatchback</td>\n",
       "      <td>rwd</td>\n",
       "      <td>front</td>\n",
       "      <td>94.5</td>\n",
       "      <td>0.822681</td>\n",
       "      <td>0.444444</td>\n",
       "      <td>-0.562263</td>\n",
       "      <td>2823</td>\n",
       "      <td>ohcv</td>\n",
       "      <td>6</td>\n",
       "      <td>152</td>\n",
       "      <td>mpfi</td>\n",
       "      <td>2.68</td>\n",
       "      <td>3.47</td>\n",
       "      <td>9.0</td>\n",
       "      <td>154.0</td>\n",
       "      <td>5000.0</td>\n",
       "      <td>12.368421</td>\n",
       "      <td>9.038462</td>\n",
       "      <td>16500</td>\n",
       "      <td>low</td>\n",
       "      <td>0</td>\n",
       "      <td>1</td>\n",
       "    </tr>\n",
       "    <tr>\n",
       "      <th>3</th>\n",
       "      <td>2</td>\n",
       "      <td>164.0</td>\n",
       "      <td>audi</td>\n",
       "      <td>gas</td>\n",
       "      <td>std</td>\n",
       "      <td>4.0</td>\n",
       "      <td>sedan</td>\n",
       "      <td>fwd</td>\n",
       "      <td>front</td>\n",
       "      <td>99.8</td>\n",
       "      <td>0.848630</td>\n",
       "      <td>0.504274</td>\n",
       "      <td>0.214186</td>\n",
       "      <td>2337</td>\n",
       "      <td>ohc</td>\n",
       "      <td>4</td>\n",
       "      <td>109</td>\n",
       "      <td>mpfi</td>\n",
       "      <td>3.19</td>\n",
       "      <td>3.40</td>\n",
       "      <td>10.0</td>\n",
       "      <td>102.0</td>\n",
       "      <td>5500.0</td>\n",
       "      <td>9.791667</td>\n",
       "      <td>7.833333</td>\n",
       "      <td>13950</td>\n",
       "      <td>low</td>\n",
       "      <td>0</td>\n",
       "      <td>1</td>\n",
       "    </tr>\n",
       "    <tr>\n",
       "      <th>4</th>\n",
       "      <td>2</td>\n",
       "      <td>164.0</td>\n",
       "      <td>audi</td>\n",
       "      <td>gas</td>\n",
       "      <td>std</td>\n",
       "      <td>4.0</td>\n",
       "      <td>sedan</td>\n",
       "      <td>4wd</td>\n",
       "      <td>front</td>\n",
       "      <td>99.4</td>\n",
       "      <td>0.848630</td>\n",
       "      <td>0.521368</td>\n",
       "      <td>0.214186</td>\n",
       "      <td>2824</td>\n",
       "      <td>ohc</td>\n",
       "      <td>5</td>\n",
       "      <td>136</td>\n",
       "      <td>mpfi</td>\n",
       "      <td>3.19</td>\n",
       "      <td>3.40</td>\n",
       "      <td>8.0</td>\n",
       "      <td>115.0</td>\n",
       "      <td>5500.0</td>\n",
       "      <td>13.055556</td>\n",
       "      <td>10.681818</td>\n",
       "      <td>17450</td>\n",
       "      <td>low</td>\n",
       "      <td>0</td>\n",
       "      <td>1</td>\n",
       "    </tr>\n",
       "  </tbody>\n",
       "</table>\n",
       "</div>"
      ],
      "text/plain": [
       "   symboling  normalized-losses         make  ... price-category diesel  gas\n",
       "0          3              122.0  alfa-romero  ...            low      0    1\n",
       "1          3              122.0  alfa-romero  ...            low      0    1\n",
       "2          1              122.0  alfa-romero  ...            low      0    1\n",
       "3          2              164.0         audi  ...            low      0    1\n",
       "4          2              164.0         audi  ...            low      0    1\n",
       "\n",
       "[5 rows x 29 columns]"
      ]
     },
     "execution_count": 49,
     "metadata": {
      "tags": []
     },
     "output_type": "execute_result"
    }
   ],
   "source": [
    "data.head()"
   ]
  },
  {
   "cell_type": "markdown",
   "metadata": {
    "colab_type": "text",
    "id": "Dbklz6UCgKnd"
   },
   "source": [
    "# Verilerin istatistiksel incelemesi ve görselleştirilmesi"
   ]
  },
  {
   "cell_type": "markdown",
   "metadata": {
    "colab_type": "text",
    "id": "Yb1JzAtxgQjN"
   },
   "source": [
    "Şimdiye kadar .describe() ve .value_counts() fonksiyonlarıyla bir kolondaki veri dağılımına dair bilgiler edindik. Şimdi bazı başka opsiyonları görelim"
   ]
  },
  {
   "cell_type": "markdown",
   "metadata": {
    "colab_type": "text",
    "id": "KH0C2DNlysj0"
   },
   "source": [
    "Aşağıda bazı çizimler yaptıracağız, önce ilgili kütüphaneleri yükleyelim"
   ]
  },
  {
   "cell_type": "code",
   "execution_count": 0,
   "metadata": {
    "colab": {},
    "colab_type": "code",
    "id": "4D1KGLdWyxdN"
   },
   "outputs": [],
   "source": [
    "import matplotlib.pyplot as plt\n",
    "import seaborn as sns"
   ]
  },
  {
   "cell_type": "markdown",
   "metadata": {
    "colab_type": "text",
    "id": "UdhHs2fWNuOl"
   },
   "source": [
    "**0) Histogram**"
   ]
  },
  {
   "cell_type": "code",
   "execution_count": 51,
   "metadata": {
    "colab": {
     "base_uri": "https://localhost:8080/",
     "height": 282
    },
    "colab_type": "code",
    "executionInfo": {
     "elapsed": 1091,
     "status": "ok",
     "timestamp": 1575051359735,
     "user": {
      "displayName": "Barış Bozkurt",
      "photoUrl": "https://lh3.googleusercontent.com/a-/AAuE7mAdwaPUM3cQ3cUO9jZZ-QMeyRr9RU_6iP1RfFeg=s64",
      "userId": "04066217430702805158"
     },
     "user_tz": -180
    },
    "id": "rS87BErxNAkp",
    "outputId": "0e99e078-643c-4544-a3e6-b5403608e0dc"
   },
   "outputs": [
    {
     "data": {
      "text/plain": [
       "<matplotlib.axes._subplots.AxesSubplot at 0x7faf2eabc780>"
      ]
     },
     "execution_count": 51,
     "metadata": {
      "tags": []
     },
     "output_type": "execute_result"
    },
    {
     "data": {
      "image/png": "[encoded data removed]",
      "text/plain": [
       "<Figure size 432x288 with 1 Axes>"
      ]
     },
     "metadata": {
      "tags": []
     },
     "output_type": "display_data"
    }
   ],
   "source": [
    "data['engine-size'].hist(bins=50)"
   ]
  },
  {
   "cell_type": "markdown",
   "metadata": {
    "colab_type": "text",
    "id": "O0YO-jhayHFS"
   },
   "source": [
    "Histogram çizimini verideki tüm kolonlar için (tüm dataFrame için) çizdirebiliriz"
   ]
  },
  {
   "cell_type": "code",
   "execution_count": 52,
   "metadata": {
    "colab": {
     "base_uri": "https://localhost:8080/",
     "height": 585
    },
    "colab_type": "code",
    "executionInfo": {
     "elapsed": 6836,
     "status": "ok",
     "timestamp": 1575051372152,
     "user": {
      "displayName": "Barış Bozkurt",
      "photoUrl": "https://lh3.googleusercontent.com/a-/AAuE7mAdwaPUM3cQ3cUO9jZZ-QMeyRr9RU_6iP1RfFeg=s64",
      "userId": "04066217430702805158"
     },
     "user_tz": -180
    },
    "id": "JxIQZ0QxyM-R",
    "outputId": "05db721a-3c81-4707-a577-423fdea33d49"
   },
   "outputs": [
    {
     "data": {
      "image/png": "[encoded data removed]",
      "text/plain": [
       "<Figure size 432x288 with 20 Axes>"
      ]
     },
     "metadata": {
      "tags": []
     },
     "output_type": "display_data"
    }
   ],
   "source": [
    "data.hist(bins=50, xlabelsize = 8, ylabelsize = 8)\n",
    "plt.tight_layout(rect=(0, 0, 2, 2))"
   ]
  },
  {
   "cell_type": "markdown",
   "metadata": {
    "colab_type": "text",
    "id": "i6eK2HYQgfLR"
   },
   "source": [
    "**1) \"Box-plot\"**\n",
    "Bir değişkenin, bir diğerine göre dağılımını incelemek için box-plot kullanımı. \"drive-wheels\" kolonundaki verilerdeki kategorilerin \"price\" dağılımlarını görelim"
   ]
  },
  {
   "cell_type": "code",
   "execution_count": 53,
   "metadata": {
    "colab": {
     "base_uri": "https://localhost:8080/",
     "height": 296
    },
    "colab_type": "code",
    "executionInfo": {
     "elapsed": 744,
     "status": "ok",
     "timestamp": 1575051387833,
     "user": {
      "displayName": "Barış Bozkurt",
      "photoUrl": "https://lh3.googleusercontent.com/a-/AAuE7mAdwaPUM3cQ3cUO9jZZ-QMeyRr9RU_6iP1RfFeg=s64",
      "userId": "04066217430702805158"
     },
     "user_tz": -180
    },
    "id": "SCSAny1ogldS",
    "outputId": "f179e9fb-e593-44ff-f99a-e57160822046"
   },
   "outputs": [
    {
     "data": {
      "text/plain": [
       "<matplotlib.axes._subplots.AxesSubplot at 0x7faf2d7922e8>"
      ]
     },
     "execution_count": 53,
     "metadata": {
      "tags": []
     },
     "output_type": "execute_result"
    },
    {
     "data": {
      "image/png": "[encoded data removed]",
      "text/plain": [
       "<Figure size 432x288 with 1 Axes>"
      ]
     },
     "metadata": {
      "tags": []
     },
     "output_type": "display_data"
    }
   ],
   "source": [
    "sns.boxplot(x = 'drive-wheels', y = 'price', data = data)"
   ]
  },
  {
   "cell_type": "markdown",
   "metadata": {
    "colab_type": "text",
    "id": "xMUKGKz3hk7Y"
   },
   "source": [
    "Markalara göre fiyat dağılıma bakabiliriz"
   ]
  },
  {
   "cell_type": "code",
   "execution_count": 54,
   "metadata": {
    "colab": {
     "base_uri": "https://localhost:8080/",
     "height": 425
    },
    "colab_type": "code",
    "executionInfo": {
     "elapsed": 1663,
     "status": "ok",
     "timestamp": 1575051412799,
     "user": {
      "displayName": "Barış Bozkurt",
      "photoUrl": "https://lh3.googleusercontent.com/a-/AAuE7mAdwaPUM3cQ3cUO9jZZ-QMeyRr9RU_6iP1RfFeg=s64",
      "userId": "04066217430702805158"
     },
     "user_tz": -180
    },
    "id": "WaCWS2MHhBZI",
    "outputId": "46c44dc1-c20b-4cc7-a801-bb4a8a8c5ae9"
   },
   "outputs": [
    {
     "data": {
      "text/plain": [
       "<matplotlib.axes._subplots.AxesSubplot at 0x7faf2abf6208>"
      ]
     },
     "execution_count": 54,
     "metadata": {
      "tags": []
     },
     "output_type": "execute_result"
    },
    {
     "data": {
      "image/png": "[encoded data removed]",
      "text/plain": [
       "<Figure size 2016x432 with 1 Axes>"
      ]
     },
     "metadata": {
      "tags": []
     },
     "output_type": "display_data"
    }
   ],
   "source": [
    "plt.figure(figsize=(28, 6))\n",
    "sns.boxplot(x = 'make', y = 'price', data = data)"
   ]
  },
  {
   "cell_type": "markdown",
   "metadata": {
    "colab_type": "text",
    "id": "VyDpCFtUiK99"
   },
   "source": [
    "**2) Scatter plot**\n",
    "\n",
    "Bir özelliğin diğeriyle ilişkisini incelemek için verileri bu iki özelliğin x ve y ekseninde olduğu noktalar olarak gösterebiliriz: \"Scatter plot\" Alttaki örnekte motor hacmi ile fiyat arasında bir ilişki olabileceği düşünülerek bir scatter-plot oluşturulmuştur"
   ]
  },
  {
   "cell_type": "code",
   "execution_count": 55,
   "metadata": {
    "colab": {
     "base_uri": "https://localhost:8080/",
     "height": 421
    },
    "colab_type": "code",
    "executionInfo": {
     "elapsed": 1018,
     "status": "ok",
     "timestamp": 1575051425360,
     "user": {
      "displayName": "Barış Bozkurt",
      "photoUrl": "https://lh3.googleusercontent.com/a-/AAuE7mAdwaPUM3cQ3cUO9jZZ-QMeyRr9RU_6iP1RfFeg=s64",
      "userId": "04066217430702805158"
     },
     "user_tz": -180
    },
    "id": "zzTSnOECimbO",
    "outputId": "8638c43f-6f71-4c11-9840-498b8ca9dcff"
   },
   "outputs": [
    {
     "data": {
      "text/plain": [
       "Text(0, 0.5, 'Price')"
      ]
     },
     "execution_count": 55,
     "metadata": {
      "tags": []
     },
     "output_type": "execute_result"
    },
    {
     "data": {
      "image/png": "[encoded data removed]",
      "text/plain": [
       "<Figure size 576x432 with 1 Axes>"
      ]
     },
     "metadata": {
      "tags": []
     },
     "output_type": "display_data"
    }
   ],
   "source": [
    "x = data['engine-size']\n",
    "y = data['price']\n",
    "plt.figure(figsize=(8, 6))\n",
    "plt.scatter(x,y)\n",
    "plt.title(\"Scatter plot: Engine-size versus price\")\n",
    "plt.xlabel(\"Engine size\")\n",
    "plt.ylabel(\"Price\")"
   ]
  },
  {
   "cell_type": "markdown",
   "metadata": {
    "colab_type": "text",
    "id": "eTqa10zy02U3"
   },
   "source": [
    "Scatter plot bir dizi özellik ikilileriyle oluşturulabilir"
   ]
  },
  {
   "cell_type": "code",
   "execution_count": 56,
   "metadata": {
    "colab": {
     "base_uri": "https://localhost:8080/",
     "height": 524
    },
    "colab_type": "code",
    "executionInfo": {
     "elapsed": 5714,
     "status": "ok",
     "timestamp": 1575051437273,
     "user": {
      "displayName": "Barış Bozkurt",
      "photoUrl": "https://lh3.googleusercontent.com/a-/AAuE7mAdwaPUM3cQ3cUO9jZZ-QMeyRr9RU_6iP1RfFeg=s64",
      "userId": "04066217430702805158"
     },
     "user_tz": -180
    },
    "id": "qbhyy2MT1A4d",
    "outputId": "43fb6d83-b350-4bbf-cf54-520bd6476049"
   },
   "outputs": [
    {
     "data": {
      "image/png": "[encoded data removed]",
      "text/plain": [
       "<Figure size 933.12x518.4 with 20 Axes>"
      ]
     },
     "metadata": {
      "tags": []
     },
     "output_type": "display_data"
    }
   ],
   "source": [
    "ozellikler = ['horsepower','city-L/100km','engine-size','price']\n",
    "pp = sns.pairplot(data[ozellikler], height=1.8, aspect=1.8,plot_kws=dict(edgecolor=\"k\", linewidth=0.5),diag_kind=\"kde\", diag_kws=dict(shade=True))"
   ]
  },
  {
   "cell_type": "markdown",
   "metadata": {
    "colab_type": "text",
    "id": "q27ERsvVjXmG"
   },
   "source": [
    "**Gözlem:** veriler büyük oranda diyagonal üzerinde, bir özellikteki artış diğer özellikte de artışa karşılık geliyor ( örnek: motor hacmi arttıkça fiyat da artıyor)"
   ]
  },
  {
   "cell_type": "markdown",
   "metadata": {
    "colab_type": "text",
    "id": "T-9cgfkbWzt2"
   },
   "source": [
    "**Kategorik veriler için scatter plot**\n",
    "\n",
    "\"body-style\" özelliği 5 farklı değer almış ve string şeklinde tanımlanmış. Öncelikle kategorik veri türüne dönüştürüp daha sonra çizim kütüphanelerinde kategorik veriler için tanımlanmış fonksiyonları kullanabiliriz."
   ]
  },
  {
   "cell_type": "code",
   "execution_count": 58,
   "metadata": {
    "colab": {
     "base_uri": "https://localhost:8080/",
     "height": 295
    },
    "colab_type": "code",
    "executionInfo": {
     "elapsed": 809,
     "status": "ok",
     "timestamp": 1575051594546,
     "user": {
      "displayName": "Barış Bozkurt",
      "photoUrl": "https://lh3.googleusercontent.com/a-/AAuE7mAdwaPUM3cQ3cUO9jZZ-QMeyRr9RU_6iP1RfFeg=s64",
      "userId": "04066217430702805158"
     },
     "user_tz": -180
    },
    "id": "ftGiMM44Yghw",
    "outputId": "c82d60ed-182a-4b2b-bea5-239662b68100"
   },
   "outputs": [
    {
     "data": {
      "image/png": "[encoded data removed]",
      "text/plain": [
       "<Figure size 432x288 with 1 Axes>"
      ]
     },
     "metadata": {
      "tags": []
     },
     "output_type": "display_data"
    }
   ],
   "source": [
    "data[\"body-style\"] = data[\"body-style\"].astype('category')\n",
    "\n",
    "#Her bir kategoriden kaçar veri olduğunu gösteren countplot\n",
    "sns.countplot(x=\"body-style\", data=data)\n",
    "plt.title(\"Count plot: body-style\");"
   ]
  },
  {
   "cell_type": "code",
   "execution_count": 59,
   "metadata": {
    "colab": {
     "base_uri": "https://localhost:8080/",
     "height": 295
    },
    "colab_type": "code",
    "executionInfo": {
     "elapsed": 936,
     "status": "ok",
     "timestamp": 1575051602691,
     "user": {
      "displayName": "Barış Bozkurt",
      "photoUrl": "https://lh3.googleusercontent.com/a-/AAuE7mAdwaPUM3cQ3cUO9jZZ-QMeyRr9RU_6iP1RfFeg=s64",
      "userId": "04066217430702805158"
     },
     "user_tz": -180
    },
    "id": "gjTC_EFpUtMD",
    "outputId": "a20c038c-2bbc-49ac-a17f-1ee3b5238f41"
   },
   "outputs": [
    {
     "data": {
      "image/png": "[encoded data removed]",
      "text/plain": [
       "<Figure size 432x288 with 1 Axes>"
      ]
     },
     "metadata": {
      "tags": []
     },
     "output_type": "display_data"
    }
   ],
   "source": [
    "#Kategorilere göre scatter plot\n",
    "sns.stripplot(x=\"body-style\", y=\"price\", data=data)\n",
    "plt.title(\"Scatter plot: body-style\");"
   ]
  },
  {
   "cell_type": "markdown",
   "metadata": {
    "colab_type": "text",
    "id": "pqvNKHgYaQT2"
   },
   "source": [
    "Başka bir kategorik özelliği de görsele (renk kodu olarak) katma"
   ]
  },
  {
   "cell_type": "code",
   "execution_count": 60,
   "metadata": {
    "colab": {
     "base_uri": "https://localhost:8080/",
     "height": 369
    },
    "colab_type": "code",
    "executionInfo": {
     "elapsed": 1168,
     "status": "ok",
     "timestamp": 1575051610559,
     "user": {
      "displayName": "Barış Bozkurt",
      "photoUrl": "https://lh3.googleusercontent.com/a-/AAuE7mAdwaPUM3cQ3cUO9jZZ-QMeyRr9RU_6iP1RfFeg=s64",
      "userId": "04066217430702805158"
     },
     "user_tz": -180
    },
    "id": "CBwu4LL1ZTPJ",
    "outputId": "4eeedd93-678b-4b9d-ee37-c251d399fd41"
   },
   "outputs": [
    {
     "data": {
      "image/png": "[encoded data removed]",
      "text/plain": [
       "<Figure size 431.875x360 with 1 Axes>"
      ]
     },
     "metadata": {
      "tags": []
     },
     "output_type": "display_data"
    }
   ],
   "source": [
    "data[\"drive-wheels\"]=data[\"drive-wheels\"].astype('category')#kategorik türe dönüştürme\n",
    "\n",
    "sns.catplot(x=\"body-style\", y=\"price\", hue=\"drive-wheels\", kind=\"swarm\", data=data);"
   ]
  },
  {
   "cell_type": "code",
   "execution_count": 61,
   "metadata": {
    "colab": {
     "base_uri": "https://localhost:8080/",
     "height": 312
    },
    "colab_type": "code",
    "executionInfo": {
     "elapsed": 1219,
     "status": "ok",
     "timestamp": 1575051629195,
     "user": {
      "displayName": "Barış Bozkurt",
      "photoUrl": "https://lh3.googleusercontent.com/a-/AAuE7mAdwaPUM3cQ3cUO9jZZ-QMeyRr9RU_6iP1RfFeg=s64",
      "userId": "04066217430702805158"
     },
     "user_tz": -180
    },
    "id": "3MGzxSoUXisb",
    "outputId": "34115600-300c-4ca8-da9f-90431dd87e58"
   },
   "outputs": [
    {
     "data": {
      "text/plain": [
       "Text(0.5, 1.0, 'Violin plot: body-style')"
      ]
     },
     "execution_count": 61,
     "metadata": {
      "tags": []
     },
     "output_type": "execute_result"
    },
    {
     "data": {
      "image/png": "[encoded data removed]",
      "text/plain": [
       "<Figure size 432x288 with 1 Axes>"
      ]
     },
     "metadata": {
      "tags": []
     },
     "output_type": "display_data"
    }
   ],
   "source": [
    "#Kategorilere göre dağılım grafikleri: violin plot\n",
    "sns.violinplot(x=\"body-style\", y=\"price\", data=data)\n",
    "plt.title(\"Violin plot: body-style\")"
   ]
  },
  {
   "cell_type": "code",
   "execution_count": 62,
   "metadata": {
    "colab": {
     "base_uri": "https://localhost:8080/",
     "height": 312
    },
    "colab_type": "code",
    "executionInfo": {
     "elapsed": 1104,
     "status": "ok",
     "timestamp": 1575051643515,
     "user": {
      "displayName": "Barış Bozkurt",
      "photoUrl": "https://lh3.googleusercontent.com/a-/AAuE7mAdwaPUM3cQ3cUO9jZZ-QMeyRr9RU_6iP1RfFeg=s64",
      "userId": "04066217430702805158"
     },
     "user_tz": -180
    },
    "id": "6QzMneKRYNev",
    "outputId": "ff579509-4cbb-4556-c140-71db5f6fd83f"
   },
   "outputs": [
    {
     "data": {
      "text/plain": [
       "Text(0.5, 1.0, 'Bar plot: body-style')"
      ]
     },
     "execution_count": 62,
     "metadata": {
      "tags": []
     },
     "output_type": "execute_result"
    },
    {
     "data": {
      "image/png": "[encoded data removed]",
      "text/plain": [
       "<Figure size 432x288 with 1 Axes>"
      ]
     },
     "metadata": {
      "tags": []
     },
     "output_type": "display_data"
    }
   ],
   "source": [
    "#Kategorilere göre dağılım grafikleri: bar plot\n",
    "sns.barplot(x=\"body-style\", y=\"price\", data=data)\n",
    "plt.title(\"Bar plot: body-style\")"
   ]
  },
  {
   "cell_type": "markdown",
   "metadata": {
    "colab_type": "text",
    "id": "AJShpwkAEo3g"
   },
   "source": [
    "**3) Pivot tablo aracılığıyla inceleme (groupby)**\n",
    "\n",
    "drive-wheels ve body-type kombinasyonları için fiyatı incelemek istediğimizi düşünelim. Şunu görebilmek istiyoruz: 4wd-hatchback, 4wd-sedan,...rwd-hatchback, rwd-sedan,... gibi kombinasyonlarda ortalama fiyat nedir?"
   ]
  },
  {
   "cell_type": "code",
   "execution_count": 63,
   "metadata": {
    "colab": {
     "base_uri": "https://localhost:8080/",
     "height": 514
    },
    "colab_type": "code",
    "executionInfo": {
     "elapsed": 708,
     "status": "ok",
     "timestamp": 1575051725374,
     "user": {
      "displayName": "Barış Bozkurt",
      "photoUrl": "https://lh3.googleusercontent.com/a-/AAuE7mAdwaPUM3cQ3cUO9jZZ-QMeyRr9RU_6iP1RfFeg=s64",
      "userId": "04066217430702805158"
     },
     "user_tz": -180
    },
    "id": "FQ6G0nNcFt1U",
    "outputId": "9728e3b8-e890-48e5-c99f-993925e94027"
   },
   "outputs": [
    {
     "data": {
      "text/html": [
       "<div>\n",
       "<style scoped>\n",
       "    .dataframe tbody tr th:only-of-type {\n",
       "        vertical-align: middle;\n",
       "    }\n",
       "\n",
       "    .dataframe tbody tr th {\n",
       "        vertical-align: top;\n",
       "    }\n",
       "\n",
       "    .dataframe thead th {\n",
       "        text-align: right;\n",
       "    }\n",
       "</style>\n",
       "<table border=\"1\" class=\"dataframe\">\n",
       "  <thead>\n",
       "    <tr style=\"text-align: right;\">\n",
       "      <th></th>\n",
       "      <th>drive-wheels</th>\n",
       "      <th>body-style</th>\n",
       "      <th>price</th>\n",
       "    </tr>\n",
       "  </thead>\n",
       "  <tbody>\n",
       "    <tr>\n",
       "      <th>0</th>\n",
       "      <td>4wd</td>\n",
       "      <td>convertible</td>\n",
       "      <td>NaN</td>\n",
       "    </tr>\n",
       "    <tr>\n",
       "      <th>1</th>\n",
       "      <td>4wd</td>\n",
       "      <td>hardtop</td>\n",
       "      <td>NaN</td>\n",
       "    </tr>\n",
       "    <tr>\n",
       "      <th>2</th>\n",
       "      <td>4wd</td>\n",
       "      <td>hatchback</td>\n",
       "      <td>7603.000000</td>\n",
       "    </tr>\n",
       "    <tr>\n",
       "      <th>3</th>\n",
       "      <td>4wd</td>\n",
       "      <td>sedan</td>\n",
       "      <td>12647.333333</td>\n",
       "    </tr>\n",
       "    <tr>\n",
       "      <th>4</th>\n",
       "      <td>4wd</td>\n",
       "      <td>wagon</td>\n",
       "      <td>9095.750000</td>\n",
       "    </tr>\n",
       "    <tr>\n",
       "      <th>5</th>\n",
       "      <td>fwd</td>\n",
       "      <td>convertible</td>\n",
       "      <td>11595.000000</td>\n",
       "    </tr>\n",
       "    <tr>\n",
       "      <th>6</th>\n",
       "      <td>fwd</td>\n",
       "      <td>hardtop</td>\n",
       "      <td>8249.000000</td>\n",
       "    </tr>\n",
       "    <tr>\n",
       "      <th>7</th>\n",
       "      <td>fwd</td>\n",
       "      <td>hatchback</td>\n",
       "      <td>8365.166667</td>\n",
       "    </tr>\n",
       "    <tr>\n",
       "      <th>8</th>\n",
       "      <td>fwd</td>\n",
       "      <td>sedan</td>\n",
       "      <td>9811.800000</td>\n",
       "    </tr>\n",
       "    <tr>\n",
       "      <th>9</th>\n",
       "      <td>fwd</td>\n",
       "      <td>wagon</td>\n",
       "      <td>10061.181818</td>\n",
       "    </tr>\n",
       "    <tr>\n",
       "      <th>10</th>\n",
       "      <td>rwd</td>\n",
       "      <td>convertible</td>\n",
       "      <td>23949.600000</td>\n",
       "    </tr>\n",
       "    <tr>\n",
       "      <th>11</th>\n",
       "      <td>rwd</td>\n",
       "      <td>hardtop</td>\n",
       "      <td>24202.714286</td>\n",
       "    </tr>\n",
       "    <tr>\n",
       "      <th>12</th>\n",
       "      <td>rwd</td>\n",
       "      <td>hatchback</td>\n",
       "      <td>14337.777778</td>\n",
       "    </tr>\n",
       "    <tr>\n",
       "      <th>13</th>\n",
       "      <td>rwd</td>\n",
       "      <td>sedan</td>\n",
       "      <td>21711.833333</td>\n",
       "    </tr>\n",
       "    <tr>\n",
       "      <th>14</th>\n",
       "      <td>rwd</td>\n",
       "      <td>wagon</td>\n",
       "      <td>16994.222222</td>\n",
       "    </tr>\n",
       "  </tbody>\n",
       "</table>\n",
       "</div>"
      ],
      "text/plain": [
       "   drive-wheels   body-style         price\n",
       "0           4wd  convertible           NaN\n",
       "1           4wd      hardtop           NaN\n",
       "2           4wd    hatchback   7603.000000\n",
       "3           4wd        sedan  12647.333333\n",
       "4           4wd        wagon   9095.750000\n",
       "5           fwd  convertible  11595.000000\n",
       "6           fwd      hardtop   8249.000000\n",
       "7           fwd    hatchback   8365.166667\n",
       "8           fwd        sedan   9811.800000\n",
       "9           fwd        wagon  10061.181818\n",
       "10          rwd  convertible  23949.600000\n",
       "11          rwd      hardtop  24202.714286\n",
       "12          rwd    hatchback  14337.777778\n",
       "13          rwd        sedan  21711.833333\n",
       "14          rwd        wagon  16994.222222"
      ]
     },
     "execution_count": 63,
     "metadata": {
      "tags": []
     },
     "output_type": "execute_result"
    }
   ],
   "source": [
    "data_sub = data[['drive-wheels','body-style','price']]#verinin ilgili kolonlarını alalım\n",
    "data_group = data_sub.groupby(['drive-wheels','body-style'], as_index = False).mean()#ilk iki özellik cinsinden gruplayıp üçüncü değişkenin ortalama değerine bakalım\n",
    "data_group"
   ]
  },
  {
   "cell_type": "markdown",
   "metadata": {
    "colab_type": "text",
    "id": "GWoTqDpFHEzn"
   },
   "source": [
    "Pivot tablosu oluşturarak bir özelliği kolon, bir özelliği satıra koyarak daha kolay okunur bir tablo oluşturabiliriz"
   ]
  },
  {
   "cell_type": "code",
   "execution_count": 64,
   "metadata": {
    "colab": {
     "base_uri": "https://localhost:8080/",
     "height": 266
    },
    "colab_type": "code",
    "executionInfo": {
     "elapsed": 767,
     "status": "ok",
     "timestamp": 1575051759839,
     "user": {
      "displayName": "Barış Bozkurt",
      "photoUrl": "https://lh3.googleusercontent.com/a-/AAuE7mAdwaPUM3cQ3cUO9jZZ-QMeyRr9RU_6iP1RfFeg=s64",
      "userId": "04066217430702805158"
     },
     "user_tz": -180
    },
    "id": "WU9c9gXnGOLB",
    "outputId": "304b3e51-aeb9-484e-f82e-8c3e07fc1129"
   },
   "outputs": [
    {
     "data": {
      "text/html": [
       "<div>\n",
       "<style scoped>\n",
       "    .dataframe tbody tr th:only-of-type {\n",
       "        vertical-align: middle;\n",
       "    }\n",
       "\n",
       "    .dataframe tbody tr th {\n",
       "        vertical-align: top;\n",
       "    }\n",
       "\n",
       "    .dataframe thead tr th {\n",
       "        text-align: left;\n",
       "    }\n",
       "\n",
       "    .dataframe thead tr:last-of-type th {\n",
       "        text-align: right;\n",
       "    }\n",
       "</style>\n",
       "<table border=\"1\" class=\"dataframe\">\n",
       "  <thead>\n",
       "    <tr>\n",
       "      <th></th>\n",
       "      <th colspan=\"3\" halign=\"left\">price</th>\n",
       "    </tr>\n",
       "    <tr>\n",
       "      <th>drive-wheels</th>\n",
       "      <th>4wd</th>\n",
       "      <th>fwd</th>\n",
       "      <th>rwd</th>\n",
       "    </tr>\n",
       "    <tr>\n",
       "      <th>body-style</th>\n",
       "      <th></th>\n",
       "      <th></th>\n",
       "      <th></th>\n",
       "    </tr>\n",
       "  </thead>\n",
       "  <tbody>\n",
       "    <tr>\n",
       "      <th>convertible</th>\n",
       "      <td>NaN</td>\n",
       "      <td>11595.000000</td>\n",
       "      <td>23949.600000</td>\n",
       "    </tr>\n",
       "    <tr>\n",
       "      <th>hardtop</th>\n",
       "      <td>NaN</td>\n",
       "      <td>8249.000000</td>\n",
       "      <td>24202.714286</td>\n",
       "    </tr>\n",
       "    <tr>\n",
       "      <th>hatchback</th>\n",
       "      <td>7603.000000</td>\n",
       "      <td>8365.166667</td>\n",
       "      <td>14337.777778</td>\n",
       "    </tr>\n",
       "    <tr>\n",
       "      <th>sedan</th>\n",
       "      <td>12647.333333</td>\n",
       "      <td>9811.800000</td>\n",
       "      <td>21711.833333</td>\n",
       "    </tr>\n",
       "    <tr>\n",
       "      <th>wagon</th>\n",
       "      <td>9095.750000</td>\n",
       "      <td>10061.181818</td>\n",
       "      <td>16994.222222</td>\n",
       "    </tr>\n",
       "  </tbody>\n",
       "</table>\n",
       "</div>"
      ],
      "text/plain": [
       "                     price                            \n",
       "drive-wheels           4wd           fwd           rwd\n",
       "body-style                                            \n",
       "convertible            NaN  11595.000000  23949.600000\n",
       "hardtop                NaN   8249.000000  24202.714286\n",
       "hatchback      7603.000000   8365.166667  14337.777778\n",
       "sedan         12647.333333   9811.800000  21711.833333\n",
       "wagon          9095.750000  10061.181818  16994.222222"
      ]
     },
     "execution_count": 64,
     "metadata": {
      "tags": []
     },
     "output_type": "execute_result"
    }
   ],
   "source": [
    "data_pivot = data_group.pivot(index = 'body-style', columns = 'drive-wheels')\n",
    "data_pivot"
   ]
  },
  {
   "cell_type": "markdown",
   "metadata": {
    "colab_type": "text",
    "id": "Ut0B6te-M3Ok"
   },
   "source": [
    "**4) Korelasyon**\n",
    "\n",
    "Özelliklerin beraber değişimine dair bir ölçüt olarak korelasyonu inceleyebiliriz. Örneğin aracın beygir gücü ile fiyatı arasıda ilişki var mı incelemek isteyebiliriz"
   ]
  },
  {
   "cell_type": "code",
   "execution_count": 66,
   "metadata": {
    "colab": {
     "base_uri": "https://localhost:8080/",
     "height": 279
    },
    "colab_type": "code",
    "executionInfo": {
     "elapsed": 1282,
     "status": "ok",
     "timestamp": 1575051776550,
     "user": {
      "displayName": "Barış Bozkurt",
      "photoUrl": "https://lh3.googleusercontent.com/a-/AAuE7mAdwaPUM3cQ3cUO9jZZ-QMeyRr9RU_6iP1RfFeg=s64",
      "userId": "04066217430702805158"
     },
     "user_tz": -180
    },
    "id": "jcuB7DQwNcDT",
    "outputId": "7fd35d79-811f-4df7-8206-b779668381fb"
   },
   "outputs": [
    {
     "data": {
      "image/png": "[encoded data removed]",
      "text/plain": [
       "<Figure size 432x288 with 1 Axes>"
      ]
     },
     "metadata": {
      "tags": []
     },
     "output_type": "display_data"
    }
   ],
   "source": [
    "sns.regplot(x='horsepower',y='price',data=data);"
   ]
  },
  {
   "cell_type": "markdown",
   "metadata": {
    "colab_type": "text",
    "id": "mJv6MiKgOKCF"
   },
   "source": [
    "**Gözlem:** bulunan eğri pozitif: korelasyon pozitif, beygir gücü artarken, fiyat da artıyor. "
   ]
  },
  {
   "cell_type": "code",
   "execution_count": 68,
   "metadata": {
    "colab": {
     "base_uri": "https://localhost:8080/",
     "height": 279
    },
    "colab_type": "code",
    "executionInfo": {
     "elapsed": 1152,
     "status": "ok",
     "timestamp": 1575051829513,
     "user": {
      "displayName": "Barış Bozkurt",
      "photoUrl": "https://lh3.googleusercontent.com/a-/AAuE7mAdwaPUM3cQ3cUO9jZZ-QMeyRr9RU_6iP1RfFeg=s64",
      "userId": "04066217430702805158"
     },
     "user_tz": -180
    },
    "id": "XQkcd54eOq4t",
    "outputId": "400ceab3-2297-4d9e-9a45-6eb3e6da3da0"
   },
   "outputs": [
    {
     "data": {
      "image/png": "[encoded data removed]",
      "text/plain": [
       "<Figure size 432x288 with 1 Axes>"
      ]
     },
     "metadata": {
      "tags": []
     },
     "output_type": "display_data"
    }
   ],
   "source": [
    "sns.regplot(x='peak-rpm',y='price',data=data);"
   ]
  },
  {
   "cell_type": "markdown",
   "metadata": {
    "colab_type": "text",
    "id": "wRjqESiDO86P"
   },
   "source": [
    "**Gözlem:** bu özellik için korelasyon düşük. Fiyat ile peak-rpm arasındaki ilişki zayıf"
   ]
  },
  {
   "cell_type": "markdown",
   "metadata": {
    "colab_type": "text",
    "id": "3cH_sPL8Q0S3"
   },
   "source": [
    "Bütün özelliklerin birbiriyle ilişkisini incelemek de mümkün"
   ]
  },
  {
   "cell_type": "code",
   "execution_count": 69,
   "metadata": {
    "colab": {
     "base_uri": "https://localhost:8080/",
     "height": 538
    },
    "colab_type": "code",
    "executionInfo": {
     "elapsed": 1482,
     "status": "ok",
     "timestamp": 1575051852533,
     "user": {
      "displayName": "Barış Bozkurt",
      "photoUrl": "https://lh3.googleusercontent.com/a-/AAuE7mAdwaPUM3cQ3cUO9jZZ-QMeyRr9RU_6iP1RfFeg=s64",
      "userId": "04066217430702805158"
     },
     "user_tz": -180
    },
    "id": "O4VGnrXaReFn",
    "outputId": "fbc8945b-2823-45fe-f9b0-101ccf6b695b"
   },
   "outputs": [
    {
     "data": {
      "image/png": "[encoded data removed]",
      "text/plain": [
       "<Figure size 720x576 with 2 Axes>"
      ]
     },
     "metadata": {
      "tags": []
     },
     "output_type": "display_data"
    }
   ],
   "source": [
    "corr = data.corr()\n",
    "plt.figure(figsize=(10, 8))\n",
    "ax = sns.heatmap(\n",
    "    corr, \n",
    "    vmin=-1, vmax=1, center=0,\n",
    "    cmap=sns.diverging_palette(20, 220, n=200),\n",
    "    square=True\n",
    ")\n",
    "ax.set_xticklabels(ax.get_xticklabels(),rotation=45,horizontalalignment='right');"
   ]
  },
  {
   "cell_type": "markdown",
   "metadata": {
    "colab_type": "text",
    "id": "vCsCM-YFW4ks"
   },
   "source": [
    "# Özellikler ile fiyat arasındaki ilişkiyi modelleme"
   ]
  },
  {
   "cell_type": "markdown",
   "metadata": {
    "colab_type": "text",
    "id": "uUTDk_qPXBix"
   },
   "source": [
    "Burada örnek olarak özelliklerle fiyat arasında basit doğrusal modeller kurmaya çalışacağız. Bunun için sklearn kütüphanesini kullanalım. Öncelikle fiyatla ilişkisinin güçlü olduğunu bildiğimiz \"horsepower\" özelliği ile fiyat arasındaki ilişki için doğrusal bir model kuralım"
   ]
  },
  {
   "cell_type": "code",
   "execution_count": 71,
   "metadata": {
    "colab": {
     "base_uri": "https://localhost:8080/",
     "height": 279
    },
    "colab_type": "code",
    "executionInfo": {
     "elapsed": 1088,
     "status": "ok",
     "timestamp": 1575052016053,
     "user": {
      "displayName": "Barış Bozkurt",
      "photoUrl": "https://lh3.googleusercontent.com/a-/AAuE7mAdwaPUM3cQ3cUO9jZZ-QMeyRr9RU_6iP1RfFeg=s64",
      "userId": "04066217430702805158"
     },
     "user_tz": -180
    },
    "id": "-a7S8fE4a33z",
    "outputId": "46c586b5-52f3-4a13-c810-6746c9391cad"
   },
   "outputs": [
    {
     "data": {
      "image/png": "[encoded data removed]",
      "text/plain": [
       "<Figure size 432x288 with 1 Axes>"
      ]
     },
     "metadata": {
      "tags": []
     },
     "output_type": "display_data"
    }
   ],
   "source": [
    "#hatırlama amaçlı tekrar-çizim\n",
    "sns.regplot(x='horsepower',y='price',data=data);"
   ]
  },
  {
   "cell_type": "code",
   "execution_count": 73,
   "metadata": {
    "colab": {
     "base_uri": "https://localhost:8080/",
     "height": 34
    },
    "colab_type": "code",
    "executionInfo": {
     "elapsed": 1165,
     "status": "ok",
     "timestamp": 1575052032600,
     "user": {
      "displayName": "Barış Bozkurt",
      "photoUrl": "https://lh3.googleusercontent.com/a-/AAuE7mAdwaPUM3cQ3cUO9jZZ-QMeyRr9RU_6iP1RfFeg=s64",
      "userId": "04066217430702805158"
     },
     "user_tz": -180
    },
    "id": "TEcL5T-nXRlJ",
    "outputId": "76644607-fd4f-4578-949c-fdef365ef14b"
   },
   "outputs": [
    {
     "data": {
      "text/plain": [
       "LinearRegression(copy_X=True, fit_intercept=True, n_jobs=None, normalize=False)"
      ]
     },
     "execution_count": 73,
     "metadata": {
      "tags": []
     },
     "output_type": "execute_result"
    }
   ],
   "source": [
    "#Doğrusal modelleme\n",
    "from sklearn.linear_model import LinearRegression#kütüphaneyi yükleme\n",
    "lr = LinearRegression()#obje oluşturma\n",
    "\n",
    "#özellikleri ve özelliklerle kestireceğimiz hedeflenen değeri belirleyelim\n",
    "y = data['price']#hedef, series\n",
    "x = data[['horsepower']]#kullanılacak özellik, dataFrame \n",
    "lr.fit(x,y)"
   ]
  },
  {
   "cell_type": "code",
   "execution_count": 74,
   "metadata": {
    "colab": {
     "base_uri": "https://localhost:8080/",
     "height": 68
    },
    "colab_type": "code",
    "executionInfo": {
     "elapsed": 657,
     "status": "ok",
     "timestamp": 1575052035072,
     "user": {
      "displayName": "Barış Bozkurt",
      "photoUrl": "https://lh3.googleusercontent.com/a-/AAuE7mAdwaPUM3cQ3cUO9jZZ-QMeyRr9RU_6iP1RfFeg=s64",
      "userId": "04066217430702805158"
     },
     "user_tz": -180
    },
    "id": "G_NfnVymYm6y",
    "outputId": "df35de10-0947-4292-8db3-769ff5433b54"
   },
   "outputs": [
    {
     "name": "stdout",
     "output_type": "stream",
     "text": [
      "Kurulan model:\n",
      " y =  -4562.1749956674885  +  172.20625117310607 x\n",
      " fiyat =  -4562.1749956674885  +  172.20625117310607  * beygir_gucu\n"
     ]
    }
   ],
   "source": [
    "print(\"Kurulan model:\")\n",
    "print(' y = ',lr.intercept_, ' + ',lr.coef_[0], 'x')  \n",
    "print(' fiyat = ',lr.intercept_, ' + ',lr.coef_[0], ' * beygir_gucu')  "
   ]
  },
  {
   "cell_type": "markdown",
   "metadata": {
    "colab_type": "text",
    "id": "LKHwYcTEb6mR"
   },
   "source": [
    "**Multiple linear regression**\n",
    "\n",
    "Birden fazla özellik ile fiyat arasındaki ilişkiyi modelleyelim. "
   ]
  },
  {
   "cell_type": "code",
   "execution_count": 75,
   "metadata": {
    "colab": {
     "base_uri": "https://localhost:8080/",
     "height": 34
    },
    "colab_type": "code",
    "executionInfo": {
     "elapsed": 750,
     "status": "ok",
     "timestamp": 1575052038944,
     "user": {
      "displayName": "Barış Bozkurt",
      "photoUrl": "https://lh3.googleusercontent.com/a-/AAuE7mAdwaPUM3cQ3cUO9jZZ-QMeyRr9RU_6iP1RfFeg=s64",
      "userId": "04066217430702805158"
     },
     "user_tz": -180
    },
    "id": "q8DKOTDIcHe8",
    "outputId": "1d4c2209-7f2e-40bd-b6dc-7539aa7ac865"
   },
   "outputs": [
    {
     "data": {
      "text/plain": [
       "LinearRegression(copy_X=True, fit_intercept=True, n_jobs=None, normalize=False)"
      ]
     },
     "execution_count": 75,
     "metadata": {
      "tags": []
     },
     "output_type": "execute_result"
    }
   ],
   "source": [
    "ozellikler = data[['horsepower','curb-weight','engine-size','highway-L/100km']]\n",
    "lr.fit(ozellikler,data['price'])#ozellikler ile fiyat arasında ilişkinin doğrusal model parametrelerinin hesaplanması"
   ]
  },
  {
   "cell_type": "code",
   "execution_count": 76,
   "metadata": {
    "colab": {
     "base_uri": "https://localhost:8080/",
     "height": 71
    },
    "colab_type": "code",
    "executionInfo": {
     "elapsed": 668,
     "status": "ok",
     "timestamp": 1575052043719,
     "user": {
      "displayName": "Barış Bozkurt",
      "photoUrl": "https://lh3.googleusercontent.com/a-/AAuE7mAdwaPUM3cQ3cUO9jZZ-QMeyRr9RU_6iP1RfFeg=s64",
      "userId": "04066217430702805158"
     },
     "user_tz": -180
    },
    "id": "HVFjB7jCdUJ1",
    "outputId": "8521b404-f831-43b7-d8b9-e5dadab6627b"
   },
   "outputs": [
    {
     "name": "stdout",
     "output_type": "stream",
     "text": [
      "Kurulan model:\n",
      " fiyat =  -14285.462035057442  +  37.0551879545348  * horsepower  +  3.503072884687459  * curb-weight  +  85.95034797421097  * engine-size  +  85.95034797421097  * highway-L/100km\n"
     ]
    }
   ],
   "source": [
    "print(\"Kurulan model:\")\n",
    "print(' fiyat = ',lr.intercept_, ' + ',lr.coef_[0], ' * horsepower',\n",
    "     ' + ',lr.coef_[1], ' * curb-weight',\n",
    "     ' + ',lr.coef_[2], ' * engine-size',\n",
    "     ' + ',lr.coef_[2], ' * highway-L/100km'\n",
    "     ) "
   ]
  },
  {
   "cell_type": "markdown",
   "metadata": {
    "colab_type": "text",
    "id": "jV-pq2bHdwpz"
   },
   "source": [
    "Verimizin ilk 5 satırındaki özellikleri ve modeli kullanarak fiyatı tahmin edelim (Dikkat: amacımız bir makine öğrenmesi modeli testi olduğunda bu örnekleri dışarıda bırakarak eğitim yapmalıydık. Burada amacımız gerçek bir test değil, bu sebeple kodun sade olduğu bir örnek tercih edildi):"
   ]
  },
  {
   "cell_type": "code",
   "execution_count": 78,
   "metadata": {
    "colab": {
     "base_uri": "https://localhost:8080/",
     "height": 51
    },
    "colab_type": "code",
    "executionInfo": {
     "elapsed": 662,
     "status": "ok",
     "timestamp": 1575052079868,
     "user": {
      "displayName": "Barış Bozkurt",
      "photoUrl": "https://lh3.googleusercontent.com/a-/AAuE7mAdwaPUM3cQ3cUO9jZZ-QMeyRr9RU_6iP1RfFeg=s64",
      "userId": "04066217430702805158"
     },
     "user_tz": -180
    },
    "id": "J9gC7dEld4EA",
    "outputId": "4620a0a6-569f-4a37-b038-703441b786ee"
   },
   "outputs": [
    {
     "name": "stdout",
     "output_type": "stream",
     "text": [
      "Kestirilen fiyatlar:  [14082. 14082. 18690. 10789. 16657.]\n",
      "Gerçek değerler:  [13495 16500 16500 13950 17450]\n"
     ]
    }
   ],
   "source": [
    "kestirilen_fiyatlar = lr.predict(ozellikler[:5])\n",
    "print('Kestirilen fiyatlar: ',np.round(kestirilen_fiyatlar))\n",
    "print('Gerçek değerler: ', np.array(data['price'])[:5])"
   ]
  },
  {
   "cell_type": "markdown",
   "metadata": {
    "colab_type": "text",
    "id": "TAPGC-zbg4ez"
   },
   "source": [
    "Kestirimlerimiz ile gerçek değer arasındaki farkı incelemek faydalı olacaktır. Bunun için hatanın görselleştirilmesi (residual-plot) yöntemini kullanabiliriz. Seaborn kütüphanesinin residual-plot fonksiyonu doğrusal modeli bulup daha sonra kestirimdeki hataları görselleştirir"
   ]
  },
  {
   "cell_type": "code",
   "execution_count": 79,
   "metadata": {
    "colab": {
     "base_uri": "https://localhost:8080/",
     "height": 296
    },
    "colab_type": "code",
    "executionInfo": {
     "elapsed": 903,
     "status": "ok",
     "timestamp": 1575052088845,
     "user": {
      "displayName": "Barış Bozkurt",
      "photoUrl": "https://lh3.googleusercontent.com/a-/AAuE7mAdwaPUM3cQ3cUO9jZZ-QMeyRr9RU_6iP1RfFeg=s64",
      "userId": "04066217430702805158"
     },
     "user_tz": -180
    },
    "id": "pNNAujsAhERM",
    "outputId": "fb6f581f-e2fb-4432-b25f-e1d7e947be01"
   },
   "outputs": [
    {
     "data": {
      "text/plain": [
       "<matplotlib.axes._subplots.AxesSubplot at 0x7faf2e1f3048>"
      ]
     },
     "execution_count": 79,
     "metadata": {
      "tags": []
     },
     "output_type": "execute_result"
    },
    {
     "data": {
      "image/png": "[encoded data removed]",
      "text/plain": [
       "<Figure size 432x288 with 1 Axes>"
      ]
     },
     "metadata": {
      "tags": []
     },
     "output_type": "display_data"
    }
   ],
   "source": [
    "sns.residplot(data['horsepower'],data['price'])#y ekseni fiyatın kestirimindeki hatayı gösterir"
   ]
  },
  {
   "cell_type": "markdown",
   "metadata": {
    "colab_type": "text",
    "id": "gIE82NAch57I"
   },
   "source": [
    "**Gözlem:** beygirgücü arttıkça hata da artıyor, fiyat-beygirgücü ilişkisi doğrusal olmayabilir. Doğrusal olsa idi rastgele dağılım görmeyi beklerdik"
   ]
  },
  {
   "cell_type": "markdown",
   "metadata": {
    "colab_type": "text",
    "id": "W-_tfoDzias_"
   },
   "source": [
    "Hatanın scatter-plot'u yerine dağılımını çizdirmek de hatanın doğasını anlamamıza yardımcı olabilir.\n",
    "İlk olarak tek özellikle kestirimi ele alalım"
   ]
  },
  {
   "cell_type": "code",
   "execution_count": 89,
   "metadata": {
    "colab": {
     "base_uri": "https://localhost:8080/",
     "height": 296
    },
    "colab_type": "code",
    "executionInfo": {
     "elapsed": 1040,
     "status": "ok",
     "timestamp": 1575052702447,
     "user": {
      "displayName": "Barış Bozkurt",
      "photoUrl": "https://lh3.googleusercontent.com/a-/AAuE7mAdwaPUM3cQ3cUO9jZZ-QMeyRr9RU_6iP1RfFeg=s64",
      "userId": "04066217430702805158"
     },
     "user_tz": -180
    },
    "id": "vVC3wV07imCk",
    "outputId": "f7eed36c-2007-4b97-9e35-e387e1d463bf"
   },
   "outputs": [
    {
     "data": {
      "text/plain": [
       "<matplotlib.axes._subplots.AxesSubplot at 0x7faf23c5bf28>"
      ]
     },
     "execution_count": 89,
     "metadata": {
      "tags": []
     },
     "output_type": "execute_result"
    },
    {
     "data": {
      "image/png": "[encoded data removed]",
      "text/plain": [
       "<Figure size 432x288 with 1 Axes>"
      ]
     },
     "metadata": {
      "tags": []
     },
     "output_type": "display_data"
    }
   ],
   "source": [
    "#House-power vs price ilişkisini tekrar modelleyelim\n",
    "y = data['price']#hedef, series\n",
    "x = data[['horsepower']]#kullanılacak özellik, dataFrame \n",
    "lr.fit(x,y)#modelin hesaplanması\n",
    "y_kestirilen = lr.predict(x)#modelle mözellikten kestirim yapılması\n",
    "#Gerçek ve kestirilen değerlerin dağılımlarının çizimi\n",
    "ax1 = sns.distplot(data['price'],hist=False,color='r',label='Gerçek değer')\n",
    "sns.distplot(y_kestirilen,hist=False,color='b',label='Kestirilen değer',ax=ax1)"
   ]
  },
  {
   "cell_type": "markdown",
   "metadata": {
    "colab_type": "text",
    "id": "wR9PFgg6j3yn"
   },
   "source": [
    "İkinci olarak birden fazla özelik içeren modellemeyi ele alalım"
   ]
  },
  {
   "cell_type": "code",
   "execution_count": 90,
   "metadata": {
    "colab": {
     "base_uri": "https://localhost:8080/",
     "height": 296
    },
    "colab_type": "code",
    "executionInfo": {
     "elapsed": 803,
     "status": "ok",
     "timestamp": 1575052707674,
     "user": {
      "displayName": "Barış Bozkurt",
      "photoUrl": "https://lh3.googleusercontent.com/a-/AAuE7mAdwaPUM3cQ3cUO9jZZ-QMeyRr9RU_6iP1RfFeg=s64",
      "userId": "04066217430702805158"
     },
     "user_tz": -180
    },
    "id": "BjvyKqr0iHSk",
    "outputId": "ed284d3d-59f0-4a36-e75a-f4cf19b06a4f"
   },
   "outputs": [
    {
     "data": {
      "text/plain": [
       "<matplotlib.axes._subplots.AxesSubplot at 0x7faf23bc47b8>"
      ]
     },
     "execution_count": 90,
     "metadata": {
      "tags": []
     },
     "output_type": "execute_result"
    },
    {
     "data": {
      "image/png": "[encoded data removed]",
      "text/plain": [
       "<Figure size 432x288 with 1 Axes>"
      ]
     },
     "metadata": {
      "tags": []
     },
     "output_type": "display_data"
    }
   ],
   "source": [
    "#House-power vs price ilişkisini tekrar modelleyelim\n",
    "y = data['price']#hedef, series\n",
    "x = data[['horsepower','curb-weight','engine-size','highway-L/100km']]#kullanılacak özellikler, dataFrame \n",
    "lr.fit(x,y)#modelin hesaplanması\n",
    "y_kestirilen = lr.predict(x)#modelle mözellikten kestirim yapılması\n",
    "#Gerçek ve kestirilen değerlerin dağılımlarının çizimi\n",
    "ax1 = sns.distplot(data['price'],hist=False,color='r',label='Gerçek değer')\n",
    "sns.distplot(y_kestirilen,hist=False,color='b',label='Kestirilen değer',ax=ax1)"
   ]
  },
  {
   "cell_type": "markdown",
   "metadata": {
    "colab_type": "text",
    "id": "Pv4XRnepkJvX"
   },
   "source": [
    "Gözlem: Birden fazla özellik kullanıldığında hata azaldı"
   ]
  },
  {
   "cell_type": "markdown",
   "metadata": {
    "colab_type": "text",
    "id": "rE5oezrCmaJJ"
   },
   "source": [
    "**! buraya kadar gördüğümüz örnekte modeli oluşturmak için kullandığımız veri üzerinde test yapmaya çalıştık. Oysa modelin testi daha önce hiç karşılaşmadığı veri üzerinde yapılmalı. Bu konuyu makine öğrenmesi derslerinde detaylı ele alacağız.**"
   ]
  }
 ],
 "metadata": {
  "colab": {
   "collapsed_sections": [
    "Htk3hZ1zaQq-",
    "pM6rFoM9ye2Z",
    "JhSyITfrvB7a",
    "_I2lmhu52-k1",
    "5Jes0_HG5_PP",
    "Dbklz6UCgKnd"
   ],
   "name": "PythonIleVeriBilimi_pandas2.ipynb",
   "provenance": []
  },
  "kernelspec": {
   "display_name": "Python 3 (ipykernel)",
   "language": "python",
   "name": "python3"
  },
  "language_info": {
   "codemirror_mode": {
    "name": "ipython",
    "version": 3
   },
   "file_extension": ".py",
   "mimetype": "text/x-python",
   "name": "python",
   "nbconvert_exporter": "python",
   "pygments_lexer": "ipython3",
   "version": "3.10.9"
  }
 },
 "nbformat": 4,
 "nbformat_minor": 1
}
