{
 "cells": [
  {
   "cell_type": "markdown",
   "metadata": {
    "colab_type": "text",
    "id": "htMPVZ034vJ5"
   },
   "source": [
    "Bu defter [Pandas kütüphanesi](https://pandas.pydata.org/pandas-docs/stable/)ni tanıtmayı amaçlıyor\n",
    "\n",
    "Kaynaklar:\n",
    "1) https://github.com/justmarkham/pandas-videos/blob/master/pandas.ipynb\n",
    "2) https://github.com/jseabold/pycon-ds-2018\n",
    "\n",
    "Cheat sheet: https://pandas.pydata.org/Pandas_Cheat_Sheet.pdf \n",
    "\n"
   ]
  },
  {
   "cell_type": "code",
   "execution_count": 1,
   "metadata": {
    "colab": {},
    "colab_type": "code",
    "id": "CQMzu2bvPjF4"
   },
   "outputs": [],
   "source": [
    "#Pandas kütüphanesinin yüklenmesi\n",
    "import pandas as pd\n",
    "#Çizimler için matplotlib kütüphanesini de yükleyelim\n",
    "import matplotlib.pyplot as plt"
   ]
  },
  {
   "cell_type": "markdown",
   "metadata": {
    "colab_type": "text",
    "id": "uYWOsLWYVRPq"
   },
   "source": [
    "# Veri okuma\n",
    "\n",
    "Veri kaynağı: https://data.cityofchicago.org\n",
    "\n",
    "Alttaki örnekte Chicago'daki mekanlarda yapılan sağlığa uygunluk incelemesi verileri okunup inceleniyor. \n",
    "\n",
    "Kaynaklar: https://data.cityofchicago.org/Health-Human-Services/Food-Inspections/4ijn-s7e5 \n",
    "\n",
    "[Skipper Seabold - Introduction to Python for Data Science - PyCon 2018](https://www.youtube.com/watch?v=W4WQi2OIy7o)"
   ]
  },
  {
   "cell_type": "code",
   "execution_count": 2,
   "metadata": {
    "colab": {
     "base_uri": "https://localhost:8080/",
     "height": 34
    },
    "colab_type": "code",
    "executionInfo": {
     "elapsed": 3596,
     "status": "ok",
     "timestamp": 1575047903593,
     "user": {
      "displayName": "Barış Bozkurt",
      "photoUrl": "https://lh3.googleusercontent.com/a-/AAuE7mAdwaPUM3cQ3cUO9jZZ-QMeyRr9RU_6iP1RfFeg=s64",
      "userId": "04066217430702805158"
     },
     "user_tz": -180
    },
    "id": "fSksUfFEwjyx",
    "outputId": "fa491345-1c86-4b53-f385-c435f7627362"
   },
   "outputs": [
    {
     "data": {
      "text/plain": [
       "pandas.core.frame.DataFrame"
      ]
     },
     "execution_count": 2,
     "metadata": {},
     "output_type": "execute_result"
    }
   ],
   "source": [
    "# data = pd.read_json(\"https://data.cityofchicago.org/resource/4ijn-s7e5.json\")\n",
    "data = pd.read_csv(\"https://data.cityofchicago.org/resource/4ijn-s7e5.csv\")\n",
    "# data = pd.read_csv('../veri/4ijn-s7e5.csv')\n",
    "type(data)"
   ]
  },
  {
   "cell_type": "markdown",
   "metadata": {
    "colab_type": "text",
    "id": "wDeS3lsacCQ3"
   },
   "source": [
    "Okuduğumuz veri, Pandas'ın ana veri türlerinden birisi olan DataFrame şeklinde tutuluyor. Verinin içeriğine dair ilk bilgileri edinmek için sıkça kullanılan fonksiyonları sırasıyla işletelim"
   ]
  },
  {
   "cell_type": "markdown",
   "metadata": {
    "colab_type": "text",
    "id": "jsRFUMt-vLyr"
   },
   "source": [
    "# Veri özet bilgileri oluşturma ve yorumlama"
   ]
  },
  {
   "cell_type": "code",
   "execution_count": 3,
   "metadata": {
    "colab": {
     "base_uri": "https://localhost:8080/",
     "height": 34
    },
    "colab_type": "code",
    "executionInfo": {
     "elapsed": 1443,
     "status": "ok",
     "timestamp": 1575047916084,
     "user": {
      "displayName": "Barış Bozkurt",
      "photoUrl": "https://lh3.googleusercontent.com/a-/AAuE7mAdwaPUM3cQ3cUO9jZZ-QMeyRr9RU_6iP1RfFeg=s64",
      "userId": "04066217430702805158"
     },
     "user_tz": -180
    },
    "id": "DlHtv9BX8vjw",
    "outputId": "9651cad4-efb5-4a19-94f5-25fcdac1e816"
   },
   "outputs": [
    {
     "data": {
      "text/plain": [
       "(1000, 17)"
      ]
     },
     "execution_count": 3,
     "metadata": {},
     "output_type": "execute_result"
    }
   ],
   "source": [
    "#Veri boyutlarına bakalım\n",
    "data.shape"
   ]
  },
  {
   "cell_type": "markdown",
   "metadata": {
    "colab_type": "text",
    "id": "f5hofJ_fcWkc"
   },
   "source": [
    "1000 satır 17 sürundan oluşan bir tablomuz var. Her satır bir veri örneğinin bilgilerini içeriyor. Kolonlar verinin farklı boyutlarını tanımlıyor"
   ]
  },
  {
   "cell_type": "code",
   "execution_count": 4,
   "metadata": {
    "colab": {
     "base_uri": "https://localhost:8080/",
     "height": 102
    },
    "colab_type": "code",
    "executionInfo": {
     "elapsed": 1199,
     "status": "ok",
     "timestamp": 1575047936262,
     "user": {
      "displayName": "Barış Bozkurt",
      "photoUrl": "https://lh3.googleusercontent.com/a-/AAuE7mAdwaPUM3cQ3cUO9jZZ-QMeyRr9RU_6iP1RfFeg=s64",
      "userId": "04066217430702805158"
     },
     "user_tz": -180
    },
    "id": "o1GegSs9ccmG",
    "outputId": "7d76b0f2-e1af-4aa3-98b1-87dc3c43585b"
   },
   "outputs": [
    {
     "data": {
      "text/plain": [
       "Index(['inspection_id', 'dba_name', 'aka_name', 'license_', 'facility_type',\n",
       "       'risk', 'address', 'city', 'state', 'zip', 'inspection_date',\n",
       "       'inspection_type', 'results', 'violations', 'latitude', 'longitude',\n",
       "       'location'],\n",
       "      dtype='object')"
      ]
     },
     "execution_count": 4,
     "metadata": {},
     "output_type": "execute_result"
    }
   ],
   "source": [
    "data.columns#kolonlar"
   ]
  },
  {
   "cell_type": "code",
   "execution_count": 5,
   "metadata": {
    "colab": {
     "base_uri": "https://localhost:8080/",
     "height": 496
    },
    "colab_type": "code",
    "executionInfo": {
     "elapsed": 1187,
     "status": "ok",
     "timestamp": 1575047949375,
     "user": {
      "displayName": "Barış Bozkurt",
      "photoUrl": "https://lh3.googleusercontent.com/a-/AAuE7mAdwaPUM3cQ3cUO9jZZ-QMeyRr9RU_6iP1RfFeg=s64",
      "userId": "04066217430702805158"
     },
     "user_tz": -180
    },
    "id": "H9Y6MFfMwzo1",
    "outputId": "9a56a125-5d14-4b0f-b5af-e3e5e655d7e1"
   },
   "outputs": [
    {
     "data": {
      "text/html": [
       "<div>\n",
       "<style scoped>\n",
       "    .dataframe tbody tr th:only-of-type {\n",
       "        vertical-align: middle;\n",
       "    }\n",
       "\n",
       "    .dataframe tbody tr th {\n",
       "        vertical-align: top;\n",
       "    }\n",
       "\n",
       "    .dataframe thead th {\n",
       "        text-align: right;\n",
       "    }\n",
       "</style>\n",
       "<table border=\"1\" class=\"dataframe\">\n",
       "  <thead>\n",
       "    <tr style=\"text-align: right;\">\n",
       "      <th></th>\n",
       "      <th>inspection_id</th>\n",
       "      <th>dba_name</th>\n",
       "      <th>aka_name</th>\n",
       "      <th>license_</th>\n",
       "      <th>facility_type</th>\n",
       "      <th>risk</th>\n",
       "      <th>address</th>\n",
       "      <th>city</th>\n",
       "      <th>state</th>\n",
       "      <th>zip</th>\n",
       "      <th>inspection_date</th>\n",
       "      <th>inspection_type</th>\n",
       "      <th>results</th>\n",
       "      <th>violations</th>\n",
       "      <th>latitude</th>\n",
       "      <th>longitude</th>\n",
       "      <th>location</th>\n",
       "    </tr>\n",
       "  </thead>\n",
       "  <tbody>\n",
       "    <tr>\n",
       "      <th>0</th>\n",
       "      <td>2584931</td>\n",
       "      <td>SUNDA</td>\n",
       "      <td>SUNDA</td>\n",
       "      <td>2930097</td>\n",
       "      <td>Restaurant</td>\n",
       "      <td>Risk 1 (High)</td>\n",
       "      <td>333 N GREEN ST</td>\n",
       "      <td>CHICAGO</td>\n",
       "      <td>IL</td>\n",
       "      <td>60607</td>\n",
       "      <td>2023-11-09T00:00:00.000</td>\n",
       "      <td>License</td>\n",
       "      <td>Pass</td>\n",
       "      <td>10. ADEQUATE HANDWASHING SINKS PROPERLY SUPPLI...</td>\n",
       "      <td>41.887808</td>\n",
       "      <td>-87.648545</td>\n",
       "      <td>(41.887808158349756, -87.64854522138359)</td>\n",
       "    </tr>\n",
       "    <tr>\n",
       "      <th>1</th>\n",
       "      <td>2584936</td>\n",
       "      <td>SUNDA</td>\n",
       "      <td>SUNDA</td>\n",
       "      <td>2930098</td>\n",
       "      <td>Restaurant</td>\n",
       "      <td>Risk 1 (High)</td>\n",
       "      <td>333 N GREEN ST</td>\n",
       "      <td>CHICAGO</td>\n",
       "      <td>IL</td>\n",
       "      <td>60607</td>\n",
       "      <td>2023-11-09T00:00:00.000</td>\n",
       "      <td>License</td>\n",
       "      <td>Pass</td>\n",
       "      <td>NaN</td>\n",
       "      <td>41.887808</td>\n",
       "      <td>-87.648545</td>\n",
       "      <td>(41.887808158349756, -87.64854522138359)</td>\n",
       "    </tr>\n",
       "    <tr>\n",
       "      <th>2</th>\n",
       "      <td>2584899</td>\n",
       "      <td>KING FOOD DRIVE</td>\n",
       "      <td>KING FOOD DRIVE</td>\n",
       "      <td>2841316</td>\n",
       "      <td>Grocery Store</td>\n",
       "      <td>Risk 3 (Low)</td>\n",
       "      <td>401 E 69TH ST</td>\n",
       "      <td>CHICAGO</td>\n",
       "      <td>IL</td>\n",
       "      <td>60637</td>\n",
       "      <td>2023-11-08T00:00:00.000</td>\n",
       "      <td>Canvass</td>\n",
       "      <td>Out of Business</td>\n",
       "      <td>NaN</td>\n",
       "      <td>41.769231</td>\n",
       "      <td>-87.615291</td>\n",
       "      <td>(41.769231013145316, -87.61529069900276)</td>\n",
       "    </tr>\n",
       "    <tr>\n",
       "      <th>3</th>\n",
       "      <td>2584881</td>\n",
       "      <td>AKAHOSHI RAMEN</td>\n",
       "      <td>AKAHOSHI RAMEN</td>\n",
       "      <td>2924580</td>\n",
       "      <td>Restaurant</td>\n",
       "      <td>Risk 3 (Low)</td>\n",
       "      <td>2340 N CALIFORNIA AVE</td>\n",
       "      <td>CHICAGO</td>\n",
       "      <td>IL</td>\n",
       "      <td>60647</td>\n",
       "      <td>2023-11-08T00:00:00.000</td>\n",
       "      <td>License Re-Inspection</td>\n",
       "      <td>Pass</td>\n",
       "      <td>NaN</td>\n",
       "      <td>41.924018</td>\n",
       "      <td>-87.697542</td>\n",
       "      <td>(41.924017757585965, -87.6975423745426)</td>\n",
       "    </tr>\n",
       "    <tr>\n",
       "      <th>4</th>\n",
       "      <td>2584883</td>\n",
       "      <td>RACHEL'S LEARNING CENTER, LTD.</td>\n",
       "      <td>RACHEL'S LEARNING CENTER</td>\n",
       "      <td>2358596</td>\n",
       "      <td>Children's Services Facility</td>\n",
       "      <td>Risk 1 (High)</td>\n",
       "      <td>5242-5244 W NORTH AVE</td>\n",
       "      <td>CHICAGO</td>\n",
       "      <td>IL</td>\n",
       "      <td>60639</td>\n",
       "      <td>2023-11-08T00:00:00.000</td>\n",
       "      <td>License Re-Inspection</td>\n",
       "      <td>Pass</td>\n",
       "      <td>51. PLUMBING INSTALLED; PROPER BACKFLOW DEVICE...</td>\n",
       "      <td>41.909591</td>\n",
       "      <td>-87.757404</td>\n",
       "      <td>(41.90959070094518, -87.75740429414539)</td>\n",
       "    </tr>\n",
       "  </tbody>\n",
       "</table>\n",
       "</div>"
      ],
      "text/plain": [
       "   inspection_id                        dba_name                  aka_name  \\\n",
       "0        2584931                           SUNDA                     SUNDA   \n",
       "1        2584936                           SUNDA                     SUNDA   \n",
       "2        2584899                 KING FOOD DRIVE           KING FOOD DRIVE   \n",
       "3        2584881                  AKAHOSHI RAMEN            AKAHOSHI RAMEN   \n",
       "4        2584883  RACHEL'S LEARNING CENTER, LTD.  RACHEL'S LEARNING CENTER   \n",
       "\n",
       "   license_                 facility_type           risk  \\\n",
       "0   2930097                    Restaurant  Risk 1 (High)   \n",
       "1   2930098                    Restaurant  Risk 1 (High)   \n",
       "2   2841316                 Grocery Store   Risk 3 (Low)   \n",
       "3   2924580                    Restaurant   Risk 3 (Low)   \n",
       "4   2358596  Children's Services Facility  Risk 1 (High)   \n",
       "\n",
       "                  address     city state    zip          inspection_date  \\\n",
       "0         333 N GREEN ST   CHICAGO    IL  60607  2023-11-09T00:00:00.000   \n",
       "1         333 N GREEN ST   CHICAGO    IL  60607  2023-11-09T00:00:00.000   \n",
       "2          401 E 69TH ST   CHICAGO    IL  60637  2023-11-08T00:00:00.000   \n",
       "3  2340 N CALIFORNIA AVE   CHICAGO    IL  60647  2023-11-08T00:00:00.000   \n",
       "4  5242-5244 W NORTH AVE   CHICAGO    IL  60639  2023-11-08T00:00:00.000   \n",
       "\n",
       "         inspection_type          results  \\\n",
       "0                License             Pass   \n",
       "1                License             Pass   \n",
       "2                Canvass  Out of Business   \n",
       "3  License Re-Inspection             Pass   \n",
       "4  License Re-Inspection             Pass   \n",
       "\n",
       "                                          violations   latitude  longitude  \\\n",
       "0  10. ADEQUATE HANDWASHING SINKS PROPERLY SUPPLI...  41.887808 -87.648545   \n",
       "1                                                NaN  41.887808 -87.648545   \n",
       "2                                                NaN  41.769231 -87.615291   \n",
       "3                                                NaN  41.924018 -87.697542   \n",
       "4  51. PLUMBING INSTALLED; PROPER BACKFLOW DEVICE...  41.909591 -87.757404   \n",
       "\n",
       "                                   location  \n",
       "0  (41.887808158349756, -87.64854522138359)  \n",
       "1  (41.887808158349756, -87.64854522138359)  \n",
       "2  (41.769231013145316, -87.61529069900276)  \n",
       "3   (41.924017757585965, -87.6975423745426)  \n",
       "4   (41.90959070094518, -87.75740429414539)  "
      ]
     },
     "execution_count": 5,
     "metadata": {},
     "output_type": "execute_result"
    }
   ],
   "source": [
    "#Verinin baş kısmına bakalım \n",
    "data.head()#benzer şekilde data.tail() son kısmını verecektir"
   ]
  },
  {
   "cell_type": "code",
   "execution_count": 6,
   "metadata": {
    "colab": {
     "base_uri": "https://localhost:8080/",
     "height": 391
    },
    "colab_type": "code",
    "executionInfo": {
     "elapsed": 987,
     "status": "ok",
     "timestamp": 1575047993753,
     "user": {
      "displayName": "Barış Bozkurt",
      "photoUrl": "https://lh3.googleusercontent.com/a-/AAuE7mAdwaPUM3cQ3cUO9jZZ-QMeyRr9RU_6iP1RfFeg=s64",
      "userId": "04066217430702805158"
     },
     "user_tz": -180
    },
    "id": "IF2TpwI2eyeA",
    "outputId": "433b6723-fec3-4eb7-e734-812be0f36c33"
   },
   "outputs": [
    {
     "name": "stdout",
     "output_type": "stream",
     "text": [
      "<class 'pandas.core.frame.DataFrame'>\n",
      "RangeIndex: 1000 entries, 0 to 999\n",
      "Data columns (total 17 columns):\n",
      " #   Column           Non-Null Count  Dtype  \n",
      "---  ------           --------------  -----  \n",
      " 0   inspection_id    1000 non-null   int64  \n",
      " 1   dba_name         1000 non-null   object \n",
      " 2   aka_name         996 non-null    object \n",
      " 3   license_         1000 non-null   int64  \n",
      " 4   facility_type    994 non-null    object \n",
      " 5   risk             999 non-null    object \n",
      " 6   address          1000 non-null   object \n",
      " 7   city             999 non-null    object \n",
      " 8   state            1000 non-null   object \n",
      " 9   zip              1000 non-null   int64  \n",
      " 10  inspection_date  1000 non-null   object \n",
      " 11  inspection_type  1000 non-null   object \n",
      " 12  results          1000 non-null   object \n",
      " 13  violations       652 non-null    object \n",
      " 14  latitude         997 non-null    float64\n",
      " 15  longitude        997 non-null    float64\n",
      " 16  location         997 non-null    object \n",
      "dtypes: float64(2), int64(3), object(12)\n",
      "memory usage: 132.9+ KB\n"
     ]
    }
   ],
   "source": [
    "data.info()#veriye dair genel bilgileri verir, null içeriklerin hangi kolonlarda ve ne kadar olduğunu görmemize yardımcı olur"
   ]
  },
  {
   "cell_type": "code",
   "execution_count": 7,
   "metadata": {
    "colab": {
     "base_uri": "https://localhost:8080/",
     "height": 297
    },
    "colab_type": "code",
    "executionInfo": {
     "elapsed": 868,
     "status": "ok",
     "timestamp": 1575048009069,
     "user": {
      "displayName": "Barış Bozkurt",
      "photoUrl": "https://lh3.googleusercontent.com/a-/AAuE7mAdwaPUM3cQ3cUO9jZZ-QMeyRr9RU_6iP1RfFeg=s64",
      "userId": "04066217430702805158"
     },
     "user_tz": -180
    },
    "id": "wKvO_xrxcpOx",
    "outputId": "79d178d0-ec33-4937-f6a8-7cefd30ca3f5"
   },
   "outputs": [
    {
     "data": {
      "text/html": [
       "<div>\n",
       "<style scoped>\n",
       "    .dataframe tbody tr th:only-of-type {\n",
       "        vertical-align: middle;\n",
       "    }\n",
       "\n",
       "    .dataframe tbody tr th {\n",
       "        vertical-align: top;\n",
       "    }\n",
       "\n",
       "    .dataframe thead th {\n",
       "        text-align: right;\n",
       "    }\n",
       "</style>\n",
       "<table border=\"1\" class=\"dataframe\">\n",
       "  <thead>\n",
       "    <tr style=\"text-align: right;\">\n",
       "      <th></th>\n",
       "      <th>inspection_id</th>\n",
       "      <th>license_</th>\n",
       "      <th>zip</th>\n",
       "      <th>latitude</th>\n",
       "      <th>longitude</th>\n",
       "    </tr>\n",
       "  </thead>\n",
       "  <tbody>\n",
       "    <tr>\n",
       "      <th>count</th>\n",
       "      <td>1.000000e+03</td>\n",
       "      <td>1.000000e+03</td>\n",
       "      <td>1000.000000</td>\n",
       "      <td>997.000000</td>\n",
       "      <td>997.000000</td>\n",
       "    </tr>\n",
       "    <tr>\n",
       "      <th>mean</th>\n",
       "      <td>2.584109e+06</td>\n",
       "      <td>2.180467e+06</td>\n",
       "      <td>60628.896000</td>\n",
       "      <td>41.899056</td>\n",
       "      <td>-87.682636</td>\n",
       "    </tr>\n",
       "    <tr>\n",
       "      <th>std</th>\n",
       "      <td>3.726189e+02</td>\n",
       "      <td>9.207664e+05</td>\n",
       "      <td>18.716182</td>\n",
       "      <td>0.065958</td>\n",
       "      <td>0.058239</td>\n",
       "    </tr>\n",
       "    <tr>\n",
       "      <th>min</th>\n",
       "      <td>2.583251e+06</td>\n",
       "      <td>3.490000e+02</td>\n",
       "      <td>60601.000000</td>\n",
       "      <td>41.649558</td>\n",
       "      <td>-87.914428</td>\n",
       "    </tr>\n",
       "    <tr>\n",
       "      <th>25%</th>\n",
       "      <td>2.583791e+06</td>\n",
       "      <td>2.020370e+06</td>\n",
       "      <td>60613.000000</td>\n",
       "      <td>41.866312</td>\n",
       "      <td>-87.715846</td>\n",
       "    </tr>\n",
       "    <tr>\n",
       "      <th>50%</th>\n",
       "      <td>2.584094e+06</td>\n",
       "      <td>2.511366e+06</td>\n",
       "      <td>60625.000000</td>\n",
       "      <td>41.900670</td>\n",
       "      <td>-87.668663</td>\n",
       "    </tr>\n",
       "    <tr>\n",
       "      <th>75%</th>\n",
       "      <td>2.584382e+06</td>\n",
       "      <td>2.817648e+06</td>\n",
       "      <td>60644.000000</td>\n",
       "      <td>41.939887</td>\n",
       "      <td>-87.638962</td>\n",
       "    </tr>\n",
       "    <tr>\n",
       "      <th>max</th>\n",
       "      <td>2.584936e+06</td>\n",
       "      <td>4.053640e+06</td>\n",
       "      <td>60707.000000</td>\n",
       "      <td>42.018079</td>\n",
       "      <td>-87.537327</td>\n",
       "    </tr>\n",
       "  </tbody>\n",
       "</table>\n",
       "</div>"
      ],
      "text/plain": [
       "       inspection_id      license_           zip    latitude   longitude\n",
       "count   1.000000e+03  1.000000e+03   1000.000000  997.000000  997.000000\n",
       "mean    2.584109e+06  2.180467e+06  60628.896000   41.899056  -87.682636\n",
       "std     3.726189e+02  9.207664e+05     18.716182    0.065958    0.058239\n",
       "min     2.583251e+06  3.490000e+02  60601.000000   41.649558  -87.914428\n",
       "25%     2.583791e+06  2.020370e+06  60613.000000   41.866312  -87.715846\n",
       "50%     2.584094e+06  2.511366e+06  60625.000000   41.900670  -87.668663\n",
       "75%     2.584382e+06  2.817648e+06  60644.000000   41.939887  -87.638962\n",
       "max     2.584936e+06  4.053640e+06  60707.000000   42.018079  -87.537327"
      ]
     },
     "execution_count": 7,
     "metadata": {},
     "output_type": "execute_result"
    }
   ],
   "source": [
    "data.describe()#sayısal verilen içeren kolonlara dair istatistiksel bilgiler verir"
   ]
  },
  {
   "cell_type": "markdown",
   "metadata": {
    "colab_type": "text",
    "id": "RJN_YDZ5vg_V"
   },
   "source": [
    "# Veri içeriğine erişim ve düzenleme işlemleri"
   ]
  },
  {
   "cell_type": "markdown",
   "metadata": {
    "colab_type": "text",
    "id": "yEdn8xIvjvew"
   },
   "source": [
    "Kullanmayacağımız satırları silelim"
   ]
  },
  {
   "cell_type": "code",
   "execution_count": 8,
   "metadata": {
    "colab": {},
    "colab_type": "code",
    "id": "2CISJ0O2h4nU"
   },
   "outputs": [],
   "source": [
    "silinecek_kolonlar = ['latitude','longitude','location']\n",
    "for kolon in silinecek_kolonlar:\n",
    "  del data[kolon]"
   ]
  },
  {
   "cell_type": "code",
   "execution_count": 9,
   "metadata": {
    "colab": {
     "base_uri": "https://localhost:8080/",
     "height": 34
    },
    "colab_type": "code",
    "executionInfo": {
     "elapsed": 1108,
     "status": "ok",
     "timestamp": 1575048216024,
     "user": {
      "displayName": "Barış Bozkurt",
      "photoUrl": "https://lh3.googleusercontent.com/a-/AAuE7mAdwaPUM3cQ3cUO9jZZ-QMeyRr9RU_6iP1RfFeg=s64",
      "userId": "04066217430702805158"
     },
     "user_tz": -180
    },
    "id": "hXVQXGG-mShx",
    "outputId": "36d1a92c-0081-4134-dc01-abfb10f430da"
   },
   "outputs": [
    {
     "data": {
      "text/plain": [
       "(1000, 14)"
      ]
     },
     "execution_count": 9,
     "metadata": {},
     "output_type": "execute_result"
    }
   ],
   "source": [
    "data.shape#boyutu tekrar inceleyelim"
   ]
  },
  {
   "cell_type": "markdown",
   "metadata": {
    "colab_type": "text",
    "id": "kaPzBtrebtNv"
   },
   "source": [
    "DataFrame içeriğine erişim için çok çeşitli yöntemler bulunmakta. \n",
    "https://pandas.pydata.org/pandas-docs/stable/user_guide/indexing.html\n",
    "\n",
    "Bunlardan burada örnekleyeceklerimiz:\n",
    "\n",
    "*   iloc: pozisyon/endeks ile erişim (integer location)\n",
    "*   loc: etiketle erişim\n",
    "*   kolonlara erişim\n",
    "\n",
    "\n"
   ]
  },
  {
   "cell_type": "markdown",
   "metadata": {
    "colab_type": "text",
    "id": "HxaMlAo4f1JM"
   },
   "source": [
    "## Pozisyon ile erişim\n",
    "\n",
    "https://pandas.pydata.org/pandas-docs/stable/user_guide/indexing.html#indexing-label"
   ]
  },
  {
   "cell_type": "code",
   "execution_count": 10,
   "metadata": {
    "colab": {
     "base_uri": "https://localhost:8080/",
     "height": 272
    },
    "colab_type": "code",
    "executionInfo": {
     "elapsed": 1187,
     "status": "ok",
     "timestamp": 1575048289580,
     "user": {
      "displayName": "Barış Bozkurt",
      "photoUrl": "https://lh3.googleusercontent.com/a-/AAuE7mAdwaPUM3cQ3cUO9jZZ-QMeyRr9RU_6iP1RfFeg=s64",
      "userId": "04066217430702805158"
     },
     "user_tz": -180
    },
    "id": "jIxS8eCB8dil",
    "outputId": "3653dea1-ee15-407d-f1d3-f82e86e885fc"
   },
   "outputs": [
    {
     "data": {
      "text/plain": [
       "inspection_id                                                2584931\n",
       "dba_name                                                       SUNDA\n",
       "aka_name                                                       SUNDA\n",
       "license_                                                     2930097\n",
       "facility_type                                             Restaurant\n",
       "risk                                                   Risk 1 (High)\n",
       "address                                              333 N GREEN ST \n",
       "city                                                         CHICAGO\n",
       "state                                                             IL\n",
       "zip                                                            60607\n",
       "inspection_date                              2023-11-09T00:00:00.000\n",
       "inspection_type                                              License\n",
       "results                                                         Pass\n",
       "violations         10. ADEQUATE HANDWASHING SINKS PROPERLY SUPPLI...\n",
       "Name: 0, dtype: object"
      ]
     },
     "execution_count": 10,
     "metadata": {},
     "output_type": "execute_result"
    }
   ],
   "source": [
    "data.iloc[0]#ilk örnek/satır"
   ]
  },
  {
   "cell_type": "markdown",
   "metadata": {
    "colab_type": "text",
    "id": "XFr50Pa3hBnc"
   },
   "source": [
    "Tek satır veya tek sütun bir tablo değil dizi/seri verecektir"
   ]
  },
  {
   "cell_type": "code",
   "execution_count": 11,
   "metadata": {
    "colab": {
     "base_uri": "https://localhost:8080/",
     "height": 34
    },
    "colab_type": "code",
    "executionInfo": {
     "elapsed": 863,
     "status": "ok",
     "timestamp": 1575048320880,
     "user": {
      "displayName": "Barış Bozkurt",
      "photoUrl": "https://lh3.googleusercontent.com/a-/AAuE7mAdwaPUM3cQ3cUO9jZZ-QMeyRr9RU_6iP1RfFeg=s64",
      "userId": "04066217430702805158"
     },
     "user_tz": -180
    },
    "id": "D-MU_Liwg9P6",
    "outputId": "1dccace7-6bf0-4898-f401-d7b6789fcab4"
   },
   "outputs": [
    {
     "data": {
      "text/plain": [
       "pandas.core.series.Series"
      ]
     },
     "execution_count": 11,
     "metadata": {},
     "output_type": "execute_result"
    }
   ],
   "source": [
    "type(data.iloc[0])"
   ]
  },
  {
   "cell_type": "code",
   "execution_count": 12,
   "metadata": {
    "colab": {
     "base_uri": "https://localhost:8080/",
     "height": 216
    },
    "colab_type": "code",
    "executionInfo": {
     "elapsed": 1199,
     "status": "ok",
     "timestamp": 1575048338291,
     "user": {
      "displayName": "Barış Bozkurt",
      "photoUrl": "https://lh3.googleusercontent.com/a-/AAuE7mAdwaPUM3cQ3cUO9jZZ-QMeyRr9RU_6iP1RfFeg=s64",
      "userId": "04066217430702805158"
     },
     "user_tz": -180
    },
    "id": "VHIGw3lV9At_",
    "outputId": "76a0d729-73f4-4263-a2dd-b06b6c190651"
   },
   "outputs": [
    {
     "data": {
      "text/html": [
       "<div>\n",
       "<style scoped>\n",
       "    .dataframe tbody tr th:only-of-type {\n",
       "        vertical-align: middle;\n",
       "    }\n",
       "\n",
       "    .dataframe tbody tr th {\n",
       "        vertical-align: top;\n",
       "    }\n",
       "\n",
       "    .dataframe thead th {\n",
       "        text-align: right;\n",
       "    }\n",
       "</style>\n",
       "<table border=\"1\" class=\"dataframe\">\n",
       "  <thead>\n",
       "    <tr style=\"text-align: right;\">\n",
       "      <th></th>\n",
       "      <th>inspection_id</th>\n",
       "      <th>dba_name</th>\n",
       "      <th>aka_name</th>\n",
       "      <th>license_</th>\n",
       "      <th>facility_type</th>\n",
       "      <th>risk</th>\n",
       "      <th>address</th>\n",
       "      <th>city</th>\n",
       "      <th>state</th>\n",
       "      <th>zip</th>\n",
       "      <th>inspection_date</th>\n",
       "      <th>inspection_type</th>\n",
       "      <th>results</th>\n",
       "      <th>violations</th>\n",
       "    </tr>\n",
       "  </thead>\n",
       "  <tbody>\n",
       "    <tr>\n",
       "      <th>998</th>\n",
       "      <td>2583507</td>\n",
       "      <td>BIG WIG 0003, LLC</td>\n",
       "      <td>BIG WIG TACOS</td>\n",
       "      <td>2703973</td>\n",
       "      <td>Restaurant</td>\n",
       "      <td>Risk 1 (High)</td>\n",
       "      <td>2490 N MILWAUKEE AVE</td>\n",
       "      <td>CHICAGO</td>\n",
       "      <td>IL</td>\n",
       "      <td>60647</td>\n",
       "      <td>2023-10-17T00:00:00.000</td>\n",
       "      <td>Canvass</td>\n",
       "      <td>Pass</td>\n",
       "      <td>58. ALLERGEN TRAINING AS REQUIRED - Comments: ...</td>\n",
       "    </tr>\n",
       "    <tr>\n",
       "      <th>999</th>\n",
       "      <td>2583525</td>\n",
       "      <td>F &amp; K TRADING INC.</td>\n",
       "      <td>TOP MIDDLE EASTERN RESTAURANT</td>\n",
       "      <td>2845330</td>\n",
       "      <td>Restaurant</td>\n",
       "      <td>Risk 1 (High)</td>\n",
       "      <td>5750 N CALIFORNIA AVE</td>\n",
       "      <td>CHICAGO</td>\n",
       "      <td>IL</td>\n",
       "      <td>60659</td>\n",
       "      <td>2023-10-17T00:00:00.000</td>\n",
       "      <td>Non-Inspection</td>\n",
       "      <td>No Entry</td>\n",
       "      <td>NaN</td>\n",
       "    </tr>\n",
       "  </tbody>\n",
       "</table>\n",
       "</div>"
      ],
      "text/plain": [
       "     inspection_id            dba_name                       aka_name  \\\n",
       "998        2583507   BIG WIG 0003, LLC                  BIG WIG TACOS   \n",
       "999        2583525  F & K TRADING INC.  TOP MIDDLE EASTERN RESTAURANT   \n",
       "\n",
       "     license_ facility_type           risk                 address     city  \\\n",
       "998   2703973    Restaurant  Risk 1 (High)   2490 N MILWAUKEE AVE   CHICAGO   \n",
       "999   2845330    Restaurant  Risk 1 (High)  5750 N CALIFORNIA AVE   CHICAGO   \n",
       "\n",
       "    state    zip          inspection_date inspection_type   results  \\\n",
       "998    IL  60647  2023-10-17T00:00:00.000         Canvass      Pass   \n",
       "999    IL  60659  2023-10-17T00:00:00.000  Non-Inspection  No Entry   \n",
       "\n",
       "                                            violations  \n",
       "998  58. ALLERGEN TRAINING AS REQUIRED - Comments: ...  \n",
       "999                                                NaN  "
      ]
     },
     "execution_count": 12,
     "metadata": {},
     "output_type": "execute_result"
    }
   ],
   "source": [
    "data_son2 = data.iloc[-2:]#son iki satır\n",
    "data_son2"
   ]
  },
  {
   "cell_type": "markdown",
   "metadata": {
    "colab_type": "text",
    "id": "zXeQkzOehcq-"
   },
   "source": [
    "Kesip aldığımız kısım da bir tablo olduğu için DataFrame türündedir"
   ]
  },
  {
   "cell_type": "code",
   "execution_count": 13,
   "metadata": {
    "colab": {
     "base_uri": "https://localhost:8080/",
     "height": 34
    },
    "colab_type": "code",
    "executionInfo": {
     "elapsed": 1104,
     "status": "ok",
     "timestamp": 1575048364097,
     "user": {
      "displayName": "Barış Bozkurt",
      "photoUrl": "https://lh3.googleusercontent.com/a-/AAuE7mAdwaPUM3cQ3cUO9jZZ-QMeyRr9RU_6iP1RfFeg=s64",
      "userId": "04066217430702805158"
     },
     "user_tz": -180
    },
    "id": "B8McZxYZhZeq",
    "outputId": "f33dfc0c-4b7c-4270-ee38-0dd63feec382"
   },
   "outputs": [
    {
     "data": {
      "text/plain": [
       "pandas.core.frame.DataFrame"
      ]
     },
     "execution_count": 13,
     "metadata": {},
     "output_type": "execute_result"
    }
   ],
   "source": [
    "type(data_son2)"
   ]
  },
  {
   "cell_type": "code",
   "execution_count": 14,
   "metadata": {
    "colab": {
     "base_uri": "https://localhost:8080/",
     "height": 142
    },
    "colab_type": "code",
    "executionInfo": {
     "elapsed": 791,
     "status": "ok",
     "timestamp": 1575048415396,
     "user": {
      "displayName": "Barış Bozkurt",
      "photoUrl": "https://lh3.googleusercontent.com/a-/AAuE7mAdwaPUM3cQ3cUO9jZZ-QMeyRr9RU_6iP1RfFeg=s64",
      "userId": "04066217430702805158"
     },
     "user_tz": -180
    },
    "id": "_gVRWmI6SIRf",
    "outputId": "32cfb855-7bbb-4819-badd-882f4a0ff92f"
   },
   "outputs": [
    {
     "data": {
      "text/html": [
       "<div>\n",
       "<style scoped>\n",
       "    .dataframe tbody tr th:only-of-type {\n",
       "        vertical-align: middle;\n",
       "    }\n",
       "\n",
       "    .dataframe tbody tr th {\n",
       "        vertical-align: top;\n",
       "    }\n",
       "\n",
       "    .dataframe thead th {\n",
       "        text-align: right;\n",
       "    }\n",
       "</style>\n",
       "<table border=\"1\" class=\"dataframe\">\n",
       "  <thead>\n",
       "    <tr style=\"text-align: right;\">\n",
       "      <th></th>\n",
       "      <th>aka_name</th>\n",
       "      <th>risk</th>\n",
       "      <th>inspection_type</th>\n",
       "      <th>results</th>\n",
       "    </tr>\n",
       "  </thead>\n",
       "  <tbody>\n",
       "    <tr>\n",
       "      <th>0</th>\n",
       "      <td>SUNDA</td>\n",
       "      <td>Risk 1 (High)</td>\n",
       "      <td>License</td>\n",
       "      <td>Pass</td>\n",
       "    </tr>\n",
       "    <tr>\n",
       "      <th>1</th>\n",
       "      <td>SUNDA</td>\n",
       "      <td>Risk 1 (High)</td>\n",
       "      <td>License</td>\n",
       "      <td>Pass</td>\n",
       "    </tr>\n",
       "    <tr>\n",
       "      <th>2</th>\n",
       "      <td>KING FOOD DRIVE</td>\n",
       "      <td>Risk 3 (Low)</td>\n",
       "      <td>Canvass</td>\n",
       "      <td>Out of Business</td>\n",
       "    </tr>\n",
       "  </tbody>\n",
       "</table>\n",
       "</div>"
      ],
      "text/plain": [
       "          aka_name           risk inspection_type          results\n",
       "0            SUNDA  Risk 1 (High)         License             Pass\n",
       "1            SUNDA  Risk 1 (High)         License             Pass\n",
       "2  KING FOOD DRIVE   Risk 3 (Low)         Canvass  Out of Business"
      ]
     },
     "execution_count": 14,
     "metadata": {},
     "output_type": "execute_result"
    }
   ],
   "source": [
    "data.iloc[:3,[2, 5, 11, 12]]#ilk üç satır ve 5,11,12. sütunları ver"
   ]
  },
  {
   "cell_type": "markdown",
   "metadata": {
    "colab_type": "text",
    "id": "zW9SPnN3hxNB"
   },
   "source": [
    "## Etiket ile erişim, endeks değiştirme\n",
    "\n",
    "https://pandas.pydata.org/pandas-docs/stable/user_guide/indexing.html#selection-by-label"
   ]
  },
  {
   "cell_type": "markdown",
   "metadata": {
    "colab_type": "text",
    "id": "qaUd9F4GMvSf"
   },
   "source": [
    "Talolarda edeks olarak verili 0-(N-1) tam sayılar kullanmak zorunda değiliz. Endeksler etiketler olabilir. Örneğin parite ile ilgili bir veride endeksin tarih olması daha kullanışlıdır.\n"
   ]
  },
  {
   "cell_type": "code",
   "execution_count": 16,
   "metadata": {
    "colab": {
     "base_uri": "https://localhost:8080/",
     "height": 206
    },
    "colab_type": "code",
    "executionInfo": {
     "elapsed": 915,
     "status": "ok",
     "timestamp": 1575620098918,
     "user": {
      "displayName": "Barış Bozkurt",
      "photoUrl": "https://lh3.googleusercontent.com/a-/AAuE7mAdwaPUM3cQ3cUO9jZZ-QMeyRr9RU_6iP1RfFeg=s64",
      "userId": "04066217430702805158"
     },
     "user_tz": -180
    },
    "id": "XapdHAOzi1jE",
    "outputId": "66cf77ea-8430-4d30-979b-2074c08398d4"
   },
   "outputs": [
    {
     "data": {
      "text/html": [
       "<div>\n",
       "<style scoped>\n",
       "    .dataframe tbody tr th:only-of-type {\n",
       "        vertical-align: middle;\n",
       "    }\n",
       "\n",
       "    .dataframe tbody tr th {\n",
       "        vertical-align: top;\n",
       "    }\n",
       "\n",
       "    .dataframe thead th {\n",
       "        text-align: right;\n",
       "    }\n",
       "</style>\n",
       "<table border=\"1\" class=\"dataframe\">\n",
       "  <thead>\n",
       "    <tr style=\"text-align: right;\">\n",
       "      <th></th>\n",
       "      <th>Date</th>\n",
       "      <th>USDEUR</th>\n",
       "    </tr>\n",
       "  </thead>\n",
       "  <tbody>\n",
       "    <tr>\n",
       "      <th>0</th>\n",
       "      <td>2010-07-02</td>\n",
       "      <td>1.2548</td>\n",
       "    </tr>\n",
       "    <tr>\n",
       "      <th>1</th>\n",
       "      <td>2010-07-01</td>\n",
       "      <td>1.2328</td>\n",
       "    </tr>\n",
       "    <tr>\n",
       "      <th>2</th>\n",
       "      <td>2010-06-30</td>\n",
       "      <td>1.2271</td>\n",
       "    </tr>\n",
       "    <tr>\n",
       "      <th>3</th>\n",
       "      <td>2010-06-29</td>\n",
       "      <td>1.2198</td>\n",
       "    </tr>\n",
       "    <tr>\n",
       "      <th>4</th>\n",
       "      <td>2010-06-28</td>\n",
       "      <td>1.2339</td>\n",
       "    </tr>\n",
       "  </tbody>\n",
       "</table>\n",
       "</div>"
      ],
      "text/plain": [
       "         Date  USDEUR\n",
       "0  2010-07-02  1.2548\n",
       "1  2010-07-01  1.2328\n",
       "2  2010-06-30  1.2271\n",
       "3  2010-06-29  1.2198\n",
       "4  2010-06-28  1.2339"
      ]
     },
     "execution_count": 16,
     "metadata": {},
     "output_type": "execute_result"
    }
   ],
   "source": [
    "USD_EUR = pd.read_csv(\"https://gist.githubusercontent.com/cbilson/465257/raw/2a4b761446189caa78204a36af45584149970c50/USD-EUR-csv\")\n",
    "#USD_EUR = pd.read_csv(\"../veri/USD-EUR.csv\")\n",
    "USD_EUR.head()"
   ]
  },
  {
   "cell_type": "markdown",
   "metadata": {
    "colab_type": "text",
    "id": "wGCY-Xn4jSix"
   },
   "source": [
    "N.satırdaki parite'den çok belirli bir tarihteki parite erişimi daha pratik olacaktır. Endeks olarak \"Date\" sütununu belirleyelim"
   ]
  },
  {
   "cell_type": "code",
   "execution_count": 17,
   "metadata": {
    "colab": {},
    "colab_type": "code",
    "id": "-D0IiRVbjJMN"
   },
   "outputs": [],
   "source": [
    "USD_EUR = USD_EUR.set_index('Date')"
   ]
  },
  {
   "cell_type": "markdown",
   "metadata": {
    "colab_type": "text",
    "id": "NCXPCJ6Rj3E8"
   },
   "source": [
    "...ve belirli bir tarihteki değere erişelim"
   ]
  },
  {
   "cell_type": "code",
   "execution_count": 18,
   "metadata": {
    "colab": {
     "base_uri": "https://localhost:8080/",
     "height": 52
    },
    "colab_type": "code",
    "executionInfo": {
     "elapsed": 906,
     "status": "ok",
     "timestamp": 1575620106441,
     "user": {
      "displayName": "Barış Bozkurt",
      "photoUrl": "https://lh3.googleusercontent.com/a-/AAuE7mAdwaPUM3cQ3cUO9jZZ-QMeyRr9RU_6iP1RfFeg=s64",
      "userId": "04066217430702805158"
     },
     "user_tz": -180
    },
    "id": "IVczvCx1jvUP",
    "outputId": "5ac38f37-2dd5-4733-98d8-7209cdd95002"
   },
   "outputs": [
    {
     "data": {
      "text/plain": [
       "USDEUR    1.2198\n",
       "Name: 2010-06-29, dtype: float64"
      ]
     },
     "execution_count": 18,
     "metadata": {},
     "output_type": "execute_result"
    }
   ],
   "source": [
    "USD_EUR.loc['2010-06-29']"
   ]
  },
  {
   "cell_type": "markdown",
   "metadata": {
    "colab_type": "text",
    "id": "DKaXRGafR4cq"
   },
   "source": [
    "Hangi tarihler arasında değerler var? ilk ve sonuncuyu yazdıralım"
   ]
  },
  {
   "cell_type": "code",
   "execution_count": 19,
   "metadata": {
    "colab": {
     "base_uri": "https://localhost:8080/",
     "height": 34
    },
    "colab_type": "code",
    "executionInfo": {
     "elapsed": 1082,
     "status": "ok",
     "timestamp": 1575620218259,
     "user": {
      "displayName": "Barış Bozkurt",
      "photoUrl": "https://lh3.googleusercontent.com/a-/AAuE7mAdwaPUM3cQ3cUO9jZZ-QMeyRr9RU_6iP1RfFeg=s64",
      "userId": "04066217430702805158"
     },
     "user_tz": -180
    },
    "id": "DWnvlkgdRxXM",
    "outputId": "b6c72d27-49d1-4e1c-d302-9408640767f0"
   },
   "outputs": [
    {
     "name": "stdout",
     "output_type": "stream",
     "text": [
      "İlk endeks:  2010-07-02 , son endeks:  2010-05-27\n"
     ]
    }
   ],
   "source": [
    "print(\"İlk endeks: \", USD_EUR.index[0], \", son endeks: \", USD_EUR.index[-1])"
   ]
  },
  {
   "cell_type": "markdown",
   "metadata": {
    "colab_type": "text",
    "id": "DoUZWhIBSKpM"
   },
   "source": [
    "Belirli tarihler arasındaki satırları çizidirelim:"
   ]
  },
  {
   "cell_type": "code",
   "execution_count": 20,
   "metadata": {
    "colab": {
     "base_uri": "https://localhost:8080/",
     "height": 279
    },
    "colab_type": "code",
    "executionInfo": {
     "elapsed": 1031,
     "status": "ok",
     "timestamp": 1575620340601,
     "user": {
      "displayName": "Barış Bozkurt",
      "photoUrl": "https://lh3.googleusercontent.com/a-/AAuE7mAdwaPUM3cQ3cUO9jZZ-QMeyRr9RU_6iP1RfFeg=s64",
      "userId": "04066217430702805158"
     },
     "user_tz": -180
    },
    "id": "PuGo9F6eSYL7",
    "outputId": "c9635e72-c9fb-49b9-e7c6-cfd2387a31b8"
   },
   "outputs": [
    {
     "data": {
      "image/png": "[encoded data removed]",
      "text/plain": [
       "<Figure size 640x480 with 1 Axes>"
      ]
     },
     "metadata": {},
     "output_type": "display_data"
    }
   ],
   "source": [
    "USD_EUR.loc['2010-06-28':'2010-05-27'].plot();"
   ]
  },
  {
   "cell_type": "markdown",
   "metadata": {
    "colab_type": "text",
    "id": "-uxvn2YjiiUJ"
   },
   "source": [
    "Benzer şekilde, daha önce yüklediğimiz sağlık taraması verisinde endeks olarak ardışık satır sayıları yerine inspection_id'yi kullanmayı isteyebiliriz. Önce hali hazırdaki endekslerin neler olduğuna bakalım"
   ]
  },
  {
   "cell_type": "code",
   "execution_count": 21,
   "metadata": {
    "colab": {
     "base_uri": "https://localhost:8080/",
     "height": 34
    },
    "colab_type": "code",
    "executionInfo": {
     "elapsed": 1206,
     "status": "ok",
     "timestamp": 1575048490354,
     "user": {
      "displayName": "Barış Bozkurt",
      "photoUrl": "https://lh3.googleusercontent.com/a-/AAuE7mAdwaPUM3cQ3cUO9jZZ-QMeyRr9RU_6iP1RfFeg=s64",
      "userId": "04066217430702805158"
     },
     "user_tz": -180
    },
    "id": "f5A-_AciM16o",
    "outputId": "f81f54d5-c9de-46b9-8a21-c0e8937e4964"
   },
   "outputs": [
    {
     "data": {
      "text/plain": [
       "RangeIndex(start=0, stop=1000, step=1)"
      ]
     },
     "execution_count": 21,
     "metadata": {},
     "output_type": "execute_result"
    }
   ],
   "source": [
    "data.index"
   ]
  },
  {
   "cell_type": "markdown",
   "metadata": {
    "colab_type": "text",
    "id": "SUrOOaoRNFD3"
   },
   "source": [
    "inspection_id'nin endeks olarak atanması (kolonlar arasından kaldırılır)"
   ]
  },
  {
   "cell_type": "code",
   "execution_count": 22,
   "metadata": {
    "colab": {
     "base_uri": "https://localhost:8080/",
     "height": 119
    },
    "colab_type": "code",
    "executionInfo": {
     "elapsed": 1094,
     "status": "ok",
     "timestamp": 1575048498340,
     "user": {
      "displayName": "Barış Bozkurt",
      "photoUrl": "https://lh3.googleusercontent.com/a-/AAuE7mAdwaPUM3cQ3cUO9jZZ-QMeyRr9RU_6iP1RfFeg=s64",
      "userId": "04066217430702805158"
     },
     "user_tz": -180
    },
    "id": "cXoEEuuyNYIo",
    "outputId": "5b1b5778-bcf4-4f4d-9a5b-4193343f54c1"
   },
   "outputs": [
    {
     "data": {
      "text/plain": [
       "Int64Index([2584931, 2584936, 2584899, 2584881, 2584883, 2584905, 2584845,\n",
       "            2584890, 2584849, 2584880,\n",
       "            ...\n",
       "            2583517, 2583504, 2583526, 2583455, 2583497, 2583530, 2583523,\n",
       "            2583483, 2583507, 2583525],\n",
       "           dtype='int64', name='inspection_id', length=1000)"
      ]
     },
     "execution_count": 22,
     "metadata": {},
     "output_type": "execute_result"
    }
   ],
   "source": [
    "data = data.set_index('inspection_id')\n",
    "data.index"
   ]
  },
  {
   "cell_type": "markdown",
   "metadata": {
    "colab_type": "text",
    "id": "oxz8yQmoPK11"
   },
   "source": [
    "Yeni sürümün baş kısmına bakalım"
   ]
  },
  {
   "cell_type": "code",
   "execution_count": 27,
   "metadata": {
    "colab": {
     "base_uri": "https://localhost:8080/",
     "height": 397
    },
    "colab_type": "code",
    "executionInfo": {
     "elapsed": 839,
     "status": "ok",
     "timestamp": 1575048511523,
     "user": {
      "displayName": "Barış Bozkurt",
      "photoUrl": "https://lh3.googleusercontent.com/a-/AAuE7mAdwaPUM3cQ3cUO9jZZ-QMeyRr9RU_6iP1RfFeg=s64",
      "userId": "04066217430702805158"
     },
     "user_tz": -180
    },
    "id": "Mnq5JitBNua0",
    "outputId": "d26b043b-688b-4a96-93fa-85218a3170a3"
   },
   "outputs": [
    {
     "data": {
      "text/html": [
       "<div>\n",
       "<style scoped>\n",
       "    .dataframe tbody tr th:only-of-type {\n",
       "        vertical-align: middle;\n",
       "    }\n",
       "\n",
       "    .dataframe tbody tr th {\n",
       "        vertical-align: top;\n",
       "    }\n",
       "\n",
       "    .dataframe thead th {\n",
       "        text-align: right;\n",
       "    }\n",
       "</style>\n",
       "<table border=\"1\" class=\"dataframe\">\n",
       "  <thead>\n",
       "    <tr style=\"text-align: right;\">\n",
       "      <th></th>\n",
       "      <th>dba_name</th>\n",
       "      <th>aka_name</th>\n",
       "      <th>license_</th>\n",
       "      <th>facility_type</th>\n",
       "      <th>risk</th>\n",
       "      <th>address</th>\n",
       "      <th>city</th>\n",
       "      <th>state</th>\n",
       "      <th>zip</th>\n",
       "      <th>inspection_date</th>\n",
       "      <th>inspection_type</th>\n",
       "      <th>results</th>\n",
       "      <th>violations</th>\n",
       "    </tr>\n",
       "    <tr>\n",
       "      <th>inspection_id</th>\n",
       "      <th></th>\n",
       "      <th></th>\n",
       "      <th></th>\n",
       "      <th></th>\n",
       "      <th></th>\n",
       "      <th></th>\n",
       "      <th></th>\n",
       "      <th></th>\n",
       "      <th></th>\n",
       "      <th></th>\n",
       "      <th></th>\n",
       "      <th></th>\n",
       "      <th></th>\n",
       "    </tr>\n",
       "  </thead>\n",
       "  <tbody>\n",
       "    <tr>\n",
       "      <th>2584931</th>\n",
       "      <td>SUNDA</td>\n",
       "      <td>SUNDA</td>\n",
       "      <td>2930097</td>\n",
       "      <td>Restaurant</td>\n",
       "      <td>Risk 1 (High)</td>\n",
       "      <td>333 N GREEN ST</td>\n",
       "      <td>CHICAGO</td>\n",
       "      <td>IL</td>\n",
       "      <td>60607</td>\n",
       "      <td>2023-11-09T00:00:00.000</td>\n",
       "      <td>License</td>\n",
       "      <td>Pass</td>\n",
       "      <td>10. ADEQUATE HANDWASHING SINKS PROPERLY SUPPLI...</td>\n",
       "    </tr>\n",
       "    <tr>\n",
       "      <th>2584936</th>\n",
       "      <td>SUNDA</td>\n",
       "      <td>SUNDA</td>\n",
       "      <td>2930098</td>\n",
       "      <td>Restaurant</td>\n",
       "      <td>Risk 1 (High)</td>\n",
       "      <td>333 N GREEN ST</td>\n",
       "      <td>CHICAGO</td>\n",
       "      <td>IL</td>\n",
       "      <td>60607</td>\n",
       "      <td>2023-11-09T00:00:00.000</td>\n",
       "      <td>License</td>\n",
       "      <td>Pass</td>\n",
       "      <td>NaN</td>\n",
       "    </tr>\n",
       "    <tr>\n",
       "      <th>2584899</th>\n",
       "      <td>KING FOOD DRIVE</td>\n",
       "      <td>KING FOOD DRIVE</td>\n",
       "      <td>2841316</td>\n",
       "      <td>Grocery Store</td>\n",
       "      <td>Risk 3 (Low)</td>\n",
       "      <td>401 E 69TH ST</td>\n",
       "      <td>CHICAGO</td>\n",
       "      <td>IL</td>\n",
       "      <td>60637</td>\n",
       "      <td>2023-11-08T00:00:00.000</td>\n",
       "      <td>Canvass</td>\n",
       "      <td>Out of Business</td>\n",
       "      <td>NaN</td>\n",
       "    </tr>\n",
       "  </tbody>\n",
       "</table>\n",
       "</div>"
      ],
      "text/plain": [
       "                      dba_name         aka_name  license_  facility_type  \\\n",
       "inspection_id                                                              \n",
       "2584931                  SUNDA            SUNDA   2930097     Restaurant   \n",
       "2584936                  SUNDA            SUNDA   2930098     Restaurant   \n",
       "2584899        KING FOOD DRIVE  KING FOOD DRIVE   2841316  Grocery Store   \n",
       "\n",
       "                        risk          address     city state    zip  \\\n",
       "inspection_id                                                         \n",
       "2584931        Risk 1 (High)  333 N GREEN ST   CHICAGO    IL  60607   \n",
       "2584936        Risk 1 (High)  333 N GREEN ST   CHICAGO    IL  60607   \n",
       "2584899         Risk 3 (Low)   401 E 69TH ST   CHICAGO    IL  60637   \n",
       "\n",
       "                       inspection_date inspection_type          results  \\\n",
       "inspection_id                                                             \n",
       "2584931        2023-11-09T00:00:00.000         License             Pass   \n",
       "2584936        2023-11-09T00:00:00.000         License             Pass   \n",
       "2584899        2023-11-08T00:00:00.000         Canvass  Out of Business   \n",
       "\n",
       "                                                      violations  \n",
       "inspection_id                                                     \n",
       "2584931        10. ADEQUATE HANDWASHING SINKS PROPERLY SUPPLI...  \n",
       "2584936                                                      NaN  \n",
       "2584899                                                      NaN  "
      ]
     },
     "execution_count": 27,
     "metadata": {},
     "output_type": "execute_result"
    }
   ],
   "source": [
    "data.head(3)"
   ]
  },
  {
   "cell_type": "code",
   "execution_count": 30,
   "metadata": {
    "colab": {
     "base_uri": "https://localhost:8080/",
     "height": 255
    },
    "colab_type": "code",
    "executionInfo": {
     "elapsed": 826,
     "status": "ok",
     "timestamp": 1575048533875,
     "user": {
      "displayName": "Barış Bozkurt",
      "photoUrl": "https://lh3.googleusercontent.com/a-/AAuE7mAdwaPUM3cQ3cUO9jZZ-QMeyRr9RU_6iP1RfFeg=s64",
      "userId": "04066217430702805158"
     },
     "user_tz": -180
    },
    "id": "pzNarYwNQH4C",
    "outputId": "eeb46e43-e96d-4704-9e52-f165c55ed59f"
   },
   "outputs": [
    {
     "ename": "KeyError",
     "evalue": "2352355",
     "output_type": "error",
     "traceback": [
      "\u001b[1;31m---------------------------------------------------------------------------\u001b[0m",
      "\u001b[1;31mKeyError\u001b[0m                                  Traceback (most recent call last)",
      "File \u001b[1;32m~\\anaconda3\\lib\\site-packages\\pandas\\core\\indexes\\base.py:3802\u001b[0m, in \u001b[0;36mIndex.get_loc\u001b[1;34m(self, key, method, tolerance)\u001b[0m\n\u001b[0;32m   3801\u001b[0m \u001b[38;5;28;01mtry\u001b[39;00m:\n\u001b[1;32m-> 3802\u001b[0m     \u001b[38;5;28;01mreturn\u001b[39;00m \u001b[38;5;28;43mself\u001b[39;49m\u001b[38;5;241;43m.\u001b[39;49m\u001b[43m_engine\u001b[49m\u001b[38;5;241;43m.\u001b[39;49m\u001b[43mget_loc\u001b[49m\u001b[43m(\u001b[49m\u001b[43mcasted_key\u001b[49m\u001b[43m)\u001b[49m\n\u001b[0;32m   3803\u001b[0m \u001b[38;5;28;01mexcept\u001b[39;00m \u001b[38;5;167;01mKeyError\u001b[39;00m \u001b[38;5;28;01mas\u001b[39;00m err:\n",
      "File \u001b[1;32m~\\anaconda3\\lib\\site-packages\\pandas\\_libs\\index.pyx:138\u001b[0m, in \u001b[0;36mpandas._libs.index.IndexEngine.get_loc\u001b[1;34m()\u001b[0m\n",
      "File \u001b[1;32m~\\anaconda3\\lib\\site-packages\\pandas\\_libs\\index.pyx:165\u001b[0m, in \u001b[0;36mpandas._libs.index.IndexEngine.get_loc\u001b[1;34m()\u001b[0m\n",
      "File \u001b[1;32mpandas\\_libs\\hashtable_class_helper.pxi:2263\u001b[0m, in \u001b[0;36mpandas._libs.hashtable.Int64HashTable.get_item\u001b[1;34m()\u001b[0m\n",
      "File \u001b[1;32mpandas\\_libs\\hashtable_class_helper.pxi:2273\u001b[0m, in \u001b[0;36mpandas._libs.hashtable.Int64HashTable.get_item\u001b[1;34m()\u001b[0m\n",
      "\u001b[1;31mKeyError\u001b[0m: 2352355",
      "\nThe above exception was the direct cause of the following exception:\n",
      "\u001b[1;31mKeyError\u001b[0m                                  Traceback (most recent call last)",
      "Cell \u001b[1;32mIn[30], line 1\u001b[0m\n\u001b[1;32m----> 1\u001b[0m \u001b[43mdata\u001b[49m\u001b[38;5;241;43m.\u001b[39;49m\u001b[43mloc\u001b[49m\u001b[43m[\u001b[49m\u001b[38;5;241;43m2352355\u001b[39;49m\u001b[43m]\u001b[49m\n",
      "File \u001b[1;32m~\\anaconda3\\lib\\site-packages\\pandas\\core\\indexing.py:1073\u001b[0m, in \u001b[0;36m_LocationIndexer.__getitem__\u001b[1;34m(self, key)\u001b[0m\n\u001b[0;32m   1070\u001b[0m axis \u001b[38;5;241m=\u001b[39m \u001b[38;5;28mself\u001b[39m\u001b[38;5;241m.\u001b[39maxis \u001b[38;5;129;01mor\u001b[39;00m \u001b[38;5;241m0\u001b[39m\n\u001b[0;32m   1072\u001b[0m maybe_callable \u001b[38;5;241m=\u001b[39m com\u001b[38;5;241m.\u001b[39mapply_if_callable(key, \u001b[38;5;28mself\u001b[39m\u001b[38;5;241m.\u001b[39mobj)\n\u001b[1;32m-> 1073\u001b[0m \u001b[38;5;28;01mreturn\u001b[39;00m \u001b[38;5;28;43mself\u001b[39;49m\u001b[38;5;241;43m.\u001b[39;49m\u001b[43m_getitem_axis\u001b[49m\u001b[43m(\u001b[49m\u001b[43mmaybe_callable\u001b[49m\u001b[43m,\u001b[49m\u001b[43m \u001b[49m\u001b[43maxis\u001b[49m\u001b[38;5;241;43m=\u001b[39;49m\u001b[43maxis\u001b[49m\u001b[43m)\u001b[49m\n",
      "File \u001b[1;32m~\\anaconda3\\lib\\site-packages\\pandas\\core\\indexing.py:1312\u001b[0m, in \u001b[0;36m_LocIndexer._getitem_axis\u001b[1;34m(self, key, axis)\u001b[0m\n\u001b[0;32m   1310\u001b[0m \u001b[38;5;66;03m# fall thru to straight lookup\u001b[39;00m\n\u001b[0;32m   1311\u001b[0m \u001b[38;5;28mself\u001b[39m\u001b[38;5;241m.\u001b[39m_validate_key(key, axis)\n\u001b[1;32m-> 1312\u001b[0m \u001b[38;5;28;01mreturn\u001b[39;00m \u001b[38;5;28;43mself\u001b[39;49m\u001b[38;5;241;43m.\u001b[39;49m\u001b[43m_get_label\u001b[49m\u001b[43m(\u001b[49m\u001b[43mkey\u001b[49m\u001b[43m,\u001b[49m\u001b[43m \u001b[49m\u001b[43maxis\u001b[49m\u001b[38;5;241;43m=\u001b[39;49m\u001b[43maxis\u001b[49m\u001b[43m)\u001b[49m\n",
      "File \u001b[1;32m~\\anaconda3\\lib\\site-packages\\pandas\\core\\indexing.py:1260\u001b[0m, in \u001b[0;36m_LocIndexer._get_label\u001b[1;34m(self, label, axis)\u001b[0m\n\u001b[0;32m   1258\u001b[0m \u001b[38;5;28;01mdef\u001b[39;00m \u001b[38;5;21m_get_label\u001b[39m(\u001b[38;5;28mself\u001b[39m, label, axis: \u001b[38;5;28mint\u001b[39m):\n\u001b[0;32m   1259\u001b[0m     \u001b[38;5;66;03m# GH#5567 this will fail if the label is not present in the axis.\u001b[39;00m\n\u001b[1;32m-> 1260\u001b[0m     \u001b[38;5;28;01mreturn\u001b[39;00m \u001b[38;5;28;43mself\u001b[39;49m\u001b[38;5;241;43m.\u001b[39;49m\u001b[43mobj\u001b[49m\u001b[38;5;241;43m.\u001b[39;49m\u001b[43mxs\u001b[49m\u001b[43m(\u001b[49m\u001b[43mlabel\u001b[49m\u001b[43m,\u001b[49m\u001b[43m \u001b[49m\u001b[43maxis\u001b[49m\u001b[38;5;241;43m=\u001b[39;49m\u001b[43maxis\u001b[49m\u001b[43m)\u001b[49m\n",
      "File \u001b[1;32m~\\anaconda3\\lib\\site-packages\\pandas\\core\\generic.py:4056\u001b[0m, in \u001b[0;36mNDFrame.xs\u001b[1;34m(self, key, axis, level, drop_level)\u001b[0m\n\u001b[0;32m   4054\u001b[0m             new_index \u001b[38;5;241m=\u001b[39m index[loc]\n\u001b[0;32m   4055\u001b[0m \u001b[38;5;28;01melse\u001b[39;00m:\n\u001b[1;32m-> 4056\u001b[0m     loc \u001b[38;5;241m=\u001b[39m \u001b[43mindex\u001b[49m\u001b[38;5;241;43m.\u001b[39;49m\u001b[43mget_loc\u001b[49m\u001b[43m(\u001b[49m\u001b[43mkey\u001b[49m\u001b[43m)\u001b[49m\n\u001b[0;32m   4058\u001b[0m     \u001b[38;5;28;01mif\u001b[39;00m \u001b[38;5;28misinstance\u001b[39m(loc, np\u001b[38;5;241m.\u001b[39mndarray):\n\u001b[0;32m   4059\u001b[0m         \u001b[38;5;28;01mif\u001b[39;00m loc\u001b[38;5;241m.\u001b[39mdtype \u001b[38;5;241m==\u001b[39m np\u001b[38;5;241m.\u001b[39mbool_:\n",
      "File \u001b[1;32m~\\anaconda3\\lib\\site-packages\\pandas\\core\\indexes\\base.py:3804\u001b[0m, in \u001b[0;36mIndex.get_loc\u001b[1;34m(self, key, method, tolerance)\u001b[0m\n\u001b[0;32m   3802\u001b[0m     \u001b[38;5;28;01mreturn\u001b[39;00m \u001b[38;5;28mself\u001b[39m\u001b[38;5;241m.\u001b[39m_engine\u001b[38;5;241m.\u001b[39mget_loc(casted_key)\n\u001b[0;32m   3803\u001b[0m \u001b[38;5;28;01mexcept\u001b[39;00m \u001b[38;5;167;01mKeyError\u001b[39;00m \u001b[38;5;28;01mas\u001b[39;00m err:\n\u001b[1;32m-> 3804\u001b[0m     \u001b[38;5;28;01mraise\u001b[39;00m \u001b[38;5;167;01mKeyError\u001b[39;00m(key) \u001b[38;5;28;01mfrom\u001b[39;00m \u001b[38;5;21;01merr\u001b[39;00m\n\u001b[0;32m   3805\u001b[0m \u001b[38;5;28;01mexcept\u001b[39;00m \u001b[38;5;167;01mTypeError\u001b[39;00m:\n\u001b[0;32m   3806\u001b[0m     \u001b[38;5;66;03m# If we have a listlike key, _check_indexing_error will raise\u001b[39;00m\n\u001b[0;32m   3807\u001b[0m     \u001b[38;5;66;03m#  InvalidIndexError. Otherwise we fall through and re-raise\u001b[39;00m\n\u001b[0;32m   3808\u001b[0m     \u001b[38;5;66;03m#  the TypeError.\u001b[39;00m\n\u001b[0;32m   3809\u001b[0m     \u001b[38;5;28mself\u001b[39m\u001b[38;5;241m.\u001b[39m_check_indexing_error(key)\n",
      "\u001b[1;31mKeyError\u001b[0m: 2352355"
     ]
    }
   ],
   "source": [
    "data.loc[2352355]#2352355 inspection_id değerine sahip satırlar: loc -> 'label indexes'"
   ]
  },
  {
   "cell_type": "code",
   "execution_count": null,
   "metadata": {
    "colab": {
     "base_uri": "https://localhost:8080/",
     "height": 397
    },
    "colab_type": "code",
    "executionInfo": {
     "elapsed": 1012,
     "status": "ok",
     "timestamp": 1575048557843,
     "user": {
      "displayName": "Barış Bozkurt",
      "photoUrl": "https://lh3.googleusercontent.com/a-/AAuE7mAdwaPUM3cQ3cUO9jZZ-QMeyRr9RU_6iP1RfFeg=s64",
      "userId": "04066217430702805158"
     },
     "user_tz": -180
    },
    "id": "ftDPNVI7Rbmw",
    "outputId": "48788972-23f4-48bc-fb0e-75c29e654089"
   },
   "outputs": [],
   "source": [
    "data.loc[:2352355]#belirli bir inspection_id'ye kadar olan veriler"
   ]
  },
  {
   "cell_type": "code",
   "execution_count": 26,
   "metadata": {
    "colab": {
     "base_uri": "https://localhost:8080/",
     "height": 332
    },
    "colab_type": "code",
    "executionInfo": {
     "elapsed": 924,
     "status": "ok",
     "timestamp": 1575048596240,
     "user": {
      "displayName": "Barış Bozkurt",
      "photoUrl": "https://lh3.googleusercontent.com/a-/AAuE7mAdwaPUM3cQ3cUO9jZZ-QMeyRr9RU_6iP1RfFeg=s64",
      "userId": "04066217430702805158"
     },
     "user_tz": -180
    },
    "id": "dOQtmO5X3n9m",
    "outputId": "29db8c2c-6b58-4dd8-c82c-2bc28ebaaf06"
   },
   "outputs": [
    {
     "ename": "KeyError",
     "evalue": "\"None of [Int64Index([2352364, 2352355], dtype='int64', name='inspection_id')] are in the [index]\"",
     "output_type": "error",
     "traceback": [
      "\u001b[1;31m---------------------------------------------------------------------------\u001b[0m",
      "\u001b[1;31mKeyError\u001b[0m                                  Traceback (most recent call last)",
      "Cell \u001b[1;32mIn[26], line 1\u001b[0m\n\u001b[1;32m----> 1\u001b[0m \u001b[43mdata\u001b[49m\u001b[38;5;241;43m.\u001b[39;49m\u001b[43mloc\u001b[49m\u001b[43m[\u001b[49m\u001b[43m[\u001b[49m\u001b[38;5;241;43m2352364\u001b[39;49m\u001b[43m,\u001b[49m\u001b[43m \u001b[49m\u001b[38;5;241;43m2352355\u001b[39;49m\u001b[43m]\u001b[49m\u001b[43m]\u001b[49m\n",
      "File \u001b[1;32m~\\anaconda3\\lib\\site-packages\\pandas\\core\\indexing.py:1073\u001b[0m, in \u001b[0;36m_LocationIndexer.__getitem__\u001b[1;34m(self, key)\u001b[0m\n\u001b[0;32m   1070\u001b[0m axis \u001b[38;5;241m=\u001b[39m \u001b[38;5;28mself\u001b[39m\u001b[38;5;241m.\u001b[39maxis \u001b[38;5;129;01mor\u001b[39;00m \u001b[38;5;241m0\u001b[39m\n\u001b[0;32m   1072\u001b[0m maybe_callable \u001b[38;5;241m=\u001b[39m com\u001b[38;5;241m.\u001b[39mapply_if_callable(key, \u001b[38;5;28mself\u001b[39m\u001b[38;5;241m.\u001b[39mobj)\n\u001b[1;32m-> 1073\u001b[0m \u001b[38;5;28;01mreturn\u001b[39;00m \u001b[38;5;28;43mself\u001b[39;49m\u001b[38;5;241;43m.\u001b[39;49m\u001b[43m_getitem_axis\u001b[49m\u001b[43m(\u001b[49m\u001b[43mmaybe_callable\u001b[49m\u001b[43m,\u001b[49m\u001b[43m \u001b[49m\u001b[43maxis\u001b[49m\u001b[38;5;241;43m=\u001b[39;49m\u001b[43maxis\u001b[49m\u001b[43m)\u001b[49m\n",
      "File \u001b[1;32m~\\anaconda3\\lib\\site-packages\\pandas\\core\\indexing.py:1301\u001b[0m, in \u001b[0;36m_LocIndexer._getitem_axis\u001b[1;34m(self, key, axis)\u001b[0m\n\u001b[0;32m   1298\u001b[0m     \u001b[38;5;28;01mif\u001b[39;00m \u001b[38;5;28mhasattr\u001b[39m(key, \u001b[38;5;124m\"\u001b[39m\u001b[38;5;124mndim\u001b[39m\u001b[38;5;124m\"\u001b[39m) \u001b[38;5;129;01mand\u001b[39;00m key\u001b[38;5;241m.\u001b[39mndim \u001b[38;5;241m>\u001b[39m \u001b[38;5;241m1\u001b[39m:\n\u001b[0;32m   1299\u001b[0m         \u001b[38;5;28;01mraise\u001b[39;00m \u001b[38;5;167;01mValueError\u001b[39;00m(\u001b[38;5;124m\"\u001b[39m\u001b[38;5;124mCannot index with multidimensional key\u001b[39m\u001b[38;5;124m\"\u001b[39m)\n\u001b[1;32m-> 1301\u001b[0m     \u001b[38;5;28;01mreturn\u001b[39;00m \u001b[38;5;28;43mself\u001b[39;49m\u001b[38;5;241;43m.\u001b[39;49m\u001b[43m_getitem_iterable\u001b[49m\u001b[43m(\u001b[49m\u001b[43mkey\u001b[49m\u001b[43m,\u001b[49m\u001b[43m \u001b[49m\u001b[43maxis\u001b[49m\u001b[38;5;241;43m=\u001b[39;49m\u001b[43maxis\u001b[49m\u001b[43m)\u001b[49m\n\u001b[0;32m   1303\u001b[0m \u001b[38;5;66;03m# nested tuple slicing\u001b[39;00m\n\u001b[0;32m   1304\u001b[0m \u001b[38;5;28;01mif\u001b[39;00m is_nested_tuple(key, labels):\n",
      "File \u001b[1;32m~\\anaconda3\\lib\\site-packages\\pandas\\core\\indexing.py:1239\u001b[0m, in \u001b[0;36m_LocIndexer._getitem_iterable\u001b[1;34m(self, key, axis)\u001b[0m\n\u001b[0;32m   1236\u001b[0m \u001b[38;5;28mself\u001b[39m\u001b[38;5;241m.\u001b[39m_validate_key(key, axis)\n\u001b[0;32m   1238\u001b[0m \u001b[38;5;66;03m# A collection of keys\u001b[39;00m\n\u001b[1;32m-> 1239\u001b[0m keyarr, indexer \u001b[38;5;241m=\u001b[39m \u001b[38;5;28;43mself\u001b[39;49m\u001b[38;5;241;43m.\u001b[39;49m\u001b[43m_get_listlike_indexer\u001b[49m\u001b[43m(\u001b[49m\u001b[43mkey\u001b[49m\u001b[43m,\u001b[49m\u001b[43m \u001b[49m\u001b[43maxis\u001b[49m\u001b[43m)\u001b[49m\n\u001b[0;32m   1240\u001b[0m \u001b[38;5;28;01mreturn\u001b[39;00m \u001b[38;5;28mself\u001b[39m\u001b[38;5;241m.\u001b[39mobj\u001b[38;5;241m.\u001b[39m_reindex_with_indexers(\n\u001b[0;32m   1241\u001b[0m     {axis: [keyarr, indexer]}, copy\u001b[38;5;241m=\u001b[39m\u001b[38;5;28;01mTrue\u001b[39;00m, allow_dups\u001b[38;5;241m=\u001b[39m\u001b[38;5;28;01mTrue\u001b[39;00m\n\u001b[0;32m   1242\u001b[0m )\n",
      "File \u001b[1;32m~\\anaconda3\\lib\\site-packages\\pandas\\core\\indexing.py:1432\u001b[0m, in \u001b[0;36m_LocIndexer._get_listlike_indexer\u001b[1;34m(self, key, axis)\u001b[0m\n\u001b[0;32m   1429\u001b[0m ax \u001b[38;5;241m=\u001b[39m \u001b[38;5;28mself\u001b[39m\u001b[38;5;241m.\u001b[39mobj\u001b[38;5;241m.\u001b[39m_get_axis(axis)\n\u001b[0;32m   1430\u001b[0m axis_name \u001b[38;5;241m=\u001b[39m \u001b[38;5;28mself\u001b[39m\u001b[38;5;241m.\u001b[39mobj\u001b[38;5;241m.\u001b[39m_get_axis_name(axis)\n\u001b[1;32m-> 1432\u001b[0m keyarr, indexer \u001b[38;5;241m=\u001b[39m \u001b[43max\u001b[49m\u001b[38;5;241;43m.\u001b[39;49m\u001b[43m_get_indexer_strict\u001b[49m\u001b[43m(\u001b[49m\u001b[43mkey\u001b[49m\u001b[43m,\u001b[49m\u001b[43m \u001b[49m\u001b[43maxis_name\u001b[49m\u001b[43m)\u001b[49m\n\u001b[0;32m   1434\u001b[0m \u001b[38;5;28;01mreturn\u001b[39;00m keyarr, indexer\n",
      "File \u001b[1;32m~\\anaconda3\\lib\\site-packages\\pandas\\core\\indexes\\base.py:6070\u001b[0m, in \u001b[0;36mIndex._get_indexer_strict\u001b[1;34m(self, key, axis_name)\u001b[0m\n\u001b[0;32m   6067\u001b[0m \u001b[38;5;28;01melse\u001b[39;00m:\n\u001b[0;32m   6068\u001b[0m     keyarr, indexer, new_indexer \u001b[38;5;241m=\u001b[39m \u001b[38;5;28mself\u001b[39m\u001b[38;5;241m.\u001b[39m_reindex_non_unique(keyarr)\n\u001b[1;32m-> 6070\u001b[0m \u001b[38;5;28;43mself\u001b[39;49m\u001b[38;5;241;43m.\u001b[39;49m\u001b[43m_raise_if_missing\u001b[49m\u001b[43m(\u001b[49m\u001b[43mkeyarr\u001b[49m\u001b[43m,\u001b[49m\u001b[43m \u001b[49m\u001b[43mindexer\u001b[49m\u001b[43m,\u001b[49m\u001b[43m \u001b[49m\u001b[43maxis_name\u001b[49m\u001b[43m)\u001b[49m\n\u001b[0;32m   6072\u001b[0m keyarr \u001b[38;5;241m=\u001b[39m \u001b[38;5;28mself\u001b[39m\u001b[38;5;241m.\u001b[39mtake(indexer)\n\u001b[0;32m   6073\u001b[0m \u001b[38;5;28;01mif\u001b[39;00m \u001b[38;5;28misinstance\u001b[39m(key, Index):\n\u001b[0;32m   6074\u001b[0m     \u001b[38;5;66;03m# GH 42790 - Preserve name from an Index\u001b[39;00m\n",
      "File \u001b[1;32m~\\anaconda3\\lib\\site-packages\\pandas\\core\\indexes\\base.py:6130\u001b[0m, in \u001b[0;36mIndex._raise_if_missing\u001b[1;34m(self, key, indexer, axis_name)\u001b[0m\n\u001b[0;32m   6128\u001b[0m     \u001b[38;5;28;01mif\u001b[39;00m use_interval_msg:\n\u001b[0;32m   6129\u001b[0m         key \u001b[38;5;241m=\u001b[39m \u001b[38;5;28mlist\u001b[39m(key)\n\u001b[1;32m-> 6130\u001b[0m     \u001b[38;5;28;01mraise\u001b[39;00m \u001b[38;5;167;01mKeyError\u001b[39;00m(\u001b[38;5;124mf\u001b[39m\u001b[38;5;124m\"\u001b[39m\u001b[38;5;124mNone of [\u001b[39m\u001b[38;5;132;01m{\u001b[39;00mkey\u001b[38;5;132;01m}\u001b[39;00m\u001b[38;5;124m] are in the [\u001b[39m\u001b[38;5;132;01m{\u001b[39;00maxis_name\u001b[38;5;132;01m}\u001b[39;00m\u001b[38;5;124m]\u001b[39m\u001b[38;5;124m\"\u001b[39m)\n\u001b[0;32m   6132\u001b[0m not_found \u001b[38;5;241m=\u001b[39m \u001b[38;5;28mlist\u001b[39m(ensure_index(key)[missing_mask\u001b[38;5;241m.\u001b[39mnonzero()[\u001b[38;5;241m0\u001b[39m]]\u001b[38;5;241m.\u001b[39munique())\n\u001b[0;32m   6133\u001b[0m \u001b[38;5;28;01mraise\u001b[39;00m \u001b[38;5;167;01mKeyError\u001b[39;00m(\u001b[38;5;124mf\u001b[39m\u001b[38;5;124m\"\u001b[39m\u001b[38;5;132;01m{\u001b[39;00mnot_found\u001b[38;5;132;01m}\u001b[39;00m\u001b[38;5;124m not in index\u001b[39m\u001b[38;5;124m\"\u001b[39m)\n",
      "\u001b[1;31mKeyError\u001b[0m: \"None of [Int64Index([2352364, 2352355], dtype='int64', name='inspection_id')] are in the [index]\""
     ]
    }
   ],
   "source": [
    "data.loc[[2352364, 2352355]]#endeks olarak bir liste de verebiliriz. listenin öğeleri endeksler olarak kullanılır"
   ]
  },
  {
   "cell_type": "code",
   "execution_count": 25,
   "metadata": {
    "colab": {
     "base_uri": "https://localhost:8080/",
     "height": 173
    },
    "colab_type": "code",
    "executionInfo": {
     "elapsed": 828,
     "status": "ok",
     "timestamp": 1575048606341,
     "user": {
      "displayName": "Barış Bozkurt",
      "photoUrl": "https://lh3.googleusercontent.com/a-/AAuE7mAdwaPUM3cQ3cUO9jZZ-QMeyRr9RU_6iP1RfFeg=s64",
      "userId": "04066217430702805158"
     },
     "user_tz": -180
    },
    "id": "FqN-NrXqSgvx",
    "outputId": "cfb4285e-eede-473c-da29-b99087f36952"
   },
   "outputs": [
    {
     "ename": "KeyError",
     "evalue": "2352355",
     "output_type": "error",
     "traceback": [
      "\u001b[1;31m---------------------------------------------------------------------------\u001b[0m",
      "\u001b[1;31mKeyError\u001b[0m                                  Traceback (most recent call last)",
      "File \u001b[1;32m~\\anaconda3\\lib\\site-packages\\pandas\\core\\indexes\\base.py:3802\u001b[0m, in \u001b[0;36mIndex.get_loc\u001b[1;34m(self, key, method, tolerance)\u001b[0m\n\u001b[0;32m   3801\u001b[0m \u001b[38;5;28;01mtry\u001b[39;00m:\n\u001b[1;32m-> 3802\u001b[0m     \u001b[38;5;28;01mreturn\u001b[39;00m \u001b[38;5;28;43mself\u001b[39;49m\u001b[38;5;241;43m.\u001b[39;49m\u001b[43m_engine\u001b[49m\u001b[38;5;241;43m.\u001b[39;49m\u001b[43mget_loc\u001b[49m\u001b[43m(\u001b[49m\u001b[43mcasted_key\u001b[49m\u001b[43m)\u001b[49m\n\u001b[0;32m   3803\u001b[0m \u001b[38;5;28;01mexcept\u001b[39;00m \u001b[38;5;167;01mKeyError\u001b[39;00m \u001b[38;5;28;01mas\u001b[39;00m err:\n",
      "File \u001b[1;32m~\\anaconda3\\lib\\site-packages\\pandas\\_libs\\index.pyx:138\u001b[0m, in \u001b[0;36mpandas._libs.index.IndexEngine.get_loc\u001b[1;34m()\u001b[0m\n",
      "File \u001b[1;32m~\\anaconda3\\lib\\site-packages\\pandas\\_libs\\index.pyx:165\u001b[0m, in \u001b[0;36mpandas._libs.index.IndexEngine.get_loc\u001b[1;34m()\u001b[0m\n",
      "File \u001b[1;32mpandas\\_libs\\hashtable_class_helper.pxi:2263\u001b[0m, in \u001b[0;36mpandas._libs.hashtable.Int64HashTable.get_item\u001b[1;34m()\u001b[0m\n",
      "File \u001b[1;32mpandas\\_libs\\hashtable_class_helper.pxi:2273\u001b[0m, in \u001b[0;36mpandas._libs.hashtable.Int64HashTable.get_item\u001b[1;34m()\u001b[0m\n",
      "\u001b[1;31mKeyError\u001b[0m: 2352355",
      "\nThe above exception was the direct cause of the following exception:\n",
      "\u001b[1;31mKeyError\u001b[0m                                  Traceback (most recent call last)",
      "Cell \u001b[1;32mIn[25], line 1\u001b[0m\n\u001b[1;32m----> 1\u001b[0m \u001b[43mdata\u001b[49m\u001b[38;5;241;43m.\u001b[39;49m\u001b[43mloc\u001b[49m\u001b[43m[\u001b[49m\u001b[43m:\u001b[49m\u001b[38;5;241;43m2352355\u001b[39;49m\u001b[43m,\u001b[49m\u001b[43m[\u001b[49m\u001b[38;5;124;43m'\u001b[39;49m\u001b[38;5;124;43maka_name\u001b[39;49m\u001b[38;5;124;43m'\u001b[39;49m\u001b[43m,\u001b[49m\u001b[38;5;124;43m'\u001b[39;49m\u001b[38;5;124;43mfacility_type\u001b[39;49m\u001b[38;5;124;43m'\u001b[39;49m\u001b[43m]\u001b[49m\u001b[43m]\u001b[49m\n",
      "File \u001b[1;32m~\\anaconda3\\lib\\site-packages\\pandas\\core\\indexing.py:1067\u001b[0m, in \u001b[0;36m_LocationIndexer.__getitem__\u001b[1;34m(self, key)\u001b[0m\n\u001b[0;32m   1065\u001b[0m     \u001b[38;5;28;01mif\u001b[39;00m \u001b[38;5;28mself\u001b[39m\u001b[38;5;241m.\u001b[39m_is_scalar_access(key):\n\u001b[0;32m   1066\u001b[0m         \u001b[38;5;28;01mreturn\u001b[39;00m \u001b[38;5;28mself\u001b[39m\u001b[38;5;241m.\u001b[39mobj\u001b[38;5;241m.\u001b[39m_get_value(\u001b[38;5;241m*\u001b[39mkey, takeable\u001b[38;5;241m=\u001b[39m\u001b[38;5;28mself\u001b[39m\u001b[38;5;241m.\u001b[39m_takeable)\n\u001b[1;32m-> 1067\u001b[0m     \u001b[38;5;28;01mreturn\u001b[39;00m \u001b[38;5;28;43mself\u001b[39;49m\u001b[38;5;241;43m.\u001b[39;49m\u001b[43m_getitem_tuple\u001b[49m\u001b[43m(\u001b[49m\u001b[43mkey\u001b[49m\u001b[43m)\u001b[49m\n\u001b[0;32m   1068\u001b[0m \u001b[38;5;28;01melse\u001b[39;00m:\n\u001b[0;32m   1069\u001b[0m     \u001b[38;5;66;03m# we by definition only have the 0th axis\u001b[39;00m\n\u001b[0;32m   1070\u001b[0m     axis \u001b[38;5;241m=\u001b[39m \u001b[38;5;28mself\u001b[39m\u001b[38;5;241m.\u001b[39maxis \u001b[38;5;129;01mor\u001b[39;00m \u001b[38;5;241m0\u001b[39m\n",
      "File \u001b[1;32m~\\anaconda3\\lib\\site-packages\\pandas\\core\\indexing.py:1256\u001b[0m, in \u001b[0;36m_LocIndexer._getitem_tuple\u001b[1;34m(self, tup)\u001b[0m\n\u001b[0;32m   1253\u001b[0m \u001b[38;5;28;01mif\u001b[39;00m \u001b[38;5;28mself\u001b[39m\u001b[38;5;241m.\u001b[39m_multi_take_opportunity(tup):\n\u001b[0;32m   1254\u001b[0m     \u001b[38;5;28;01mreturn\u001b[39;00m \u001b[38;5;28mself\u001b[39m\u001b[38;5;241m.\u001b[39m_multi_take(tup)\n\u001b[1;32m-> 1256\u001b[0m \u001b[38;5;28;01mreturn\u001b[39;00m \u001b[38;5;28;43mself\u001b[39;49m\u001b[38;5;241;43m.\u001b[39;49m\u001b[43m_getitem_tuple_same_dim\u001b[49m\u001b[43m(\u001b[49m\u001b[43mtup\u001b[49m\u001b[43m)\u001b[49m\n",
      "File \u001b[1;32m~\\anaconda3\\lib\\site-packages\\pandas\\core\\indexing.py:924\u001b[0m, in \u001b[0;36m_LocationIndexer._getitem_tuple_same_dim\u001b[1;34m(self, tup)\u001b[0m\n\u001b[0;32m    921\u001b[0m \u001b[38;5;28;01mif\u001b[39;00m com\u001b[38;5;241m.\u001b[39mis_null_slice(key):\n\u001b[0;32m    922\u001b[0m     \u001b[38;5;28;01mcontinue\u001b[39;00m\n\u001b[1;32m--> 924\u001b[0m retval \u001b[38;5;241m=\u001b[39m \u001b[38;5;28;43mgetattr\u001b[39;49m\u001b[43m(\u001b[49m\u001b[43mretval\u001b[49m\u001b[43m,\u001b[49m\u001b[43m \u001b[49m\u001b[38;5;28;43mself\u001b[39;49m\u001b[38;5;241;43m.\u001b[39;49m\u001b[43mname\u001b[49m\u001b[43m)\u001b[49m\u001b[38;5;241;43m.\u001b[39;49m\u001b[43m_getitem_axis\u001b[49m\u001b[43m(\u001b[49m\u001b[43mkey\u001b[49m\u001b[43m,\u001b[49m\u001b[43m \u001b[49m\u001b[43maxis\u001b[49m\u001b[38;5;241;43m=\u001b[39;49m\u001b[43mi\u001b[49m\u001b[43m)\u001b[49m\n\u001b[0;32m    925\u001b[0m \u001b[38;5;66;03m# We should never have retval.ndim < self.ndim, as that should\u001b[39;00m\n\u001b[0;32m    926\u001b[0m \u001b[38;5;66;03m#  be handled by the _getitem_lowerdim call above.\u001b[39;00m\n\u001b[0;32m    927\u001b[0m \u001b[38;5;28;01massert\u001b[39;00m retval\u001b[38;5;241m.\u001b[39mndim \u001b[38;5;241m==\u001b[39m \u001b[38;5;28mself\u001b[39m\u001b[38;5;241m.\u001b[39mndim\n",
      "File \u001b[1;32m~\\anaconda3\\lib\\site-packages\\pandas\\core\\indexing.py:1290\u001b[0m, in \u001b[0;36m_LocIndexer._getitem_axis\u001b[1;34m(self, key, axis)\u001b[0m\n\u001b[0;32m   1288\u001b[0m \u001b[38;5;28;01mif\u001b[39;00m \u001b[38;5;28misinstance\u001b[39m(key, \u001b[38;5;28mslice\u001b[39m):\n\u001b[0;32m   1289\u001b[0m     \u001b[38;5;28mself\u001b[39m\u001b[38;5;241m.\u001b[39m_validate_key(key, axis)\n\u001b[1;32m-> 1290\u001b[0m     \u001b[38;5;28;01mreturn\u001b[39;00m \u001b[38;5;28;43mself\u001b[39;49m\u001b[38;5;241;43m.\u001b[39;49m\u001b[43m_get_slice_axis\u001b[49m\u001b[43m(\u001b[49m\u001b[43mkey\u001b[49m\u001b[43m,\u001b[49m\u001b[43m \u001b[49m\u001b[43maxis\u001b[49m\u001b[38;5;241;43m=\u001b[39;49m\u001b[43maxis\u001b[49m\u001b[43m)\u001b[49m\n\u001b[0;32m   1291\u001b[0m \u001b[38;5;28;01melif\u001b[39;00m com\u001b[38;5;241m.\u001b[39mis_bool_indexer(key):\n\u001b[0;32m   1292\u001b[0m     \u001b[38;5;28;01mreturn\u001b[39;00m \u001b[38;5;28mself\u001b[39m\u001b[38;5;241m.\u001b[39m_getbool_axis(key, axis\u001b[38;5;241m=\u001b[39maxis)\n",
      "File \u001b[1;32m~\\anaconda3\\lib\\site-packages\\pandas\\core\\indexing.py:1324\u001b[0m, in \u001b[0;36m_LocIndexer._get_slice_axis\u001b[1;34m(self, slice_obj, axis)\u001b[0m\n\u001b[0;32m   1321\u001b[0m     \u001b[38;5;28;01mreturn\u001b[39;00m obj\u001b[38;5;241m.\u001b[39mcopy(deep\u001b[38;5;241m=\u001b[39m\u001b[38;5;28;01mFalse\u001b[39;00m)\n\u001b[0;32m   1323\u001b[0m labels \u001b[38;5;241m=\u001b[39m obj\u001b[38;5;241m.\u001b[39m_get_axis(axis)\n\u001b[1;32m-> 1324\u001b[0m indexer \u001b[38;5;241m=\u001b[39m \u001b[43mlabels\u001b[49m\u001b[38;5;241;43m.\u001b[39;49m\u001b[43mslice_indexer\u001b[49m\u001b[43m(\u001b[49m\u001b[43mslice_obj\u001b[49m\u001b[38;5;241;43m.\u001b[39;49m\u001b[43mstart\u001b[49m\u001b[43m,\u001b[49m\u001b[43m \u001b[49m\u001b[43mslice_obj\u001b[49m\u001b[38;5;241;43m.\u001b[39;49m\u001b[43mstop\u001b[49m\u001b[43m,\u001b[49m\u001b[43m \u001b[49m\u001b[43mslice_obj\u001b[49m\u001b[38;5;241;43m.\u001b[39;49m\u001b[43mstep\u001b[49m\u001b[43m)\u001b[49m\n\u001b[0;32m   1326\u001b[0m \u001b[38;5;28;01mif\u001b[39;00m \u001b[38;5;28misinstance\u001b[39m(indexer, \u001b[38;5;28mslice\u001b[39m):\n\u001b[0;32m   1327\u001b[0m     \u001b[38;5;28;01mreturn\u001b[39;00m \u001b[38;5;28mself\u001b[39m\u001b[38;5;241m.\u001b[39mobj\u001b[38;5;241m.\u001b[39m_slice(indexer, axis\u001b[38;5;241m=\u001b[39maxis)\n",
      "File \u001b[1;32m~\\anaconda3\\lib\\site-packages\\pandas\\core\\indexes\\base.py:6559\u001b[0m, in \u001b[0;36mIndex.slice_indexer\u001b[1;34m(self, start, end, step, kind)\u001b[0m\n\u001b[0;32m   6516\u001b[0m \u001b[38;5;124;03m\"\"\"\u001b[39;00m\n\u001b[0;32m   6517\u001b[0m \u001b[38;5;124;03mCompute the slice indexer for input labels and step.\u001b[39;00m\n\u001b[0;32m   6518\u001b[0m \n\u001b[1;32m   (...)\u001b[0m\n\u001b[0;32m   6555\u001b[0m \u001b[38;5;124;03mslice(1, 3, None)\u001b[39;00m\n\u001b[0;32m   6556\u001b[0m \u001b[38;5;124;03m\"\"\"\u001b[39;00m\n\u001b[0;32m   6557\u001b[0m \u001b[38;5;28mself\u001b[39m\u001b[38;5;241m.\u001b[39m_deprecated_arg(kind, \u001b[38;5;124m\"\u001b[39m\u001b[38;5;124mkind\u001b[39m\u001b[38;5;124m\"\u001b[39m, \u001b[38;5;124m\"\u001b[39m\u001b[38;5;124mslice_indexer\u001b[39m\u001b[38;5;124m\"\u001b[39m)\n\u001b[1;32m-> 6559\u001b[0m start_slice, end_slice \u001b[38;5;241m=\u001b[39m \u001b[38;5;28;43mself\u001b[39;49m\u001b[38;5;241;43m.\u001b[39;49m\u001b[43mslice_locs\u001b[49m\u001b[43m(\u001b[49m\u001b[43mstart\u001b[49m\u001b[43m,\u001b[49m\u001b[43m \u001b[49m\u001b[43mend\u001b[49m\u001b[43m,\u001b[49m\u001b[43m \u001b[49m\u001b[43mstep\u001b[49m\u001b[38;5;241;43m=\u001b[39;49m\u001b[43mstep\u001b[49m\u001b[43m)\u001b[49m\n\u001b[0;32m   6561\u001b[0m \u001b[38;5;66;03m# return a slice\u001b[39;00m\n\u001b[0;32m   6562\u001b[0m \u001b[38;5;28;01mif\u001b[39;00m \u001b[38;5;129;01mnot\u001b[39;00m is_scalar(start_slice):\n",
      "File \u001b[1;32m~\\anaconda3\\lib\\site-packages\\pandas\\core\\indexes\\base.py:6773\u001b[0m, in \u001b[0;36mIndex.slice_locs\u001b[1;34m(self, start, end, step, kind)\u001b[0m\n\u001b[0;32m   6771\u001b[0m end_slice \u001b[38;5;241m=\u001b[39m \u001b[38;5;28;01mNone\u001b[39;00m\n\u001b[0;32m   6772\u001b[0m \u001b[38;5;28;01mif\u001b[39;00m end \u001b[38;5;129;01mis\u001b[39;00m \u001b[38;5;129;01mnot\u001b[39;00m \u001b[38;5;28;01mNone\u001b[39;00m:\n\u001b[1;32m-> 6773\u001b[0m     end_slice \u001b[38;5;241m=\u001b[39m \u001b[38;5;28;43mself\u001b[39;49m\u001b[38;5;241;43m.\u001b[39;49m\u001b[43mget_slice_bound\u001b[49m\u001b[43m(\u001b[49m\u001b[43mend\u001b[49m\u001b[43m,\u001b[49m\u001b[43m \u001b[49m\u001b[38;5;124;43m\"\u001b[39;49m\u001b[38;5;124;43mright\u001b[39;49m\u001b[38;5;124;43m\"\u001b[39;49m\u001b[43m)\u001b[49m\n\u001b[0;32m   6774\u001b[0m \u001b[38;5;28;01mif\u001b[39;00m end_slice \u001b[38;5;129;01mis\u001b[39;00m \u001b[38;5;28;01mNone\u001b[39;00m:\n\u001b[0;32m   6775\u001b[0m     end_slice \u001b[38;5;241m=\u001b[39m \u001b[38;5;28mlen\u001b[39m(\u001b[38;5;28mself\u001b[39m)\n",
      "File \u001b[1;32m~\\anaconda3\\lib\\site-packages\\pandas\\core\\indexes\\base.py:6686\u001b[0m, in \u001b[0;36mIndex.get_slice_bound\u001b[1;34m(self, label, side, kind)\u001b[0m\n\u001b[0;32m   6683\u001b[0m         \u001b[38;5;28;01mreturn\u001b[39;00m \u001b[38;5;28mself\u001b[39m\u001b[38;5;241m.\u001b[39m_searchsorted_monotonic(label, side)\n\u001b[0;32m   6684\u001b[0m     \u001b[38;5;28;01mexcept\u001b[39;00m \u001b[38;5;167;01mValueError\u001b[39;00m:\n\u001b[0;32m   6685\u001b[0m         \u001b[38;5;66;03m# raise the original KeyError\u001b[39;00m\n\u001b[1;32m-> 6686\u001b[0m         \u001b[38;5;28;01mraise\u001b[39;00m err\n\u001b[0;32m   6688\u001b[0m \u001b[38;5;28;01mif\u001b[39;00m \u001b[38;5;28misinstance\u001b[39m(slc, np\u001b[38;5;241m.\u001b[39mndarray):\n\u001b[0;32m   6689\u001b[0m     \u001b[38;5;66;03m# get_loc may return a boolean array, which\u001b[39;00m\n\u001b[0;32m   6690\u001b[0m     \u001b[38;5;66;03m# is OK as long as they are representable by a slice.\u001b[39;00m\n\u001b[0;32m   6691\u001b[0m     \u001b[38;5;28;01massert\u001b[39;00m is_bool_dtype(slc\u001b[38;5;241m.\u001b[39mdtype)\n",
      "File \u001b[1;32m~\\anaconda3\\lib\\site-packages\\pandas\\core\\indexes\\base.py:6680\u001b[0m, in \u001b[0;36mIndex.get_slice_bound\u001b[1;34m(self, label, side, kind)\u001b[0m\n\u001b[0;32m   6678\u001b[0m \u001b[38;5;66;03m# we need to look up the label\u001b[39;00m\n\u001b[0;32m   6679\u001b[0m \u001b[38;5;28;01mtry\u001b[39;00m:\n\u001b[1;32m-> 6680\u001b[0m     slc \u001b[38;5;241m=\u001b[39m \u001b[38;5;28;43mself\u001b[39;49m\u001b[38;5;241;43m.\u001b[39;49m\u001b[43mget_loc\u001b[49m\u001b[43m(\u001b[49m\u001b[43mlabel\u001b[49m\u001b[43m)\u001b[49m\n\u001b[0;32m   6681\u001b[0m \u001b[38;5;28;01mexcept\u001b[39;00m \u001b[38;5;167;01mKeyError\u001b[39;00m \u001b[38;5;28;01mas\u001b[39;00m err:\n\u001b[0;32m   6682\u001b[0m     \u001b[38;5;28;01mtry\u001b[39;00m:\n",
      "File \u001b[1;32m~\\anaconda3\\lib\\site-packages\\pandas\\core\\indexes\\base.py:3804\u001b[0m, in \u001b[0;36mIndex.get_loc\u001b[1;34m(self, key, method, tolerance)\u001b[0m\n\u001b[0;32m   3802\u001b[0m     \u001b[38;5;28;01mreturn\u001b[39;00m \u001b[38;5;28mself\u001b[39m\u001b[38;5;241m.\u001b[39m_engine\u001b[38;5;241m.\u001b[39mget_loc(casted_key)\n\u001b[0;32m   3803\u001b[0m \u001b[38;5;28;01mexcept\u001b[39;00m \u001b[38;5;167;01mKeyError\u001b[39;00m \u001b[38;5;28;01mas\u001b[39;00m err:\n\u001b[1;32m-> 3804\u001b[0m     \u001b[38;5;28;01mraise\u001b[39;00m \u001b[38;5;167;01mKeyError\u001b[39;00m(key) \u001b[38;5;28;01mfrom\u001b[39;00m \u001b[38;5;21;01merr\u001b[39;00m\n\u001b[0;32m   3805\u001b[0m \u001b[38;5;28;01mexcept\u001b[39;00m \u001b[38;5;167;01mTypeError\u001b[39;00m:\n\u001b[0;32m   3806\u001b[0m     \u001b[38;5;66;03m# If we have a listlike key, _check_indexing_error will raise\u001b[39;00m\n\u001b[0;32m   3807\u001b[0m     \u001b[38;5;66;03m#  InvalidIndexError. Otherwise we fall through and re-raise\u001b[39;00m\n\u001b[0;32m   3808\u001b[0m     \u001b[38;5;66;03m#  the TypeError.\u001b[39;00m\n\u001b[0;32m   3809\u001b[0m     \u001b[38;5;28mself\u001b[39m\u001b[38;5;241m.\u001b[39m_check_indexing_error(key)\n",
      "\u001b[1;31mKeyError\u001b[0m: 2352355"
     ]
    }
   ],
   "source": [
    "data.loc[:2352355,['aka_name','facility_type']]#inspection_id 2304061'e kadar olan 'aka_name' ve 'facility_type' kolonlarını ver"
   ]
  },
  {
   "cell_type": "markdown",
   "metadata": {
    "colab_type": "text",
    "id": "XGxFSYym4NLs"
   },
   "source": [
    "## Kolonlara erişim\n",
    "\n",
    "data.{kolon} veya data[{kolon}]\n",
    "Sağlık taramasından geçen yerlerin isimlerine erişelim"
   ]
  },
  {
   "cell_type": "code",
   "execution_count": 31,
   "metadata": {
    "colab": {},
    "colab_type": "code",
    "id": "9UAi-SoQolFk"
   },
   "outputs": [],
   "source": [
    "mekan_isimleri = data[\"aka_name\"] \n",
    "#Alternatif: mekan_isimleri = data.aka_name"
   ]
  },
  {
   "cell_type": "code",
   "execution_count": 32,
   "metadata": {
    "colab": {
     "base_uri": "https://localhost:8080/",
     "height": 34
    },
    "colab_type": "code",
    "executionInfo": {
     "elapsed": 1106,
     "status": "ok",
     "timestamp": 1575048785218,
     "user": {
      "displayName": "Barış Bozkurt",
      "photoUrl": "https://lh3.googleusercontent.com/a-/AAuE7mAdwaPUM3cQ3cUO9jZZ-QMeyRr9RU_6iP1RfFeg=s64",
      "userId": "04066217430702805158"
     },
     "user_tz": -180
    },
    "id": "gQPf5e7N4ruG",
    "outputId": "ced59633-0763-455b-e669-459cde291130"
   },
   "outputs": [
    {
     "data": {
      "text/plain": [
       "pandas.core.series.Series"
      ]
     },
     "execution_count": 32,
     "metadata": {},
     "output_type": "execute_result"
    }
   ],
   "source": [
    "type(mekan_isimleri)"
   ]
  },
  {
   "cell_type": "code",
   "execution_count": 33,
   "metadata": {
    "colab": {
     "base_uri": "https://localhost:8080/",
     "height": 136
    },
    "colab_type": "code",
    "executionInfo": {
     "elapsed": 1092,
     "status": "ok",
     "timestamp": 1575048788736,
     "user": {
      "displayName": "Barış Bozkurt",
      "photoUrl": "https://lh3.googleusercontent.com/a-/AAuE7mAdwaPUM3cQ3cUO9jZZ-QMeyRr9RU_6iP1RfFeg=s64",
      "userId": "04066217430702805158"
     },
     "user_tz": -180
    },
    "id": "8Tqi7VeA4ude",
    "outputId": "c2e3ef0c-b764-4600-e08d-1a36a6de6773"
   },
   "outputs": [
    {
     "data": {
      "text/plain": [
       "inspection_id\n",
       "2584931                       SUNDA\n",
       "2584936                       SUNDA\n",
       "2584899             KING FOOD DRIVE\n",
       "2584881              AKAHOSHI RAMEN\n",
       "2584883    RACHEL'S LEARNING CENTER\n",
       "Name: aka_name, dtype: object"
      ]
     },
     "execution_count": 33,
     "metadata": {},
     "output_type": "execute_result"
    }
   ],
   "source": [
    "mekan_isimleri.head()"
   ]
  },
  {
   "cell_type": "markdown",
   "metadata": {
    "colab_type": "text",
    "id": "9IE4qyx35ADq"
   },
   "source": [
    "Elimizdeki Pandas.Series'i bir çeşit dizi olarak düşünebiliriz. Örneğin 10. ile 15. elemanlar arasını görelim"
   ]
  },
  {
   "cell_type": "code",
   "execution_count": 34,
   "metadata": {
    "colab": {
     "base_uri": "https://localhost:8080/",
     "height": 136
    },
    "colab_type": "code",
    "executionInfo": {
     "elapsed": 1035,
     "status": "ok",
     "timestamp": 1575048794692,
     "user": {
      "displayName": "Barış Bozkurt",
      "photoUrl": "https://lh3.googleusercontent.com/a-/AAuE7mAdwaPUM3cQ3cUO9jZZ-QMeyRr9RU_6iP1RfFeg=s64",
      "userId": "04066217430702805158"
     },
     "user_tz": -180
    },
    "id": "mFoF9UkOo4d2",
    "outputId": "c664cc39-d972-4705-c6df-059fe1e55569"
   },
   "outputs": [
    {
     "data": {
      "text/plain": [
       "inspection_id\n",
       "2584884     DAVID JENSON CATERING\n",
       "2584857         EL HOGAR DEL NINO\n",
       "2584859    STARBUCKS COFFEE #2949\n",
       "2584868                   VALEDOR\n",
       "2584911              YI SHOU DIAN\n",
       "Name: aka_name, dtype: object"
      ]
     },
     "execution_count": 34,
     "metadata": {},
     "output_type": "execute_result"
    }
   ],
   "source": [
    "mekan_isimleri[10:15]\n",
    "#data['aka_name'][10:15]"
   ]
  },
  {
   "cell_type": "markdown",
   "metadata": {
    "colab_type": "text",
    "id": "GmbMTBrKPp-t"
   },
   "source": [
    "Birden fazla kolon içerecek şekilde erişim"
   ]
  },
  {
   "cell_type": "code",
   "execution_count": 35,
   "metadata": {
    "colab": {
     "base_uri": "https://localhost:8080/",
     "height": 235
    },
    "colab_type": "code",
    "executionInfo": {
     "elapsed": 947,
     "status": "ok",
     "timestamp": 1575048803397,
     "user": {
      "displayName": "Barış Bozkurt",
      "photoUrl": "https://lh3.googleusercontent.com/a-/AAuE7mAdwaPUM3cQ3cUO9jZZ-QMeyRr9RU_6iP1RfFeg=s64",
      "userId": "04066217430702805158"
     },
     "user_tz": -180
    },
    "id": "ZU28o_3sPtaO",
    "outputId": "2080a025-7a2f-4b43-d96a-fad5ab9b3924"
   },
   "outputs": [
    {
     "data": {
      "text/html": [
       "<div>\n",
       "<style scoped>\n",
       "    .dataframe tbody tr th:only-of-type {\n",
       "        vertical-align: middle;\n",
       "    }\n",
       "\n",
       "    .dataframe tbody tr th {\n",
       "        vertical-align: top;\n",
       "    }\n",
       "\n",
       "    .dataframe thead th {\n",
       "        text-align: right;\n",
       "    }\n",
       "</style>\n",
       "<table border=\"1\" class=\"dataframe\">\n",
       "  <thead>\n",
       "    <tr style=\"text-align: right;\">\n",
       "      <th></th>\n",
       "      <th>risk</th>\n",
       "      <th>facility_type</th>\n",
       "    </tr>\n",
       "    <tr>\n",
       "      <th>inspection_id</th>\n",
       "      <th></th>\n",
       "      <th></th>\n",
       "    </tr>\n",
       "  </thead>\n",
       "  <tbody>\n",
       "    <tr>\n",
       "      <th>2584931</th>\n",
       "      <td>Risk 1 (High)</td>\n",
       "      <td>Restaurant</td>\n",
       "    </tr>\n",
       "    <tr>\n",
       "      <th>2584936</th>\n",
       "      <td>Risk 1 (High)</td>\n",
       "      <td>Restaurant</td>\n",
       "    </tr>\n",
       "    <tr>\n",
       "      <th>2584899</th>\n",
       "      <td>Risk 3 (Low)</td>\n",
       "      <td>Grocery Store</td>\n",
       "    </tr>\n",
       "    <tr>\n",
       "      <th>2584881</th>\n",
       "      <td>Risk 3 (Low)</td>\n",
       "      <td>Restaurant</td>\n",
       "    </tr>\n",
       "    <tr>\n",
       "      <th>2584883</th>\n",
       "      <td>Risk 1 (High)</td>\n",
       "      <td>Children's Services Facility</td>\n",
       "    </tr>\n",
       "  </tbody>\n",
       "</table>\n",
       "</div>"
      ],
      "text/plain": [
       "                        risk                 facility_type\n",
       "inspection_id                                             \n",
       "2584931        Risk 1 (High)                    Restaurant\n",
       "2584936        Risk 1 (High)                    Restaurant\n",
       "2584899         Risk 3 (Low)                 Grocery Store\n",
       "2584881         Risk 3 (Low)                    Restaurant\n",
       "2584883        Risk 1 (High)  Children's Services Facility"
      ]
     },
     "execution_count": 35,
     "metadata": {},
     "output_type": "execute_result"
    }
   ],
   "source": [
    "alt_tablo = data[['risk','facility_type']]#tek değer yerine list kullanma\n",
    "alt_tablo.head()"
   ]
  },
  {
   "cell_type": "markdown",
   "metadata": {
    "colab_type": "text",
    "id": "M4BfNfad5pN3"
   },
   "source": [
    "## Kolonlar üzerinde yapılan işlemler, kolonlardaki verilerin dağılımlarının görselleştirilmesi"
   ]
  },
  {
   "cell_type": "markdown",
   "metadata": {
    "colab_type": "text",
    "id": "e4zE_h1af5wN"
   },
   "source": [
    "Risklerin belirli kategorilerde olduğu görünüyor, onları kategori türüne dönüştürebiliriz"
   ]
  },
  {
   "cell_type": "code",
   "execution_count": 36,
   "metadata": {
    "colab": {},
    "colab_type": "code",
    "id": "aNzZRzpqgCKY"
   },
   "outputs": [],
   "source": [
    "data.risk = data.risk.astype('category')#tersi için : data.risk = data.risk..astype(str)"
   ]
  },
  {
   "cell_type": "markdown",
   "metadata": {
    "colab_type": "text",
    "id": "RcB_8awMgtZ4"
   },
   "source": [
    "Oluşan kategorileri görelim"
   ]
  },
  {
   "cell_type": "code",
   "execution_count": 37,
   "metadata": {
    "colab": {
     "base_uri": "https://localhost:8080/",
     "height": 51
    },
    "colab_type": "code",
    "executionInfo": {
     "elapsed": 908,
     "status": "ok",
     "timestamp": 1575048982514,
     "user": {
      "displayName": "Barış Bozkurt",
      "photoUrl": "https://lh3.googleusercontent.com/a-/AAuE7mAdwaPUM3cQ3cUO9jZZ-QMeyRr9RU_6iP1RfFeg=s64",
      "userId": "04066217430702805158"
     },
     "user_tz": -180
    },
    "id": "vv9lnowigT5s",
    "outputId": "8e420f04-dade-4e8c-ff8e-5e62106db8f5"
   },
   "outputs": [
    {
     "name": "stdout",
     "output_type": "stream",
     "text": [
      "Index(['All', 'Risk 1 (High)', 'Risk 2 (Medium)', 'Risk 3 (Low)'], dtype='object')\n"
     ]
    },
    {
     "data": {
      "text/plain": [
       "CategoricalDtype(categories=['All', 'Risk 1 (High)', 'Risk 2 (Medium)', 'Risk 3 (Low)'], ordered=False)"
      ]
     },
     "execution_count": 37,
     "metadata": {},
     "output_type": "execute_result"
    }
   ],
   "source": [
    "print(data.risk.cat.categories)\n",
    "data.dtypes['risk']"
   ]
  },
  {
   "cell_type": "code",
   "execution_count": 38,
   "metadata": {
    "colab": {
     "base_uri": "https://localhost:8080/",
     "height": 102
    },
    "colab_type": "code",
    "executionInfo": {
     "elapsed": 887,
     "status": "ok",
     "timestamp": 1575049026285,
     "user": {
      "displayName": "Barış Bozkurt",
      "photoUrl": "https://lh3.googleusercontent.com/a-/AAuE7mAdwaPUM3cQ3cUO9jZZ-QMeyRr9RU_6iP1RfFeg=s64",
      "userId": "04066217430702805158"
     },
     "user_tz": -180
    },
    "id": "2AUYKxlp-Ncd",
    "outputId": "9510d1d5-96b9-4e81-e763-4175fbb923c4"
   },
   "outputs": [
    {
     "data": {
      "text/plain": [
       "count               999\n",
       "unique                4\n",
       "top       Risk 1 (High)\n",
       "freq                851\n",
       "Name: risk, dtype: object"
      ]
     },
     "execution_count": 38,
     "metadata": {},
     "output_type": "execute_result"
    }
   ],
   "source": [
    "data[\"risk\"].describe()#veride risk kolonuna dair genel bilgi alalım"
   ]
  },
  {
   "cell_type": "code",
   "execution_count": 39,
   "metadata": {
    "colab": {
     "base_uri": "https://localhost:8080/",
     "height": 102
    },
    "colab_type": "code",
    "executionInfo": {
     "elapsed": 845,
     "status": "ok",
     "timestamp": 1575049032718,
     "user": {
      "displayName": "Barış Bozkurt",
      "photoUrl": "https://lh3.googleusercontent.com/a-/AAuE7mAdwaPUM3cQ3cUO9jZZ-QMeyRr9RU_6iP1RfFeg=s64",
      "userId": "04066217430702805158"
     },
     "user_tz": -180
    },
    "id": "Ju6fUeu2HDQY",
    "outputId": "0bf31db7-e47d-480c-9734-ee2055891874"
   },
   "outputs": [
    {
     "data": {
      "text/plain": [
       "Risk 1 (High)      851\n",
       "Risk 2 (Medium)    103\n",
       "Risk 3 (Low)        43\n",
       "All                  2\n",
       "Name: risk, dtype: int64"
      ]
     },
     "execution_count": 39,
     "metadata": {},
     "output_type": "execute_result"
    }
   ],
   "source": [
    "data[\"risk\"].value_counts()"
   ]
  },
  {
   "cell_type": "code",
   "execution_count": 40,
   "metadata": {
    "colab": {
     "base_uri": "https://localhost:8080/",
     "height": 265
    },
    "colab_type": "code",
    "executionInfo": {
     "elapsed": 871,
     "status": "ok",
     "timestamp": 1575049044347,
     "user": {
      "displayName": "Barış Bozkurt",
      "photoUrl": "https://lh3.googleusercontent.com/a-/AAuE7mAdwaPUM3cQ3cUO9jZZ-QMeyRr9RU_6iP1RfFeg=s64",
      "userId": "04066217430702805158"
     },
     "user_tz": -180
    },
    "id": "0bnbiimAKKeJ",
    "outputId": "6030d71d-9f35-4092-9184-2f26eadee6ff"
   },
   "outputs": [
    {
     "data": {
      "text/plain": [
       "<Axes: ylabel='risk'>"
      ]
     },
     "execution_count": 40,
     "metadata": {},
     "output_type": "execute_result"
    },
    {
     "data": {
      "image/png": "[encoded data removed]",
      "text/plain": [
       "<Figure size 640x480 with 1 Axes>"
      ]
     },
     "metadata": {},
     "output_type": "display_data"
    }
   ],
   "source": [
    "data[\"risk\"].value_counts().plot.pie()"
   ]
  },
  {
   "cell_type": "code",
   "execution_count": 41,
   "metadata": {
    "colab": {
     "base_uri": "https://localhost:8080/",
     "height": 353
    },
    "colab_type": "code",
    "executionInfo": {
     "elapsed": 955,
     "status": "ok",
     "timestamp": 1575049064111,
     "user": {
      "displayName": "Barış Bozkurt",
      "photoUrl": "https://lh3.googleusercontent.com/a-/AAuE7mAdwaPUM3cQ3cUO9jZZ-QMeyRr9RU_6iP1RfFeg=s64",
      "userId": "04066217430702805158"
     },
     "user_tz": -180
    },
    "id": "p_-IUKR9KZva",
    "outputId": "40c045f7-cfc1-416e-8405-bfed50c792b8"
   },
   "outputs": [
    {
     "data": {
      "text/plain": [
       "<Axes: >"
      ]
     },
     "execution_count": 41,
     "metadata": {},
     "output_type": "execute_result"
    },
    {
     "data": {
      "image/png": "[encoded data removed]",
      "text/plain": [
       "<Figure size 640x480 with 1 Axes>"
      ]
     },
     "metadata": {},
     "output_type": "display_data"
    }
   ],
   "source": [
    "data[\"risk\"].value_counts().plot(kind='bar')"
   ]
  },
  {
   "cell_type": "code",
   "execution_count": 42,
   "metadata": {
    "colab": {
     "base_uri": "https://localhost:8080/",
     "height": 544
    },
    "colab_type": "code",
    "executionInfo": {
     "elapsed": 1140,
     "status": "ok",
     "timestamp": 1575049094115,
     "user": {
      "displayName": "Barış Bozkurt",
      "photoUrl": "https://lh3.googleusercontent.com/a-/AAuE7mAdwaPUM3cQ3cUO9jZZ-QMeyRr9RU_6iP1RfFeg=s64",
      "userId": "04066217430702805158"
     },
     "user_tz": -180
    },
    "id": "9M1SD_5OOBH_",
    "outputId": "f9f3b43f-2ffd-4dc9-80a4-3d3e0df04fa2"
   },
   "outputs": [
    {
     "data": {
      "text/html": [
       "<div>\n",
       "<style scoped>\n",
       "    .dataframe tbody tr th:only-of-type {\n",
       "        vertical-align: middle;\n",
       "    }\n",
       "\n",
       "    .dataframe tbody tr th {\n",
       "        vertical-align: top;\n",
       "    }\n",
       "\n",
       "    .dataframe thead th {\n",
       "        text-align: right;\n",
       "    }\n",
       "</style>\n",
       "<table border=\"1\" class=\"dataframe\">\n",
       "  <thead>\n",
       "    <tr style=\"text-align: right;\">\n",
       "      <th></th>\n",
       "      <th>dba_name</th>\n",
       "      <th>aka_name</th>\n",
       "      <th>license_</th>\n",
       "      <th>facility_type</th>\n",
       "      <th>risk</th>\n",
       "      <th>address</th>\n",
       "      <th>city</th>\n",
       "      <th>state</th>\n",
       "      <th>zip</th>\n",
       "      <th>inspection_date</th>\n",
       "      <th>inspection_type</th>\n",
       "      <th>results</th>\n",
       "      <th>violations</th>\n",
       "    </tr>\n",
       "    <tr>\n",
       "      <th>inspection_id</th>\n",
       "      <th></th>\n",
       "      <th></th>\n",
       "      <th></th>\n",
       "      <th></th>\n",
       "      <th></th>\n",
       "      <th></th>\n",
       "      <th></th>\n",
       "      <th></th>\n",
       "      <th></th>\n",
       "      <th></th>\n",
       "      <th></th>\n",
       "      <th></th>\n",
       "      <th></th>\n",
       "    </tr>\n",
       "  </thead>\n",
       "  <tbody>\n",
       "    <tr>\n",
       "      <th>2584931</th>\n",
       "      <td>SUNDA</td>\n",
       "      <td>SUNDA</td>\n",
       "      <td>2930097</td>\n",
       "      <td>Restaurant</td>\n",
       "      <td>Risk 1 (High)</td>\n",
       "      <td>333 N GREEN ST</td>\n",
       "      <td>CHICAGO</td>\n",
       "      <td>IL</td>\n",
       "      <td>60607</td>\n",
       "      <td>2023-11-09T00:00:00.000</td>\n",
       "      <td>License</td>\n",
       "      <td>Pass</td>\n",
       "      <td>10. ADEQUATE HANDWASHING SINKS PROPERLY SUPPLI...</td>\n",
       "    </tr>\n",
       "    <tr>\n",
       "      <th>2584936</th>\n",
       "      <td>SUNDA</td>\n",
       "      <td>SUNDA</td>\n",
       "      <td>2930098</td>\n",
       "      <td>Restaurant</td>\n",
       "      <td>Risk 1 (High)</td>\n",
       "      <td>333 N GREEN ST</td>\n",
       "      <td>CHICAGO</td>\n",
       "      <td>IL</td>\n",
       "      <td>60607</td>\n",
       "      <td>2023-11-09T00:00:00.000</td>\n",
       "      <td>License</td>\n",
       "      <td>Pass</td>\n",
       "      <td>NaN</td>\n",
       "    </tr>\n",
       "    <tr>\n",
       "      <th>2584883</th>\n",
       "      <td>RACHEL'S LEARNING CENTER, LTD.</td>\n",
       "      <td>RACHEL'S LEARNING CENTER</td>\n",
       "      <td>2358596</td>\n",
       "      <td>Children's Services Facility</td>\n",
       "      <td>Risk 1 (High)</td>\n",
       "      <td>5242-5244 W NORTH AVE</td>\n",
       "      <td>CHICAGO</td>\n",
       "      <td>IL</td>\n",
       "      <td>60639</td>\n",
       "      <td>2023-11-08T00:00:00.000</td>\n",
       "      <td>License Re-Inspection</td>\n",
       "      <td>Pass</td>\n",
       "      <td>51. PLUMBING INSTALLED; PROPER BACKFLOW DEVICE...</td>\n",
       "    </tr>\n",
       "    <tr>\n",
       "      <th>2584905</th>\n",
       "      <td>SUSHI BY BOU</td>\n",
       "      <td>SUSHI BY BOU</td>\n",
       "      <td>2867873</td>\n",
       "      <td>Restaurant</td>\n",
       "      <td>Risk 1 (High)</td>\n",
       "      <td>311-319 N MORGAN ST</td>\n",
       "      <td>CHICAGO</td>\n",
       "      <td>IL</td>\n",
       "      <td>60607</td>\n",
       "      <td>2023-11-08T00:00:00.000</td>\n",
       "      <td>Canvass</td>\n",
       "      <td>Pass</td>\n",
       "      <td>NaN</td>\n",
       "    </tr>\n",
       "    <tr>\n",
       "      <th>2584845</th>\n",
       "      <td>BANQUETES LA GLORIA 47TH ST</td>\n",
       "      <td>BANQUETES LA GLORIA 47TH ST</td>\n",
       "      <td>22971</td>\n",
       "      <td>Restaurant</td>\n",
       "      <td>Risk 1 (High)</td>\n",
       "      <td>4152-4158 W 47TH ST</td>\n",
       "      <td>CHICAGO</td>\n",
       "      <td>IL</td>\n",
       "      <td>60632</td>\n",
       "      <td>2023-11-08T00:00:00.000</td>\n",
       "      <td>Canvass Re-Inspection</td>\n",
       "      <td>Pass</td>\n",
       "      <td>NaN</td>\n",
       "    </tr>\n",
       "  </tbody>\n",
       "</table>\n",
       "</div>"
      ],
      "text/plain": [
       "                                     dba_name                     aka_name  \\\n",
       "inspection_id                                                                \n",
       "2584931                                 SUNDA                        SUNDA   \n",
       "2584936                                 SUNDA                        SUNDA   \n",
       "2584883        RACHEL'S LEARNING CENTER, LTD.     RACHEL'S LEARNING CENTER   \n",
       "2584905                          SUSHI BY BOU                 SUSHI BY BOU   \n",
       "2584845           BANQUETES LA GLORIA 47TH ST  BANQUETES LA GLORIA 47TH ST   \n",
       "\n",
       "               license_                 facility_type           risk  \\\n",
       "inspection_id                                                          \n",
       "2584931         2930097                    Restaurant  Risk 1 (High)   \n",
       "2584936         2930098                    Restaurant  Risk 1 (High)   \n",
       "2584883         2358596  Children's Services Facility  Risk 1 (High)   \n",
       "2584905         2867873                    Restaurant  Risk 1 (High)   \n",
       "2584845           22971                    Restaurant  Risk 1 (High)   \n",
       "\n",
       "                              address     city state    zip  \\\n",
       "inspection_id                                                 \n",
       "2584931               333 N GREEN ST   CHICAGO    IL  60607   \n",
       "2584936               333 N GREEN ST   CHICAGO    IL  60607   \n",
       "2584883        5242-5244 W NORTH AVE   CHICAGO    IL  60639   \n",
       "2584905          311-319 N MORGAN ST   CHICAGO    IL  60607   \n",
       "2584845          4152-4158 W 47TH ST   CHICAGO    IL  60632   \n",
       "\n",
       "                       inspection_date        inspection_type results  \\\n",
       "inspection_id                                                           \n",
       "2584931        2023-11-09T00:00:00.000                License    Pass   \n",
       "2584936        2023-11-09T00:00:00.000                License    Pass   \n",
       "2584883        2023-11-08T00:00:00.000  License Re-Inspection    Pass   \n",
       "2584905        2023-11-08T00:00:00.000                Canvass    Pass   \n",
       "2584845        2023-11-08T00:00:00.000  Canvass Re-Inspection    Pass   \n",
       "\n",
       "                                                      violations  \n",
       "inspection_id                                                     \n",
       "2584931        10. ADEQUATE HANDWASHING SINKS PROPERLY SUPPLI...  \n",
       "2584936                                                      NaN  \n",
       "2584883        51. PLUMBING INSTALLED; PROPER BACKFLOW DEVICE...  \n",
       "2584905                                                      NaN  \n",
       "2584845                                                      NaN  "
      ]
     },
     "execution_count": 42,
     "metadata": {},
     "output_type": "execute_result"
    }
   ],
   "source": [
    "#risk seviyesi \"Risk 1 (High)\" olarak belirtilmiş olanları görelim\n",
    "riski_yuksekler = data[data['risk'] == \"Risk 1 (High)\"]#burada boolean indexing kullanılıyor, bir sonraki hücreye bakınız\n",
    "riski_yuksekler.head()"
   ]
  },
  {
   "cell_type": "markdown",
   "metadata": {
    "colab_type": "text",
    "id": "PHU9NzviPnQX"
   },
   "source": [
    "Karşılaştırma işleminin çıktısının içeriğini inceleyelim"
   ]
  },
  {
   "cell_type": "code",
   "execution_count": 0,
   "metadata": {
    "colab": {
     "base_uri": "https://localhost:8080/",
     "height": 136
    },
    "colab_type": "code",
    "executionInfo": {
     "elapsed": 801,
     "status": "ok",
     "timestamp": 1575049108039,
     "user": {
      "displayName": "Barış Bozkurt",
      "photoUrl": "https://lh3.googleusercontent.com/a-/AAuE7mAdwaPUM3cQ3cUO9jZZ-QMeyRr9RU_6iP1RfFeg=s64",
      "userId": "04066217430702805158"
     },
     "user_tz": -180
    },
    "id": "rMJYy3m9OQnd",
    "outputId": "e6be0f75-2816-46e7-8a86-be06143f6d44"
   },
   "outputs": [
    {
     "data": {
      "text/plain": [
       "inspection_id\n",
       "2352364    False\n",
       "2352336     True\n",
       "2352355    False\n",
       "2352380    False\n",
       "2352326     True\n",
       "Name: risk, dtype: bool"
      ]
     },
     "execution_count": 44,
     "metadata": {
      "tags": []
     },
     "output_type": "execute_result"
    }
   ],
   "source": [
    "temp = data['risk'] == \"Risk 1 (High)\"\n",
    "temp.head()"
   ]
  },
  {
   "cell_type": "code",
   "execution_count": 0,
   "metadata": {
    "colab": {
     "base_uri": "https://localhost:8080/",
     "height": 34
    },
    "colab_type": "code",
    "executionInfo": {
     "elapsed": 828,
     "status": "ok",
     "timestamp": 1575049172482,
     "user": {
      "displayName": "Barış Bozkurt",
      "photoUrl": "https://lh3.googleusercontent.com/a-/AAuE7mAdwaPUM3cQ3cUO9jZZ-QMeyRr9RU_6iP1RfFeg=s64",
      "userId": "04066217430702805158"
     },
     "user_tz": -180
    },
    "id": "CeTFedCtDFfj",
    "outputId": "26b66750-c198-4a1d-fdc0-0977b93f2d5a"
   },
   "outputs": [
    {
     "name": "stdout",
     "output_type": "stream",
     "text": [
      "min: All , max: Risk 3 (Low)\n"
     ]
    }
   ],
   "source": [
    "#risk kategorik verisini, kategorileri sıralı olacak şekilde değiştirelim\n",
    "data[\"risk\"].cat.as_ordered(inplace = True)#inplace: dataframe'in kendisini değiştir\n",
    "print(\"min:\",data[\"risk\"].min(),\", max:\",data[\"risk\"].max())"
   ]
  },
  {
   "cell_type": "markdown",
   "metadata": {
    "colab_type": "text",
    "id": "OXTr-TZCg4Zn"
   },
   "source": [
    "Benzer şekilde facility_type içerisindeki olası kategorileri görelim"
   ]
  },
  {
   "cell_type": "code",
   "execution_count": 0,
   "metadata": {
    "colab": {
     "base_uri": "https://localhost:8080/",
     "height": 272
    },
    "colab_type": "code",
    "executionInfo": {
     "elapsed": 824,
     "status": "ok",
     "timestamp": 1575049205852,
     "user": {
      "displayName": "Barış Bozkurt",
      "photoUrl": "https://lh3.googleusercontent.com/a-/AAuE7mAdwaPUM3cQ3cUO9jZZ-QMeyRr9RU_6iP1RfFeg=s64",
      "userId": "04066217430702805158"
     },
     "user_tz": -180
    },
    "id": "OBGO0Sgsg8z1",
    "outputId": "75ce3d90-ec1f-4349-e206-acb7be265373"
   },
   "outputs": [
    {
     "data": {
      "text/plain": [
       "CategoricalDtype(categories=['15 monts to 5 years old', 'BANQUET', 'BREWERY',\n",
       "                  'BUTCHER SHOP', 'Bakery', 'COFFEE SHOP',\n",
       "                  'CUSTOM POULTRY SLAUGHTER', 'Catering',\n",
       "                  'Children's Services Facility', 'Daycare (2 - 6 Years)',\n",
       "                  'Daycare (2 Years)', 'Daycare (Under 2 Years)',\n",
       "                  'Daycare Above and Under 2 Years', 'Daycare Combo 1586',\n",
       "                  'GAS STATION/GROCERY', 'GROCERY STORE', 'Grocery Store',\n",
       "                  'HAIR SALON', 'HERBALIFE', 'HERBALIFE/ZUMBA', 'HOSTEL',\n",
       "                  'Hospital', 'ICE CREAM', 'LIQUOR STORE', 'LIVE POULTRY',\n",
       "                  'Liquor', 'Long Term Care', 'MOBILE FOOD',\n",
       "                  'Mobile Food Preparer', 'PALETERIA',\n",
       "                  'Pop-Up Food Establishment User-Tier II', 'REHAB CENTER',\n",
       "                  'Restaurant', 'SCHOOL', 'STORE', 'School', 'Shared Kitchen',\n",
       "                  'TAVERN', 'VENDING COMMISSARY', 'tavern'],\n",
       "                 ordered=False)"
      ]
     },
     "execution_count": 47,
     "metadata": {
      "tags": []
     },
     "output_type": "execute_result"
    }
   ],
   "source": [
    "data.facility_type = data.facility_type.astype('category')\n",
    "data.dtypes['facility_type']"
   ]
  },
  {
   "cell_type": "code",
   "execution_count": 0,
   "metadata": {
    "colab": {
     "base_uri": "https://localhost:8080/",
     "height": 199
    },
    "colab_type": "code",
    "executionInfo": {
     "elapsed": 934,
     "status": "ok",
     "timestamp": 1575049292572,
     "user": {
      "displayName": "Barış Bozkurt",
      "photoUrl": "https://lh3.googleusercontent.com/a-/AAuE7mAdwaPUM3cQ3cUO9jZZ-QMeyRr9RU_6iP1RfFeg=s64",
      "userId": "04066217430702805158"
     },
     "user_tz": -180
    },
    "id": "xXuXr3yOPLVx",
    "outputId": "584527b7-bc2d-4a47-c5a7-a921faacf4f0"
   },
   "outputs": [
    {
     "data": {
      "text/html": [
       "<div>\n",
       "<style scoped>\n",
       "    .dataframe tbody tr th:only-of-type {\n",
       "        vertical-align: middle;\n",
       "    }\n",
       "\n",
       "    .dataframe tbody tr th {\n",
       "        vertical-align: top;\n",
       "    }\n",
       "\n",
       "    .dataframe thead th {\n",
       "        text-align: right;\n",
       "    }\n",
       "</style>\n",
       "<table border=\"1\" class=\"dataframe\">\n",
       "  <thead>\n",
       "    <tr style=\"text-align: right;\">\n",
       "      <th></th>\n",
       "      <th>dba_name</th>\n",
       "      <th>aka_name</th>\n",
       "      <th>license_</th>\n",
       "      <th>facility_type</th>\n",
       "      <th>risk</th>\n",
       "      <th>address</th>\n",
       "      <th>city</th>\n",
       "      <th>state</th>\n",
       "      <th>zip</th>\n",
       "      <th>inspection_date</th>\n",
       "      <th>inspection_type</th>\n",
       "      <th>results</th>\n",
       "      <th>violations</th>\n",
       "    </tr>\n",
       "    <tr>\n",
       "      <th>inspection_id</th>\n",
       "      <th></th>\n",
       "      <th></th>\n",
       "      <th></th>\n",
       "      <th></th>\n",
       "      <th></th>\n",
       "      <th></th>\n",
       "      <th></th>\n",
       "      <th></th>\n",
       "      <th></th>\n",
       "      <th></th>\n",
       "      <th></th>\n",
       "      <th></th>\n",
       "      <th></th>\n",
       "    </tr>\n",
       "  </thead>\n",
       "  <tbody>\n",
       "    <tr>\n",
       "      <th>2352252</th>\n",
       "      <td>CLARK CATERING</td>\n",
       "      <td>CLARK CATERING</td>\n",
       "      <td>2574531</td>\n",
       "      <td>REHAB CENTER</td>\n",
       "      <td>Risk 1 (High)</td>\n",
       "      <td>124 N Sangamon ST</td>\n",
       "      <td>CHICAGO</td>\n",
       "      <td>IL</td>\n",
       "      <td>60607</td>\n",
       "      <td>2019-11-25T00:00:00.000</td>\n",
       "      <td>Canvass</td>\n",
       "      <td>Fail</td>\n",
       "      <td>16. FOOD-CONTACT SURFACES: CLEANED &amp; SANITIZED...</td>\n",
       "    </tr>\n",
       "  </tbody>\n",
       "</table>\n",
       "</div>"
      ],
      "text/plain": [
       "                     dba_name  ...                                         violations\n",
       "inspection_id                  ...                                                   \n",
       "2352252        CLARK CATERING  ...  16. FOOD-CONTACT SURFACES: CLEANED & SANITIZED...\n",
       "\n",
       "[1 rows x 13 columns]"
      ]
     },
     "execution_count": 49,
     "metadata": {
      "tags": []
     },
     "output_type": "execute_result"
    }
   ],
   "source": [
    "#String işlemleri kullanmak istiyorsak str olarak tutmak daha iyi: kategorik veriyi tekrar string haline getirelim\n",
    "data.facility_type = data.facility_type.astype(str)\n",
    "#facility_type içinde \"CENTER\" geçenleri bulalım\n",
    "data[data.facility_type.str.contains(\"CENTER\")]"
   ]
  },
  {
   "cell_type": "markdown",
   "metadata": {
    "colab_type": "text",
    "id": "hazvPg33-scO"
   },
   "source": [
    "Yukarıdaki örnekte gördüğümüz gibi pandas.series verilerine .str fonksiyonları uygulanabiliyor\n",
    "\n",
    "https://pandas.pydata.org/pandas-docs/stable/user_guide/text.html"
   ]
  },
  {
   "cell_type": "markdown",
   "metadata": {
    "colab_type": "text",
    "id": "QODbfAKYTimB"
   },
   "source": [
    "Belirli bir kolondaki değerleri formatlama\n",
    "\n",
    "\"inspection_date\" kolonundaki verileri zaman verisi türüne dönüştürelim. Önce hali hazırdaki türünü görelim"
   ]
  },
  {
   "cell_type": "code",
   "execution_count": 0,
   "metadata": {
    "colab": {
     "base_uri": "https://localhost:8080/",
     "height": 51
    },
    "colab_type": "code",
    "executionInfo": {
     "elapsed": 952,
     "status": "ok",
     "timestamp": 1575049314736,
     "user": {
      "displayName": "Barış Bozkurt",
      "photoUrl": "https://lh3.googleusercontent.com/a-/AAuE7mAdwaPUM3cQ3cUO9jZZ-QMeyRr9RU_6iP1RfFeg=s64",
      "userId": "04066217430702805158"
     },
     "user_tz": -180
    },
    "id": "ebbhj3uBVKVo",
    "outputId": "afdf7bae-a049-42da-c184-1853a62a0dc5"
   },
   "outputs": [
    {
     "data": {
      "text/plain": [
       "inspection_date    object\n",
       "dtype: object"
      ]
     },
     "execution_count": 50,
     "metadata": {
      "tags": []
     },
     "output_type": "execute_result"
    }
   ],
   "source": [
    "data.dtypes[['inspection_date']]"
   ]
  },
  {
   "cell_type": "code",
   "execution_count": 0,
   "metadata": {
    "colab": {
     "base_uri": "https://localhost:8080/",
     "height": 173
    },
    "colab_type": "code",
    "executionInfo": {
     "elapsed": 1079,
     "status": "ok",
     "timestamp": 1575049407336,
     "user": {
      "displayName": "Barış Bozkurt",
      "photoUrl": "https://lh3.googleusercontent.com/a-/AAuE7mAdwaPUM3cQ3cUO9jZZ-QMeyRr9RU_6iP1RfFeg=s64",
      "userId": "04066217430702805158"
     },
     "user_tz": -180
    },
    "id": "WadksRVJTmkp",
    "outputId": "62555015-e36a-4060-c678-c8e56210aaff"
   },
   "outputs": [
    {
     "data": {
      "text/html": [
       "<div>\n",
       "<style scoped>\n",
       "    .dataframe tbody tr th:only-of-type {\n",
       "        vertical-align: middle;\n",
       "    }\n",
       "\n",
       "    .dataframe tbody tr th {\n",
       "        vertical-align: top;\n",
       "    }\n",
       "\n",
       "    .dataframe thead th {\n",
       "        text-align: right;\n",
       "    }\n",
       "</style>\n",
       "<table border=\"1\" class=\"dataframe\">\n",
       "  <thead>\n",
       "    <tr style=\"text-align: right;\">\n",
       "      <th></th>\n",
       "      <th>inspection_date</th>\n",
       "    </tr>\n",
       "    <tr>\n",
       "      <th>inspection_id</th>\n",
       "      <th></th>\n",
       "    </tr>\n",
       "  </thead>\n",
       "  <tbody>\n",
       "    <tr>\n",
       "      <th>2352364</th>\n",
       "      <td>2019-11-26</td>\n",
       "    </tr>\n",
       "    <tr>\n",
       "      <th>2352336</th>\n",
       "      <td>2019-11-26</td>\n",
       "    </tr>\n",
       "    <tr>\n",
       "      <th>2352355</th>\n",
       "      <td>2019-11-26</td>\n",
       "    </tr>\n",
       "  </tbody>\n",
       "</table>\n",
       "</div>"
      ],
      "text/plain": [
       "              inspection_date\n",
       "inspection_id                \n",
       "2352364            2019-11-26\n",
       "2352336            2019-11-26\n",
       "2352355            2019-11-26"
      ]
     },
     "execution_count": 52,
     "metadata": {
      "tags": []
     },
     "output_type": "execute_result"
    }
   ],
   "source": [
    "data.inspection_date = data.inspection_date.apply(pd.to_datetime)#pandas datetime formatına dönüştürme\n",
    "data.loc[:2352355,['inspection_date']]"
   ]
  },
  {
   "cell_type": "code",
   "execution_count": 0,
   "metadata": {
    "colab": {
     "base_uri": "https://localhost:8080/",
     "height": 51
    },
    "colab_type": "code",
    "executionInfo": {
     "elapsed": 1014,
     "status": "ok",
     "timestamp": 1575049438599,
     "user": {
      "displayName": "Barış Bozkurt",
      "photoUrl": "https://lh3.googleusercontent.com/a-/AAuE7mAdwaPUM3cQ3cUO9jZZ-QMeyRr9RU_6iP1RfFeg=s64",
      "userId": "04066217430702805158"
     },
     "user_tz": -180
    },
    "id": "172j4y-SU9Dh",
    "outputId": "7e6796f4-eca7-43b5-e6e9-805bf83c1c01"
   },
   "outputs": [
    {
     "data": {
      "text/plain": [
       "inspection_date    datetime64[ns]\n",
       "dtype: object"
      ]
     },
     "execution_count": 53,
     "metadata": {
      "tags": []
     },
     "output_type": "execute_result"
    }
   ],
   "source": [
    "data.dtypes[['inspection_date']]"
   ]
  },
  {
   "cell_type": "markdown",
   "metadata": {
    "colab_type": "text",
    "id": "bOD9M6MvZZEN"
   },
   "source": [
    "İstersek verileri tarihine göre sıraya dizebiliriz"
   ]
  },
  {
   "cell_type": "code",
   "execution_count": 0,
   "metadata": {
    "colab": {
     "base_uri": "https://localhost:8080/",
     "height": 1000
    },
    "colab_type": "code",
    "executionInfo": {
     "elapsed": 859,
     "status": "ok",
     "timestamp": 1575049444447,
     "user": {
      "displayName": "Barış Bozkurt",
      "photoUrl": "https://lh3.googleusercontent.com/a-/AAuE7mAdwaPUM3cQ3cUO9jZZ-QMeyRr9RU_6iP1RfFeg=s64",
      "userId": "04066217430702805158"
     },
     "user_tz": -180
    },
    "id": "oMzRq3AGZdDD",
    "outputId": "8fb2676f-ca1f-468c-defd-6a158fd2f078"
   },
   "outputs": [
    {
     "data": {
      "text/html": [
       "<div>\n",
       "<style scoped>\n",
       "    .dataframe tbody tr th:only-of-type {\n",
       "        vertical-align: middle;\n",
       "    }\n",
       "\n",
       "    .dataframe tbody tr th {\n",
       "        vertical-align: top;\n",
       "    }\n",
       "\n",
       "    .dataframe thead th {\n",
       "        text-align: right;\n",
       "    }\n",
       "</style>\n",
       "<table border=\"1\" class=\"dataframe\">\n",
       "  <thead>\n",
       "    <tr style=\"text-align: right;\">\n",
       "      <th></th>\n",
       "      <th>dba_name</th>\n",
       "      <th>aka_name</th>\n",
       "      <th>license_</th>\n",
       "      <th>facility_type</th>\n",
       "      <th>risk</th>\n",
       "      <th>address</th>\n",
       "      <th>city</th>\n",
       "      <th>state</th>\n",
       "      <th>zip</th>\n",
       "      <th>inspection_date</th>\n",
       "      <th>inspection_type</th>\n",
       "      <th>results</th>\n",
       "      <th>violations</th>\n",
       "    </tr>\n",
       "    <tr>\n",
       "      <th>inspection_id</th>\n",
       "      <th></th>\n",
       "      <th></th>\n",
       "      <th></th>\n",
       "      <th></th>\n",
       "      <th></th>\n",
       "      <th></th>\n",
       "      <th></th>\n",
       "      <th></th>\n",
       "      <th></th>\n",
       "      <th></th>\n",
       "      <th></th>\n",
       "      <th></th>\n",
       "      <th></th>\n",
       "    </tr>\n",
       "  </thead>\n",
       "  <tbody>\n",
       "    <tr>\n",
       "      <th>2320633</th>\n",
       "      <td>K R M #1 INC</td>\n",
       "      <td>DUNKIN DONUT</td>\n",
       "      <td>29735</td>\n",
       "      <td>Restaurant</td>\n",
       "      <td>Risk 2 (Medium)</td>\n",
       "      <td>6254 N WESTERN AVE</td>\n",
       "      <td>CHICAGO</td>\n",
       "      <td>IL</td>\n",
       "      <td>60659</td>\n",
       "      <td>2019-10-28</td>\n",
       "      <td>Canvass</td>\n",
       "      <td>Out of Business</td>\n",
       "      <td>NaN</td>\n",
       "    </tr>\n",
       "    <tr>\n",
       "      <th>2320627</th>\n",
       "      <td>ARMOCA DESI GRILL</td>\n",
       "      <td>ARMOCA DESI GRILL</td>\n",
       "      <td>2698565</td>\n",
       "      <td>nan</td>\n",
       "      <td>Risk 1 (High)</td>\n",
       "      <td>560 W VAN BUREN ST</td>\n",
       "      <td>CHICAGO</td>\n",
       "      <td>IL</td>\n",
       "      <td>60607</td>\n",
       "      <td>2019-10-28</td>\n",
       "      <td>License</td>\n",
       "      <td>Not Ready</td>\n",
       "      <td>NaN</td>\n",
       "    </tr>\n",
       "    <tr>\n",
       "      <th>2320592</th>\n",
       "      <td>INTERNATIONAL FOODS NW INC</td>\n",
       "      <td>INTERNATIONAL FOODS</td>\n",
       "      <td>1129</td>\n",
       "      <td>Grocery Store</td>\n",
       "      <td>Risk 2 (Medium)</td>\n",
       "      <td>4404 W FULLERTON AVE</td>\n",
       "      <td>CHICAGO</td>\n",
       "      <td>IL</td>\n",
       "      <td>60639</td>\n",
       "      <td>2019-10-28</td>\n",
       "      <td>Complaint</td>\n",
       "      <td>Pass w/ Conditions</td>\n",
       "      <td>3. MANAGEMENT, FOOD EMPLOYEE AND CONDITIONAL E...</td>\n",
       "    </tr>\n",
       "    <tr>\n",
       "      <th>2320574</th>\n",
       "      <td>SYMPHONY MIDWAY</td>\n",
       "      <td>SYMPHONY MIDWAY</td>\n",
       "      <td>2447171</td>\n",
       "      <td>Long Term Care</td>\n",
       "      <td>Risk 1 (High)</td>\n",
       "      <td>4437 S CICERO AVE</td>\n",
       "      <td>CHICAGO</td>\n",
       "      <td>IL</td>\n",
       "      <td>60632</td>\n",
       "      <td>2019-10-28</td>\n",
       "      <td>Complaint Re-Inspection</td>\n",
       "      <td>Pass</td>\n",
       "      <td>51. PLUMBING INSTALLED; PROPER BACKFLOW DEVICE...</td>\n",
       "    </tr>\n",
       "    <tr>\n",
       "      <th>2320630</th>\n",
       "      <td>DELI KING</td>\n",
       "      <td>DELI KING</td>\n",
       "      <td>2073619</td>\n",
       "      <td>Restaurant</td>\n",
       "      <td>Risk 1 (High)</td>\n",
       "      <td>410 W 71ST ST</td>\n",
       "      <td>CHICAGO</td>\n",
       "      <td>IL</td>\n",
       "      <td>60621</td>\n",
       "      <td>2019-10-28</td>\n",
       "      <td>Canvass Re-Inspection</td>\n",
       "      <td>Pass</td>\n",
       "      <td>38. INSECTS, RODENTS, &amp; ANIMALS NOT PRESENT - ...</td>\n",
       "    </tr>\n",
       "    <tr>\n",
       "      <th>...</th>\n",
       "      <td>...</td>\n",
       "      <td>...</td>\n",
       "      <td>...</td>\n",
       "      <td>...</td>\n",
       "      <td>...</td>\n",
       "      <td>...</td>\n",
       "      <td>...</td>\n",
       "      <td>...</td>\n",
       "      <td>...</td>\n",
       "      <td>...</td>\n",
       "      <td>...</td>\n",
       "      <td>...</td>\n",
       "      <td>...</td>\n",
       "    </tr>\n",
       "    <tr>\n",
       "      <th>2352327</th>\n",
       "      <td>NEMA CHICAGO</td>\n",
       "      <td>NEMA CHICAGO</td>\n",
       "      <td>2621254</td>\n",
       "      <td>TAVERN</td>\n",
       "      <td>Risk 3 (Low)</td>\n",
       "      <td>1200 S INDIANA AVE</td>\n",
       "      <td>CHICAGO</td>\n",
       "      <td>IL</td>\n",
       "      <td>60605</td>\n",
       "      <td>2019-11-26</td>\n",
       "      <td>License Re-Inspection</td>\n",
       "      <td>Fail</td>\n",
       "      <td>5. PROCEDURES FOR RESPONDING TO VOMITING AND D...</td>\n",
       "    </tr>\n",
       "    <tr>\n",
       "      <th>2352396</th>\n",
       "      <td>4 BROTHERS DISCOUNT STORE</td>\n",
       "      <td>4 BROTHERS DISCOUNT</td>\n",
       "      <td>2373912</td>\n",
       "      <td>Grocery Store</td>\n",
       "      <td>Risk 3 (Low)</td>\n",
       "      <td>8238 S RACINE AVE</td>\n",
       "      <td>CHICAGO</td>\n",
       "      <td>IL</td>\n",
       "      <td>60620</td>\n",
       "      <td>2019-11-26</td>\n",
       "      <td>Canvass</td>\n",
       "      <td>Out of Business</td>\n",
       "      <td>NaN</td>\n",
       "    </tr>\n",
       "    <tr>\n",
       "      <th>2352343</th>\n",
       "      <td>THE LEARNING EXPERIENCE</td>\n",
       "      <td>THE LEARNING EXPERIENCE</td>\n",
       "      <td>2698338</td>\n",
       "      <td>Children's Services Facility</td>\n",
       "      <td>Risk 1 (High)</td>\n",
       "      <td>2642 N JONES ST</td>\n",
       "      <td>CHICAGO</td>\n",
       "      <td>IL</td>\n",
       "      <td>60647</td>\n",
       "      <td>2019-11-26</td>\n",
       "      <td>License</td>\n",
       "      <td>Pass w/ Conditions</td>\n",
       "      <td>3. MANAGEMENT, FOOD EMPLOYEE AND CONDITIONAL E...</td>\n",
       "    </tr>\n",
       "    <tr>\n",
       "      <th>2352331</th>\n",
       "      <td>CREATIVE SCHOLARS PRESCHOOL</td>\n",
       "      <td>CREATIVE SCHOLARS PRESCHOOL</td>\n",
       "      <td>2216013</td>\n",
       "      <td>Children's Services Facility</td>\n",
       "      <td>Risk 1 (High)</td>\n",
       "      <td>1731-1735 N ELSTON AVE</td>\n",
       "      <td>CHICAGO</td>\n",
       "      <td>IL</td>\n",
       "      <td>60642</td>\n",
       "      <td>2019-11-26</td>\n",
       "      <td>License</td>\n",
       "      <td>Pass</td>\n",
       "      <td>53. TOILET FACILITIES: PROPERLY CONSTRUCTED, S...</td>\n",
       "    </tr>\n",
       "    <tr>\n",
       "      <th>2352364</th>\n",
       "      <td>SWEET SHOT COOKIES LLC</td>\n",
       "      <td>SWEET SHOT COOKIES</td>\n",
       "      <td>2688916</td>\n",
       "      <td>Restaurant</td>\n",
       "      <td>Risk 2 (Medium)</td>\n",
       "      <td>3211 W ARMITAGE AVE</td>\n",
       "      <td>CHICAGO</td>\n",
       "      <td>IL</td>\n",
       "      <td>60647</td>\n",
       "      <td>2019-11-26</td>\n",
       "      <td>License</td>\n",
       "      <td>Fail</td>\n",
       "      <td>5. PROCEDURES FOR RESPONDING TO VOMITING AND D...</td>\n",
       "    </tr>\n",
       "  </tbody>\n",
       "</table>\n",
       "<p>1000 rows × 13 columns</p>\n",
       "</div>"
      ],
      "text/plain": [
       "                                  dba_name  ...                                         violations\n",
       "inspection_id                               ...                                                   \n",
       "2320633                       K R M #1 INC  ...                                                NaN\n",
       "2320627                  ARMOCA DESI GRILL  ...                                                NaN\n",
       "2320592         INTERNATIONAL FOODS NW INC  ...  3. MANAGEMENT, FOOD EMPLOYEE AND CONDITIONAL E...\n",
       "2320574                    SYMPHONY MIDWAY  ...  51. PLUMBING INSTALLED; PROPER BACKFLOW DEVICE...\n",
       "2320630                          DELI KING  ...  38. INSECTS, RODENTS, & ANIMALS NOT PRESENT - ...\n",
       "...                                    ...  ...                                                ...\n",
       "2352327                       NEMA CHICAGO  ...  5. PROCEDURES FOR RESPONDING TO VOMITING AND D...\n",
       "2352396          4 BROTHERS DISCOUNT STORE  ...                                                NaN\n",
       "2352343            THE LEARNING EXPERIENCE  ...  3. MANAGEMENT, FOOD EMPLOYEE AND CONDITIONAL E...\n",
       "2352331        CREATIVE SCHOLARS PRESCHOOL  ...  53. TOILET FACILITIES: PROPERLY CONSTRUCTED, S...\n",
       "2352364             SWEET SHOT COOKIES LLC  ...  5. PROCEDURES FOR RESPONDING TO VOMITING AND D...\n",
       "\n",
       "[1000 rows x 13 columns]"
      ]
     },
     "execution_count": 54,
     "metadata": {
      "tags": []
     },
     "output_type": "execute_result"
    }
   ],
   "source": [
    "data.sort_values(by = 'inspection_date')"
   ]
  },
  {
   "cell_type": "markdown",
   "metadata": {
    "colab_type": "text",
    "id": "CcV2hxkJcCs0"
   },
   "source": [
    "Büyüklüğe göre filtreleme"
   ]
  },
  {
   "cell_type": "code",
   "execution_count": 0,
   "metadata": {
    "colab": {
     "base_uri": "https://localhost:8080/",
     "height": 929
    },
    "colab_type": "code",
    "executionInfo": {
     "elapsed": 1268,
     "status": "ok",
     "timestamp": 1575049476380,
     "user": {
      "displayName": "Barış Bozkurt",
      "photoUrl": "https://lh3.googleusercontent.com/a-/AAuE7mAdwaPUM3cQ3cUO9jZZ-QMeyRr9RU_6iP1RfFeg=s64",
      "userId": "04066217430702805158"
     },
     "user_tz": -180
    },
    "id": "8t8_5Qc5bhEo",
    "outputId": "d5706454-4f18-4e3d-a853-30531d5e503c"
   },
   "outputs": [
    {
     "data": {
      "text/html": [
       "<div>\n",
       "<style scoped>\n",
       "    .dataframe tbody tr th:only-of-type {\n",
       "        vertical-align: middle;\n",
       "    }\n",
       "\n",
       "    .dataframe tbody tr th {\n",
       "        vertical-align: top;\n",
       "    }\n",
       "\n",
       "    .dataframe thead th {\n",
       "        text-align: right;\n",
       "    }\n",
       "</style>\n",
       "<table border=\"1\" class=\"dataframe\">\n",
       "  <thead>\n",
       "    <tr style=\"text-align: right;\">\n",
       "      <th></th>\n",
       "      <th>dba_name</th>\n",
       "      <th>aka_name</th>\n",
       "      <th>license_</th>\n",
       "      <th>facility_type</th>\n",
       "      <th>risk</th>\n",
       "      <th>address</th>\n",
       "      <th>city</th>\n",
       "      <th>state</th>\n",
       "      <th>zip</th>\n",
       "      <th>inspection_date</th>\n",
       "      <th>inspection_type</th>\n",
       "      <th>results</th>\n",
       "      <th>violations</th>\n",
       "    </tr>\n",
       "    <tr>\n",
       "      <th>inspection_id</th>\n",
       "      <th></th>\n",
       "      <th></th>\n",
       "      <th></th>\n",
       "      <th></th>\n",
       "      <th></th>\n",
       "      <th></th>\n",
       "      <th></th>\n",
       "      <th></th>\n",
       "      <th></th>\n",
       "      <th></th>\n",
       "      <th></th>\n",
       "      <th></th>\n",
       "      <th></th>\n",
       "    </tr>\n",
       "  </thead>\n",
       "  <tbody>\n",
       "    <tr>\n",
       "      <th>2345638</th>\n",
       "      <td>VEENO</td>\n",
       "      <td>VEENO</td>\n",
       "      <td>2578371</td>\n",
       "      <td>Restaurant</td>\n",
       "      <td>Risk 2 (Medium)</td>\n",
       "      <td>2009 S LAFIN ST</td>\n",
       "      <td>CHICAGO</td>\n",
       "      <td>IL</td>\n",
       "      <td>60608</td>\n",
       "      <td>2019-11-14</td>\n",
       "      <td>License Re-Inspection</td>\n",
       "      <td>Pass w/ Conditions</td>\n",
       "      <td>NaN</td>\n",
       "    </tr>\n",
       "    <tr>\n",
       "      <th>2345658</th>\n",
       "      <td>KAMEYA RAMEN</td>\n",
       "      <td>KAMEYA RAMEN</td>\n",
       "      <td>2548954</td>\n",
       "      <td>Restaurant</td>\n",
       "      <td>Risk 1 (High)</td>\n",
       "      <td>604 W BELMONT AVE</td>\n",
       "      <td>CHICAGO</td>\n",
       "      <td>IL</td>\n",
       "      <td>60657</td>\n",
       "      <td>2019-11-14</td>\n",
       "      <td>Canvass Re-Inspection</td>\n",
       "      <td>Pass w/ Conditions</td>\n",
       "      <td>14. REQUIRED RECORDS AVAILABLE: SHELLSTOCK TAG...</td>\n",
       "    </tr>\n",
       "    <tr>\n",
       "      <th>2345601</th>\n",
       "      <td>VELVET TACO</td>\n",
       "      <td>VELVET TACO</td>\n",
       "      <td>2652940</td>\n",
       "      <td>Restaurant</td>\n",
       "      <td>Risk 3 (Low)</td>\n",
       "      <td>2309 N LINCOLN AVE</td>\n",
       "      <td>CHICAGO</td>\n",
       "      <td>IL</td>\n",
       "      <td>60614</td>\n",
       "      <td>2019-11-14</td>\n",
       "      <td>License</td>\n",
       "      <td>Fail</td>\n",
       "      <td>NaN</td>\n",
       "    </tr>\n",
       "    <tr>\n",
       "      <th>2345580</th>\n",
       "      <td>PLAYAS NAYARITAS 2</td>\n",
       "      <td>PLAYAS NAYARITAS 2</td>\n",
       "      <td>2663557</td>\n",
       "      <td>Restaurant</td>\n",
       "      <td>Risk 3 (Low)</td>\n",
       "      <td>6000 W GRAND AVE</td>\n",
       "      <td>CHICAGO</td>\n",
       "      <td>IL</td>\n",
       "      <td>60639</td>\n",
       "      <td>2019-11-14</td>\n",
       "      <td>License</td>\n",
       "      <td>Pass</td>\n",
       "      <td>NaN</td>\n",
       "    </tr>\n",
       "    <tr>\n",
       "      <th>2345630</th>\n",
       "      <td>RUNA JAPANESE</td>\n",
       "      <td>RUNA JAPANESE</td>\n",
       "      <td>2283811</td>\n",
       "      <td>Restaurant</td>\n",
       "      <td>Risk 1 (High)</td>\n",
       "      <td>2257 W NORTH AVE</td>\n",
       "      <td>CHICAGO</td>\n",
       "      <td>IL</td>\n",
       "      <td>60647</td>\n",
       "      <td>2019-11-14</td>\n",
       "      <td>Canvass</td>\n",
       "      <td>No Entry</td>\n",
       "      <td>NaN</td>\n",
       "    </tr>\n",
       "    <tr>\n",
       "      <th>...</th>\n",
       "      <td>...</td>\n",
       "      <td>...</td>\n",
       "      <td>...</td>\n",
       "      <td>...</td>\n",
       "      <td>...</td>\n",
       "      <td>...</td>\n",
       "      <td>...</td>\n",
       "      <td>...</td>\n",
       "      <td>...</td>\n",
       "      <td>...</td>\n",
       "      <td>...</td>\n",
       "      <td>...</td>\n",
       "      <td>...</td>\n",
       "    </tr>\n",
       "    <tr>\n",
       "      <th>2320632</th>\n",
       "      <td>TRASPASADA #2</td>\n",
       "      <td>TRASPASADA #2</td>\n",
       "      <td>1334706</td>\n",
       "      <td>Restaurant</td>\n",
       "      <td>Risk 1 (High)</td>\n",
       "      <td>811 N ASHLAND AVE</td>\n",
       "      <td>CHICAGO</td>\n",
       "      <td>IL</td>\n",
       "      <td>60622</td>\n",
       "      <td>2019-10-28</td>\n",
       "      <td>Short Form Complaint</td>\n",
       "      <td>Pass w/ Conditions</td>\n",
       "      <td>3. MANAGEMENT, FOOD EMPLOYEE AND CONDITIONAL E...</td>\n",
       "    </tr>\n",
       "    <tr>\n",
       "      <th>2320572</th>\n",
       "      <td>CHILDREN'S LAND ON BELMONT AVE,  INC.</td>\n",
       "      <td>CHILDREN'S LAND ON BELMONT AVE,  INC.</td>\n",
       "      <td>2488004</td>\n",
       "      <td>Children's Services Facility</td>\n",
       "      <td>Risk 1 (High)</td>\n",
       "      <td>6818 W BELMONT AVE</td>\n",
       "      <td>CHICAGO</td>\n",
       "      <td>IL</td>\n",
       "      <td>60634</td>\n",
       "      <td>2019-10-28</td>\n",
       "      <td>Canvass</td>\n",
       "      <td>Pass</td>\n",
       "      <td>55. PHYSICAL FACILITIES INSTALLED, MAINTAINED ...</td>\n",
       "    </tr>\n",
       "    <tr>\n",
       "      <th>2320631</th>\n",
       "      <td>Oromo Cafe</td>\n",
       "      <td>Oromo Cafe</td>\n",
       "      <td>2464339</td>\n",
       "      <td>Restaurant</td>\n",
       "      <td>Risk 1 (High)</td>\n",
       "      <td>4703 N Lincoln AVE</td>\n",
       "      <td>CHICAGO</td>\n",
       "      <td>IL</td>\n",
       "      <td>60625</td>\n",
       "      <td>2019-10-28</td>\n",
       "      <td>Complaint</td>\n",
       "      <td>Pass</td>\n",
       "      <td>36. THERMOMETERS PROVIDED &amp; ACCURATE - Comment...</td>\n",
       "    </tr>\n",
       "    <tr>\n",
       "      <th>2320589</th>\n",
       "      <td>SEA &amp; OLIVE</td>\n",
       "      <td>SEA &amp; OLIVE</td>\n",
       "      <td>2683264</td>\n",
       "      <td>Restaurant</td>\n",
       "      <td>Risk 1 (High)</td>\n",
       "      <td>1938-1940 W DIVISION ST</td>\n",
       "      <td>CHICAGO</td>\n",
       "      <td>IL</td>\n",
       "      <td>60622</td>\n",
       "      <td>2019-10-28</td>\n",
       "      <td>License</td>\n",
       "      <td>No Entry</td>\n",
       "      <td>NaN</td>\n",
       "    </tr>\n",
       "    <tr>\n",
       "      <th>2320633</th>\n",
       "      <td>K R M #1 INC</td>\n",
       "      <td>DUNKIN DONUT</td>\n",
       "      <td>29735</td>\n",
       "      <td>Restaurant</td>\n",
       "      <td>Risk 2 (Medium)</td>\n",
       "      <td>6254 N WESTERN AVE</td>\n",
       "      <td>CHICAGO</td>\n",
       "      <td>IL</td>\n",
       "      <td>60659</td>\n",
       "      <td>2019-10-28</td>\n",
       "      <td>Canvass</td>\n",
       "      <td>Out of Business</td>\n",
       "      <td>NaN</td>\n",
       "    </tr>\n",
       "  </tbody>\n",
       "</table>\n",
       "<p>620 rows × 13 columns</p>\n",
       "</div>"
      ],
      "text/plain": [
       "                                            dba_name  ...                                         violations\n",
       "inspection_id                                         ...                                                   \n",
       "2345638                                        VEENO  ...                                                NaN\n",
       "2345658                                 KAMEYA RAMEN  ...  14. REQUIRED RECORDS AVAILABLE: SHELLSTOCK TAG...\n",
       "2345601                                  VELVET TACO  ...                                                NaN\n",
       "2345580                           PLAYAS NAYARITAS 2  ...                                                NaN\n",
       "2345630                                RUNA JAPANESE  ...                                                NaN\n",
       "...                                              ...  ...                                                ...\n",
       "2320632                                TRASPASADA #2  ...  3. MANAGEMENT, FOOD EMPLOYEE AND CONDITIONAL E...\n",
       "2320572        CHILDREN'S LAND ON BELMONT AVE,  INC.  ...  55. PHYSICAL FACILITIES INSTALLED, MAINTAINED ...\n",
       "2320631                                   Oromo Cafe  ...  36. THERMOMETERS PROVIDED & ACCURATE - Comment...\n",
       "2320589                                  SEA & OLIVE  ...                                                NaN\n",
       "2320633                                 K R M #1 INC  ...                                                NaN\n",
       "\n",
       "[620 rows x 13 columns]"
      ]
     },
     "execution_count": 56,
     "metadata": {
      "tags": []
     },
     "output_type": "execute_result"
    }
   ],
   "source": [
    "data[data.inspection_date < '20191115']"
   ]
  },
  {
   "cell_type": "markdown",
   "metadata": {
    "colab_type": "text",
    "id": "AOeWGbH-cWYc"
   },
   "source": [
    "Yüksek riskli olarak işaretlenmiş restoranları bulma"
   ]
  },
  {
   "cell_type": "code",
   "execution_count": 0,
   "metadata": {
    "colab": {
     "base_uri": "https://localhost:8080/",
     "height": 1000
    },
    "colab_type": "code",
    "executionInfo": {
     "elapsed": 1197,
     "status": "ok",
     "timestamp": 1575049577452,
     "user": {
      "displayName": "Barış Bozkurt",
      "photoUrl": "https://lh3.googleusercontent.com/a-/AAuE7mAdwaPUM3cQ3cUO9jZZ-QMeyRr9RU_6iP1RfFeg=s64",
      "userId": "04066217430702805158"
     },
     "user_tz": -180
    },
    "id": "JRGGQibJcclc",
    "outputId": "946ce035-658c-4e25-cff6-ed2ac4084684"
   },
   "outputs": [
    {
     "name": "stderr",
     "output_type": "stream",
     "text": [
      "/usr/local/lib/python3.6/dist-packages/ipykernel_launcher.py:2: UserWarning: Boolean Series key will be reindexed to match DataFrame index.\n",
      "  \n"
     ]
    },
    {
     "data": {
      "text/html": [
       "<div>\n",
       "<style scoped>\n",
       "    .dataframe tbody tr th:only-of-type {\n",
       "        vertical-align: middle;\n",
       "    }\n",
       "\n",
       "    .dataframe tbody tr th {\n",
       "        vertical-align: top;\n",
       "    }\n",
       "\n",
       "    .dataframe thead th {\n",
       "        text-align: right;\n",
       "    }\n",
       "</style>\n",
       "<table border=\"1\" class=\"dataframe\">\n",
       "  <thead>\n",
       "    <tr style=\"text-align: right;\">\n",
       "      <th></th>\n",
       "      <th>dba_name</th>\n",
       "      <th>aka_name</th>\n",
       "      <th>license_</th>\n",
       "      <th>facility_type</th>\n",
       "      <th>risk</th>\n",
       "      <th>address</th>\n",
       "      <th>city</th>\n",
       "      <th>state</th>\n",
       "      <th>zip</th>\n",
       "      <th>inspection_date</th>\n",
       "      <th>inspection_type</th>\n",
       "      <th>results</th>\n",
       "      <th>violations</th>\n",
       "    </tr>\n",
       "    <tr>\n",
       "      <th>inspection_id</th>\n",
       "      <th></th>\n",
       "      <th></th>\n",
       "      <th></th>\n",
       "      <th></th>\n",
       "      <th></th>\n",
       "      <th></th>\n",
       "      <th></th>\n",
       "      <th></th>\n",
       "      <th></th>\n",
       "      <th></th>\n",
       "      <th></th>\n",
       "      <th></th>\n",
       "      <th></th>\n",
       "    </tr>\n",
       "  </thead>\n",
       "  <tbody>\n",
       "    <tr>\n",
       "      <th>2352336</th>\n",
       "      <td>NIA</td>\n",
       "      <td>NIA</td>\n",
       "      <td>1847912</td>\n",
       "      <td>Restaurant</td>\n",
       "      <td>Risk 1 (High)</td>\n",
       "      <td>803 W RANDOLPH ST</td>\n",
       "      <td>CHICAGO</td>\n",
       "      <td>IL</td>\n",
       "      <td>60607</td>\n",
       "      <td>2019-11-26</td>\n",
       "      <td>Canvass</td>\n",
       "      <td>No Entry</td>\n",
       "      <td>NaN</td>\n",
       "    </tr>\n",
       "    <tr>\n",
       "      <th>2352326</th>\n",
       "      <td>HOOTS ON DIVERSEY</td>\n",
       "      <td>HOOTS ON DIVERSEY</td>\n",
       "      <td>2693975</td>\n",
       "      <td>Restaurant</td>\n",
       "      <td>Risk 1 (High)</td>\n",
       "      <td>4059 W DIVERSEY AVE</td>\n",
       "      <td>CHICAGO</td>\n",
       "      <td>IL</td>\n",
       "      <td>60639</td>\n",
       "      <td>2019-11-26</td>\n",
       "      <td>License</td>\n",
       "      <td>Pass</td>\n",
       "      <td>NaN</td>\n",
       "    </tr>\n",
       "    <tr>\n",
       "      <th>2352399</th>\n",
       "      <td>EL CAPITAN RESTAURANT</td>\n",
       "      <td>EL CAPITAN RESTAURANT</td>\n",
       "      <td>12453</td>\n",
       "      <td>Restaurant</td>\n",
       "      <td>Risk 1 (High)</td>\n",
       "      <td>3754-3758 W ARMITAGE AVE</td>\n",
       "      <td>CHICAGO</td>\n",
       "      <td>IL</td>\n",
       "      <td>60647</td>\n",
       "      <td>2019-11-26</td>\n",
       "      <td>Canvass</td>\n",
       "      <td>Fail</td>\n",
       "      <td>5. PROCEDURES FOR RESPONDING TO VOMITING AND D...</td>\n",
       "    </tr>\n",
       "    <tr>\n",
       "      <th>2352353</th>\n",
       "      <td>HANDCUT FOODS</td>\n",
       "      <td>HANDCUT FOODS</td>\n",
       "      <td>2320325</td>\n",
       "      <td>Restaurant</td>\n",
       "      <td>Risk 1 (High)</td>\n",
       "      <td>1455 W WILLOW ST</td>\n",
       "      <td>CHICAGO</td>\n",
       "      <td>IL</td>\n",
       "      <td>60642</td>\n",
       "      <td>2019-11-26</td>\n",
       "      <td>Canvass</td>\n",
       "      <td>No Entry</td>\n",
       "      <td>NaN</td>\n",
       "    </tr>\n",
       "    <tr>\n",
       "      <th>2352335</th>\n",
       "      <td>TAKITO STREET</td>\n",
       "      <td>TAKITO STREET</td>\n",
       "      <td>2658192</td>\n",
       "      <td>Restaurant</td>\n",
       "      <td>Risk 1 (High)</td>\n",
       "      <td>2421 - 2423 N LINCOLN AVE</td>\n",
       "      <td>CHICAGO</td>\n",
       "      <td>IL</td>\n",
       "      <td>60614</td>\n",
       "      <td>2019-11-26</td>\n",
       "      <td>License</td>\n",
       "      <td>Fail</td>\n",
       "      <td>3. MANAGEMENT, FOOD EMPLOYEE AND CONDITIONAL E...</td>\n",
       "    </tr>\n",
       "    <tr>\n",
       "      <th>...</th>\n",
       "      <td>...</td>\n",
       "      <td>...</td>\n",
       "      <td>...</td>\n",
       "      <td>...</td>\n",
       "      <td>...</td>\n",
       "      <td>...</td>\n",
       "      <td>...</td>\n",
       "      <td>...</td>\n",
       "      <td>...</td>\n",
       "      <td>...</td>\n",
       "      <td>...</td>\n",
       "      <td>...</td>\n",
       "      <td>...</td>\n",
       "    </tr>\n",
       "    <tr>\n",
       "      <th>2320617</th>\n",
       "      <td>LITTLE MEL'S HOT DOG</td>\n",
       "      <td>LITTLE MEL'S HOT DOG</td>\n",
       "      <td>1573071</td>\n",
       "      <td>Restaurant</td>\n",
       "      <td>Risk 1 (High)</td>\n",
       "      <td>2205 N CALIFORNIA AVE</td>\n",
       "      <td>CHICAGO</td>\n",
       "      <td>IL</td>\n",
       "      <td>60647</td>\n",
       "      <td>2019-10-28</td>\n",
       "      <td>Canvass</td>\n",
       "      <td>Pass w/ Conditions</td>\n",
       "      <td>5. PROCEDURES FOR RESPONDING TO VOMITING AND D...</td>\n",
       "    </tr>\n",
       "    <tr>\n",
       "      <th>2320585</th>\n",
       "      <td>WICKER PARK SEAFOOD &amp; SUSHI</td>\n",
       "      <td>WICKER PARK SEAFOOD &amp; SUSHI(T1-GATE C01)</td>\n",
       "      <td>2594983</td>\n",
       "      <td>Restaurant</td>\n",
       "      <td>Risk 1 (High)</td>\n",
       "      <td>11601 W TOUHY AVE</td>\n",
       "      <td>CHICAGO</td>\n",
       "      <td>IL</td>\n",
       "      <td>60666</td>\n",
       "      <td>2019-10-28</td>\n",
       "      <td>Canvass</td>\n",
       "      <td>Pass w/ Conditions</td>\n",
       "      <td>25. CONSUMER ADVISORY PROVIDED FOR RAW/UNDERCO...</td>\n",
       "    </tr>\n",
       "    <tr>\n",
       "      <th>2320632</th>\n",
       "      <td>TRASPASADA #2</td>\n",
       "      <td>TRASPASADA #2</td>\n",
       "      <td>1334706</td>\n",
       "      <td>Restaurant</td>\n",
       "      <td>Risk 1 (High)</td>\n",
       "      <td>811 N ASHLAND AVE</td>\n",
       "      <td>CHICAGO</td>\n",
       "      <td>IL</td>\n",
       "      <td>60622</td>\n",
       "      <td>2019-10-28</td>\n",
       "      <td>Short Form Complaint</td>\n",
       "      <td>Pass w/ Conditions</td>\n",
       "      <td>3. MANAGEMENT, FOOD EMPLOYEE AND CONDITIONAL E...</td>\n",
       "    </tr>\n",
       "    <tr>\n",
       "      <th>2320631</th>\n",
       "      <td>Oromo Cafe</td>\n",
       "      <td>Oromo Cafe</td>\n",
       "      <td>2464339</td>\n",
       "      <td>Restaurant</td>\n",
       "      <td>Risk 1 (High)</td>\n",
       "      <td>4703 N Lincoln AVE</td>\n",
       "      <td>CHICAGO</td>\n",
       "      <td>IL</td>\n",
       "      <td>60625</td>\n",
       "      <td>2019-10-28</td>\n",
       "      <td>Complaint</td>\n",
       "      <td>Pass</td>\n",
       "      <td>36. THERMOMETERS PROVIDED &amp; ACCURATE - Comment...</td>\n",
       "    </tr>\n",
       "    <tr>\n",
       "      <th>2320589</th>\n",
       "      <td>SEA &amp; OLIVE</td>\n",
       "      <td>SEA &amp; OLIVE</td>\n",
       "      <td>2683264</td>\n",
       "      <td>Restaurant</td>\n",
       "      <td>Risk 1 (High)</td>\n",
       "      <td>1938-1940 W DIVISION ST</td>\n",
       "      <td>CHICAGO</td>\n",
       "      <td>IL</td>\n",
       "      <td>60622</td>\n",
       "      <td>2019-10-28</td>\n",
       "      <td>License</td>\n",
       "      <td>No Entry</td>\n",
       "      <td>NaN</td>\n",
       "    </tr>\n",
       "  </tbody>\n",
       "</table>\n",
       "<p>547 rows × 13 columns</p>\n",
       "</div>"
      ],
      "text/plain": [
       "                                  dba_name  ...                                         violations\n",
       "inspection_id                               ...                                                   \n",
       "2352336                                NIA  ...                                                NaN\n",
       "2352326                  HOOTS ON DIVERSEY  ...                                                NaN\n",
       "2352399              EL CAPITAN RESTAURANT  ...  5. PROCEDURES FOR RESPONDING TO VOMITING AND D...\n",
       "2352353                      HANDCUT FOODS  ...                                                NaN\n",
       "2352335                      TAKITO STREET  ...  3. MANAGEMENT, FOOD EMPLOYEE AND CONDITIONAL E...\n",
       "...                                    ...  ...                                                ...\n",
       "2320617               LITTLE MEL'S HOT DOG  ...  5. PROCEDURES FOR RESPONDING TO VOMITING AND D...\n",
       "2320585        WICKER PARK SEAFOOD & SUSHI  ...  25. CONSUMER ADVISORY PROVIDED FOR RAW/UNDERCO...\n",
       "2320632                      TRASPASADA #2  ...  3. MANAGEMENT, FOOD EMPLOYEE AND CONDITIONAL E...\n",
       "2320631                         Oromo Cafe  ...  36. THERMOMETERS PROVIDED & ACCURATE - Comment...\n",
       "2320589                        SEA & OLIVE  ...                                                NaN\n",
       "\n",
       "[547 rows x 13 columns]"
      ]
     },
     "execution_count": 58,
     "metadata": {
      "tags": []
     },
     "output_type": "execute_result"
    }
   ],
   "source": [
    "data_restoran = data[data['facility_type'].isin(['Restaurant'])]\n",
    "data_restoran[data['risk'].isin(['Risk 1 (High)'])]"
   ]
  },
  {
   "cell_type": "markdown",
   "metadata": {
    "colab_type": "text",
    "id": "_rbS88mxoLGp"
   },
   "source": [
    "Veri içerisindeki zip kodunun türü tam sayı olabilir, başa sıfır gelebileceği için string olmasında fayda var"
   ]
  },
  {
   "cell_type": "code",
   "execution_count": 0,
   "metadata": {
    "colab": {
     "base_uri": "https://localhost:8080/",
     "height": 51
    },
    "colab_type": "code",
    "executionInfo": {
     "elapsed": 1096,
     "status": "ok",
     "timestamp": 1575049640477,
     "user": {
      "displayName": "Barış Bozkurt",
      "photoUrl": "https://lh3.googleusercontent.com/a-/AAuE7mAdwaPUM3cQ3cUO9jZZ-QMeyRr9RU_6iP1RfFeg=s64",
      "userId": "04066217430702805158"
     },
     "user_tz": -180
    },
    "id": "Mc6O7s4QoDVd",
    "outputId": "93d35f5a-eb13-40e6-8f42-119a751beda6"
   },
   "outputs": [
    {
     "data": {
      "text/plain": [
       "zip    int64\n",
       "dtype: object"
      ]
     },
     "execution_count": 60,
     "metadata": {
      "tags": []
     },
     "output_type": "execute_result"
    }
   ],
   "source": [
    "data.dtypes[['zip']]"
   ]
  },
  {
   "cell_type": "code",
   "execution_count": 0,
   "metadata": {
    "colab": {},
    "colab_type": "code",
    "id": "-Toz3Kr3oVrU"
   },
   "outputs": [],
   "source": [
    "def sayidanMetin(sayi):#str() ile aynı ancak bir sonraki hücredeki kullanımın açık olması hedeflendiği için tanımlandı\n",
    "  return str(sayi)"
   ]
  },
  {
   "cell_type": "code",
   "execution_count": 0,
   "metadata": {
    "colab": {},
    "colab_type": "code",
    "id": "bk5GjPzto07k"
   },
   "outputs": [],
   "source": [
    "data.zip = data.zip.apply(sayidanMetin)"
   ]
  },
  {
   "cell_type": "code",
   "execution_count": 0,
   "metadata": {
    "colab": {
     "base_uri": "https://localhost:8080/",
     "height": 34
    },
    "colab_type": "code",
    "executionInfo": {
     "elapsed": 1116,
     "status": "ok",
     "timestamp": 1575049657527,
     "user": {
      "displayName": "Barış Bozkurt",
      "photoUrl": "https://lh3.googleusercontent.com/a-/AAuE7mAdwaPUM3cQ3cUO9jZZ-QMeyRr9RU_6iP1RfFeg=s64",
      "userId": "04066217430702805158"
     },
     "user_tz": -180
    },
    "id": "I3SQ-T65o660",
    "outputId": "d53f471e-8eef-48dc-b3ea-f117a91c0328"
   },
   "outputs": [
    {
     "data": {
      "text/plain": [
       "'60608'"
      ]
     },
     "execution_count": 63,
     "metadata": {
      "tags": []
     },
     "output_type": "execute_result"
    }
   ],
   "source": [
    "data.zip[2352355]#inspection_index'i 2300608 olan satırın zip verisi"
   ]
  },
  {
   "cell_type": "markdown",
   "metadata": {
    "colab_type": "text",
    "id": "gydtvk8WCS_j"
   },
   "source": [
    "**Kolon ismi değiştirme**"
   ]
  },
  {
   "cell_type": "code",
   "execution_count": 0,
   "metadata": {
    "colab": {
     "base_uri": "https://localhost:8080/",
     "height": 85
    },
    "colab_type": "code",
    "executionInfo": {
     "elapsed": 1369,
     "status": "ok",
     "timestamp": 1575049661854,
     "user": {
      "displayName": "Barış Bozkurt",
      "photoUrl": "https://lh3.googleusercontent.com/a-/AAuE7mAdwaPUM3cQ3cUO9jZZ-QMeyRr9RU_6iP1RfFeg=s64",
      "userId": "04066217430702805158"
     },
     "user_tz": -180
    },
    "id": "oqnxLENFCVqH",
    "outputId": "c19d7413-bdf0-44b0-a50b-a0e036706590"
   },
   "outputs": [
    {
     "data": {
      "text/plain": [
       "Index(['dba_name', 'aka_name', 'license_', 'facility_type', 'risk', 'address',\n",
       "       'city', 'state', 'posta_kodu', 'inspection_date', 'inspection_type',\n",
       "       'results', 'violations'],\n",
       "      dtype='object')"
      ]
     },
     "execution_count": 64,
     "metadata": {
      "tags": []
     },
     "output_type": "execute_result"
    }
   ],
   "source": [
    "data.rename(columns = {'zip':'posta_kodu'}, inplace = True)\n",
    "data.columns"
   ]
  },
  {
   "cell_type": "markdown",
   "metadata": {
    "colab_type": "text",
    "id": "6R8HRgiOCkp-"
   },
   "source": [
    "**Kolonu/kolonları silme** (daha önce \"del\" ile yapmıştık)"
   ]
  },
  {
   "cell_type": "code",
   "execution_count": 0,
   "metadata": {
    "colab": {
     "base_uri": "https://localhost:8080/",
     "height": 68
    },
    "colab_type": "code",
    "executionInfo": {
     "elapsed": 1176,
     "status": "ok",
     "timestamp": 1575049669408,
     "user": {
      "displayName": "Barış Bozkurt",
      "photoUrl": "https://lh3.googleusercontent.com/a-/AAuE7mAdwaPUM3cQ3cUO9jZZ-QMeyRr9RU_6iP1RfFeg=s64",
      "userId": "04066217430702805158"
     },
     "user_tz": -180
    },
    "id": "WVVxa9RiCj3w",
    "outputId": "343a8755-9887-495d-e89e-05af4e29b962"
   },
   "outputs": [
    {
     "data": {
      "text/plain": [
       "Index(['dba_name', 'aka_name', 'license_', 'facility_type', 'risk', 'address',\n",
       "       'city', 'state', 'inspection_date', 'results', 'violations'],\n",
       "      dtype='object')"
      ]
     },
     "execution_count": 65,
     "metadata": {
      "tags": []
     },
     "output_type": "execute_result"
    }
   ],
   "source": [
    "data.drop(['posta_kodu','inspection_type'], axis = 1, inplace = True)#axis=1: kolon\n",
    "data.columns"
   ]
  },
  {
   "cell_type": "markdown",
   "metadata": {
    "colab_type": "text",
    "id": "Uwmn4PgfC6E3"
   },
   "source": [
    "**Satır silme**"
   ]
  },
  {
   "cell_type": "code",
   "execution_count": 0,
   "metadata": {
    "colab": {
     "base_uri": "https://localhost:8080/",
     "height": 51
    },
    "colab_type": "code",
    "executionInfo": {
     "elapsed": 1067,
     "status": "ok",
     "timestamp": 1575049718734,
     "user": {
      "displayName": "Barış Bozkurt",
      "photoUrl": "https://lh3.googleusercontent.com/a-/AAuE7mAdwaPUM3cQ3cUO9jZZ-QMeyRr9RU_6iP1RfFeg=s64",
      "userId": "04066217430702805158"
     },
     "user_tz": -180
    },
    "id": "1c0Ggz34C7sE",
    "outputId": "1ca2b559-9132-40e8-f8fd-fc888939eead"
   },
   "outputs": [
    {
     "name": "stdout",
     "output_type": "stream",
     "text": [
      "Veri silinmeden önceki boyut:  (1000, 11)\n",
      "Veri silindikten sonraki boyut:  (998, 11)\n"
     ]
    }
   ],
   "source": [
    "print(\"Veri silinmeden önceki boyut: \",data.shape)\n",
    "data.drop([2352326,2352355], axis = 0, inplace = True)#verilen endekslerdeki iki satırı/veriyi silme, axis = 0: satır\n",
    "print(\"Veri silindikten sonraki boyut: \",data.shape)\n"
   ]
  },
  {
   "cell_type": "markdown",
   "metadata": {
    "colab_type": "text",
    "id": "T2kXj1ZmpXfq"
   },
   "source": [
    "**Önemli kolaylık:** \n",
    "\n",
    "Yukarıda yaptığımız işlemlerin büyük kısmını daha dosyayı okurken yapabilirdik"
   ]
  },
  {
   "cell_type": "code",
   "execution_count": 0,
   "metadata": {
    "colab": {},
    "colab_type": "code",
    "id": "q2jP2kyxpdx4"
   },
   "outputs": [],
   "source": [
    "data = pd.read_csv(\"https://data.cityofchicago.org/resource/4ijn-s7e5.csv\", \n",
    "                   usecols = [\"inspection_id\",\"inspection_date\", \"inspection_type\", \"facility_type\",\"risk\",\"zip\"],\n",
    "                   index_col = \"inspection_id\",\n",
    "                   parse_dates = [\"inspection_date\"],\n",
    "                   converters = {'zip': sayidanMetin},\n",
    "                   dtype = {\n",
    "                       \"risk\" : \"category\",\n",
    "                       \"facility_type\": \"category\"\n",
    "                   }\n",
    "                  )"
   ]
  },
  {
   "cell_type": "code",
   "execution_count": 0,
   "metadata": {
    "colab": {
     "base_uri": "https://localhost:8080/",
     "height": 187
    },
    "colab_type": "code",
    "executionInfo": {
     "elapsed": 957,
     "status": "ok",
     "timestamp": 1575049815741,
     "user": {
      "displayName": "Barış Bozkurt",
      "photoUrl": "https://lh3.googleusercontent.com/a-/AAuE7mAdwaPUM3cQ3cUO9jZZ-QMeyRr9RU_6iP1RfFeg=s64",
      "userId": "04066217430702805158"
     },
     "user_tz": -180
    },
    "id": "ioNkbLhMsHWi",
    "outputId": "3add72d2-f75c-4144-b2a5-6ce6349091b9"
   },
   "outputs": [
    {
     "name": "stdout",
     "output_type": "stream",
     "text": [
      "<class 'pandas.core.frame.DataFrame'>\n",
      "Int64Index: 1000 entries, 2352364 to 2320633\n",
      "Data columns (total 5 columns):\n",
      "facility_type      993 non-null category\n",
      "risk               1000 non-null category\n",
      "zip                1000 non-null object\n",
      "inspection_date    1000 non-null datetime64[ns]\n",
      "inspection_type    1000 non-null object\n",
      "dtypes: category(2), datetime64[ns](1), object(2)\n",
      "memory usage: 35.0+ KB\n"
     ]
    }
   ],
   "source": [
    "data.info()"
   ]
  },
  {
   "cell_type": "code",
   "execution_count": 0,
   "metadata": {
    "colab": {
     "base_uri": "https://localhost:8080/",
     "height": 34
    },
    "colab_type": "code",
    "executionInfo": {
     "elapsed": 978,
     "status": "ok",
     "timestamp": 1575049820042,
     "user": {
      "displayName": "Barış Bozkurt",
      "photoUrl": "https://lh3.googleusercontent.com/a-/AAuE7mAdwaPUM3cQ3cUO9jZZ-QMeyRr9RU_6iP1RfFeg=s64",
      "userId": "04066217430702805158"
     },
     "user_tz": -180
    },
    "id": "tlJbtuD270oa",
    "outputId": "02cf9c58-2c0d-4192-b40b-bac76880518a"
   },
   "outputs": [
    {
     "name": "stdout",
     "output_type": "stream",
     "text": [
      "datetime64[ns]\n"
     ]
    }
   ],
   "source": [
    "#kontrol edelim, zaman kolonunu formatlamış mı?\n",
    "print(data.inspection_date.dtype)"
   ]
  },
  {
   "cell_type": "code",
   "execution_count": 0,
   "metadata": {
    "colab": {
     "base_uri": "https://localhost:8080/",
     "height": 187
    },
    "colab_type": "code",
    "executionInfo": {
     "elapsed": 989,
     "status": "ok",
     "timestamp": 1575049823033,
     "user": {
      "displayName": "Barış Bozkurt",
      "photoUrl": "https://lh3.googleusercontent.com/a-/AAuE7mAdwaPUM3cQ3cUO9jZZ-QMeyRr9RU_6iP1RfFeg=s64",
      "userId": "04066217430702805158"
     },
     "user_tz": -180
    },
    "id": "dxvpU2SZ722O",
    "outputId": "95f174ef-cee8-4402-8bdc-2c62acab66db"
   },
   "outputs": [
    {
     "name": "stdout",
     "output_type": "stream",
     "text": [
      "<class 'pandas.core.frame.DataFrame'>\n",
      "Int64Index: 1000 entries, 2352364 to 2320633\n",
      "Data columns (total 5 columns):\n",
      "facility_type      993 non-null category\n",
      "risk               1000 non-null category\n",
      "zip                1000 non-null object\n",
      "inspection_date    1000 non-null datetime64[ns]\n",
      "inspection_type    1000 non-null object\n",
      "dtypes: category(2), datetime64[ns](1), object(2)\n",
      "memory usage: 35.0+ KB\n"
     ]
    }
   ],
   "source": [
    "data.info()"
   ]
  },
  {
   "cell_type": "markdown",
   "metadata": {
    "colab_type": "text",
    "id": "zXntMlGmtQjY"
   },
   "source": [
    "# API kullanarak internet üzerinden veri erişimi"
   ]
  },
  {
   "cell_type": "markdown",
   "metadata": {
    "colab_type": "text",
    "id": "JTo1R31Q0Z8i"
   },
   "source": [
    "[pandas-datareader](https://pandas-datareader.readthedocs.io/en/latest/) projesi. İnternet üzerinden veri çeken pandas aracı:\n",
    "\n",
    "    Yahoo! Finance (deprecated)\n",
    "    Google Finance\n",
    "    Enigma\n",
    "    Quandl\n",
    "    FRED\n",
    "    Fama/French\n",
    "    World Bank\n",
    "    OECD\n",
    "    Eurostat\n",
    "    ..."
   ]
  },
  {
   "cell_type": "code",
   "execution_count": 0,
   "metadata": {
    "colab": {
     "base_uri": "https://localhost:8080/",
     "height": 482
    },
    "colab_type": "code",
    "executionInfo": {
     "elapsed": 1329,
     "status": "ok",
     "timestamp": 1575049838578,
     "user": {
      "displayName": "Barış Bozkurt",
      "photoUrl": "https://lh3.googleusercontent.com/a-/AAuE7mAdwaPUM3cQ3cUO9jZZ-QMeyRr9RU_6iP1RfFeg=s64",
      "userId": "04066217430702805158"
     },
     "user_tz": -180
    },
    "id": "hjQ-PAdvw2ux",
    "outputId": "06c08902-1b66-4355-f6c4-0090e9fccb1f"
   },
   "outputs": [
    {
     "data": {
      "text/html": [
       "<div>\n",
       "<style scoped>\n",
       "    .dataframe tbody tr th:only-of-type {\n",
       "        vertical-align: middle;\n",
       "    }\n",
       "\n",
       "    .dataframe tbody tr th {\n",
       "        vertical-align: top;\n",
       "    }\n",
       "\n",
       "    .dataframe thead tr th {\n",
       "        text-align: left;\n",
       "    }\n",
       "\n",
       "    .dataframe thead tr:last-of-type th {\n",
       "        text-align: right;\n",
       "    }\n",
       "</style>\n",
       "<table border=\"1\" class=\"dataframe\">\n",
       "  <thead>\n",
       "    <tr>\n",
       "      <th>Country</th>\n",
       "      <th colspan=\"6\" halign=\"left\">Hungary</th>\n",
       "      <th colspan=\"6\" halign=\"left\">Mexico</th>\n",
       "      <th colspan=\"6\" halign=\"left\">Ireland</th>\n",
       "      <th colspan=\"6\" halign=\"left\">United Kingdom</th>\n",
       "      <th colspan=\"6\" halign=\"left\">Lithuania</th>\n",
       "      <th colspan=\"6\" halign=\"left\">Poland</th>\n",
       "      <th colspan=\"4\" halign=\"left\">Sweden</th>\n",
       "      <th>...</th>\n",
       "      <th colspan=\"4\" halign=\"left\">Luxembourg</th>\n",
       "      <th colspan=\"6\" halign=\"left\">Belgium</th>\n",
       "      <th colspan=\"6\" halign=\"left\">Spain</th>\n",
       "      <th colspan=\"6\" halign=\"left\">Chile</th>\n",
       "      <th colspan=\"6\" halign=\"left\">Italy</th>\n",
       "      <th colspan=\"6\" halign=\"left\">Portugal</th>\n",
       "      <th colspan=\"6\" halign=\"left\">Germany</th>\n",
       "    </tr>\n",
       "    <tr>\n",
       "      <th>Source</th>\n",
       "      <th colspan=\"3\" halign=\"left\">Administrative data</th>\n",
       "      <th colspan=\"3\" halign=\"left\">Survey data</th>\n",
       "      <th colspan=\"3\" halign=\"left\">Administrative data</th>\n",
       "      <th colspan=\"3\" halign=\"left\">Survey data</th>\n",
       "      <th colspan=\"3\" halign=\"left\">Administrative data</th>\n",
       "      <th colspan=\"3\" halign=\"left\">Survey data</th>\n",
       "      <th colspan=\"3\" halign=\"left\">Administrative data</th>\n",
       "      <th colspan=\"3\" halign=\"left\">Survey data</th>\n",
       "      <th colspan=\"3\" halign=\"left\">Administrative data</th>\n",
       "      <th colspan=\"3\" halign=\"left\">Survey data</th>\n",
       "      <th colspan=\"3\" halign=\"left\">Administrative data</th>\n",
       "      <th colspan=\"3\" halign=\"left\">Survey data</th>\n",
       "      <th colspan=\"3\" halign=\"left\">Administrative data</th>\n",
       "      <th>Survey data</th>\n",
       "      <th>...</th>\n",
       "      <th>Administrative data</th>\n",
       "      <th colspan=\"3\" halign=\"left\">Survey data</th>\n",
       "      <th colspan=\"3\" halign=\"left\">Administrative data</th>\n",
       "      <th colspan=\"3\" halign=\"left\">Survey data</th>\n",
       "      <th colspan=\"3\" halign=\"left\">Administrative data</th>\n",
       "      <th colspan=\"3\" halign=\"left\">Survey data</th>\n",
       "      <th colspan=\"3\" halign=\"left\">Administrative data</th>\n",
       "      <th colspan=\"3\" halign=\"left\">Survey data</th>\n",
       "      <th colspan=\"3\" halign=\"left\">Administrative data</th>\n",
       "      <th colspan=\"3\" halign=\"left\">Survey data</th>\n",
       "      <th colspan=\"3\" halign=\"left\">Administrative data</th>\n",
       "      <th colspan=\"3\" halign=\"left\">Survey data</th>\n",
       "      <th colspan=\"3\" halign=\"left\">Administrative data</th>\n",
       "      <th colspan=\"3\" halign=\"left\">Survey data</th>\n",
       "    </tr>\n",
       "    <tr>\n",
       "      <th>Series</th>\n",
       "      <th>Employees</th>\n",
       "      <th>Union members</th>\n",
       "      <th>Trade union  density</th>\n",
       "      <th>Employees</th>\n",
       "      <th>Union members</th>\n",
       "      <th>Trade union  density</th>\n",
       "      <th>Employees</th>\n",
       "      <th>Union members</th>\n",
       "      <th>Trade union  density</th>\n",
       "      <th>Employees</th>\n",
       "      <th>Union members</th>\n",
       "      <th>Trade union  density</th>\n",
       "      <th>Employees</th>\n",
       "      <th>Union members</th>\n",
       "      <th>Trade union  density</th>\n",
       "      <th>Employees</th>\n",
       "      <th>Union members</th>\n",
       "      <th>Trade union  density</th>\n",
       "      <th>Employees</th>\n",
       "      <th>Union members</th>\n",
       "      <th>Trade union  density</th>\n",
       "      <th>Employees</th>\n",
       "      <th>Union members</th>\n",
       "      <th>Trade union  density</th>\n",
       "      <th>Employees</th>\n",
       "      <th>Union members</th>\n",
       "      <th>Trade union  density</th>\n",
       "      <th>Employees</th>\n",
       "      <th>Union members</th>\n",
       "      <th>Trade union  density</th>\n",
       "      <th>Employees</th>\n",
       "      <th>Union members</th>\n",
       "      <th>Trade union  density</th>\n",
       "      <th>Employees</th>\n",
       "      <th>Union members</th>\n",
       "      <th>Trade union  density</th>\n",
       "      <th>Employees</th>\n",
       "      <th>Union members</th>\n",
       "      <th>Trade union  density</th>\n",
       "      <th>Employees</th>\n",
       "      <th>...</th>\n",
       "      <th>Trade union  density</th>\n",
       "      <th>Employees</th>\n",
       "      <th>Union members</th>\n",
       "      <th>Trade union  density</th>\n",
       "      <th>Employees</th>\n",
       "      <th>Union members</th>\n",
       "      <th>Trade union  density</th>\n",
       "      <th>Employees</th>\n",
       "      <th>Union members</th>\n",
       "      <th>Trade union  density</th>\n",
       "      <th>Employees</th>\n",
       "      <th>Union members</th>\n",
       "      <th>Trade union  density</th>\n",
       "      <th>Employees</th>\n",
       "      <th>Union members</th>\n",
       "      <th>Trade union  density</th>\n",
       "      <th>Employees</th>\n",
       "      <th>Union members</th>\n",
       "      <th>Trade union  density</th>\n",
       "      <th>Employees</th>\n",
       "      <th>Union members</th>\n",
       "      <th>Trade union  density</th>\n",
       "      <th>Employees</th>\n",
       "      <th>Union members</th>\n",
       "      <th>Trade union  density</th>\n",
       "      <th>Employees</th>\n",
       "      <th>Union members</th>\n",
       "      <th>Trade union  density</th>\n",
       "      <th>Employees</th>\n",
       "      <th>Union members</th>\n",
       "      <th>Trade union  density</th>\n",
       "      <th>Employees</th>\n",
       "      <th>Union members</th>\n",
       "      <th>Trade union  density</th>\n",
       "      <th>Employees</th>\n",
       "      <th>Union members</th>\n",
       "      <th>Trade union  density</th>\n",
       "      <th>Employees</th>\n",
       "      <th>Union members</th>\n",
       "      <th>Trade union  density</th>\n",
       "    </tr>\n",
       "    <tr>\n",
       "      <th>Year</th>\n",
       "      <th></th>\n",
       "      <th></th>\n",
       "      <th></th>\n",
       "      <th></th>\n",
       "      <th></th>\n",
       "      <th></th>\n",
       "      <th></th>\n",
       "      <th></th>\n",
       "      <th></th>\n",
       "      <th></th>\n",
       "      <th></th>\n",
       "      <th></th>\n",
       "      <th></th>\n",
       "      <th></th>\n",
       "      <th></th>\n",
       "      <th></th>\n",
       "      <th></th>\n",
       "      <th></th>\n",
       "      <th></th>\n",
       "      <th></th>\n",
       "      <th></th>\n",
       "      <th></th>\n",
       "      <th></th>\n",
       "      <th></th>\n",
       "      <th></th>\n",
       "      <th></th>\n",
       "      <th></th>\n",
       "      <th></th>\n",
       "      <th></th>\n",
       "      <th></th>\n",
       "      <th></th>\n",
       "      <th></th>\n",
       "      <th></th>\n",
       "      <th></th>\n",
       "      <th></th>\n",
       "      <th></th>\n",
       "      <th></th>\n",
       "      <th></th>\n",
       "      <th></th>\n",
       "      <th></th>\n",
       "      <th></th>\n",
       "      <th></th>\n",
       "      <th></th>\n",
       "      <th></th>\n",
       "      <th></th>\n",
       "      <th></th>\n",
       "      <th></th>\n",
       "      <th></th>\n",
       "      <th></th>\n",
       "      <th></th>\n",
       "      <th></th>\n",
       "      <th></th>\n",
       "      <th></th>\n",
       "      <th></th>\n",
       "      <th></th>\n",
       "      <th></th>\n",
       "      <th></th>\n",
       "      <th></th>\n",
       "      <th></th>\n",
       "      <th></th>\n",
       "      <th></th>\n",
       "      <th></th>\n",
       "      <th></th>\n",
       "      <th></th>\n",
       "      <th></th>\n",
       "      <th></th>\n",
       "      <th></th>\n",
       "      <th></th>\n",
       "      <th></th>\n",
       "      <th></th>\n",
       "      <th></th>\n",
       "      <th></th>\n",
       "      <th></th>\n",
       "      <th></th>\n",
       "      <th></th>\n",
       "      <th></th>\n",
       "      <th></th>\n",
       "      <th></th>\n",
       "      <th></th>\n",
       "      <th></th>\n",
       "      <th></th>\n",
       "    </tr>\n",
       "  </thead>\n",
       "  <tbody>\n",
       "    <tr>\n",
       "      <th>2000-01-01</th>\n",
       "      <td>NaN</td>\n",
       "      <td>NaN</td>\n",
       "      <td>NaN</td>\n",
       "      <td>NaN</td>\n",
       "      <td>NaN</td>\n",
       "      <td>NaN</td>\n",
       "      <td>NaN</td>\n",
       "      <td>NaN</td>\n",
       "      <td>NaN</td>\n",
       "      <td>NaN</td>\n",
       "      <td>NaN</td>\n",
       "      <td>NaN</td>\n",
       "      <td>653.0</td>\n",
       "      <td>314.0</td>\n",
       "      <td>48.0</td>\n",
       "      <td>NaN</td>\n",
       "      <td>NaN</td>\n",
       "      <td>NaN</td>\n",
       "      <td>22429.0</td>\n",
       "      <td>9013.0</td>\n",
       "      <td>40.2</td>\n",
       "      <td>NaN</td>\n",
       "      <td>NaN</td>\n",
       "      <td>NaN</td>\n",
       "      <td>NaN</td>\n",
       "      <td>NaN</td>\n",
       "      <td>NaN</td>\n",
       "      <td>NaN</td>\n",
       "      <td>NaN</td>\n",
       "      <td>NaN</td>\n",
       "      <td>NaN</td>\n",
       "      <td>NaN</td>\n",
       "      <td>NaN</td>\n",
       "      <td>NaN</td>\n",
       "      <td>NaN</td>\n",
       "      <td>NaN</td>\n",
       "      <td>3032.0</td>\n",
       "      <td>1998.0</td>\n",
       "      <td>65.9</td>\n",
       "      <td>NaN</td>\n",
       "      <td>...</td>\n",
       "      <td>NaN</td>\n",
       "      <td>NaN</td>\n",
       "      <td>NaN</td>\n",
       "      <td>NaN</td>\n",
       "      <td>2655.0</td>\n",
       "      <td>1033.0</td>\n",
       "      <td>38.9</td>\n",
       "      <td>NaN</td>\n",
       "      <td>NaN</td>\n",
       "      <td>NaN</td>\n",
       "      <td>NaN</td>\n",
       "      <td>NaN</td>\n",
       "      <td>NaN</td>\n",
       "      <td>NaN</td>\n",
       "      <td>NaN</td>\n",
       "      <td>NaN</td>\n",
       "      <td>NaN</td>\n",
       "      <td>NaN</td>\n",
       "      <td>NaN</td>\n",
       "      <td>NaN</td>\n",
       "      <td>NaN</td>\n",
       "      <td>NaN</td>\n",
       "      <td>12396.0</td>\n",
       "      <td>3127.0</td>\n",
       "      <td>25.2</td>\n",
       "      <td>NaN</td>\n",
       "      <td>NaN</td>\n",
       "      <td>NaN</td>\n",
       "      <td>NaN</td>\n",
       "      <td>NaN</td>\n",
       "      <td>NaN</td>\n",
       "      <td>NaN</td>\n",
       "      <td>NaN</td>\n",
       "      <td>NaN</td>\n",
       "      <td>20631.0</td>\n",
       "      <td>6982.0</td>\n",
       "      <td>33.8</td>\n",
       "      <td>NaN</td>\n",
       "      <td>NaN</td>\n",
       "      <td>NaN</td>\n",
       "    </tr>\n",
       "    <tr>\n",
       "      <th>2001-01-01</th>\n",
       "      <td>NaN</td>\n",
       "      <td>NaN</td>\n",
       "      <td>NaN</td>\n",
       "      <td>NaN</td>\n",
       "      <td>NaN</td>\n",
       "      <td>NaN</td>\n",
       "      <td>NaN</td>\n",
       "      <td>NaN</td>\n",
       "      <td>NaN</td>\n",
       "      <td>NaN</td>\n",
       "      <td>NaN</td>\n",
       "      <td>NaN</td>\n",
       "      <td>673.0</td>\n",
       "      <td>326.0</td>\n",
       "      <td>48.5</td>\n",
       "      <td>NaN</td>\n",
       "      <td>NaN</td>\n",
       "      <td>NaN</td>\n",
       "      <td>22794.0</td>\n",
       "      <td>9196.0</td>\n",
       "      <td>40.3</td>\n",
       "      <td>NaN</td>\n",
       "      <td>NaN</td>\n",
       "      <td>NaN</td>\n",
       "      <td>NaN</td>\n",
       "      <td>NaN</td>\n",
       "      <td>NaN</td>\n",
       "      <td>NaN</td>\n",
       "      <td>NaN</td>\n",
       "      <td>NaN</td>\n",
       "      <td>NaN</td>\n",
       "      <td>NaN</td>\n",
       "      <td>NaN</td>\n",
       "      <td>NaN</td>\n",
       "      <td>NaN</td>\n",
       "      <td>NaN</td>\n",
       "      <td>3111.0</td>\n",
       "      <td>2076.0</td>\n",
       "      <td>66.7</td>\n",
       "      <td>NaN</td>\n",
       "      <td>...</td>\n",
       "      <td>NaN</td>\n",
       "      <td>NaN</td>\n",
       "      <td>NaN</td>\n",
       "      <td>NaN</td>\n",
       "      <td>2782.0</td>\n",
       "      <td>1095.0</td>\n",
       "      <td>39.3</td>\n",
       "      <td>NaN</td>\n",
       "      <td>NaN</td>\n",
       "      <td>NaN</td>\n",
       "      <td>NaN</td>\n",
       "      <td>NaN</td>\n",
       "      <td>NaN</td>\n",
       "      <td>NaN</td>\n",
       "      <td>NaN</td>\n",
       "      <td>NaN</td>\n",
       "      <td>NaN</td>\n",
       "      <td>NaN</td>\n",
       "      <td>NaN</td>\n",
       "      <td>NaN</td>\n",
       "      <td>NaN</td>\n",
       "      <td>NaN</td>\n",
       "      <td>12362.0</td>\n",
       "      <td>3327.0</td>\n",
       "      <td>26.9</td>\n",
       "      <td>NaN</td>\n",
       "      <td>NaN</td>\n",
       "      <td>NaN</td>\n",
       "      <td>NaN</td>\n",
       "      <td>NaN</td>\n",
       "      <td>NaN</td>\n",
       "      <td>NaN</td>\n",
       "      <td>NaN</td>\n",
       "      <td>NaN</td>\n",
       "      <td>21028.0</td>\n",
       "      <td>6955.0</td>\n",
       "      <td>33.1</td>\n",
       "      <td>NaN</td>\n",
       "      <td>NaN</td>\n",
       "      <td>NaN</td>\n",
       "    </tr>\n",
       "    <tr>\n",
       "      <th>2002-01-01</th>\n",
       "      <td>NaN</td>\n",
       "      <td>NaN</td>\n",
       "      <td>NaN</td>\n",
       "      <td>NaN</td>\n",
       "      <td>NaN</td>\n",
       "      <td>NaN</td>\n",
       "      <td>NaN</td>\n",
       "      <td>NaN</td>\n",
       "      <td>NaN</td>\n",
       "      <td>NaN</td>\n",
       "      <td>NaN</td>\n",
       "      <td>NaN</td>\n",
       "      <td>694.0</td>\n",
       "      <td>335.0</td>\n",
       "      <td>48.2</td>\n",
       "      <td>NaN</td>\n",
       "      <td>NaN</td>\n",
       "      <td>NaN</td>\n",
       "      <td>23062.0</td>\n",
       "      <td>9293.0</td>\n",
       "      <td>40.3</td>\n",
       "      <td>NaN</td>\n",
       "      <td>NaN</td>\n",
       "      <td>NaN</td>\n",
       "      <td>NaN</td>\n",
       "      <td>NaN</td>\n",
       "      <td>NaN</td>\n",
       "      <td>NaN</td>\n",
       "      <td>NaN</td>\n",
       "      <td>NaN</td>\n",
       "      <td>NaN</td>\n",
       "      <td>NaN</td>\n",
       "      <td>NaN</td>\n",
       "      <td>NaN</td>\n",
       "      <td>NaN</td>\n",
       "      <td>NaN</td>\n",
       "      <td>3173.0</td>\n",
       "      <td>2103.0</td>\n",
       "      <td>66.3</td>\n",
       "      <td>NaN</td>\n",
       "      <td>...</td>\n",
       "      <td>NaN</td>\n",
       "      <td>NaN</td>\n",
       "      <td>NaN</td>\n",
       "      <td>NaN</td>\n",
       "      <td>2816.0</td>\n",
       "      <td>1123.0</td>\n",
       "      <td>39.9</td>\n",
       "      <td>NaN</td>\n",
       "      <td>NaN</td>\n",
       "      <td>NaN</td>\n",
       "      <td>NaN</td>\n",
       "      <td>NaN</td>\n",
       "      <td>NaN</td>\n",
       "      <td>NaN</td>\n",
       "      <td>NaN</td>\n",
       "      <td>NaN</td>\n",
       "      <td>NaN</td>\n",
       "      <td>NaN</td>\n",
       "      <td>NaN</td>\n",
       "      <td>NaN</td>\n",
       "      <td>NaN</td>\n",
       "      <td>NaN</td>\n",
       "      <td>12145.0</td>\n",
       "      <td>3096.0</td>\n",
       "      <td>25.5</td>\n",
       "      <td>NaN</td>\n",
       "      <td>NaN</td>\n",
       "      <td>NaN</td>\n",
       "      <td>NaN</td>\n",
       "      <td>NaN</td>\n",
       "      <td>NaN</td>\n",
       "      <td>NaN</td>\n",
       "      <td>NaN</td>\n",
       "      <td>NaN</td>\n",
       "      <td>21289.0</td>\n",
       "      <td>7001.0</td>\n",
       "      <td>32.9</td>\n",
       "      <td>NaN</td>\n",
       "      <td>NaN</td>\n",
       "      <td>NaN</td>\n",
       "    </tr>\n",
       "    <tr>\n",
       "      <th>2003-01-01</th>\n",
       "      <td>NaN</td>\n",
       "      <td>NaN</td>\n",
       "      <td>NaN</td>\n",
       "      <td>NaN</td>\n",
       "      <td>NaN</td>\n",
       "      <td>NaN</td>\n",
       "      <td>NaN</td>\n",
       "      <td>NaN</td>\n",
       "      <td>NaN</td>\n",
       "      <td>NaN</td>\n",
       "      <td>NaN</td>\n",
       "      <td>NaN</td>\n",
       "      <td>697.0</td>\n",
       "      <td>340.0</td>\n",
       "      <td>48.8</td>\n",
       "      <td>NaN</td>\n",
       "      <td>NaN</td>\n",
       "      <td>NaN</td>\n",
       "      <td>22790.0</td>\n",
       "      <td>9172.0</td>\n",
       "      <td>40.2</td>\n",
       "      <td>NaN</td>\n",
       "      <td>NaN</td>\n",
       "      <td>NaN</td>\n",
       "      <td>NaN</td>\n",
       "      <td>NaN</td>\n",
       "      <td>NaN</td>\n",
       "      <td>NaN</td>\n",
       "      <td>NaN</td>\n",
       "      <td>NaN</td>\n",
       "      <td>NaN</td>\n",
       "      <td>NaN</td>\n",
       "      <td>NaN</td>\n",
       "      <td>NaN</td>\n",
       "      <td>NaN</td>\n",
       "      <td>NaN</td>\n",
       "      <td>3211.0</td>\n",
       "      <td>2167.0</td>\n",
       "      <td>67.5</td>\n",
       "      <td>NaN</td>\n",
       "      <td>...</td>\n",
       "      <td>NaN</td>\n",
       "      <td>NaN</td>\n",
       "      <td>NaN</td>\n",
       "      <td>NaN</td>\n",
       "      <td>2823.0</td>\n",
       "      <td>1164.0</td>\n",
       "      <td>41.2</td>\n",
       "      <td>NaN</td>\n",
       "      <td>NaN</td>\n",
       "      <td>NaN</td>\n",
       "      <td>NaN</td>\n",
       "      <td>NaN</td>\n",
       "      <td>NaN</td>\n",
       "      <td>NaN</td>\n",
       "      <td>NaN</td>\n",
       "      <td>NaN</td>\n",
       "      <td>NaN</td>\n",
       "      <td>NaN</td>\n",
       "      <td>NaN</td>\n",
       "      <td>NaN</td>\n",
       "      <td>NaN</td>\n",
       "      <td>NaN</td>\n",
       "      <td>12244.0</td>\n",
       "      <td>3094.0</td>\n",
       "      <td>25.3</td>\n",
       "      <td>NaN</td>\n",
       "      <td>NaN</td>\n",
       "      <td>NaN</td>\n",
       "      <td>NaN</td>\n",
       "      <td>NaN</td>\n",
       "      <td>NaN</td>\n",
       "      <td>NaN</td>\n",
       "      <td>NaN</td>\n",
       "      <td>NaN</td>\n",
       "      <td>20565.0</td>\n",
       "      <td>6747.0</td>\n",
       "      <td>32.8</td>\n",
       "      <td>NaN</td>\n",
       "      <td>NaN</td>\n",
       "      <td>NaN</td>\n",
       "    </tr>\n",
       "    <tr>\n",
       "      <th>2004-01-01</th>\n",
       "      <td>NaN</td>\n",
       "      <td>NaN</td>\n",
       "      <td>NaN</td>\n",
       "      <td>NaN</td>\n",
       "      <td>NaN</td>\n",
       "      <td>NaN</td>\n",
       "      <td>NaN</td>\n",
       "      <td>NaN</td>\n",
       "      <td>NaN</td>\n",
       "      <td>NaN</td>\n",
       "      <td>NaN</td>\n",
       "      <td>NaN</td>\n",
       "      <td>707.0</td>\n",
       "      <td>351.0</td>\n",
       "      <td>49.6</td>\n",
       "      <td>NaN</td>\n",
       "      <td>NaN</td>\n",
       "      <td>NaN</td>\n",
       "      <td>22632.0</td>\n",
       "      <td>9174.0</td>\n",
       "      <td>40.5</td>\n",
       "      <td>NaN</td>\n",
       "      <td>NaN</td>\n",
       "      <td>NaN</td>\n",
       "      <td>NaN</td>\n",
       "      <td>NaN</td>\n",
       "      <td>NaN</td>\n",
       "      <td>NaN</td>\n",
       "      <td>NaN</td>\n",
       "      <td>NaN</td>\n",
       "      <td>NaN</td>\n",
       "      <td>NaN</td>\n",
       "      <td>NaN</td>\n",
       "      <td>NaN</td>\n",
       "      <td>NaN</td>\n",
       "      <td>NaN</td>\n",
       "      <td>3246.0</td>\n",
       "      <td>2205.0</td>\n",
       "      <td>67.9</td>\n",
       "      <td>NaN</td>\n",
       "      <td>...</td>\n",
       "      <td>NaN</td>\n",
       "      <td>NaN</td>\n",
       "      <td>NaN</td>\n",
       "      <td>NaN</td>\n",
       "      <td>2823.0</td>\n",
       "      <td>1186.0</td>\n",
       "      <td>42.0</td>\n",
       "      <td>NaN</td>\n",
       "      <td>NaN</td>\n",
       "      <td>NaN</td>\n",
       "      <td>NaN</td>\n",
       "      <td>NaN</td>\n",
       "      <td>NaN</td>\n",
       "      <td>NaN</td>\n",
       "      <td>NaN</td>\n",
       "      <td>NaN</td>\n",
       "      <td>NaN</td>\n",
       "      <td>NaN</td>\n",
       "      <td>NaN</td>\n",
       "      <td>NaN</td>\n",
       "      <td>NaN</td>\n",
       "      <td>NaN</td>\n",
       "      <td>12378.0</td>\n",
       "      <td>3891.0</td>\n",
       "      <td>31.4</td>\n",
       "      <td>NaN</td>\n",
       "      <td>NaN</td>\n",
       "      <td>NaN</td>\n",
       "      <td>NaN</td>\n",
       "      <td>NaN</td>\n",
       "      <td>NaN</td>\n",
       "      <td>NaN</td>\n",
       "      <td>NaN</td>\n",
       "      <td>NaN</td>\n",
       "      <td>20706.0</td>\n",
       "      <td>6677.0</td>\n",
       "      <td>32.2</td>\n",
       "      <td>NaN</td>\n",
       "      <td>NaN</td>\n",
       "      <td>NaN</td>\n",
       "    </tr>\n",
       "  </tbody>\n",
       "</table>\n",
       "<p>5 rows × 216 columns</p>\n",
       "</div>"
      ],
      "text/plain": [
       "Country                Hungary                ...       Germany                     \n",
       "Source     Administrative data                ...   Survey data                     \n",
       "Series               Employees Union members  ... Union members Trade union  density\n",
       "Year                                          ...                                   \n",
       "2000-01-01                 NaN           NaN  ...           NaN                  NaN\n",
       "2001-01-01                 NaN           NaN  ...           NaN                  NaN\n",
       "2002-01-01                 NaN           NaN  ...           NaN                  NaN\n",
       "2003-01-01                 NaN           NaN  ...           NaN                  NaN\n",
       "2004-01-01                 NaN           NaN  ...           NaN                  NaN\n",
       "\n",
       "[5 rows x 216 columns]"
      ]
     },
     "execution_count": 73,
     "metadata": {
      "tags": []
     },
     "output_type": "execute_result"
    }
   ],
   "source": [
    "#OECD verisi okuma örneği\n",
    "import pandas_datareader as pdr\n",
    "import datetime\n",
    "df = pdr.DataReader('TUD', 'oecd', start = datetime.datetime(2000, 1, 1), end = datetime.datetime(2010, 1, 1))\n",
    "df.head()"
   ]
  },
  {
   "cell_type": "markdown",
   "metadata": {
    "colab_type": "text",
    "id": "8yWBeHIbXb2X"
   },
   "source": [
    "# DataFrame içeriğini kodla yaratmak"
   ]
  },
  {
   "cell_type": "markdown",
   "metadata": {
    "colab_type": "text",
    "id": "PxhwxzbNXmJ6"
   },
   "source": [
    "Dosyalardan okuyabileceğimiz gibi, data-frame'i pandas fonksiyonlarını kullanarak da oluşturabiliriz. \n",
    "Kaynaklar:\n",
    "1) https://pandas.pydata.org/pandas-docs/stable/getting_started/10min.html\n"
   ]
  },
  {
   "cell_type": "code",
   "execution_count": 0,
   "metadata": {
    "colab": {
     "base_uri": "https://localhost:8080/",
     "height": 136
    },
    "colab_type": "code",
    "executionInfo": {
     "elapsed": 1081,
     "status": "ok",
     "timestamp": 1575049930297,
     "user": {
      "displayName": "Barış Bozkurt",
      "photoUrl": "https://lh3.googleusercontent.com/a-/AAuE7mAdwaPUM3cQ3cUO9jZZ-QMeyRr9RU_6iP1RfFeg=s64",
      "userId": "04066217430702805158"
     },
     "user_tz": -180
    },
    "id": "4zBq9i6mX3NN",
    "outputId": "2d5aef50-af73-44df-8540-aa99fdfe6304"
   },
   "outputs": [
    {
     "name": "stdout",
     "output_type": "stream",
     "text": [
      "0    1.0\n",
      "1    3.0\n",
      "2    5.0\n",
      "3    NaN\n",
      "4    6.0\n",
      "5    8.0\n",
      "dtype: float64\n"
     ]
    }
   ],
   "source": [
    "import numpy as np\n",
    "s = pd.Series([1, 3, 5, np.nan, 6, 8])\n",
    "print(s)"
   ]
  },
  {
   "cell_type": "markdown",
   "metadata": {
    "colab_type": "text",
    "id": "SAuAUy4sYoSr"
   },
   "source": [
    "Date-range oluşturma: https://pandas.pydata.org/pandas-docs/stable/reference/api/pandas.date_range.html "
   ]
  },
  {
   "cell_type": "code",
   "execution_count": 0,
   "metadata": {
    "colab": {
     "base_uri": "https://localhost:8080/",
     "height": 68
    },
    "colab_type": "code",
    "executionInfo": {
     "elapsed": 967,
     "status": "ok",
     "timestamp": 1575049935755,
     "user": {
      "displayName": "Barış Bozkurt",
      "photoUrl": "https://lh3.googleusercontent.com/a-/AAuE7mAdwaPUM3cQ3cUO9jZZ-QMeyRr9RU_6iP1RfFeg=s64",
      "userId": "04066217430702805158"
     },
     "user_tz": -180
    },
    "id": "u_kSKTHeYQy9",
    "outputId": "3f4d34f9-b568-45b0-c397-a6aac13382d6"
   },
   "outputs": [
    {
     "name": "stdout",
     "output_type": "stream",
     "text": [
      "DatetimeIndex(['2013-01-01', '2013-01-02', '2013-01-03', '2013-01-04',\n",
      "               '2013-01-05', '2013-01-06'],\n",
      "              dtype='datetime64[ns]', freq='D')\n"
     ]
    }
   ],
   "source": [
    "#date-range oluşturma\n",
    "gunler = pd.date_range('20130101', periods = 6)\n",
    "print(gunler)"
   ]
  },
  {
   "cell_type": "markdown",
   "metadata": {
    "colab_type": "text",
    "id": "nlccx-JdYuM8"
   },
   "source": [
    "Data-frame oluşturma"
   ]
  },
  {
   "cell_type": "code",
   "execution_count": 0,
   "metadata": {
    "colab": {
     "base_uri": "https://localhost:8080/",
     "height": 235
    },
    "colab_type": "code",
    "executionInfo": {
     "elapsed": 1049,
     "status": "ok",
     "timestamp": 1575049943796,
     "user": {
      "displayName": "Barış Bozkurt",
      "photoUrl": "https://lh3.googleusercontent.com/a-/AAuE7mAdwaPUM3cQ3cUO9jZZ-QMeyRr9RU_6iP1RfFeg=s64",
      "userId": "04066217430702805158"
     },
     "user_tz": -180
    },
    "id": "fKul4ewDY5VY",
    "outputId": "7d384053-332c-43f0-cf93-8448f6cbc166"
   },
   "outputs": [
    {
     "data": {
      "text/html": [
       "<div>\n",
       "<style scoped>\n",
       "    .dataframe tbody tr th:only-of-type {\n",
       "        vertical-align: middle;\n",
       "    }\n",
       "\n",
       "    .dataframe tbody tr th {\n",
       "        vertical-align: top;\n",
       "    }\n",
       "\n",
       "    .dataframe thead th {\n",
       "        text-align: right;\n",
       "    }\n",
       "</style>\n",
       "<table border=\"1\" class=\"dataframe\">\n",
       "  <thead>\n",
       "    <tr style=\"text-align: right;\">\n",
       "      <th></th>\n",
       "      <th>A</th>\n",
       "      <th>B</th>\n",
       "      <th>C</th>\n",
       "      <th>D</th>\n",
       "    </tr>\n",
       "  </thead>\n",
       "  <tbody>\n",
       "    <tr>\n",
       "      <th>2013-01-01</th>\n",
       "      <td>1.175987</td>\n",
       "      <td>-0.158160</td>\n",
       "      <td>-0.454887</td>\n",
       "      <td>2.973799</td>\n",
       "    </tr>\n",
       "    <tr>\n",
       "      <th>2013-01-02</th>\n",
       "      <td>0.552653</td>\n",
       "      <td>1.176788</td>\n",
       "      <td>0.709757</td>\n",
       "      <td>1.828756</td>\n",
       "    </tr>\n",
       "    <tr>\n",
       "      <th>2013-01-03</th>\n",
       "      <td>-0.359450</td>\n",
       "      <td>-0.510628</td>\n",
       "      <td>1.251382</td>\n",
       "      <td>0.293373</td>\n",
       "    </tr>\n",
       "    <tr>\n",
       "      <th>2013-01-04</th>\n",
       "      <td>0.065991</td>\n",
       "      <td>-1.019936</td>\n",
       "      <td>-0.050246</td>\n",
       "      <td>2.025725</td>\n",
       "    </tr>\n",
       "    <tr>\n",
       "      <th>2013-01-05</th>\n",
       "      <td>-0.264145</td>\n",
       "      <td>-1.708646</td>\n",
       "      <td>-0.661763</td>\n",
       "      <td>-0.619320</td>\n",
       "    </tr>\n",
       "    <tr>\n",
       "      <th>2013-01-06</th>\n",
       "      <td>0.917978</td>\n",
       "      <td>-0.510339</td>\n",
       "      <td>0.660334</td>\n",
       "      <td>0.538003</td>\n",
       "    </tr>\n",
       "  </tbody>\n",
       "</table>\n",
       "</div>"
      ],
      "text/plain": [
       "                   A         B         C         D\n",
       "2013-01-01  1.175987 -0.158160 -0.454887  2.973799\n",
       "2013-01-02  0.552653  1.176788  0.709757  1.828756\n",
       "2013-01-03 -0.359450 -0.510628  1.251382  0.293373\n",
       "2013-01-04  0.065991 -1.019936 -0.050246  2.025725\n",
       "2013-01-05 -0.264145 -1.708646 -0.661763 -0.619320\n",
       "2013-01-06  0.917978 -0.510339  0.660334  0.538003"
      ]
     },
     "execution_count": 76,
     "metadata": {
      "tags": []
     },
     "output_type": "execute_result"
    }
   ],
   "source": [
    "df = pd.DataFrame(np.random.randn(6, 4), index = gunler, columns = list('ABCD'))\n",
    "df"
   ]
  },
  {
   "cell_type": "markdown",
   "metadata": {
    "colab_type": "text",
    "id": "xZTz8HHDa5Mr"
   },
   "source": [
    "Belirli bir değerin değiştirilmesi"
   ]
  },
  {
   "cell_type": "code",
   "execution_count": 0,
   "metadata": {
    "colab": {
     "base_uri": "https://localhost:8080/",
     "height": 235
    },
    "colab_type": "code",
    "executionInfo": {
     "elapsed": 1145,
     "status": "ok",
     "timestamp": 1575049953882,
     "user": {
      "displayName": "Barış Bozkurt",
      "photoUrl": "https://lh3.googleusercontent.com/a-/AAuE7mAdwaPUM3cQ3cUO9jZZ-QMeyRr9RU_6iP1RfFeg=s64",
      "userId": "04066217430702805158"
     },
     "user_tz": -180
    },
    "id": "0HG5S5rwa8Cg",
    "outputId": "1d2bf7a6-990b-4d55-a1dc-06f31e39c6b7"
   },
   "outputs": [
    {
     "data": {
      "text/html": [
       "<div>\n",
       "<style scoped>\n",
       "    .dataframe tbody tr th:only-of-type {\n",
       "        vertical-align: middle;\n",
       "    }\n",
       "\n",
       "    .dataframe tbody tr th {\n",
       "        vertical-align: top;\n",
       "    }\n",
       "\n",
       "    .dataframe thead th {\n",
       "        text-align: right;\n",
       "    }\n",
       "</style>\n",
       "<table border=\"1\" class=\"dataframe\">\n",
       "  <thead>\n",
       "    <tr style=\"text-align: right;\">\n",
       "      <th></th>\n",
       "      <th>A</th>\n",
       "      <th>B</th>\n",
       "      <th>C</th>\n",
       "      <th>D</th>\n",
       "    </tr>\n",
       "  </thead>\n",
       "  <tbody>\n",
       "    <tr>\n",
       "      <th>2013-01-01</th>\n",
       "      <td>0.000000</td>\n",
       "      <td>-0.158160</td>\n",
       "      <td>-0.454887</td>\n",
       "      <td>2.973799</td>\n",
       "    </tr>\n",
       "    <tr>\n",
       "      <th>2013-01-02</th>\n",
       "      <td>0.552653</td>\n",
       "      <td>1.176788</td>\n",
       "      <td>0.709757</td>\n",
       "      <td>1.828756</td>\n",
       "    </tr>\n",
       "    <tr>\n",
       "      <th>2013-01-03</th>\n",
       "      <td>-0.359450</td>\n",
       "      <td>-0.510628</td>\n",
       "      <td>1.251382</td>\n",
       "      <td>0.293373</td>\n",
       "    </tr>\n",
       "    <tr>\n",
       "      <th>2013-01-04</th>\n",
       "      <td>0.065991</td>\n",
       "      <td>-1.019936</td>\n",
       "      <td>-0.050246</td>\n",
       "      <td>2.025725</td>\n",
       "    </tr>\n",
       "    <tr>\n",
       "      <th>2013-01-05</th>\n",
       "      <td>-0.264145</td>\n",
       "      <td>-1.708646</td>\n",
       "      <td>-0.661763</td>\n",
       "      <td>-0.619320</td>\n",
       "    </tr>\n",
       "    <tr>\n",
       "      <th>2013-01-06</th>\n",
       "      <td>0.917978</td>\n",
       "      <td>-0.510339</td>\n",
       "      <td>0.660334</td>\n",
       "      <td>0.538003</td>\n",
       "    </tr>\n",
       "  </tbody>\n",
       "</table>\n",
       "</div>"
      ],
      "text/plain": [
       "                   A         B         C         D\n",
       "2013-01-01  0.000000 -0.158160 -0.454887  2.973799\n",
       "2013-01-02  0.552653  1.176788  0.709757  1.828756\n",
       "2013-01-03 -0.359450 -0.510628  1.251382  0.293373\n",
       "2013-01-04  0.065991 -1.019936 -0.050246  2.025725\n",
       "2013-01-05 -0.264145 -1.708646 -0.661763 -0.619320\n",
       "2013-01-06  0.917978 -0.510339  0.660334  0.538003"
      ]
     },
     "execution_count": 77,
     "metadata": {
      "tags": []
     },
     "output_type": "execute_result"
    }
   ],
   "source": [
    "df.at[gunler[0], 'A'] = 0\n",
    "df"
   ]
  },
  {
   "cell_type": "markdown",
   "metadata": {
    "colab_type": "text",
    "id": "9vkcp9jtgFgQ"
   },
   "source": [
    "Parçalara bölme ve birleştirme"
   ]
  },
  {
   "cell_type": "code",
   "execution_count": 0,
   "metadata": {
    "colab": {
     "base_uri": "https://localhost:8080/",
     "height": 119
    },
    "colab_type": "code",
    "executionInfo": {
     "elapsed": 805,
     "status": "ok",
     "timestamp": 1575049984222,
     "user": {
      "displayName": "Barış Bozkurt",
      "photoUrl": "https://lh3.googleusercontent.com/a-/AAuE7mAdwaPUM3cQ3cUO9jZZ-QMeyRr9RU_6iP1RfFeg=s64",
      "userId": "04066217430702805158"
     },
     "user_tz": -180
    },
    "id": "TlP5ObG_gIFM",
    "outputId": "ce609566-2fbe-4cc0-e3bf-691a2904f5cd"
   },
   "outputs": [
    {
     "data": {
      "text/plain": [
       "[                   A         B         C         D\n",
       " 2013-01-01  0.000000 -0.158160 -0.454887  2.973799\n",
       " 2013-01-02  0.552653  1.176788  0.709757  1.828756,\n",
       "                    A         B         C         D\n",
       " 2013-01-05 -0.264145 -1.708646 -0.661763 -0.619320\n",
       " 2013-01-06  0.917978 -0.510339  0.660334  0.538003]"
      ]
     },
     "execution_count": 78,
     "metadata": {
      "tags": []
     },
     "output_type": "execute_result"
    }
   ],
   "source": [
    "parcalar = [df[:2], df[-2:]]\n",
    "parcalar"
   ]
  },
  {
   "cell_type": "code",
   "execution_count": 0,
   "metadata": {
    "colab": {
     "base_uri": "https://localhost:8080/",
     "height": 173
    },
    "colab_type": "code",
    "executionInfo": {
     "elapsed": 1084,
     "status": "ok",
     "timestamp": 1575049988559,
     "user": {
      "displayName": "Barış Bozkurt",
      "photoUrl": "https://lh3.googleusercontent.com/a-/AAuE7mAdwaPUM3cQ3cUO9jZZ-QMeyRr9RU_6iP1RfFeg=s64",
      "userId": "04066217430702805158"
     },
     "user_tz": -180
    },
    "id": "v7X0IjYtgSRE",
    "outputId": "2075104c-4b09-4a90-d5cf-71b4aee1d7eb"
   },
   "outputs": [
    {
     "data": {
      "text/html": [
       "<div>\n",
       "<style scoped>\n",
       "    .dataframe tbody tr th:only-of-type {\n",
       "        vertical-align: middle;\n",
       "    }\n",
       "\n",
       "    .dataframe tbody tr th {\n",
       "        vertical-align: top;\n",
       "    }\n",
       "\n",
       "    .dataframe thead th {\n",
       "        text-align: right;\n",
       "    }\n",
       "</style>\n",
       "<table border=\"1\" class=\"dataframe\">\n",
       "  <thead>\n",
       "    <tr style=\"text-align: right;\">\n",
       "      <th></th>\n",
       "      <th>A</th>\n",
       "      <th>B</th>\n",
       "      <th>C</th>\n",
       "      <th>D</th>\n",
       "    </tr>\n",
       "  </thead>\n",
       "  <tbody>\n",
       "    <tr>\n",
       "      <th>2013-01-01</th>\n",
       "      <td>0.000000</td>\n",
       "      <td>-0.158160</td>\n",
       "      <td>-0.454887</td>\n",
       "      <td>2.973799</td>\n",
       "    </tr>\n",
       "    <tr>\n",
       "      <th>2013-01-02</th>\n",
       "      <td>0.552653</td>\n",
       "      <td>1.176788</td>\n",
       "      <td>0.709757</td>\n",
       "      <td>1.828756</td>\n",
       "    </tr>\n",
       "    <tr>\n",
       "      <th>2013-01-05</th>\n",
       "      <td>-0.264145</td>\n",
       "      <td>-1.708646</td>\n",
       "      <td>-0.661763</td>\n",
       "      <td>-0.619320</td>\n",
       "    </tr>\n",
       "    <tr>\n",
       "      <th>2013-01-06</th>\n",
       "      <td>0.917978</td>\n",
       "      <td>-0.510339</td>\n",
       "      <td>0.660334</td>\n",
       "      <td>0.538003</td>\n",
       "    </tr>\n",
       "  </tbody>\n",
       "</table>\n",
       "</div>"
      ],
      "text/plain": [
       "                   A         B         C         D\n",
       "2013-01-01  0.000000 -0.158160 -0.454887  2.973799\n",
       "2013-01-02  0.552653  1.176788  0.709757  1.828756\n",
       "2013-01-05 -0.264145 -1.708646 -0.661763 -0.619320\n",
       "2013-01-06  0.917978 -0.510339  0.660334  0.538003"
      ]
     },
     "execution_count": 79,
     "metadata": {
      "tags": []
     },
     "output_type": "execute_result"
    }
   ],
   "source": [
    "pd.concat(parcalar)"
   ]
  },
  {
   "cell_type": "markdown",
   "metadata": {
    "colab_type": "text",
    "id": "l-RCYU2sgheY"
   },
   "source": [
    "Belirli bir kolondaki değerler üzerinden tabloları birleştirme"
   ]
  },
  {
   "cell_type": "code",
   "execution_count": 0,
   "metadata": {
    "colab": {
     "base_uri": "https://localhost:8080/",
     "height": 111
    },
    "colab_type": "code",
    "executionInfo": {
     "elapsed": 1153,
     "status": "ok",
     "timestamp": 1575050008974,
     "user": {
      "displayName": "Barış Bozkurt",
      "photoUrl": "https://lh3.googleusercontent.com/a-/AAuE7mAdwaPUM3cQ3cUO9jZZ-QMeyRr9RU_6iP1RfFeg=s64",
      "userId": "04066217430702805158"
     },
     "user_tz": -180
    },
    "id": "6BuoXOgqgmN-",
    "outputId": "d4d34f09-a23d-4dac-a489-e2799c4da684"
   },
   "outputs": [
    {
     "data": {
      "text/html": [
       "<div>\n",
       "<style scoped>\n",
       "    .dataframe tbody tr th:only-of-type {\n",
       "        vertical-align: middle;\n",
       "    }\n",
       "\n",
       "    .dataframe tbody tr th {\n",
       "        vertical-align: top;\n",
       "    }\n",
       "\n",
       "    .dataframe thead th {\n",
       "        text-align: right;\n",
       "    }\n",
       "</style>\n",
       "<table border=\"1\" class=\"dataframe\">\n",
       "  <thead>\n",
       "    <tr style=\"text-align: right;\">\n",
       "      <th></th>\n",
       "      <th>isim</th>\n",
       "      <th>boy</th>\n",
       "      <th>yaş</th>\n",
       "    </tr>\n",
       "  </thead>\n",
       "  <tbody>\n",
       "    <tr>\n",
       "      <th>0</th>\n",
       "      <td>Ahmet</td>\n",
       "      <td>1.75</td>\n",
       "      <td>20</td>\n",
       "    </tr>\n",
       "    <tr>\n",
       "      <th>1</th>\n",
       "      <td>Selin</td>\n",
       "      <td>1.68</td>\n",
       "      <td>24</td>\n",
       "    </tr>\n",
       "  </tbody>\n",
       "</table>\n",
       "</div>"
      ],
      "text/plain": [
       "    isim   boy  yaş\n",
       "0  Ahmet  1.75   20\n",
       "1  Selin  1.68   24"
      ]
     },
     "execution_count": 80,
     "metadata": {
      "tags": []
     },
     "output_type": "execute_result"
    }
   ],
   "source": [
    "df1 = pd.DataFrame({'isim': ['Ahmet', 'Selin'], 'boy': [1.75, 1.68]})\n",
    "df2 = pd.DataFrame({'isim': ['Selin', 'Ahmet'], 'yaş': [24, 20]})\n",
    "df = pd.merge(df1, df2, on = 'isim')\n",
    "df"
   ]
  },
  {
   "cell_type": "markdown",
   "metadata": {
    "colab_type": "text",
    "id": "_8mOH4s3k_QE"
   },
   "source": [
    "Dosyaya yazma"
   ]
  },
  {
   "cell_type": "code",
   "execution_count": 0,
   "metadata": {
    "colab": {},
    "colab_type": "code",
    "id": "d4BO7EMwlBc-"
   },
   "outputs": [],
   "source": [
    "df.to_csv('test.csv')\n",
    "df.to_excel('test.xlsx', sheet_name='Sheet1')"
   ]
  },
  {
   "cell_type": "markdown",
   "metadata": {
    "colab_type": "text",
    "id": "JJ4Lxw2ZZRd9"
   },
   "source": [
    "# Pandas üzerine kurulan kütüphaneler"
   ]
  },
  {
   "cell_type": "markdown",
   "metadata": {
    "colab_type": "text",
    "id": "23Cb9XCyZepe"
   },
   "source": [
    "\n",
    "https://bamboolib.8080labs.com/"
   ]
  }
 ],
 "metadata": {
  "colab": {
   "collapsed_sections": [
    "uYWOsLWYVRPq",
    "jsRFUMt-vLyr",
    "HxaMlAo4f1JM",
    "XGxFSYym4NLs",
    "M4BfNfad5pN3",
    "zXntMlGmtQjY",
    "8yWBeHIbXb2X"
   ],
   "name": "PythonIleVeriBilimi_pandas1.ipynb",
   "provenance": []
  },
  "kernelspec": {
   "display_name": "Python 3 (ipykernel)",
   "language": "python",
   "name": "python3"
  },
  "language_info": {
   "codemirror_mode": {
    "name": "ipython",
    "version": 3
   },
   "file_extension": ".py",
   "mimetype": "text/x-python",
   "name": "python",
   "nbconvert_exporter": "python",
   "pygments_lexer": "ipython3",
   "version": "3.10.9"
  }
 },
 "nbformat": 4,
 "nbformat_minor": 1
}
